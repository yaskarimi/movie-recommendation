{
 "cells": [
  {
   "cell_type": "code",
   "execution_count": 1,
   "metadata": {
    "tags": []
   },
   "outputs": [],
   "source": [
    "import pandas as pd\n",
    "import numpy as np \n",
    "from pandas.api.types import CategoricalDtype\n",
    "from datetime import datetime \n",
    "import pandas as pd\n",
    "import numpy as np \n",
    "import nltk\n",
    "from sklearn.feature_extraction.text import TfidfVectorizer\n",
    "from sklearn.metrics.pairwise import cosine_similarity\n",
    "from sklearn.feature_extraction.text import CountVectorizer\n",
    "from googletrans import Translator\n",
    "from sklearn.preprocessing import normalize"
   ]
  },
  {
   "attachments": {},
   "cell_type": "markdown",
   "metadata": {},
   "source": [
    "## movies metadata file cleaning"
   ]
  },
  {
   "cell_type": "code",
   "execution_count": 2,
   "metadata": {
    "tags": []
   },
   "outputs": [
    {
     "name": "stderr",
     "output_type": "stream",
     "text": [
      "/var/folders/j1/rhs6cm1s6r33j2qkcxx0f8kr0000gn/T/ipykernel_4951/2760051603.py:1: DtypeWarning: Columns (10) have mixed types. Specify dtype option on import or set low_memory=False.\n",
      "  movies_df = pd.read_csv(\"Data/movies_metadata.csv\")\n"
     ]
    }
   ],
   "source": [
    "movies_df = pd.read_csv(\"Data/movies_metadata.csv\")"
   ]
  },
  {
   "cell_type": "code",
   "execution_count": 3,
   "id": "ed46fbbd",
   "metadata": {},
   "outputs": [
    {
     "data": {
      "text/plain": [
       "(45466, 24)"
      ]
     },
     "execution_count": 3,
     "metadata": {},
     "output_type": "execute_result"
    }
   ],
   "source": [
    "movies_df.shape"
   ]
  },
  {
   "cell_type": "code",
   "execution_count": 4,
   "metadata": {
    "tags": []
   },
   "outputs": [
    {
     "data": {
      "text/plain": [
       "45465"
      ]
     },
     "execution_count": 4,
     "metadata": {},
     "output_type": "execute_result"
    }
   ],
   "source": [
    "movies_df.index.min()\n",
    "movies_df.index.max()"
   ]
  },
  {
   "cell_type": "code",
   "execution_count": 5,
   "metadata": {
    "tags": []
   },
   "outputs": [],
   "source": [
    "data_df = movies_df.drop(columns = [\"adult\",\"belongs_to_collection\",\"homepage\" ,\"tagline\",\"status\",\"production_companies\",\"production_countries\",\n",
    "                         \"revenue\",\"video\"] , inplace= False)"
   ]
  },
  {
   "cell_type": "code",
   "execution_count": 6,
   "metadata": {
    "tags": []
   },
   "outputs": [
    {
     "data": {
      "text/plain": [
       "budget                 0\n",
       "genres                 0\n",
       "id                     0\n",
       "imdb_id               17\n",
       "original_language     11\n",
       "original_title         0\n",
       "overview             954\n",
       "popularity             5\n",
       "poster_path          386\n",
       "release_date          87\n",
       "runtime              263\n",
       "spoken_languages       6\n",
       "title                  6\n",
       "vote_average           6\n",
       "vote_count             6\n",
       "dtype: int64"
      ]
     },
     "execution_count": 6,
     "metadata": {},
     "output_type": "execute_result"
    }
   ],
   "source": [
    "data_df.isnull().sum()"
   ]
  },
  {
   "cell_type": "code",
   "execution_count": 7,
   "metadata": {
    "tags": []
   },
   "outputs": [],
   "source": [
    "data_df[data_df['vote_average'].isnull()] = 0\n",
    "data_df[data_df['vote_count'].isnull()] = 0"
   ]
  },
  {
   "cell_type": "code",
   "execution_count": 8,
   "metadata": {
    "tags": []
   },
   "outputs": [
    {
     "data": {
      "text/plain": [
       "budget                 0\n",
       "genres                 0\n",
       "id                     0\n",
       "imdb_id               17\n",
       "original_language     11\n",
       "original_title         0\n",
       "overview             954\n",
       "popularity             0\n",
       "poster_path          383\n",
       "release_date          84\n",
       "runtime              257\n",
       "spoken_languages       0\n",
       "title                  0\n",
       "vote_average           0\n",
       "vote_count             0\n",
       "dtype: int64"
      ]
     },
     "execution_count": 8,
     "metadata": {},
     "output_type": "execute_result"
    }
   ],
   "source": [
    "data_df.isnull().sum()"
   ]
  },
  {
   "cell_type": "code",
   "execution_count": 9,
   "metadata": {
    "tags": []
   },
   "outputs": [],
   "source": [
    "data_df.drop(columns=\"budget\" , inplace=True)"
   ]
  },
  {
   "cell_type": "code",
   "execution_count": 10,
   "metadata": {
    "tags": []
   },
   "outputs": [
    {
     "data": {
      "text/plain": [
       "genres                 0\n",
       "id                     0\n",
       "imdb_id               17\n",
       "original_language     11\n",
       "original_title         0\n",
       "overview             954\n",
       "popularity             0\n",
       "poster_path          383\n",
       "release_date          84\n",
       "runtime              257\n",
       "spoken_languages       0\n",
       "title                  0\n",
       "vote_average           0\n",
       "vote_count             0\n",
       "dtype: int64"
      ]
     },
     "execution_count": 10,
     "metadata": {},
     "output_type": "execute_result"
    }
   ],
   "source": [
    "data_df.isnull().sum()"
   ]
  },
  {
   "cell_type": "code",
   "execution_count": 11,
   "metadata": {
    "tags": []
   },
   "outputs": [],
   "source": [
    "data_df['overview']= data_df['overview'].fillna(data_df['title'])"
   ]
  },
  {
   "cell_type": "code",
   "execution_count": 12,
   "metadata": {
    "tags": []
   },
   "outputs": [],
   "source": [
    "data_df[data_df['runtime'].isnull()] = data_df['runtime'].mean()"
   ]
  },
  {
   "cell_type": "code",
   "execution_count": 13,
   "metadata": {
    "tags": []
   },
   "outputs": [],
   "source": [
    "data_df.drop(columns=\"poster_path\" , inplace=True)"
   ]
  },
  {
   "cell_type": "code",
   "execution_count": 14,
   "metadata": {
    "tags": []
   },
   "outputs": [
    {
     "data": {
      "text/plain": [
       "genres                0\n",
       "id                    0\n",
       "imdb_id              15\n",
       "original_language    11\n",
       "original_title        0\n",
       "overview              0\n",
       "popularity            0\n",
       "release_date         73\n",
       "runtime               0\n",
       "spoken_languages      0\n",
       "title                 0\n",
       "vote_average          0\n",
       "vote_count            0\n",
       "dtype: int64"
      ]
     },
     "execution_count": 14,
     "metadata": {},
     "output_type": "execute_result"
    }
   ],
   "source": [
    "data_df.isnull().sum()"
   ]
  },
  {
   "cell_type": "code",
   "execution_count": 15,
   "metadata": {
    "tags": []
   },
   "outputs": [],
   "source": [
    "data_df[\"original_language\"] = data_df['original_language'].fillna(data_df.spoken_languages[1])\n"
   ]
  },
  {
   "cell_type": "code",
   "execution_count": 16,
   "metadata": {
    "tags": []
   },
   "outputs": [
    {
     "data": {
      "text/html": [
       "<div>\n",
       "<style scoped>\n",
       "    .dataframe tbody tr th:only-of-type {\n",
       "        vertical-align: middle;\n",
       "    }\n",
       "\n",
       "    .dataframe tbody tr th {\n",
       "        vertical-align: top;\n",
       "    }\n",
       "\n",
       "    .dataframe thead th {\n",
       "        text-align: right;\n",
       "    }\n",
       "</style>\n",
       "<table border=\"1\" class=\"dataframe\">\n",
       "  <thead>\n",
       "    <tr style=\"text-align: right;\">\n",
       "      <th></th>\n",
       "      <th>genres</th>\n",
       "      <th>id</th>\n",
       "      <th>imdb_id</th>\n",
       "      <th>original_language</th>\n",
       "      <th>original_title</th>\n",
       "      <th>overview</th>\n",
       "      <th>popularity</th>\n",
       "      <th>release_date</th>\n",
       "      <th>runtime</th>\n",
       "      <th>spoken_languages</th>\n",
       "      <th>title</th>\n",
       "      <th>vote_average</th>\n",
       "      <th>vote_count</th>\n",
       "    </tr>\n",
       "  </thead>\n",
       "  <tbody>\n",
       "    <tr>\n",
       "      <th>0</th>\n",
       "      <td>[{'id': 16, 'name': 'Animation'}, {'id': 35, '...</td>\n",
       "      <td>862</td>\n",
       "      <td>tt0114709</td>\n",
       "      <td>en</td>\n",
       "      <td>Toy Story</td>\n",
       "      <td>Led by Woody, Andy's toys live happily in his ...</td>\n",
       "      <td>21.946943</td>\n",
       "      <td>1995-10-30</td>\n",
       "      <td>81.0</td>\n",
       "      <td>[{'iso_639_1': 'en', 'name': 'English'}]</td>\n",
       "      <td>Toy Story</td>\n",
       "      <td>7.7</td>\n",
       "      <td>5415.0</td>\n",
       "    </tr>\n",
       "    <tr>\n",
       "      <th>1</th>\n",
       "      <td>[{'id': 12, 'name': 'Adventure'}, {'id': 14, '...</td>\n",
       "      <td>8844</td>\n",
       "      <td>tt0113497</td>\n",
       "      <td>en</td>\n",
       "      <td>Jumanji</td>\n",
       "      <td>When siblings Judy and Peter discover an encha...</td>\n",
       "      <td>17.015539</td>\n",
       "      <td>1995-12-15</td>\n",
       "      <td>104.0</td>\n",
       "      <td>[{'iso_639_1': 'en', 'name': 'English'}, {'iso...</td>\n",
       "      <td>Jumanji</td>\n",
       "      <td>6.9</td>\n",
       "      <td>2413.0</td>\n",
       "    </tr>\n",
       "    <tr>\n",
       "      <th>2</th>\n",
       "      <td>[{'id': 10749, 'name': 'Romance'}, {'id': 35, ...</td>\n",
       "      <td>15602</td>\n",
       "      <td>tt0113228</td>\n",
       "      <td>en</td>\n",
       "      <td>Grumpier Old Men</td>\n",
       "      <td>A family wedding reignites the ancient feud be...</td>\n",
       "      <td>11.7129</td>\n",
       "      <td>1995-12-22</td>\n",
       "      <td>101.0</td>\n",
       "      <td>[{'iso_639_1': 'en', 'name': 'English'}]</td>\n",
       "      <td>Grumpier Old Men</td>\n",
       "      <td>6.5</td>\n",
       "      <td>92.0</td>\n",
       "    </tr>\n",
       "    <tr>\n",
       "      <th>3</th>\n",
       "      <td>[{'id': 35, 'name': 'Comedy'}, {'id': 18, 'nam...</td>\n",
       "      <td>31357</td>\n",
       "      <td>tt0114885</td>\n",
       "      <td>en</td>\n",
       "      <td>Waiting to Exhale</td>\n",
       "      <td>Cheated on, mistreated and stepped on, the wom...</td>\n",
       "      <td>3.859495</td>\n",
       "      <td>1995-12-22</td>\n",
       "      <td>127.0</td>\n",
       "      <td>[{'iso_639_1': 'en', 'name': 'English'}]</td>\n",
       "      <td>Waiting to Exhale</td>\n",
       "      <td>6.1</td>\n",
       "      <td>34.0</td>\n",
       "    </tr>\n",
       "    <tr>\n",
       "      <th>4</th>\n",
       "      <td>[{'id': 35, 'name': 'Comedy'}]</td>\n",
       "      <td>11862</td>\n",
       "      <td>tt0113041</td>\n",
       "      <td>en</td>\n",
       "      <td>Father of the Bride Part II</td>\n",
       "      <td>Just when George Banks has recovered from his ...</td>\n",
       "      <td>8.387519</td>\n",
       "      <td>1995-02-10</td>\n",
       "      <td>106.0</td>\n",
       "      <td>[{'iso_639_1': 'en', 'name': 'English'}]</td>\n",
       "      <td>Father of the Bride Part II</td>\n",
       "      <td>5.7</td>\n",
       "      <td>173.0</td>\n",
       "    </tr>\n",
       "  </tbody>\n",
       "</table>\n",
       "</div>"
      ],
      "text/plain": [
       "                                              genres     id    imdb_id   \n",
       "0  [{'id': 16, 'name': 'Animation'}, {'id': 35, '...    862  tt0114709  \\\n",
       "1  [{'id': 12, 'name': 'Adventure'}, {'id': 14, '...   8844  tt0113497   \n",
       "2  [{'id': 10749, 'name': 'Romance'}, {'id': 35, ...  15602  tt0113228   \n",
       "3  [{'id': 35, 'name': 'Comedy'}, {'id': 18, 'nam...  31357  tt0114885   \n",
       "4                     [{'id': 35, 'name': 'Comedy'}]  11862  tt0113041   \n",
       "\n",
       "  original_language               original_title   \n",
       "0                en                    Toy Story  \\\n",
       "1                en                      Jumanji   \n",
       "2                en             Grumpier Old Men   \n",
       "3                en            Waiting to Exhale   \n",
       "4                en  Father of the Bride Part II   \n",
       "\n",
       "                                            overview popularity release_date   \n",
       "0  Led by Woody, Andy's toys live happily in his ...  21.946943   1995-10-30  \\\n",
       "1  When siblings Judy and Peter discover an encha...  17.015539   1995-12-15   \n",
       "2  A family wedding reignites the ancient feud be...    11.7129   1995-12-22   \n",
       "3  Cheated on, mistreated and stepped on, the wom...   3.859495   1995-12-22   \n",
       "4  Just when George Banks has recovered from his ...   8.387519   1995-02-10   \n",
       "\n",
       "   runtime                                   spoken_languages   \n",
       "0     81.0           [{'iso_639_1': 'en', 'name': 'English'}]  \\\n",
       "1    104.0  [{'iso_639_1': 'en', 'name': 'English'}, {'iso...   \n",
       "2    101.0           [{'iso_639_1': 'en', 'name': 'English'}]   \n",
       "3    127.0           [{'iso_639_1': 'en', 'name': 'English'}]   \n",
       "4    106.0           [{'iso_639_1': 'en', 'name': 'English'}]   \n",
       "\n",
       "                         title  vote_average  vote_count  \n",
       "0                    Toy Story           7.7      5415.0  \n",
       "1                      Jumanji           6.9      2413.0  \n",
       "2             Grumpier Old Men           6.5        92.0  \n",
       "3            Waiting to Exhale           6.1        34.0  \n",
       "4  Father of the Bride Part II           5.7       173.0  "
      ]
     },
     "execution_count": 16,
     "metadata": {},
     "output_type": "execute_result"
    }
   ],
   "source": [
    "data_df.head()"
   ]
  },
  {
   "cell_type": "code",
   "execution_count": 17,
   "metadata": {},
   "outputs": [
    {
     "data": {
      "text/plain": [
       "genres                0\n",
       "id                    0\n",
       "imdb_id              15\n",
       "original_language     0\n",
       "original_title        0\n",
       "overview              0\n",
       "popularity            0\n",
       "release_date         73\n",
       "runtime               0\n",
       "spoken_languages      0\n",
       "title                 0\n",
       "vote_average          0\n",
       "vote_count            0\n",
       "dtype: int64"
      ]
     },
     "execution_count": 17,
     "metadata": {},
     "output_type": "execute_result"
    }
   ],
   "source": [
    "data_df.isnull().sum()"
   ]
  },
  {
   "cell_type": "code",
   "execution_count": 18,
   "metadata": {
    "tags": []
   },
   "outputs": [],
   "source": [
    "data_df = data_df[pd.to_datetime(data_df[\"release_date\"],errors='coerce').notnull()]\n",
    "data_df['release_date'] = pd.to_datetime(data_df['release_date'])\n"
   ]
  },
  {
   "cell_type": "code",
   "execution_count": 19,
   "metadata": {
    "tags": []
   },
   "outputs": [
    {
     "name": "stdout",
     "output_type": "stream",
     "text": [
      "<class 'pandas.core.frame.DataFrame'>\n",
      "Index: 45130 entries, 0 to 45465\n",
      "Data columns (total 13 columns):\n",
      " #   Column             Non-Null Count  Dtype         \n",
      "---  ------             --------------  -----         \n",
      " 0   genres             45130 non-null  object        \n",
      " 1   id                 45130 non-null  object        \n",
      " 2   imdb_id            45118 non-null  object        \n",
      " 3   original_language  45130 non-null  object        \n",
      " 4   original_title     45130 non-null  object        \n",
      " 5   overview           45130 non-null  object        \n",
      " 6   popularity         45130 non-null  object        \n",
      " 7   release_date       45130 non-null  datetime64[ns]\n",
      " 8   runtime            45130 non-null  float64       \n",
      " 9   spoken_languages   45130 non-null  object        \n",
      " 10  title              45130 non-null  object        \n",
      " 11  vote_average       45130 non-null  float64       \n",
      " 12  vote_count         45130 non-null  float64       \n",
      "dtypes: datetime64[ns](1), float64(3), object(9)\n",
      "memory usage: 4.8+ MB\n"
     ]
    }
   ],
   "source": [
    "data_df.info()"
   ]
  },
  {
   "cell_type": "code",
   "execution_count": 20,
   "metadata": {
    "tags": []
   },
   "outputs": [],
   "source": [
    "data_df[data_df['release_date'].isnull()] = data_df['release_date'].mean()"
   ]
  },
  {
   "cell_type": "code",
   "execution_count": 21,
   "metadata": {
    "tags": []
   },
   "outputs": [
    {
     "data": {
      "text/plain": [
       "genres                0\n",
       "id                    0\n",
       "imdb_id              12\n",
       "original_language     0\n",
       "original_title        0\n",
       "overview              0\n",
       "popularity            0\n",
       "release_date          0\n",
       "runtime               0\n",
       "spoken_languages      0\n",
       "title                 0\n",
       "vote_average          0\n",
       "vote_count            0\n",
       "dtype: int64"
      ]
     },
     "execution_count": 21,
     "metadata": {},
     "output_type": "execute_result"
    }
   ],
   "source": [
    "data_df.isnull().sum()"
   ]
  },
  {
   "cell_type": "code",
   "execution_count": 22,
   "metadata": {
    "tags": []
   },
   "outputs": [],
   "source": [
    "data_df[data_df['imdb_id'].isnull()] = \"Unknown\""
   ]
  },
  {
   "cell_type": "code",
   "execution_count": 23,
   "metadata": {
    "tags": []
   },
   "outputs": [
    {
     "data": {
      "text/plain": [
       "genres               0\n",
       "id                   0\n",
       "imdb_id              0\n",
       "original_language    0\n",
       "original_title       0\n",
       "overview             0\n",
       "popularity           0\n",
       "release_date         0\n",
       "runtime              0\n",
       "spoken_languages     0\n",
       "title                0\n",
       "vote_average         0\n",
       "vote_count           0\n",
       "dtype: int64"
      ]
     },
     "execution_count": 23,
     "metadata": {},
     "output_type": "execute_result"
    }
   ],
   "source": [
    "#sanity check\n",
    "data_df.isnull().sum()"
   ]
  },
  {
   "cell_type": "code",
   "execution_count": 24,
   "metadata": {
    "tags": []
   },
   "outputs": [
    {
     "data": {
      "text/html": [
       "<div>\n",
       "<style scoped>\n",
       "    .dataframe tbody tr th:only-of-type {\n",
       "        vertical-align: middle;\n",
       "    }\n",
       "\n",
       "    .dataframe tbody tr th {\n",
       "        vertical-align: top;\n",
       "    }\n",
       "\n",
       "    .dataframe thead th {\n",
       "        text-align: right;\n",
       "    }\n",
       "</style>\n",
       "<table border=\"1\" class=\"dataframe\">\n",
       "  <thead>\n",
       "    <tr style=\"text-align: right;\">\n",
       "      <th></th>\n",
       "      <th>genres</th>\n",
       "      <th>id</th>\n",
       "      <th>imdb_id</th>\n",
       "      <th>original_language</th>\n",
       "      <th>original_title</th>\n",
       "      <th>overview</th>\n",
       "      <th>popularity</th>\n",
       "      <th>release_date</th>\n",
       "      <th>runtime</th>\n",
       "      <th>spoken_languages</th>\n",
       "      <th>title</th>\n",
       "      <th>vote_average</th>\n",
       "      <th>vote_count</th>\n",
       "    </tr>\n",
       "  </thead>\n",
       "  <tbody>\n",
       "    <tr>\n",
       "      <th>0</th>\n",
       "      <td>[{'id': 16, 'name': 'Animation'}, {'id': 35, '...</td>\n",
       "      <td>862</td>\n",
       "      <td>tt0114709</td>\n",
       "      <td>en</td>\n",
       "      <td>Toy Story</td>\n",
       "      <td>Led by Woody, Andy's toys live happily in his ...</td>\n",
       "      <td>21.946943</td>\n",
       "      <td>1995-10-30 00:00:00</td>\n",
       "      <td>81.0</td>\n",
       "      <td>[{'iso_639_1': 'en', 'name': 'English'}]</td>\n",
       "      <td>Toy Story</td>\n",
       "      <td>7.7</td>\n",
       "      <td>5415.0</td>\n",
       "    </tr>\n",
       "  </tbody>\n",
       "</table>\n",
       "</div>"
      ],
      "text/plain": [
       "                                              genres   id    imdb_id   \n",
       "0  [{'id': 16, 'name': 'Animation'}, {'id': 35, '...  862  tt0114709  \\\n",
       "\n",
       "  original_language original_title   \n",
       "0                en      Toy Story  \\\n",
       "\n",
       "                                            overview popularity   \n",
       "0  Led by Woody, Andy's toys live happily in his ...  21.946943  \\\n",
       "\n",
       "          release_date runtime                          spoken_languages   \n",
       "0  1995-10-30 00:00:00    81.0  [{'iso_639_1': 'en', 'name': 'English'}]  \\\n",
       "\n",
       "       title vote_average vote_count  \n",
       "0  Toy Story          7.7     5415.0  "
      ]
     },
     "execution_count": 24,
     "metadata": {},
     "output_type": "execute_result"
    }
   ],
   "source": [
    "data_df.head(1)"
   ]
  },
  {
   "attachments": {},
   "cell_type": "markdown",
   "metadata": {},
   "source": [
    "## ratings file cleaning"
   ]
  },
  {
   "cell_type": "code",
   "execution_count": 25,
   "metadata": {
    "tags": []
   },
   "outputs": [],
   "source": [
    "ratings_df = pd.read_csv(\"Data/ratings.csv\")"
   ]
  },
  {
   "cell_type": "code",
   "execution_count": 26,
   "metadata": {
    "tags": []
   },
   "outputs": [
    {
     "data": {
      "text/html": [
       "<div>\n",
       "<style scoped>\n",
       "    .dataframe tbody tr th:only-of-type {\n",
       "        vertical-align: middle;\n",
       "    }\n",
       "\n",
       "    .dataframe tbody tr th {\n",
       "        vertical-align: top;\n",
       "    }\n",
       "\n",
       "    .dataframe thead th {\n",
       "        text-align: right;\n",
       "    }\n",
       "</style>\n",
       "<table border=\"1\" class=\"dataframe\">\n",
       "  <thead>\n",
       "    <tr style=\"text-align: right;\">\n",
       "      <th></th>\n",
       "      <th>userId</th>\n",
       "      <th>movieId</th>\n",
       "      <th>rating</th>\n",
       "      <th>timestamp</th>\n",
       "    </tr>\n",
       "  </thead>\n",
       "  <tbody>\n",
       "    <tr>\n",
       "      <th>0</th>\n",
       "      <td>1</td>\n",
       "      <td>110</td>\n",
       "      <td>1.0</td>\n",
       "      <td>1425941529</td>\n",
       "    </tr>\n",
       "    <tr>\n",
       "      <th>1</th>\n",
       "      <td>1</td>\n",
       "      <td>147</td>\n",
       "      <td>4.5</td>\n",
       "      <td>1425942435</td>\n",
       "    </tr>\n",
       "  </tbody>\n",
       "</table>\n",
       "</div>"
      ],
      "text/plain": [
       "   userId  movieId  rating   timestamp\n",
       "0       1      110     1.0  1425941529\n",
       "1       1      147     4.5  1425942435"
      ]
     },
     "execution_count": 26,
     "metadata": {},
     "output_type": "execute_result"
    }
   ],
   "source": [
    "ratings_df.head(2)"
   ]
  },
  {
   "cell_type": "code",
   "execution_count": 27,
   "metadata": {
    "tags": []
   },
   "outputs": [],
   "source": [
    "#we're gonna drop the timestamp col\n",
    "ratings_df.drop(columns = \"timestamp\", inplace=True)"
   ]
  },
  {
   "cell_type": "code",
   "execution_count": 28,
   "metadata": {
    "tags": []
   },
   "outputs": [
    {
     "data": {
      "text/plain": [
       "userId     0\n",
       "movieId    0\n",
       "rating     0\n",
       "dtype: int64"
      ]
     },
     "execution_count": 28,
     "metadata": {},
     "output_type": "execute_result"
    }
   ],
   "source": [
    "ratings_df.isnull().sum()"
   ]
  },
  {
   "attachments": {},
   "cell_type": "markdown",
   "metadata": {
    "tags": []
   },
   "source": [
    "Changing name of the `id` col to `movieID` to join the review table with movies."
   ]
  },
  {
   "cell_type": "code",
   "execution_count": 29,
   "metadata": {
    "tags": []
   },
   "outputs": [],
   "source": [
    "movies =data_df.rename(columns = {'id' : 'movieId'})"
   ]
  },
  {
   "cell_type": "code",
   "execution_count": 30,
   "metadata": {},
   "outputs": [],
   "source": [
    "#add the avg rating for each movie to the Dataframe\n",
    "ratings = ratings_df.groupby(\"movieId\")[\"rating\"].mean().round(2)"
   ]
  },
  {
   "cell_type": "code",
   "execution_count": 31,
   "id": "e132ec0c",
   "metadata": {},
   "outputs": [
    {
     "data": {
      "text/plain": [
       "movieId\n",
       "1         3.89\n",
       "2         3.24\n",
       "3         3.18\n",
       "4         2.88\n",
       "5         3.08\n",
       "          ... \n",
       "176267    4.00\n",
       "176269    3.50\n",
       "176271    5.00\n",
       "176273    1.00\n",
       "176275    3.00\n",
       "Name: rating, Length: 45115, dtype: float64"
      ]
     },
     "execution_count": 31,
     "metadata": {},
     "output_type": "execute_result"
    }
   ],
   "source": [
    "ratings"
   ]
  },
  {
   "cell_type": "code",
   "execution_count": 32,
   "id": "18b16fe8",
   "metadata": {},
   "outputs": [],
   "source": [
    "lang_list=[]\n",
    "for lang in movies['spoken_languages']:\n",
    "    lang = lang.strip(\"[\").strip(\"]\")\n",
    "    lang_list.append(lang.split(','))\n"
   ]
  },
  {
   "cell_type": "code",
   "execution_count": 33,
   "id": "2bf1924e",
   "metadata": {},
   "outputs": [],
   "source": [
    "languages = [] #list of lists\n",
    "\n",
    "\n",
    "for i in range(len(lang_list)):\n",
    "    \n",
    "    ls=[] #list of dicts\n",
    "    \n",
    "    for item in lang_list[i]:\n",
    "        temp = {}\n",
    "        item = item.replace(\"'\", \"\").replace(\"{\", \"\").replace(\"}\", \"\")\n",
    "        if len(item.split(\":\"))==2:\n",
    "            key, value = item.split(\":\")\n",
    "            key = key.strip()\n",
    "            value = value.strip()\n",
    "            temp[key] = value\n",
    "   \n",
    "            ls.append(temp)\n",
    "    languages.append(ls)      "
   ]
  },
  {
   "cell_type": "code",
   "execution_count": 34,
   "id": "811a0623",
   "metadata": {},
   "outputs": [
    {
     "data": {
      "text/plain": [
       "45130"
      ]
     },
     "execution_count": 34,
     "metadata": {},
     "output_type": "execute_result"
    }
   ],
   "source": [
    "len(languages)"
   ]
  },
  {
   "cell_type": "code",
   "execution_count": 35,
   "id": "fd67bb32",
   "metadata": {},
   "outputs": [
    {
     "data": {
      "text/plain": [
       "(45130, 13)"
      ]
     },
     "execution_count": 35,
     "metadata": {},
     "output_type": "execute_result"
    }
   ],
   "source": [
    "movies.shape"
   ]
  },
  {
   "cell_type": "code",
   "execution_count": 36,
   "id": "3c91c23e",
   "metadata": {},
   "outputs": [],
   "source": [
    "langs =[]\n",
    "for i in range(len(languages)):\n",
    "    temp =[]\n",
    "    \n",
    "    for idx,dct in enumerate(languages[i]):\n",
    "        \n",
    "        for key,val in dct.items():\n",
    "            if key =='name':\n",
    "                temp.append(val)\n",
    "                \n",
    "   \n",
    "    #list of temps\n",
    "    langs.append(temp)\n",
    "  \n",
    "movies['language'] = langs\n",
    "movies['lang_list'] = langs"
   ]
  },
  {
   "cell_type": "code",
   "execution_count": 37,
   "id": "868ca3ae",
   "metadata": {},
   "outputs": [],
   "source": [
    "#converting language column from list ot strings\n",
    "movies['language'] = [','.join(map(str, l)) for l in movies['language']]\n"
   ]
  },
  {
   "cell_type": "code",
   "execution_count": 38,
   "metadata": {},
   "outputs": [],
   "source": [
    "#dropping the spoken languages col\n",
    "movies.drop(columns = 'spoken_languages',inplace=True)"
   ]
  },
  {
   "cell_type": "code",
   "execution_count": 39,
   "metadata": {},
   "outputs": [],
   "source": [
    "genre_list=[]\n",
    "for genre in movies['genres']:\n",
    "    genre = genre.strip(\"[\").strip(\"]\")\n",
    "    genre_list.append(genre.split(','))\n"
   ]
  },
  {
   "cell_type": "code",
   "execution_count": 40,
   "metadata": {},
   "outputs": [],
   "source": [
    "result = [] #list of lists\n",
    "\n",
    "\n",
    "for i in range(len(genre_list)):\n",
    "    \n",
    "    ls=[] #list of dicts\n",
    "    \n",
    "    for item in genre_list[i]:\n",
    "        temp = {}\n",
    "        item = item.replace(\"'\", \"\").replace(\"{\", \"\").replace(\"}\", \"\")\n",
    "        if len(item.split(\":\"))==2:\n",
    "            key, value = item.split(\":\")\n",
    "            key = key.strip()\n",
    "            value = value.strip()\n",
    "            temp[key] = value\n",
    "   \n",
    "            ls.append(temp)\n",
    "    result.append(ls)        \n",
    "        "
   ]
  },
  {
   "cell_type": "code",
   "execution_count": 41,
   "metadata": {},
   "outputs": [
    {
     "data": {
      "text/plain": [
       "45130"
      ]
     },
     "execution_count": 41,
     "metadata": {},
     "output_type": "execute_result"
    }
   ],
   "source": [
    "len(genre_list)"
   ]
  },
  {
   "cell_type": "code",
   "execution_count": 42,
   "id": "ca092d61",
   "metadata": {},
   "outputs": [
    {
     "data": {
      "text/plain": [
       "45130"
      ]
     },
     "execution_count": 42,
     "metadata": {},
     "output_type": "execute_result"
    }
   ],
   "source": [
    "len(result)"
   ]
  },
  {
   "cell_type": "code",
   "execution_count": 43,
   "id": "b6fc0494",
   "metadata": {},
   "outputs": [],
   "source": [
    "final_movies_df = movies.copy()\n"
   ]
  },
  {
   "cell_type": "code",
   "execution_count": 44,
   "id": "31c14c46",
   "metadata": {},
   "outputs": [],
   "source": [
    "genres_names = []\n",
    "for item in result:\n",
    "    for dct in item:\n",
    "        if 'name' not in dct.keys():\n",
    "            item.remove(dct)\n",
    "        "
   ]
  },
  {
   "cell_type": "code",
   "execution_count": 45,
   "id": "625aef25",
   "metadata": {},
   "outputs": [],
   "source": [
    "gen_list = []\n",
    "for item in result:\n",
    "    genres = []\n",
    "    for dct in item:\n",
    "        k,val = list(dct.items())[0]\n",
    "        genres.append(val)\n",
    "        \n",
    "    gen_list.append(genres)\n",
    "    \n"
   ]
  },
  {
   "cell_type": "code",
   "execution_count": 46,
   "id": "a03fe8c1",
   "metadata": {},
   "outputs": [
    {
     "data": {
      "text/plain": [
       "45130"
      ]
     },
     "execution_count": 46,
     "metadata": {},
     "output_type": "execute_result"
    }
   ],
   "source": [
    "len(gen_list)"
   ]
  },
  {
   "cell_type": "code",
   "execution_count": 47,
   "id": "d2342104",
   "metadata": {},
   "outputs": [],
   "source": [
    "final_movies_df['genre']=gen_list"
   ]
  },
  {
   "cell_type": "code",
   "execution_count": 48,
   "id": "d7d7a418",
   "metadata": {},
   "outputs": [
    {
     "data": {
      "text/plain": [
       "0         [Animation, Comedy, Family]\n",
       "1        [Adventure, Fantasy, Family]\n",
       "2                   [Romance, Comedy]\n",
       "3            [Comedy, Drama, Romance]\n",
       "4                            [Comedy]\n",
       "                     ...             \n",
       "45460        [Drama, Action, Romance]\n",
       "45462                         [Drama]\n",
       "45463       [Action, Drama, Thriller]\n",
       "45464                              []\n",
       "45465                              []\n",
       "Name: genre, Length: 45130, dtype: object"
      ]
     },
     "execution_count": 48,
     "metadata": {},
     "output_type": "execute_result"
    }
   ],
   "source": [
    "final_movies_df['genre']"
   ]
  },
  {
   "cell_type": "code",
   "execution_count": 49,
   "id": "94d5f42c",
   "metadata": {},
   "outputs": [],
   "source": [
    "#dropping `genres` col\n",
    "final_movies_df.drop(columns=\"genres\" , inplace=True)"
   ]
  },
  {
   "cell_type": "code",
   "execution_count": 50,
   "id": "b6e830bd",
   "metadata": {},
   "outputs": [],
   "source": [
    "dummies_df = pd.get_dummies(final_movies_df['genre'].apply(pd.Series), prefix='', prefix_sep='').groupby(level=0).sum(numeric_only=True, min_count=0)\n",
    "\n"
   ]
  },
  {
   "cell_type": "code",
   "execution_count": 51,
   "id": "75a185c3",
   "metadata": {},
   "outputs": [
    {
     "data": {
      "text/html": [
       "<div>\n",
       "<style scoped>\n",
       "    .dataframe tbody tr th:only-of-type {\n",
       "        vertical-align: middle;\n",
       "    }\n",
       "\n",
       "    .dataframe tbody tr th {\n",
       "        vertical-align: top;\n",
       "    }\n",
       "\n",
       "    .dataframe thead th {\n",
       "        text-align: right;\n",
       "    }\n",
       "</style>\n",
       "<table border=\"1\" class=\"dataframe\">\n",
       "  <thead>\n",
       "    <tr style=\"text-align: right;\">\n",
       "      <th></th>\n",
       "      <th>Action</th>\n",
       "      <th>Adventure</th>\n",
       "      <th>Animation</th>\n",
       "      <th>Comedy</th>\n",
       "      <th>Crime</th>\n",
       "      <th>Documentary</th>\n",
       "      <th>Drama</th>\n",
       "      <th>Family</th>\n",
       "      <th>Fantasy</th>\n",
       "      <th>Foreign</th>\n",
       "      <th>...</th>\n",
       "      <th>Family</th>\n",
       "      <th>Foreign</th>\n",
       "      <th>Music</th>\n",
       "      <th>Romance</th>\n",
       "      <th>Science Fiction</th>\n",
       "      <th>Thriller</th>\n",
       "      <th>Western</th>\n",
       "      <th>Comedy</th>\n",
       "      <th>Family</th>\n",
       "      <th>Thriller</th>\n",
       "    </tr>\n",
       "  </thead>\n",
       "  <tbody>\n",
       "    <tr>\n",
       "      <th>0</th>\n",
       "      <td>0</td>\n",
       "      <td>0</td>\n",
       "      <td>1</td>\n",
       "      <td>0</td>\n",
       "      <td>0</td>\n",
       "      <td>0</td>\n",
       "      <td>0</td>\n",
       "      <td>0</td>\n",
       "      <td>0</td>\n",
       "      <td>0</td>\n",
       "      <td>...</td>\n",
       "      <td>0</td>\n",
       "      <td>0</td>\n",
       "      <td>0</td>\n",
       "      <td>0</td>\n",
       "      <td>0</td>\n",
       "      <td>0</td>\n",
       "      <td>0</td>\n",
       "      <td>0</td>\n",
       "      <td>0</td>\n",
       "      <td>0</td>\n",
       "    </tr>\n",
       "    <tr>\n",
       "      <th>1</th>\n",
       "      <td>0</td>\n",
       "      <td>1</td>\n",
       "      <td>0</td>\n",
       "      <td>0</td>\n",
       "      <td>0</td>\n",
       "      <td>0</td>\n",
       "      <td>0</td>\n",
       "      <td>0</td>\n",
       "      <td>0</td>\n",
       "      <td>0</td>\n",
       "      <td>...</td>\n",
       "      <td>0</td>\n",
       "      <td>0</td>\n",
       "      <td>0</td>\n",
       "      <td>0</td>\n",
       "      <td>0</td>\n",
       "      <td>0</td>\n",
       "      <td>0</td>\n",
       "      <td>0</td>\n",
       "      <td>0</td>\n",
       "      <td>0</td>\n",
       "    </tr>\n",
       "    <tr>\n",
       "      <th>2</th>\n",
       "      <td>0</td>\n",
       "      <td>0</td>\n",
       "      <td>0</td>\n",
       "      <td>0</td>\n",
       "      <td>0</td>\n",
       "      <td>0</td>\n",
       "      <td>0</td>\n",
       "      <td>0</td>\n",
       "      <td>0</td>\n",
       "      <td>0</td>\n",
       "      <td>...</td>\n",
       "      <td>0</td>\n",
       "      <td>0</td>\n",
       "      <td>0</td>\n",
       "      <td>0</td>\n",
       "      <td>0</td>\n",
       "      <td>0</td>\n",
       "      <td>0</td>\n",
       "      <td>0</td>\n",
       "      <td>0</td>\n",
       "      <td>0</td>\n",
       "    </tr>\n",
       "    <tr>\n",
       "      <th>3</th>\n",
       "      <td>0</td>\n",
       "      <td>0</td>\n",
       "      <td>0</td>\n",
       "      <td>1</td>\n",
       "      <td>0</td>\n",
       "      <td>0</td>\n",
       "      <td>0</td>\n",
       "      <td>0</td>\n",
       "      <td>0</td>\n",
       "      <td>0</td>\n",
       "      <td>...</td>\n",
       "      <td>0</td>\n",
       "      <td>0</td>\n",
       "      <td>0</td>\n",
       "      <td>0</td>\n",
       "      <td>0</td>\n",
       "      <td>0</td>\n",
       "      <td>0</td>\n",
       "      <td>0</td>\n",
       "      <td>0</td>\n",
       "      <td>0</td>\n",
       "    </tr>\n",
       "    <tr>\n",
       "      <th>4</th>\n",
       "      <td>0</td>\n",
       "      <td>0</td>\n",
       "      <td>0</td>\n",
       "      <td>1</td>\n",
       "      <td>0</td>\n",
       "      <td>0</td>\n",
       "      <td>0</td>\n",
       "      <td>0</td>\n",
       "      <td>0</td>\n",
       "      <td>0</td>\n",
       "      <td>...</td>\n",
       "      <td>0</td>\n",
       "      <td>0</td>\n",
       "      <td>0</td>\n",
       "      <td>0</td>\n",
       "      <td>0</td>\n",
       "      <td>0</td>\n",
       "      <td>0</td>\n",
       "      <td>0</td>\n",
       "      <td>0</td>\n",
       "      <td>0</td>\n",
       "    </tr>\n",
       "    <tr>\n",
       "      <th>...</th>\n",
       "      <td>...</td>\n",
       "      <td>...</td>\n",
       "      <td>...</td>\n",
       "      <td>...</td>\n",
       "      <td>...</td>\n",
       "      <td>...</td>\n",
       "      <td>...</td>\n",
       "      <td>...</td>\n",
       "      <td>...</td>\n",
       "      <td>...</td>\n",
       "      <td>...</td>\n",
       "      <td>...</td>\n",
       "      <td>...</td>\n",
       "      <td>...</td>\n",
       "      <td>...</td>\n",
       "      <td>...</td>\n",
       "      <td>...</td>\n",
       "      <td>...</td>\n",
       "      <td>...</td>\n",
       "      <td>...</td>\n",
       "      <td>...</td>\n",
       "    </tr>\n",
       "    <tr>\n",
       "      <th>45460</th>\n",
       "      <td>0</td>\n",
       "      <td>0</td>\n",
       "      <td>0</td>\n",
       "      <td>0</td>\n",
       "      <td>0</td>\n",
       "      <td>0</td>\n",
       "      <td>1</td>\n",
       "      <td>0</td>\n",
       "      <td>0</td>\n",
       "      <td>0</td>\n",
       "      <td>...</td>\n",
       "      <td>0</td>\n",
       "      <td>0</td>\n",
       "      <td>0</td>\n",
       "      <td>0</td>\n",
       "      <td>0</td>\n",
       "      <td>0</td>\n",
       "      <td>0</td>\n",
       "      <td>0</td>\n",
       "      <td>0</td>\n",
       "      <td>0</td>\n",
       "    </tr>\n",
       "    <tr>\n",
       "      <th>45462</th>\n",
       "      <td>0</td>\n",
       "      <td>0</td>\n",
       "      <td>0</td>\n",
       "      <td>0</td>\n",
       "      <td>0</td>\n",
       "      <td>0</td>\n",
       "      <td>1</td>\n",
       "      <td>0</td>\n",
       "      <td>0</td>\n",
       "      <td>0</td>\n",
       "      <td>...</td>\n",
       "      <td>0</td>\n",
       "      <td>0</td>\n",
       "      <td>0</td>\n",
       "      <td>0</td>\n",
       "      <td>0</td>\n",
       "      <td>0</td>\n",
       "      <td>0</td>\n",
       "      <td>0</td>\n",
       "      <td>0</td>\n",
       "      <td>0</td>\n",
       "    </tr>\n",
       "    <tr>\n",
       "      <th>45463</th>\n",
       "      <td>1</td>\n",
       "      <td>0</td>\n",
       "      <td>0</td>\n",
       "      <td>0</td>\n",
       "      <td>0</td>\n",
       "      <td>0</td>\n",
       "      <td>0</td>\n",
       "      <td>0</td>\n",
       "      <td>0</td>\n",
       "      <td>0</td>\n",
       "      <td>...</td>\n",
       "      <td>0</td>\n",
       "      <td>0</td>\n",
       "      <td>0</td>\n",
       "      <td>0</td>\n",
       "      <td>0</td>\n",
       "      <td>0</td>\n",
       "      <td>0</td>\n",
       "      <td>0</td>\n",
       "      <td>0</td>\n",
       "      <td>0</td>\n",
       "    </tr>\n",
       "    <tr>\n",
       "      <th>45464</th>\n",
       "      <td>0</td>\n",
       "      <td>0</td>\n",
       "      <td>0</td>\n",
       "      <td>0</td>\n",
       "      <td>0</td>\n",
       "      <td>0</td>\n",
       "      <td>0</td>\n",
       "      <td>0</td>\n",
       "      <td>0</td>\n",
       "      <td>0</td>\n",
       "      <td>...</td>\n",
       "      <td>0</td>\n",
       "      <td>0</td>\n",
       "      <td>0</td>\n",
       "      <td>0</td>\n",
       "      <td>0</td>\n",
       "      <td>0</td>\n",
       "      <td>0</td>\n",
       "      <td>0</td>\n",
       "      <td>0</td>\n",
       "      <td>0</td>\n",
       "    </tr>\n",
       "    <tr>\n",
       "      <th>45465</th>\n",
       "      <td>0</td>\n",
       "      <td>0</td>\n",
       "      <td>0</td>\n",
       "      <td>0</td>\n",
       "      <td>0</td>\n",
       "      <td>0</td>\n",
       "      <td>0</td>\n",
       "      <td>0</td>\n",
       "      <td>0</td>\n",
       "      <td>0</td>\n",
       "      <td>...</td>\n",
       "      <td>0</td>\n",
       "      <td>0</td>\n",
       "      <td>0</td>\n",
       "      <td>0</td>\n",
       "      <td>0</td>\n",
       "      <td>0</td>\n",
       "      <td>0</td>\n",
       "      <td>0</td>\n",
       "      <td>0</td>\n",
       "      <td>0</td>\n",
       "    </tr>\n",
       "  </tbody>\n",
       "</table>\n",
       "<p>45130 rows × 131 columns</p>\n",
       "</div>"
      ],
      "text/plain": [
       "       Action  Adventure  Animation  Comedy  Crime  Documentary  Drama   \n",
       "0           0          0          1       0      0            0      0  \\\n",
       "1           0          1          0       0      0            0      0   \n",
       "2           0          0          0       0      0            0      0   \n",
       "3           0          0          0       1      0            0      0   \n",
       "4           0          0          0       1      0            0      0   \n",
       "...       ...        ...        ...     ...    ...          ...    ...   \n",
       "45460       0          0          0       0      0            0      1   \n",
       "45462       0          0          0       0      0            0      1   \n",
       "45463       1          0          0       0      0            0      0   \n",
       "45464       0          0          0       0      0            0      0   \n",
       "45465       0          0          0       0      0            0      0   \n",
       "\n",
       "       Family  Fantasy  Foreign  ...  Family  Foreign  Music  Romance   \n",
       "0           0        0        0  ...       0        0      0        0  \\\n",
       "1           0        0        0  ...       0        0      0        0   \n",
       "2           0        0        0  ...       0        0      0        0   \n",
       "3           0        0        0  ...       0        0      0        0   \n",
       "4           0        0        0  ...       0        0      0        0   \n",
       "...       ...      ...      ...  ...     ...      ...    ...      ...   \n",
       "45460       0        0        0  ...       0        0      0        0   \n",
       "45462       0        0        0  ...       0        0      0        0   \n",
       "45463       0        0        0  ...       0        0      0        0   \n",
       "45464       0        0        0  ...       0        0      0        0   \n",
       "45465       0        0        0  ...       0        0      0        0   \n",
       "\n",
       "       Science Fiction  Thriller  Western  Comedy  Family  Thriller  \n",
       "0                    0         0        0       0       0         0  \n",
       "1                    0         0        0       0       0         0  \n",
       "2                    0         0        0       0       0         0  \n",
       "3                    0         0        0       0       0         0  \n",
       "4                    0         0        0       0       0         0  \n",
       "...                ...       ...      ...     ...     ...       ...  \n",
       "45460                0         0        0       0       0         0  \n",
       "45462                0         0        0       0       0         0  \n",
       "45463                0         0        0       0       0         0  \n",
       "45464                0         0        0       0       0         0  \n",
       "45465                0         0        0       0       0         0  \n",
       "\n",
       "[45130 rows x 131 columns]"
      ]
     },
     "execution_count": 51,
     "metadata": {},
     "output_type": "execute_result"
    }
   ],
   "source": [
    "dummies_df"
   ]
  },
  {
   "cell_type": "code",
   "execution_count": 52,
   "id": "d4d3a077",
   "metadata": {},
   "outputs": [],
   "source": [
    "final_movies_df = final_movies_df.join(dummies_df)"
   ]
  },
  {
   "cell_type": "code",
   "execution_count": 53,
   "id": "7840ea76",
   "metadata": {},
   "outputs": [
    {
     "data": {
      "text/plain": [
       "0"
      ]
     },
     "execution_count": 53,
     "metadata": {},
     "output_type": "execute_result"
    }
   ],
   "source": [
    "final_movies_df.isna().sum().sum()"
   ]
  },
  {
   "cell_type": "code",
   "execution_count": 54,
   "id": "060440d3",
   "metadata": {},
   "outputs": [
    {
     "data": {
      "text/plain": [
       "32187"
      ]
     },
     "execution_count": 54,
     "metadata": {},
     "output_type": "execute_result"
    }
   ],
   "source": [
    "len(final_movies_df[final_movies_df['original_language'] == 'en'].values)"
   ]
  },
  {
   "cell_type": "code",
   "execution_count": 55,
   "id": "a0c42167",
   "metadata": {},
   "outputs": [],
   "source": [
    "ratings_df['liked'] = ratings_df['rating'].apply(lambda x: 1 if x >= 3.5 else 0)\n"
   ]
  },
  {
   "cell_type": "code",
   "execution_count": 56,
   "id": "bc593c0d",
   "metadata": {},
   "outputs": [],
   "source": [
    "rtings = ratings_df['liked'].value_counts()"
   ]
  },
  {
   "cell_type": "code",
   "execution_count": 57,
   "id": "253fa9b8",
   "metadata": {},
   "outputs": [
    {
     "data": {
      "text/plain": [
       "array([16097955,  9926334])"
      ]
     },
     "execution_count": 57,
     "metadata": {},
     "output_type": "execute_result"
    }
   ],
   "source": [
    "rtings.values"
   ]
  },
  {
   "cell_type": "code",
   "execution_count": 58,
   "id": "66424a82",
   "metadata": {},
   "outputs": [],
   "source": [
    "\n",
    "# plt.figure()\n",
    "# plt.bar(x=rtings.index , height=rtings.values)\n",
    "# plt.xlabel(\"Liked classes\")\n",
    "# plt.ylabel(\"amount of vote\")\n",
    "# plt.show()"
   ]
  },
  {
   "attachments": {},
   "cell_type": "markdown",
   "id": "79818d71",
   "metadata": {},
   "source": [
    "model_movies_df"
   ]
  },
  {
   "cell_type": "code",
   "execution_count": 59,
   "id": "4859cde9",
   "metadata": {},
   "outputs": [],
   "source": [
    "# genres_vote_count.to_csv(\"genres_vote_count.csv\")"
   ]
  },
  {
   "cell_type": "code",
   "execution_count": 60,
   "id": "9a57c591",
   "metadata": {},
   "outputs": [],
   "source": [
    "lang_s = final_movies_df[\"lang_list\"]"
   ]
  },
  {
   "cell_type": "code",
   "execution_count": 61,
   "id": "75282d24",
   "metadata": {},
   "outputs": [],
   "source": [
    "final_movies_df.drop(columns= 'lang_list',inplace=True)"
   ]
  },
  {
   "cell_type": "code",
   "execution_count": 62,
   "id": "eb1b2917",
   "metadata": {},
   "outputs": [],
   "source": [
    "# lang_stacked.to_csv(\"language_count.csv\")"
   ]
  },
  {
   "cell_type": "code",
   "execution_count": 63,
   "id": "35b4395d",
   "metadata": {},
   "outputs": [
    {
     "data": {
      "text/html": [
       "<div>\n",
       "<style scoped>\n",
       "    .dataframe tbody tr th:only-of-type {\n",
       "        vertical-align: middle;\n",
       "    }\n",
       "\n",
       "    .dataframe tbody tr th {\n",
       "        vertical-align: top;\n",
       "    }\n",
       "\n",
       "    .dataframe thead th {\n",
       "        text-align: right;\n",
       "    }\n",
       "</style>\n",
       "<table border=\"1\" class=\"dataframe\">\n",
       "  <thead>\n",
       "    <tr style=\"text-align: right;\">\n",
       "      <th></th>\n",
       "      <th>movieId</th>\n",
       "      <th>imdb_id</th>\n",
       "      <th>original_language</th>\n",
       "      <th>original_title</th>\n",
       "      <th>overview</th>\n",
       "      <th>popularity</th>\n",
       "      <th>release_date</th>\n",
       "      <th>runtime</th>\n",
       "      <th>title</th>\n",
       "      <th>vote_average</th>\n",
       "      <th>...</th>\n",
       "      <th>Family</th>\n",
       "      <th>Foreign</th>\n",
       "      <th>Music</th>\n",
       "      <th>Romance</th>\n",
       "      <th>Science Fiction</th>\n",
       "      <th>Thriller</th>\n",
       "      <th>Western</th>\n",
       "      <th>Comedy</th>\n",
       "      <th>Family</th>\n",
       "      <th>Thriller</th>\n",
       "    </tr>\n",
       "  </thead>\n",
       "  <tbody>\n",
       "    <tr>\n",
       "      <th>0</th>\n",
       "      <td>862</td>\n",
       "      <td>tt0114709</td>\n",
       "      <td>en</td>\n",
       "      <td>Toy Story</td>\n",
       "      <td>Led by Woody, Andy's toys live happily in his ...</td>\n",
       "      <td>21.946943</td>\n",
       "      <td>1995-10-30 00:00:00</td>\n",
       "      <td>81.0</td>\n",
       "      <td>Toy Story</td>\n",
       "      <td>7.7</td>\n",
       "      <td>...</td>\n",
       "      <td>0</td>\n",
       "      <td>0</td>\n",
       "      <td>0</td>\n",
       "      <td>0</td>\n",
       "      <td>0</td>\n",
       "      <td>0</td>\n",
       "      <td>0</td>\n",
       "      <td>0</td>\n",
       "      <td>0</td>\n",
       "      <td>0</td>\n",
       "    </tr>\n",
       "    <tr>\n",
       "      <th>1</th>\n",
       "      <td>8844</td>\n",
       "      <td>tt0113497</td>\n",
       "      <td>en</td>\n",
       "      <td>Jumanji</td>\n",
       "      <td>When siblings Judy and Peter discover an encha...</td>\n",
       "      <td>17.015539</td>\n",
       "      <td>1995-12-15 00:00:00</td>\n",
       "      <td>104.0</td>\n",
       "      <td>Jumanji</td>\n",
       "      <td>6.9</td>\n",
       "      <td>...</td>\n",
       "      <td>0</td>\n",
       "      <td>0</td>\n",
       "      <td>0</td>\n",
       "      <td>0</td>\n",
       "      <td>0</td>\n",
       "      <td>0</td>\n",
       "      <td>0</td>\n",
       "      <td>0</td>\n",
       "      <td>0</td>\n",
       "      <td>0</td>\n",
       "    </tr>\n",
       "    <tr>\n",
       "      <th>2</th>\n",
       "      <td>15602</td>\n",
       "      <td>tt0113228</td>\n",
       "      <td>en</td>\n",
       "      <td>Grumpier Old Men</td>\n",
       "      <td>A family wedding reignites the ancient feud be...</td>\n",
       "      <td>11.7129</td>\n",
       "      <td>1995-12-22 00:00:00</td>\n",
       "      <td>101.0</td>\n",
       "      <td>Grumpier Old Men</td>\n",
       "      <td>6.5</td>\n",
       "      <td>...</td>\n",
       "      <td>0</td>\n",
       "      <td>0</td>\n",
       "      <td>0</td>\n",
       "      <td>0</td>\n",
       "      <td>0</td>\n",
       "      <td>0</td>\n",
       "      <td>0</td>\n",
       "      <td>0</td>\n",
       "      <td>0</td>\n",
       "      <td>0</td>\n",
       "    </tr>\n",
       "    <tr>\n",
       "      <th>3</th>\n",
       "      <td>31357</td>\n",
       "      <td>tt0114885</td>\n",
       "      <td>en</td>\n",
       "      <td>Waiting to Exhale</td>\n",
       "      <td>Cheated on, mistreated and stepped on, the wom...</td>\n",
       "      <td>3.859495</td>\n",
       "      <td>1995-12-22 00:00:00</td>\n",
       "      <td>127.0</td>\n",
       "      <td>Waiting to Exhale</td>\n",
       "      <td>6.1</td>\n",
       "      <td>...</td>\n",
       "      <td>0</td>\n",
       "      <td>0</td>\n",
       "      <td>0</td>\n",
       "      <td>0</td>\n",
       "      <td>0</td>\n",
       "      <td>0</td>\n",
       "      <td>0</td>\n",
       "      <td>0</td>\n",
       "      <td>0</td>\n",
       "      <td>0</td>\n",
       "    </tr>\n",
       "    <tr>\n",
       "      <th>4</th>\n",
       "      <td>11862</td>\n",
       "      <td>tt0113041</td>\n",
       "      <td>en</td>\n",
       "      <td>Father of the Bride Part II</td>\n",
       "      <td>Just when George Banks has recovered from his ...</td>\n",
       "      <td>8.387519</td>\n",
       "      <td>1995-02-10 00:00:00</td>\n",
       "      <td>106.0</td>\n",
       "      <td>Father of the Bride Part II</td>\n",
       "      <td>5.7</td>\n",
       "      <td>...</td>\n",
       "      <td>0</td>\n",
       "      <td>0</td>\n",
       "      <td>0</td>\n",
       "      <td>0</td>\n",
       "      <td>0</td>\n",
       "      <td>0</td>\n",
       "      <td>0</td>\n",
       "      <td>0</td>\n",
       "      <td>0</td>\n",
       "      <td>0</td>\n",
       "    </tr>\n",
       "    <tr>\n",
       "      <th>...</th>\n",
       "      <td>...</td>\n",
       "      <td>...</td>\n",
       "      <td>...</td>\n",
       "      <td>...</td>\n",
       "      <td>...</td>\n",
       "      <td>...</td>\n",
       "      <td>...</td>\n",
       "      <td>...</td>\n",
       "      <td>...</td>\n",
       "      <td>...</td>\n",
       "      <td>...</td>\n",
       "      <td>...</td>\n",
       "      <td>...</td>\n",
       "      <td>...</td>\n",
       "      <td>...</td>\n",
       "      <td>...</td>\n",
       "      <td>...</td>\n",
       "      <td>...</td>\n",
       "      <td>...</td>\n",
       "      <td>...</td>\n",
       "      <td>...</td>\n",
       "    </tr>\n",
       "    <tr>\n",
       "      <th>45460</th>\n",
       "      <td>30840</td>\n",
       "      <td>tt0102797</td>\n",
       "      <td>en</td>\n",
       "      <td>Robin Hood</td>\n",
       "      <td>Yet another version of the classic epic, with ...</td>\n",
       "      <td>5.683753</td>\n",
       "      <td>1991-05-13 00:00:00</td>\n",
       "      <td>104.0</td>\n",
       "      <td>Robin Hood</td>\n",
       "      <td>5.7</td>\n",
       "      <td>...</td>\n",
       "      <td>0</td>\n",
       "      <td>0</td>\n",
       "      <td>0</td>\n",
       "      <td>0</td>\n",
       "      <td>0</td>\n",
       "      <td>0</td>\n",
       "      <td>0</td>\n",
       "      <td>0</td>\n",
       "      <td>0</td>\n",
       "      <td>0</td>\n",
       "    </tr>\n",
       "    <tr>\n",
       "      <th>45462</th>\n",
       "      <td>111109</td>\n",
       "      <td>tt2028550</td>\n",
       "      <td>tl</td>\n",
       "      <td>Siglo ng Pagluluwal</td>\n",
       "      <td>An artist struggles to finish his work while a...</td>\n",
       "      <td>0.178241</td>\n",
       "      <td>2011-11-17 00:00:00</td>\n",
       "      <td>360.0</td>\n",
       "      <td>Century of Birthing</td>\n",
       "      <td>9.0</td>\n",
       "      <td>...</td>\n",
       "      <td>0</td>\n",
       "      <td>0</td>\n",
       "      <td>0</td>\n",
       "      <td>0</td>\n",
       "      <td>0</td>\n",
       "      <td>0</td>\n",
       "      <td>0</td>\n",
       "      <td>0</td>\n",
       "      <td>0</td>\n",
       "      <td>0</td>\n",
       "    </tr>\n",
       "    <tr>\n",
       "      <th>45463</th>\n",
       "      <td>67758</td>\n",
       "      <td>tt0303758</td>\n",
       "      <td>en</td>\n",
       "      <td>Betrayal</td>\n",
       "      <td>When one of her hits goes wrong, a professiona...</td>\n",
       "      <td>0.903007</td>\n",
       "      <td>2003-08-01 00:00:00</td>\n",
       "      <td>90.0</td>\n",
       "      <td>Betrayal</td>\n",
       "      <td>3.8</td>\n",
       "      <td>...</td>\n",
       "      <td>0</td>\n",
       "      <td>0</td>\n",
       "      <td>0</td>\n",
       "      <td>0</td>\n",
       "      <td>0</td>\n",
       "      <td>0</td>\n",
       "      <td>0</td>\n",
       "      <td>0</td>\n",
       "      <td>0</td>\n",
       "      <td>0</td>\n",
       "    </tr>\n",
       "    <tr>\n",
       "      <th>45464</th>\n",
       "      <td>227506</td>\n",
       "      <td>tt0008536</td>\n",
       "      <td>en</td>\n",
       "      <td>Satana likuyushchiy</td>\n",
       "      <td>In a small town live two brothers, one a minis...</td>\n",
       "      <td>0.003503</td>\n",
       "      <td>1917-10-21 00:00:00</td>\n",
       "      <td>87.0</td>\n",
       "      <td>Satan Triumphant</td>\n",
       "      <td>0.0</td>\n",
       "      <td>...</td>\n",
       "      <td>0</td>\n",
       "      <td>0</td>\n",
       "      <td>0</td>\n",
       "      <td>0</td>\n",
       "      <td>0</td>\n",
       "      <td>0</td>\n",
       "      <td>0</td>\n",
       "      <td>0</td>\n",
       "      <td>0</td>\n",
       "      <td>0</td>\n",
       "    </tr>\n",
       "    <tr>\n",
       "      <th>45465</th>\n",
       "      <td>461257</td>\n",
       "      <td>tt6980792</td>\n",
       "      <td>en</td>\n",
       "      <td>Queerama</td>\n",
       "      <td>50 years after decriminalisation of homosexual...</td>\n",
       "      <td>0.163015</td>\n",
       "      <td>2017-06-09 00:00:00</td>\n",
       "      <td>75.0</td>\n",
       "      <td>Queerama</td>\n",
       "      <td>0.0</td>\n",
       "      <td>...</td>\n",
       "      <td>0</td>\n",
       "      <td>0</td>\n",
       "      <td>0</td>\n",
       "      <td>0</td>\n",
       "      <td>0</td>\n",
       "      <td>0</td>\n",
       "      <td>0</td>\n",
       "      <td>0</td>\n",
       "      <td>0</td>\n",
       "      <td>0</td>\n",
       "    </tr>\n",
       "  </tbody>\n",
       "</table>\n",
       "<p>45130 rows × 144 columns</p>\n",
       "</div>"
      ],
      "text/plain": [
       "      movieId    imdb_id original_language               original_title   \n",
       "0         862  tt0114709                en                    Toy Story  \\\n",
       "1        8844  tt0113497                en                      Jumanji   \n",
       "2       15602  tt0113228                en             Grumpier Old Men   \n",
       "3       31357  tt0114885                en            Waiting to Exhale   \n",
       "4       11862  tt0113041                en  Father of the Bride Part II   \n",
       "...       ...        ...               ...                          ...   \n",
       "45460   30840  tt0102797                en                   Robin Hood   \n",
       "45462  111109  tt2028550                tl          Siglo ng Pagluluwal   \n",
       "45463   67758  tt0303758                en                     Betrayal   \n",
       "45464  227506  tt0008536                en          Satana likuyushchiy   \n",
       "45465  461257  tt6980792                en                     Queerama   \n",
       "\n",
       "                                                overview popularity   \n",
       "0      Led by Woody, Andy's toys live happily in his ...  21.946943  \\\n",
       "1      When siblings Judy and Peter discover an encha...  17.015539   \n",
       "2      A family wedding reignites the ancient feud be...    11.7129   \n",
       "3      Cheated on, mistreated and stepped on, the wom...   3.859495   \n",
       "4      Just when George Banks has recovered from his ...   8.387519   \n",
       "...                                                  ...        ...   \n",
       "45460  Yet another version of the classic epic, with ...   5.683753   \n",
       "45462  An artist struggles to finish his work while a...   0.178241   \n",
       "45463  When one of her hits goes wrong, a professiona...   0.903007   \n",
       "45464  In a small town live two brothers, one a minis...   0.003503   \n",
       "45465  50 years after decriminalisation of homosexual...   0.163015   \n",
       "\n",
       "              release_date runtime                        title vote_average   \n",
       "0      1995-10-30 00:00:00    81.0                    Toy Story          7.7  \\\n",
       "1      1995-12-15 00:00:00   104.0                      Jumanji          6.9   \n",
       "2      1995-12-22 00:00:00   101.0             Grumpier Old Men          6.5   \n",
       "3      1995-12-22 00:00:00   127.0            Waiting to Exhale          6.1   \n",
       "4      1995-02-10 00:00:00   106.0  Father of the Bride Part II          5.7   \n",
       "...                    ...     ...                          ...          ...   \n",
       "45460  1991-05-13 00:00:00   104.0                   Robin Hood          5.7   \n",
       "45462  2011-11-17 00:00:00   360.0          Century of Birthing          9.0   \n",
       "45463  2003-08-01 00:00:00    90.0                     Betrayal          3.8   \n",
       "45464  1917-10-21 00:00:00    87.0             Satan Triumphant          0.0   \n",
       "45465  2017-06-09 00:00:00    75.0                     Queerama          0.0   \n",
       "\n",
       "       ...  Family Foreign Music  Romance  Science Fiction  Thriller  Western   \n",
       "0      ...       0       0     0        0                0         0        0  \\\n",
       "1      ...       0       0     0        0                0         0        0   \n",
       "2      ...       0       0     0        0                0         0        0   \n",
       "3      ...       0       0     0        0                0         0        0   \n",
       "4      ...       0       0     0        0                0         0        0   \n",
       "...    ...     ...     ...   ...      ...              ...       ...      ...   \n",
       "45460  ...       0       0     0        0                0         0        0   \n",
       "45462  ...       0       0     0        0                0         0        0   \n",
       "45463  ...       0       0     0        0                0         0        0   \n",
       "45464  ...       0       0     0        0                0         0        0   \n",
       "45465  ...       0       0     0        0                0         0        0   \n",
       "\n",
       "       Comedy  Family  Thriller  \n",
       "0           0       0         0  \n",
       "1           0       0         0  \n",
       "2           0       0         0  \n",
       "3           0       0         0  \n",
       "4           0       0         0  \n",
       "...       ...     ...       ...  \n",
       "45460       0       0         0  \n",
       "45462       0       0         0  \n",
       "45463       0       0         0  \n",
       "45464       0       0         0  \n",
       "45465       0       0         0  \n",
       "\n",
       "[45130 rows x 144 columns]"
      ]
     },
     "execution_count": 63,
     "metadata": {},
     "output_type": "execute_result"
    }
   ],
   "source": [
    "final_movies_df"
   ]
  },
  {
   "cell_type": "code",
   "execution_count": 64,
   "id": "51209b26",
   "metadata": {},
   "outputs": [],
   "source": [
    "final_movies_df.to_csv(\"movies.csv\" , index= False)\n",
    "#saving cleaned movies and ready to work on "
   ]
  },
  {
   "cell_type": "code",
   "execution_count": 65,
   "id": "738b799d",
   "metadata": {},
   "outputs": [],
   "source": [
    "ratings_df.to_csv(\"ratings.csv\" , index=False)\n",
    "#saving cleaned ratings and ready to work on "
   ]
  },
  {
   "cell_type": "code",
   "execution_count": 66,
   "id": "0ceccc0d",
   "metadata": {},
   "outputs": [
    {
     "data": {
      "text/html": [
       "<div>\n",
       "<style scoped>\n",
       "    .dataframe tbody tr th:only-of-type {\n",
       "        vertical-align: middle;\n",
       "    }\n",
       "\n",
       "    .dataframe tbody tr th {\n",
       "        vertical-align: top;\n",
       "    }\n",
       "\n",
       "    .dataframe thead th {\n",
       "        text-align: right;\n",
       "    }\n",
       "</style>\n",
       "<table border=\"1\" class=\"dataframe\">\n",
       "  <thead>\n",
       "    <tr style=\"text-align: right;\">\n",
       "      <th></th>\n",
       "      <th>userId</th>\n",
       "      <th>movieId</th>\n",
       "      <th>rating</th>\n",
       "      <th>liked</th>\n",
       "    </tr>\n",
       "  </thead>\n",
       "  <tbody>\n",
       "    <tr>\n",
       "      <th>0</th>\n",
       "      <td>1</td>\n",
       "      <td>110</td>\n",
       "      <td>1.0</td>\n",
       "      <td>0</td>\n",
       "    </tr>\n",
       "    <tr>\n",
       "      <th>1</th>\n",
       "      <td>1</td>\n",
       "      <td>147</td>\n",
       "      <td>4.5</td>\n",
       "      <td>1</td>\n",
       "    </tr>\n",
       "    <tr>\n",
       "      <th>2</th>\n",
       "      <td>1</td>\n",
       "      <td>858</td>\n",
       "      <td>5.0</td>\n",
       "      <td>1</td>\n",
       "    </tr>\n",
       "    <tr>\n",
       "      <th>3</th>\n",
       "      <td>1</td>\n",
       "      <td>1221</td>\n",
       "      <td>5.0</td>\n",
       "      <td>1</td>\n",
       "    </tr>\n",
       "    <tr>\n",
       "      <th>4</th>\n",
       "      <td>1</td>\n",
       "      <td>1246</td>\n",
       "      <td>5.0</td>\n",
       "      <td>1</td>\n",
       "    </tr>\n",
       "    <tr>\n",
       "      <th>...</th>\n",
       "      <td>...</td>\n",
       "      <td>...</td>\n",
       "      <td>...</td>\n",
       "      <td>...</td>\n",
       "    </tr>\n",
       "    <tr>\n",
       "      <th>26024284</th>\n",
       "      <td>270896</td>\n",
       "      <td>58559</td>\n",
       "      <td>5.0</td>\n",
       "      <td>1</td>\n",
       "    </tr>\n",
       "    <tr>\n",
       "      <th>26024285</th>\n",
       "      <td>270896</td>\n",
       "      <td>60069</td>\n",
       "      <td>5.0</td>\n",
       "      <td>1</td>\n",
       "    </tr>\n",
       "    <tr>\n",
       "      <th>26024286</th>\n",
       "      <td>270896</td>\n",
       "      <td>63082</td>\n",
       "      <td>4.5</td>\n",
       "      <td>1</td>\n",
       "    </tr>\n",
       "    <tr>\n",
       "      <th>26024287</th>\n",
       "      <td>270896</td>\n",
       "      <td>64957</td>\n",
       "      <td>4.5</td>\n",
       "      <td>1</td>\n",
       "    </tr>\n",
       "    <tr>\n",
       "      <th>26024288</th>\n",
       "      <td>270896</td>\n",
       "      <td>71878</td>\n",
       "      <td>2.0</td>\n",
       "      <td>0</td>\n",
       "    </tr>\n",
       "  </tbody>\n",
       "</table>\n",
       "<p>26024289 rows × 4 columns</p>\n",
       "</div>"
      ],
      "text/plain": [
       "          userId  movieId  rating  liked\n",
       "0              1      110     1.0      0\n",
       "1              1      147     4.5      1\n",
       "2              1      858     5.0      1\n",
       "3              1     1221     5.0      1\n",
       "4              1     1246     5.0      1\n",
       "...          ...      ...     ...    ...\n",
       "26024284  270896    58559     5.0      1\n",
       "26024285  270896    60069     5.0      1\n",
       "26024286  270896    63082     4.5      1\n",
       "26024287  270896    64957     4.5      1\n",
       "26024288  270896    71878     2.0      0\n",
       "\n",
       "[26024289 rows x 4 columns]"
      ]
     },
     "execution_count": 66,
     "metadata": {},
     "output_type": "execute_result"
    }
   ],
   "source": [
    "ratings_df"
   ]
  },
  {
   "cell_type": "code",
   "execution_count": 67,
   "id": "529f3faa",
   "metadata": {},
   "outputs": [],
   "source": [
    "# taking a balanced sample out of the ratings.\n",
    "grouped_liked_ratings = ratings_df[ratings_df['liked']==1].sample(frac= 0.10)\n",
    "grouped_not_liked_ratings = ratings_df[ratings_df['liked']==0].sample(frac= 0.16)\n",
    "# ratings_sample = grouped_ratings.apply(lambda x: x.sample(grouped_ratings.size().min()).reset_index(drop=False)).sample(frac=0.15)"
   ]
  },
  {
   "cell_type": "code",
   "execution_count": 68,
   "id": "93ce3d44",
   "metadata": {},
   "outputs": [
    {
     "data": {
      "text/html": [
       "<div>\n",
       "<style scoped>\n",
       "    .dataframe tbody tr th:only-of-type {\n",
       "        vertical-align: middle;\n",
       "    }\n",
       "\n",
       "    .dataframe tbody tr th {\n",
       "        vertical-align: top;\n",
       "    }\n",
       "\n",
       "    .dataframe thead th {\n",
       "        text-align: right;\n",
       "    }\n",
       "</style>\n",
       "<table border=\"1\" class=\"dataframe\">\n",
       "  <thead>\n",
       "    <tr style=\"text-align: right;\">\n",
       "      <th></th>\n",
       "      <th>userId</th>\n",
       "      <th>movieId</th>\n",
       "      <th>rating</th>\n",
       "      <th>liked</th>\n",
       "    </tr>\n",
       "  </thead>\n",
       "  <tbody>\n",
       "    <tr>\n",
       "      <th>17758556</th>\n",
       "      <td>184296</td>\n",
       "      <td>3113</td>\n",
       "      <td>1.0</td>\n",
       "      <td>0</td>\n",
       "    </tr>\n",
       "    <tr>\n",
       "      <th>12403097</th>\n",
       "      <td>128654</td>\n",
       "      <td>783</td>\n",
       "      <td>3.0</td>\n",
       "      <td>0</td>\n",
       "    </tr>\n",
       "    <tr>\n",
       "      <th>24574042</th>\n",
       "      <td>255443</td>\n",
       "      <td>2628</td>\n",
       "      <td>1.0</td>\n",
       "      <td>0</td>\n",
       "    </tr>\n",
       "    <tr>\n",
       "      <th>6029530</th>\n",
       "      <td>62067</td>\n",
       "      <td>8368</td>\n",
       "      <td>3.0</td>\n",
       "      <td>0</td>\n",
       "    </tr>\n",
       "    <tr>\n",
       "      <th>24694153</th>\n",
       "      <td>256682</td>\n",
       "      <td>2858</td>\n",
       "      <td>3.0</td>\n",
       "      <td>0</td>\n",
       "    </tr>\n",
       "    <tr>\n",
       "      <th>...</th>\n",
       "      <td>...</td>\n",
       "      <td>...</td>\n",
       "      <td>...</td>\n",
       "      <td>...</td>\n",
       "    </tr>\n",
       "    <tr>\n",
       "      <th>7594335</th>\n",
       "      <td>78447</td>\n",
       "      <td>94864</td>\n",
       "      <td>0.5</td>\n",
       "      <td>0</td>\n",
       "    </tr>\n",
       "    <tr>\n",
       "      <th>16999057</th>\n",
       "      <td>176608</td>\n",
       "      <td>3145</td>\n",
       "      <td>3.0</td>\n",
       "      <td>0</td>\n",
       "    </tr>\n",
       "    <tr>\n",
       "      <th>21090424</th>\n",
       "      <td>219157</td>\n",
       "      <td>4054</td>\n",
       "      <td>3.0</td>\n",
       "      <td>0</td>\n",
       "    </tr>\n",
       "    <tr>\n",
       "      <th>2282237</th>\n",
       "      <td>23727</td>\n",
       "      <td>1952</td>\n",
       "      <td>3.0</td>\n",
       "      <td>0</td>\n",
       "    </tr>\n",
       "    <tr>\n",
       "      <th>21798620</th>\n",
       "      <td>226425</td>\n",
       "      <td>1363</td>\n",
       "      <td>1.0</td>\n",
       "      <td>0</td>\n",
       "    </tr>\n",
       "  </tbody>\n",
       "</table>\n",
       "<p>1588213 rows × 4 columns</p>\n",
       "</div>"
      ],
      "text/plain": [
       "          userId  movieId  rating  liked\n",
       "17758556  184296     3113     1.0      0\n",
       "12403097  128654      783     3.0      0\n",
       "24574042  255443     2628     1.0      0\n",
       "6029530    62067     8368     3.0      0\n",
       "24694153  256682     2858     3.0      0\n",
       "...          ...      ...     ...    ...\n",
       "7594335    78447    94864     0.5      0\n",
       "16999057  176608     3145     3.0      0\n",
       "21090424  219157     4054     3.0      0\n",
       "2282237    23727     1952     3.0      0\n",
       "21798620  226425     1363     1.0      0\n",
       "\n",
       "[1588213 rows x 4 columns]"
      ]
     },
     "execution_count": 68,
     "metadata": {},
     "output_type": "execute_result"
    }
   ],
   "source": [
    "grouped_not_liked_ratings"
   ]
  },
  {
   "cell_type": "code",
   "execution_count": 69,
   "id": "f7e27bbb",
   "metadata": {},
   "outputs": [
    {
     "data": {
      "text/html": [
       "<div>\n",
       "<style scoped>\n",
       "    .dataframe tbody tr th:only-of-type {\n",
       "        vertical-align: middle;\n",
       "    }\n",
       "\n",
       "    .dataframe tbody tr th {\n",
       "        vertical-align: top;\n",
       "    }\n",
       "\n",
       "    .dataframe thead th {\n",
       "        text-align: right;\n",
       "    }\n",
       "</style>\n",
       "<table border=\"1\" class=\"dataframe\">\n",
       "  <thead>\n",
       "    <tr style=\"text-align: right;\">\n",
       "      <th></th>\n",
       "      <th>userId</th>\n",
       "      <th>movieId</th>\n",
       "      <th>rating</th>\n",
       "      <th>liked</th>\n",
       "    </tr>\n",
       "  </thead>\n",
       "  <tbody>\n",
       "    <tr>\n",
       "      <th>22278813</th>\n",
       "      <td>231246</td>\n",
       "      <td>4128</td>\n",
       "      <td>4.0</td>\n",
       "      <td>1</td>\n",
       "    </tr>\n",
       "    <tr>\n",
       "      <th>24693479</th>\n",
       "      <td>256671</td>\n",
       "      <td>136538</td>\n",
       "      <td>5.0</td>\n",
       "      <td>1</td>\n",
       "    </tr>\n",
       "    <tr>\n",
       "      <th>20249832</th>\n",
       "      <td>210496</td>\n",
       "      <td>116797</td>\n",
       "      <td>4.0</td>\n",
       "      <td>1</td>\n",
       "    </tr>\n",
       "    <tr>\n",
       "      <th>17081690</th>\n",
       "      <td>177351</td>\n",
       "      <td>736</td>\n",
       "      <td>5.0</td>\n",
       "      <td>1</td>\n",
       "    </tr>\n",
       "    <tr>\n",
       "      <th>2723618</th>\n",
       "      <td>28263</td>\n",
       "      <td>54503</td>\n",
       "      <td>3.5</td>\n",
       "      <td>1</td>\n",
       "    </tr>\n",
       "    <tr>\n",
       "      <th>...</th>\n",
       "      <td>...</td>\n",
       "      <td>...</td>\n",
       "      <td>...</td>\n",
       "      <td>...</td>\n",
       "    </tr>\n",
       "    <tr>\n",
       "      <th>14572063</th>\n",
       "      <td>151440</td>\n",
       "      <td>2700</td>\n",
       "      <td>3.5</td>\n",
       "      <td>1</td>\n",
       "    </tr>\n",
       "    <tr>\n",
       "      <th>5465989</th>\n",
       "      <td>56379</td>\n",
       "      <td>42632</td>\n",
       "      <td>5.0</td>\n",
       "      <td>1</td>\n",
       "    </tr>\n",
       "    <tr>\n",
       "      <th>8522772</th>\n",
       "      <td>87812</td>\n",
       "      <td>1295</td>\n",
       "      <td>4.0</td>\n",
       "      <td>1</td>\n",
       "    </tr>\n",
       "    <tr>\n",
       "      <th>8570552</th>\n",
       "      <td>88389</td>\n",
       "      <td>1500</td>\n",
       "      <td>4.5</td>\n",
       "      <td>1</td>\n",
       "    </tr>\n",
       "    <tr>\n",
       "      <th>4087891</th>\n",
       "      <td>42526</td>\n",
       "      <td>1299</td>\n",
       "      <td>5.0</td>\n",
       "      <td>1</td>\n",
       "    </tr>\n",
       "  </tbody>\n",
       "</table>\n",
       "<p>1609796 rows × 4 columns</p>\n",
       "</div>"
      ],
      "text/plain": [
       "          userId  movieId  rating  liked\n",
       "22278813  231246     4128     4.0      1\n",
       "24693479  256671   136538     5.0      1\n",
       "20249832  210496   116797     4.0      1\n",
       "17081690  177351      736     5.0      1\n",
       "2723618    28263    54503     3.5      1\n",
       "...          ...      ...     ...    ...\n",
       "14572063  151440     2700     3.5      1\n",
       "5465989    56379    42632     5.0      1\n",
       "8522772    87812     1295     4.0      1\n",
       "8570552    88389     1500     4.5      1\n",
       "4087891    42526     1299     5.0      1\n",
       "\n",
       "[1609796 rows x 4 columns]"
      ]
     },
     "execution_count": 69,
     "metadata": {},
     "output_type": "execute_result"
    }
   ],
   "source": [
    "grouped_liked_ratings"
   ]
  },
  {
   "cell_type": "code",
   "execution_count": 70,
   "id": "9764b6e3",
   "metadata": {},
   "outputs": [],
   "source": [
    "#sanity check \n",
    "ratings_sample =pd.concat([grouped_liked_ratings,grouped_not_liked_ratings])\n"
   ]
  },
  {
   "cell_type": "code",
   "execution_count": 71,
   "id": "80239767",
   "metadata": {},
   "outputs": [],
   "source": [
    "ratings_sample =ratings_sample.sort_index()"
   ]
  },
  {
   "cell_type": "code",
   "execution_count": 72,
   "id": "0b54a4e9",
   "metadata": {},
   "outputs": [
    {
     "data": {
      "text/html": [
       "<div>\n",
       "<style scoped>\n",
       "    .dataframe tbody tr th:only-of-type {\n",
       "        vertical-align: middle;\n",
       "    }\n",
       "\n",
       "    .dataframe tbody tr th {\n",
       "        vertical-align: top;\n",
       "    }\n",
       "\n",
       "    .dataframe thead th {\n",
       "        text-align: right;\n",
       "    }\n",
       "</style>\n",
       "<table border=\"1\" class=\"dataframe\">\n",
       "  <thead>\n",
       "    <tr style=\"text-align: right;\">\n",
       "      <th></th>\n",
       "      <th>userId</th>\n",
       "      <th>movieId</th>\n",
       "      <th>rating</th>\n",
       "      <th>liked</th>\n",
       "    </tr>\n",
       "  </thead>\n",
       "  <tbody>\n",
       "    <tr>\n",
       "      <th>6</th>\n",
       "      <td>1</td>\n",
       "      <td>2762</td>\n",
       "      <td>4.5</td>\n",
       "      <td>1</td>\n",
       "    </tr>\n",
       "    <tr>\n",
       "      <th>20</th>\n",
       "      <td>1</td>\n",
       "      <td>91500</td>\n",
       "      <td>2.5</td>\n",
       "      <td>0</td>\n",
       "    </tr>\n",
       "    <tr>\n",
       "      <th>24</th>\n",
       "      <td>1</td>\n",
       "      <td>98809</td>\n",
       "      <td>0.5</td>\n",
       "      <td>0</td>\n",
       "    </tr>\n",
       "    <tr>\n",
       "      <th>31</th>\n",
       "      <td>2</td>\n",
       "      <td>64</td>\n",
       "      <td>4.0</td>\n",
       "      <td>1</td>\n",
       "    </tr>\n",
       "    <tr>\n",
       "      <th>39</th>\n",
       "      <td>2</td>\n",
       "      <td>648</td>\n",
       "      <td>4.0</td>\n",
       "      <td>1</td>\n",
       "    </tr>\n",
       "    <tr>\n",
       "      <th>...</th>\n",
       "      <td>...</td>\n",
       "      <td>...</td>\n",
       "      <td>...</td>\n",
       "      <td>...</td>\n",
       "    </tr>\n",
       "    <tr>\n",
       "      <th>26024204</th>\n",
       "      <td>270896</td>\n",
       "      <td>5218</td>\n",
       "      <td>3.0</td>\n",
       "      <td>0</td>\n",
       "    </tr>\n",
       "    <tr>\n",
       "      <th>26024257</th>\n",
       "      <td>270896</td>\n",
       "      <td>40815</td>\n",
       "      <td>4.0</td>\n",
       "      <td>1</td>\n",
       "    </tr>\n",
       "    <tr>\n",
       "      <th>26024280</th>\n",
       "      <td>270896</td>\n",
       "      <td>54503</td>\n",
       "      <td>4.0</td>\n",
       "      <td>1</td>\n",
       "    </tr>\n",
       "    <tr>\n",
       "      <th>26024282</th>\n",
       "      <td>270896</td>\n",
       "      <td>56174</td>\n",
       "      <td>3.5</td>\n",
       "      <td>1</td>\n",
       "    </tr>\n",
       "    <tr>\n",
       "      <th>26024283</th>\n",
       "      <td>270896</td>\n",
       "      <td>56367</td>\n",
       "      <td>4.5</td>\n",
       "      <td>1</td>\n",
       "    </tr>\n",
       "  </tbody>\n",
       "</table>\n",
       "<p>3198009 rows × 4 columns</p>\n",
       "</div>"
      ],
      "text/plain": [
       "          userId  movieId  rating  liked\n",
       "6              1     2762     4.5      1\n",
       "20             1    91500     2.5      0\n",
       "24             1    98809     0.5      0\n",
       "31             2       64     4.0      1\n",
       "39             2      648     4.0      1\n",
       "...          ...      ...     ...    ...\n",
       "26024204  270896     5218     3.0      0\n",
       "26024257  270896    40815     4.0      1\n",
       "26024280  270896    54503     4.0      1\n",
       "26024282  270896    56174     3.5      1\n",
       "26024283  270896    56367     4.5      1\n",
       "\n",
       "[3198009 rows x 4 columns]"
      ]
     },
     "execution_count": 72,
     "metadata": {},
     "output_type": "execute_result"
    }
   ],
   "source": [
    "ratings_sample"
   ]
  },
  {
   "cell_type": "code",
   "execution_count": 75,
   "id": "9190e6ee",
   "metadata": {},
   "outputs": [],
   "source": [
    "#saving the sample ratings to use for modeling later \n",
    "ratings_sample.to_csv(\"trianing_sample.csv\")"
   ]
  },
  {
   "cell_type": "code",
   "execution_count": 73,
   "id": "6fa59dab",
   "metadata": {},
   "outputs": [],
   "source": [
    "tfVec = TfidfVectorizer(analyzer = 'word' , stop_words='english',min_df=0,ngram_range=(1,2))"
   ]
  },
  {
   "cell_type": "code",
   "execution_count": null,
   "id": "b9300985",
   "metadata": {},
   "outputs": [],
   "source": []
  },
  {
   "cell_type": "code",
   "execution_count": 74,
   "id": "a09935b6",
   "metadata": {},
   "outputs": [],
   "source": [
    "#sanity check on the matrix\n",
    "# tfVec_matrix.shape"
   ]
  },
  {
   "cell_type": "code",
   "execution_count": null,
   "id": "0b06f597",
   "metadata": {},
   "outputs": [],
   "source": [
    "def common_movies(user1,user2):\n",
    "    movies=[]\n",
    "    movies_id = [id for id in ratings_sample[ratings_sample['userId']==user1]['movieId'] if id in ratings_sample[ratings_sample['userId']==user2]['movieId']]\n",
    "    # for id in movies_id:\n",
    "    #     movies.append(movies_df[movies_df['movieId'] == id]['title']) \n",
    "    # return movies\n",
    "    return movies_id\n",
    "  "
   ]
  },
  {
   "cell_type": "code",
   "execution_count": null,
   "id": "d9c7a9fd",
   "metadata": {},
   "outputs": [],
   "source": [
    "#need to calculate the cosine similarity between the liked movies on users\n",
    "def get_common_liked_movie(user1,user2):\n",
    "    cm = common_movies(user1,user2)\n",
    "    liked_by_user1 = ratings_sample[ (ratings_sample['userId']==11) & (ratings_sample['liked']==1) ]['movieId']\n",
    "    liked_by_user2 = ratings_sample[(ratings_sample['userId']==22) & (ratings_sample['liked']==1)]['movieId']\n",
    "    liked_movies=[]\n",
    "    liked_titles=[]\n",
    "    movies_id = [movie_id for movie_id in cm]\n",
    "    for id in movies_id:\n",
    "        if id in ((liked_by_user1) & (liked_by_user2)):\n",
    "            \n",
    "            liked_movies.append(id)\n",
    "\n",
    "    for id in liked_movies:   \n",
    "            liked_titles.append(movies_df[movies_df['movieId'] == id]['title'])\n",
    "    return liked_titles"
   ]
  },
  {
   "cell_type": "code",
   "execution_count": 1,
   "id": "13043b1e",
   "metadata": {},
   "outputs": [],
   "source": [
    "def get_liked_movies_info(movie_title):\n",
    "    title = movie_title\n",
    "    genre = movies_df[movies_df['movieId']==title]['genre']\n",
    "    lang = movies_df[movies_df['movieId']==title]['original_language']\n",
    "    runtime = movies_df[movies_df['movieId']==title]['runtime']\n",
    "    "
   ]
  },
  {
   "cell_type": "code",
   "execution_count": null,
   "id": "e5b3e8c4",
   "metadata": {},
   "outputs": [],
   "source": [
    "#Now I'm going to vectorize the overview words.\n",
    "# translator = Translator()\n",
    "# def translate_non_english(text):\n",
    "#     try:\n",
    "#         if translator.detect(text).lang != 'en':\n",
    "#             return translator.translate(text).text\n",
    "#     except AttributeError:\n",
    "#         pass  # Handle attribute error and return the original text\n",
    "#     return text\n",
    "# # Apply translation function to 'overview' column\n",
    "# movies_df['overview'] = movies_df['overview'].apply(translate_non_english)"
   ]
  },
  {
   "cell_type": "code",
   "execution_count": null,
   "id": "ae8f6d63",
   "metadata": {},
   "outputs": [],
   "source": [
    "\n",
    "#Define a TF-IDF Vectorizer Object. Remove all english stop words such as 'the', 'a'\n",
    "tfidf = TfidfVectorizer(stop_words='english',min_df=0,ngram_range=(1,2))\n",
    "\n",
    "#Replace NaN with an empty string\n",
    "movies_df['overview'] = movies_df['overview'].fillna('')\n",
    "\n",
    "#Construct the required TF-IDF matrix by fitting and transforming the data\n",
    "tfidf_matrix = tfidf.fit_transform(movies_df['overview'])\n",
    "\n",
    "#Output the shape of tfidf_matrix\n",
    "tfidf_matrix.shape"
   ]
  },
  {
   "attachments": {},
   "cell_type": "markdown",
   "id": "e38d37af",
   "metadata": {},
   "source": [
    "Since we have used the TF-IDF vectorizer, calculating the dot product will directly give us the cosine similarity score. Therefore, we will use sklearn's linear_kernel() instead of cosine_similarities() since it is faster."
   ]
  },
  {
   "cell_type": "code",
   "execution_count": null,
   "id": "de968b89",
   "metadata": {},
   "outputs": [],
   "source": [
    "# Import linear_kernel\n",
    "from sklearn.metrics.pairwise import linear_kernel\n",
    "\n",
    "# Compute the cosine similarity matrix\n",
    "cosine_sim = linear_kernel(tfidf_matrix, tfidf_matrix)"
   ]
  },
  {
   "cell_type": "code",
   "execution_count": null,
   "id": "c0de44bd",
   "metadata": {},
   "outputs": [],
   "source": [
    "# Function that takes in movie title as input and outputs most similar movies based on oveerview\n",
    "def get_recommendations(title, cosine_sim=cosine_sim):\n",
    "    \n",
    "    # Get the index of the movie that matches the title\n",
    "    idx = indices[title]\n",
    "    print(idx)\n",
    "    print()\n",
    "    movie_indices =[]\n",
    "    # Get the pairwsie similarity scores of all movies with that movie\n",
    "    sim_scores = list(enumerate(cosine_sim[idx]))\n",
    "    \n",
    "    \n",
    "    # Sort the movies based on the similarity scores\n",
    "\n",
    "    idx = indices[title]\n",
    "    sim_scores = list(enumerate(cosine_sim[idx]))\n",
    "    sim_scores = sorted(sim_scores, key=lambda x: x[1], reverse=True)\n",
    "    sim_scores = sim_scores[1:11]\n",
    "    movie_indices=[i[0] for i in sim_scores]\n",
    "        \n",
    "    # Return the top 10 most similar movies\n",
    "    return movies_df['title'].iloc[movie_indices]\n",
    "get_recommendations('Batman')"
   ]
  },
  {
   "cell_type": "code",
   "execution_count": null,
   "id": "f98e3fd2",
   "metadata": {},
   "outputs": [],
   "source": []
  },
  {
   "cell_type": "code",
   "execution_count": null,
   "id": "a2a430ca",
   "metadata": {},
   "outputs": [],
   "source": []
  }
 ],
 "metadata": {
  "kernelspec": {
   "display_name": "plotly_bokeh",
   "language": "python",
   "name": "python3"
  },
  "language_info": {
   "codemirror_mode": {
    "name": "ipython",
    "version": 3
   },
   "file_extension": ".py",
   "mimetype": "text/x-python",
   "name": "python",
   "nbconvert_exporter": "python",
   "pygments_lexer": "ipython3",
   "version": "3.8.16"
  }
 },
 "nbformat": 4,
 "nbformat_minor": 5
}
