{
 "cells": [
  {
   "attachments": {},
   "cell_type": "markdown",
   "id": "b8726e48",
   "metadata": {},
   "source": [
    "# Data cleaning aand preprocessing"
   ]
  },
  {
   "cell_type": "code",
   "execution_count": 86,
   "id": "0566566f",
   "metadata": {
    "tags": []
   },
   "outputs": [],
   "source": [
    "#importing the libraries that we need here\n",
    "import pandas as pd\n",
    "import numpy as np \n",
    "from pandas.api.types import CategoricalDtype\n",
    "from datetime import datetime \n",
    "import pandas as pd\n",
    "import numpy as np \n",
    "import nltk\n",
    "from sklearn.feature_extraction.text import TfidfVectorizer\n",
    "from sklearn.metrics.pairwise import cosine_similarity\n",
    "from sklearn.feature_extraction.text import CountVectorizer\n",
    "import matplotlib.pyplot as plt\n",
    "import seaborn as sns\n",
    "from sklearn.preprocessing import normalize\n"
   ]
  },
  {
   "attachments": {},
   "cell_type": "markdown",
   "id": "25b565f3",
   "metadata": {},
   "source": [
    "## movies metadata file cleaning"
   ]
  },
  {
   "cell_type": "code",
   "execution_count": 87,
   "id": "cc375e4e",
   "metadata": {
    "tags": []
   },
   "outputs": [],
   "source": [
    "#loading the movie info table into a pandas dataframe\n",
    "movies_df = pd.read_csv(\"Data/movies_metadata.csv\")"
   ]
  },
  {
   "attachments": {},
   "cell_type": "markdown",
   "id": "f1862975",
   "metadata": {},
   "source": [
    "Checking out the shape of the dataframe:"
   ]
  },
  {
   "cell_type": "code",
   "execution_count": 88,
   "id": "ed46fbbd",
   "metadata": {},
   "outputs": [
    {
     "data": {
      "text/plain": [
       "(45466, 24)"
      ]
     },
     "execution_count": 88,
     "metadata": {},
     "output_type": "execute_result"
    }
   ],
   "source": [
    "movies_df.shape"
   ]
  },
  {
   "attachments": {},
   "cell_type": "markdown",
   "id": "f4a9bf1a",
   "metadata": {},
   "source": [
    "around 45k rows(movies) and 24 features for the movie description."
   ]
  },
  {
   "cell_type": "code",
   "execution_count": 89,
   "id": "0d741d7c",
   "metadata": {},
   "outputs": [
    {
     "data": {
      "text/html": [
       "<div>\n",
       "<style scoped>\n",
       "    .dataframe tbody tr th:only-of-type {\n",
       "        vertical-align: middle;\n",
       "    }\n",
       "\n",
       "    .dataframe tbody tr th {\n",
       "        vertical-align: top;\n",
       "    }\n",
       "\n",
       "    .dataframe thead th {\n",
       "        text-align: right;\n",
       "    }\n",
       "</style>\n",
       "<table border=\"1\" class=\"dataframe\">\n",
       "  <thead>\n",
       "    <tr style=\"text-align: right;\">\n",
       "      <th></th>\n",
       "      <th>adult</th>\n",
       "      <th>belongs_to_collection</th>\n",
       "      <th>budget</th>\n",
       "      <th>genres</th>\n",
       "      <th>homepage</th>\n",
       "      <th>id</th>\n",
       "      <th>imdb_id</th>\n",
       "      <th>original_language</th>\n",
       "      <th>original_title</th>\n",
       "      <th>overview</th>\n",
       "      <th>...</th>\n",
       "      <th>release_date</th>\n",
       "      <th>revenue</th>\n",
       "      <th>runtime</th>\n",
       "      <th>spoken_languages</th>\n",
       "      <th>status</th>\n",
       "      <th>tagline</th>\n",
       "      <th>title</th>\n",
       "      <th>video</th>\n",
       "      <th>vote_average</th>\n",
       "      <th>vote_count</th>\n",
       "    </tr>\n",
       "  </thead>\n",
       "  <tbody>\n",
       "    <tr>\n",
       "      <th>0</th>\n",
       "      <td>False</td>\n",
       "      <td>{'id': 10194, 'name': 'Toy Story Collection', ...</td>\n",
       "      <td>30000000</td>\n",
       "      <td>[{'id': 16, 'name': 'Animation'}, {'id': 35, '...</td>\n",
       "      <td>http://toystory.disney.com/toy-story</td>\n",
       "      <td>862</td>\n",
       "      <td>tt0114709</td>\n",
       "      <td>en</td>\n",
       "      <td>Toy Story</td>\n",
       "      <td>Led by Woody, Andy's toys live happily in his ...</td>\n",
       "      <td>...</td>\n",
       "      <td>1995-10-30</td>\n",
       "      <td>373554033.0</td>\n",
       "      <td>81.0</td>\n",
       "      <td>[{'iso_639_1': 'en', 'name': 'English'}]</td>\n",
       "      <td>Released</td>\n",
       "      <td>NaN</td>\n",
       "      <td>Toy Story</td>\n",
       "      <td>False</td>\n",
       "      <td>7.7</td>\n",
       "      <td>5415.0</td>\n",
       "    </tr>\n",
       "    <tr>\n",
       "      <th>1</th>\n",
       "      <td>False</td>\n",
       "      <td>NaN</td>\n",
       "      <td>65000000</td>\n",
       "      <td>[{'id': 12, 'name': 'Adventure'}, {'id': 14, '...</td>\n",
       "      <td>NaN</td>\n",
       "      <td>8844</td>\n",
       "      <td>tt0113497</td>\n",
       "      <td>en</td>\n",
       "      <td>Jumanji</td>\n",
       "      <td>When siblings Judy and Peter discover an encha...</td>\n",
       "      <td>...</td>\n",
       "      <td>1995-12-15</td>\n",
       "      <td>262797249.0</td>\n",
       "      <td>104.0</td>\n",
       "      <td>[{'iso_639_1': 'en', 'name': 'English'}, {'iso...</td>\n",
       "      <td>Released</td>\n",
       "      <td>Roll the dice and unleash the excitement!</td>\n",
       "      <td>Jumanji</td>\n",
       "      <td>False</td>\n",
       "      <td>6.9</td>\n",
       "      <td>2413.0</td>\n",
       "    </tr>\n",
       "    <tr>\n",
       "      <th>2</th>\n",
       "      <td>False</td>\n",
       "      <td>{'id': 119050, 'name': 'Grumpy Old Men Collect...</td>\n",
       "      <td>0</td>\n",
       "      <td>[{'id': 10749, 'name': 'Romance'}, {'id': 35, ...</td>\n",
       "      <td>NaN</td>\n",
       "      <td>15602</td>\n",
       "      <td>tt0113228</td>\n",
       "      <td>en</td>\n",
       "      <td>Grumpier Old Men</td>\n",
       "      <td>A family wedding reignites the ancient feud be...</td>\n",
       "      <td>...</td>\n",
       "      <td>1995-12-22</td>\n",
       "      <td>0.0</td>\n",
       "      <td>101.0</td>\n",
       "      <td>[{'iso_639_1': 'en', 'name': 'English'}]</td>\n",
       "      <td>Released</td>\n",
       "      <td>Still Yelling. Still Fighting. Still Ready for...</td>\n",
       "      <td>Grumpier Old Men</td>\n",
       "      <td>False</td>\n",
       "      <td>6.5</td>\n",
       "      <td>92.0</td>\n",
       "    </tr>\n",
       "    <tr>\n",
       "      <th>3</th>\n",
       "      <td>False</td>\n",
       "      <td>NaN</td>\n",
       "      <td>16000000</td>\n",
       "      <td>[{'id': 35, 'name': 'Comedy'}, {'id': 18, 'nam...</td>\n",
       "      <td>NaN</td>\n",
       "      <td>31357</td>\n",
       "      <td>tt0114885</td>\n",
       "      <td>en</td>\n",
       "      <td>Waiting to Exhale</td>\n",
       "      <td>Cheated on, mistreated and stepped on, the wom...</td>\n",
       "      <td>...</td>\n",
       "      <td>1995-12-22</td>\n",
       "      <td>81452156.0</td>\n",
       "      <td>127.0</td>\n",
       "      <td>[{'iso_639_1': 'en', 'name': 'English'}]</td>\n",
       "      <td>Released</td>\n",
       "      <td>Friends are the people who let you be yourself...</td>\n",
       "      <td>Waiting to Exhale</td>\n",
       "      <td>False</td>\n",
       "      <td>6.1</td>\n",
       "      <td>34.0</td>\n",
       "    </tr>\n",
       "    <tr>\n",
       "      <th>4</th>\n",
       "      <td>False</td>\n",
       "      <td>{'id': 96871, 'name': 'Father of the Bride Col...</td>\n",
       "      <td>0</td>\n",
       "      <td>[{'id': 35, 'name': 'Comedy'}]</td>\n",
       "      <td>NaN</td>\n",
       "      <td>11862</td>\n",
       "      <td>tt0113041</td>\n",
       "      <td>en</td>\n",
       "      <td>Father of the Bride Part II</td>\n",
       "      <td>Just when George Banks has recovered from his ...</td>\n",
       "      <td>...</td>\n",
       "      <td>1995-02-10</td>\n",
       "      <td>76578911.0</td>\n",
       "      <td>106.0</td>\n",
       "      <td>[{'iso_639_1': 'en', 'name': 'English'}]</td>\n",
       "      <td>Released</td>\n",
       "      <td>Just When His World Is Back To Normal... He's ...</td>\n",
       "      <td>Father of the Bride Part II</td>\n",
       "      <td>False</td>\n",
       "      <td>5.7</td>\n",
       "      <td>173.0</td>\n",
       "    </tr>\n",
       "  </tbody>\n",
       "</table>\n",
       "<p>5 rows × 24 columns</p>\n",
       "</div>"
      ],
      "text/plain": [
       "   adult                              belongs_to_collection    budget   \n",
       "0  False  {'id': 10194, 'name': 'Toy Story Collection', ...  30000000  \\\n",
       "1  False                                                NaN  65000000   \n",
       "2  False  {'id': 119050, 'name': 'Grumpy Old Men Collect...         0   \n",
       "3  False                                                NaN  16000000   \n",
       "4  False  {'id': 96871, 'name': 'Father of the Bride Col...         0   \n",
       "\n",
       "                                              genres   \n",
       "0  [{'id': 16, 'name': 'Animation'}, {'id': 35, '...  \\\n",
       "1  [{'id': 12, 'name': 'Adventure'}, {'id': 14, '...   \n",
       "2  [{'id': 10749, 'name': 'Romance'}, {'id': 35, ...   \n",
       "3  [{'id': 35, 'name': 'Comedy'}, {'id': 18, 'nam...   \n",
       "4                     [{'id': 35, 'name': 'Comedy'}]   \n",
       "\n",
       "                               homepage     id    imdb_id original_language   \n",
       "0  http://toystory.disney.com/toy-story    862  tt0114709                en  \\\n",
       "1                                   NaN   8844  tt0113497                en   \n",
       "2                                   NaN  15602  tt0113228                en   \n",
       "3                                   NaN  31357  tt0114885                en   \n",
       "4                                   NaN  11862  tt0113041                en   \n",
       "\n",
       "                original_title   \n",
       "0                    Toy Story  \\\n",
       "1                      Jumanji   \n",
       "2             Grumpier Old Men   \n",
       "3            Waiting to Exhale   \n",
       "4  Father of the Bride Part II   \n",
       "\n",
       "                                            overview  ... release_date   \n",
       "0  Led by Woody, Andy's toys live happily in his ...  ...   1995-10-30  \\\n",
       "1  When siblings Judy and Peter discover an encha...  ...   1995-12-15   \n",
       "2  A family wedding reignites the ancient feud be...  ...   1995-12-22   \n",
       "3  Cheated on, mistreated and stepped on, the wom...  ...   1995-12-22   \n",
       "4  Just when George Banks has recovered from his ...  ...   1995-02-10   \n",
       "\n",
       "       revenue runtime                                   spoken_languages   \n",
       "0  373554033.0    81.0           [{'iso_639_1': 'en', 'name': 'English'}]  \\\n",
       "1  262797249.0   104.0  [{'iso_639_1': 'en', 'name': 'English'}, {'iso...   \n",
       "2          0.0   101.0           [{'iso_639_1': 'en', 'name': 'English'}]   \n",
       "3   81452156.0   127.0           [{'iso_639_1': 'en', 'name': 'English'}]   \n",
       "4   76578911.0   106.0           [{'iso_639_1': 'en', 'name': 'English'}]   \n",
       "\n",
       "     status                                            tagline   \n",
       "0  Released                                                NaN  \\\n",
       "1  Released          Roll the dice and unleash the excitement!   \n",
       "2  Released  Still Yelling. Still Fighting. Still Ready for...   \n",
       "3  Released  Friends are the people who let you be yourself...   \n",
       "4  Released  Just When His World Is Back To Normal... He's ...   \n",
       "\n",
       "                         title  video vote_average vote_count  \n",
       "0                    Toy Story  False          7.7     5415.0  \n",
       "1                      Jumanji  False          6.9     2413.0  \n",
       "2             Grumpier Old Men  False          6.5       92.0  \n",
       "3            Waiting to Exhale  False          6.1       34.0  \n",
       "4  Father of the Bride Part II  False          5.7      173.0  \n",
       "\n",
       "[5 rows x 24 columns]"
      ]
     },
     "execution_count": 89,
     "metadata": {},
     "output_type": "execute_result"
    }
   ],
   "source": [
    "movies_df.head()"
   ]
  },
  {
   "attachments": {},
   "cell_type": "markdown",
   "id": "2a9b0cd4",
   "metadata": {},
   "source": [
    "Dropping the columns that we're not going to use"
   ]
  },
  {
   "cell_type": "code",
   "execution_count": 90,
   "id": "429d8cdf",
   "metadata": {
    "tags": []
   },
   "outputs": [],
   "source": [
    "data_df = movies_df.drop(columns = [\"adult\",\"belongs_to_collection\",\"homepage\" ,\"tagline\",\"status\",\"production_companies\",\"production_countries\",\n",
    "                         \"revenue\",\"video\",\"imdb_id\",\"budget\",\"poster_path\"] , inplace= False)"
   ]
  },
  {
   "attachments": {},
   "cell_type": "markdown",
   "id": "954eea41",
   "metadata": {},
   "source": [
    "Checking for null values after we've dropped the columns."
   ]
  },
  {
   "cell_type": "code",
   "execution_count": 91,
   "id": "4f4df941",
   "metadata": {
    "tags": []
   },
   "outputs": [
    {
     "data": {
      "text/plain": [
       "genres                 0\n",
       "id                     0\n",
       "original_language     11\n",
       "original_title         0\n",
       "overview             954\n",
       "popularity             5\n",
       "release_date          87\n",
       "runtime              263\n",
       "spoken_languages       6\n",
       "title                  6\n",
       "vote_average           6\n",
       "vote_count             6\n",
       "dtype: int64"
      ]
     },
     "execution_count": 91,
     "metadata": {},
     "output_type": "execute_result"
    }
   ],
   "source": [
    "data_df.isnull().sum()"
   ]
  },
  {
   "attachments": {},
   "cell_type": "markdown",
   "id": "07d3b436",
   "metadata": {},
   "source": [
    "Check for the duplicated rows:"
   ]
  },
  {
   "attachments": {},
   "cell_type": "markdown",
   "id": "f4555569",
   "metadata": {},
   "source": [
    "Since the name of the movies may be the same, we need to check both id and title together to see if there is truly any duplications."
   ]
  },
  {
   "cell_type": "code",
   "execution_count": 102,
   "id": "e96e41b8",
   "metadata": {},
   "outputs": [
    {
     "data": {
      "text/plain": [
       "30"
      ]
     },
     "execution_count": 102,
     "metadata": {},
     "output_type": "execute_result"
    }
   ],
   "source": [
    "data_df[['id','title']].duplicated().sum().sum()"
   ]
  },
  {
   "attachments": {},
   "cell_type": "markdown",
   "id": "4a9b8a7c",
   "metadata": {},
   "source": [
    "Let's take a look at this 'duplicated' data and see if they are really duplications."
   ]
  },
  {
   "cell_type": "code",
   "execution_count": 103,
   "id": "0d449a32",
   "metadata": {},
   "outputs": [
    {
     "data": {
      "text/html": [
       "<div>\n",
       "<style scoped>\n",
       "    .dataframe tbody tr th:only-of-type {\n",
       "        vertical-align: middle;\n",
       "    }\n",
       "\n",
       "    .dataframe tbody tr th {\n",
       "        vertical-align: top;\n",
       "    }\n",
       "\n",
       "    .dataframe thead th {\n",
       "        text-align: right;\n",
       "    }\n",
       "</style>\n",
       "<table border=\"1\" class=\"dataframe\">\n",
       "  <thead>\n",
       "    <tr style=\"text-align: right;\">\n",
       "      <th></th>\n",
       "      <th>genres</th>\n",
       "      <th>id</th>\n",
       "      <th>original_language</th>\n",
       "      <th>original_title</th>\n",
       "      <th>overview</th>\n",
       "      <th>popularity</th>\n",
       "      <th>release_date</th>\n",
       "      <th>runtime</th>\n",
       "      <th>spoken_languages</th>\n",
       "      <th>title</th>\n",
       "      <th>vote_average</th>\n",
       "      <th>vote_count</th>\n",
       "    </tr>\n",
       "  </thead>\n",
       "  <tbody>\n",
       "    <tr>\n",
       "      <th>1465</th>\n",
       "      <td>[{'id': 18, 'name': 'Drama'}, {'id': 10749, 'n...</td>\n",
       "      <td>105045</td>\n",
       "      <td>de</td>\n",
       "      <td>Das Versprechen</td>\n",
       "      <td>East-Berlin, 1961, shortly after the erection ...</td>\n",
       "      <td>0.122178</td>\n",
       "      <td>1995-02-16</td>\n",
       "      <td>115.0</td>\n",
       "      <td>[{'iso_639_1': 'de', 'name': 'Deutsch'}]</td>\n",
       "      <td>The Promise</td>\n",
       "      <td>5.0</td>\n",
       "      <td>1.0</td>\n",
       "    </tr>\n",
       "    <tr>\n",
       "      <th>9165</th>\n",
       "      <td>[{'id': 80, 'name': 'Crime'}, {'id': 18, 'name...</td>\n",
       "      <td>5511</td>\n",
       "      <td>fr</td>\n",
       "      <td>Le Samouraï</td>\n",
       "      <td>Hitman Jef Costello is a perfectionist who alw...</td>\n",
       "      <td>9.091288</td>\n",
       "      <td>1967-10-25</td>\n",
       "      <td>105.0</td>\n",
       "      <td>[{'iso_639_1': 'fr', 'name': 'Français'}]</td>\n",
       "      <td>Le Samouraï</td>\n",
       "      <td>7.9</td>\n",
       "      <td>187.0</td>\n",
       "    </tr>\n",
       "    <tr>\n",
       "      <th>9327</th>\n",
       "      <td>[{'id': 12, 'name': 'Adventure'}, {'id': 16, '...</td>\n",
       "      <td>23305</td>\n",
       "      <td>en</td>\n",
       "      <td>The Warrior</td>\n",
       "      <td>In feudal India, a warrior (Khan) who renounce...</td>\n",
       "      <td>1.967992</td>\n",
       "      <td>2001-09-23</td>\n",
       "      <td>86.0</td>\n",
       "      <td>[{'iso_639_1': 'hi', 'name': 'हिन्दी'}]</td>\n",
       "      <td>The Warrior</td>\n",
       "      <td>6.3</td>\n",
       "      <td>15.0</td>\n",
       "    </tr>\n",
       "    <tr>\n",
       "      <th>12066</th>\n",
       "      <td>[{'id': 18, 'name': 'Drama'}, {'id': 80, 'name...</td>\n",
       "      <td>14788</td>\n",
       "      <td>en</td>\n",
       "      <td>Bubble</td>\n",
       "      <td>Set against the backdrop of a decaying Midwest...</td>\n",
       "      <td>3.008299</td>\n",
       "      <td>2005-09-03</td>\n",
       "      <td>73.0</td>\n",
       "      <td>[{'iso_639_1': 'en', 'name': 'English'}]</td>\n",
       "      <td>Bubble</td>\n",
       "      <td>6.4</td>\n",
       "      <td>36.0</td>\n",
       "    </tr>\n",
       "    <tr>\n",
       "      <th>13375</th>\n",
       "      <td>[{'id': 53, 'name': 'Thriller'}, {'id': 9648, ...</td>\n",
       "      <td>141971</td>\n",
       "      <td>fi</td>\n",
       "      <td>Blackout</td>\n",
       "      <td>Recovering from a nail gun shot to the head an...</td>\n",
       "      <td>0.411949</td>\n",
       "      <td>2008-12-26</td>\n",
       "      <td>108.0</td>\n",
       "      <td>[{'iso_639_1': 'fi', 'name': 'suomi'}]</td>\n",
       "      <td>Blackout</td>\n",
       "      <td>6.7</td>\n",
       "      <td>3.0</td>\n",
       "    </tr>\n",
       "    <tr>\n",
       "      <th>15074</th>\n",
       "      <td>[{'id': 18, 'name': 'Drama'}, {'id': 10749, 'n...</td>\n",
       "      <td>22649</td>\n",
       "      <td>en</td>\n",
       "      <td>A Farewell to Arms</td>\n",
       "      <td>British nurse Catherine Barkley (Helen Hayes) ...</td>\n",
       "      <td>2.411191</td>\n",
       "      <td>1932-12-08</td>\n",
       "      <td>89.0</td>\n",
       "      <td>[{'iso_639_1': 'en', 'name': 'English'}]</td>\n",
       "      <td>A Farewell to Arms</td>\n",
       "      <td>6.2</td>\n",
       "      <td>29.0</td>\n",
       "    </tr>\n",
       "    <tr>\n",
       "      <th>15765</th>\n",
       "      <td>[{'id': 18, 'name': 'Drama'}, {'id': 35, 'name...</td>\n",
       "      <td>13209</td>\n",
       "      <td>fa</td>\n",
       "      <td>Offside</td>\n",
       "      <td>Since women are banned from soccer matches, Ir...</td>\n",
       "      <td>1.529879</td>\n",
       "      <td>2006-05-26</td>\n",
       "      <td>93.0</td>\n",
       "      <td>[{'iso_639_1': 'fa', 'name': 'فارسی'}]</td>\n",
       "      <td>Offside</td>\n",
       "      <td>6.7</td>\n",
       "      <td>27.0</td>\n",
       "    </tr>\n",
       "    <tr>\n",
       "      <th>16764</th>\n",
       "      <td>[{'id': 53, 'name': 'Thriller'}, {'id': 9648, ...</td>\n",
       "      <td>141971</td>\n",
       "      <td>fi</td>\n",
       "      <td>Blackout</td>\n",
       "      <td>Recovering from a nail gun shot to the head an...</td>\n",
       "      <td>0.411949</td>\n",
       "      <td>2008-12-26</td>\n",
       "      <td>108.0</td>\n",
       "      <td>[{'iso_639_1': 'fi', 'name': 'suomi'}]</td>\n",
       "      <td>Blackout</td>\n",
       "      <td>6.7</td>\n",
       "      <td>3.0</td>\n",
       "    </tr>\n",
       "    <tr>\n",
       "      <th>20843</th>\n",
       "      <td>[{'id': 12, 'name': 'Adventure'}, {'id': 18, '...</td>\n",
       "      <td>77221</td>\n",
       "      <td>en</td>\n",
       "      <td>Black Gold</td>\n",
       "      <td>On the Arabian Peninsula in the 1930s, two war...</td>\n",
       "      <td>6.475665</td>\n",
       "      <td>2011-12-21</td>\n",
       "      <td>130.0</td>\n",
       "      <td>[{'iso_639_1': 'en', 'name': 'English'}]</td>\n",
       "      <td>Black Gold</td>\n",
       "      <td>5.9</td>\n",
       "      <td>77.0</td>\n",
       "    </tr>\n",
       "    <tr>\n",
       "      <th>20899</th>\n",
       "      <td>[{'id': 18, 'name': 'Drama'}]</td>\n",
       "      <td>109962</td>\n",
       "      <td>en</td>\n",
       "      <td>Rich and Famous</td>\n",
       "      <td>Two literary women compete for 20 years: one w...</td>\n",
       "      <td>10.396878</td>\n",
       "      <td>1981-09-23</td>\n",
       "      <td>115.0</td>\n",
       "      <td>[{'iso_639_1': 'en', 'name': 'English'}]</td>\n",
       "      <td>Rich and Famous</td>\n",
       "      <td>4.9</td>\n",
       "      <td>7.0</td>\n",
       "    </tr>\n",
       "    <tr>\n",
       "      <th>21116</th>\n",
       "      <td>[{'id': 99, 'name': 'Documentary'}]</td>\n",
       "      <td>84198</td>\n",
       "      <td>en</td>\n",
       "      <td>A Place at the Table</td>\n",
       "      <td>Using personal stories, this powerful document...</td>\n",
       "      <td>1.673307</td>\n",
       "      <td>2012-03-22</td>\n",
       "      <td>84.0</td>\n",
       "      <td>[{'iso_639_1': 'en', 'name': 'English'}]</td>\n",
       "      <td>A Place at the Table</td>\n",
       "      <td>6.9</td>\n",
       "      <td>7.0</td>\n",
       "    </tr>\n",
       "    <tr>\n",
       "      <th>21165</th>\n",
       "      <td>[{'id': 14, 'name': 'Fantasy'}, {'id': 18, 'na...</td>\n",
       "      <td>119916</td>\n",
       "      <td>en</td>\n",
       "      <td>The Tempest</td>\n",
       "      <td>Prospero, the true Duke of Milan is now living...</td>\n",
       "      <td>0.000018</td>\n",
       "      <td>1980-02-27</td>\n",
       "      <td>123.0</td>\n",
       "      <td>[]</td>\n",
       "      <td>The Tempest</td>\n",
       "      <td>0.0</td>\n",
       "      <td>0.0</td>\n",
       "    </tr>\n",
       "    <tr>\n",
       "      <th>21854</th>\n",
       "      <td>[{'id': 18, 'name': 'Drama'}, {'id': 878, 'nam...</td>\n",
       "      <td>152795</td>\n",
       "      <td>en</td>\n",
       "      <td>The Congress</td>\n",
       "      <td>More than two decades after catapulting to sta...</td>\n",
       "      <td>8.534039</td>\n",
       "      <td>2013-05-16</td>\n",
       "      <td>122.0</td>\n",
       "      <td>[{'iso_639_1': 'en', 'name': 'English'}]</td>\n",
       "      <td>The Congress</td>\n",
       "      <td>6.4</td>\n",
       "      <td>165.0</td>\n",
       "    </tr>\n",
       "    <tr>\n",
       "      <th>22151</th>\n",
       "      <td>[{'id': 28, 'name': 'Action'}, {'id': 27, 'nam...</td>\n",
       "      <td>18440</td>\n",
       "      <td>en</td>\n",
       "      <td>Days of Darkness</td>\n",
       "      <td>When a comet strikes Earth and kicks up a clou...</td>\n",
       "      <td>1.436085</td>\n",
       "      <td>2007-01-01</td>\n",
       "      <td>89.0</td>\n",
       "      <td>[{'iso_639_1': 'en', 'name': 'English'}]</td>\n",
       "      <td>Days of Darkness</td>\n",
       "      <td>5.0</td>\n",
       "      <td>5.0</td>\n",
       "    </tr>\n",
       "    <tr>\n",
       "      <th>23044</th>\n",
       "      <td>[{'id': 18, 'name': 'Drama'}]</td>\n",
       "      <td>25541</td>\n",
       "      <td>da</td>\n",
       "      <td>Broderskab</td>\n",
       "      <td>Former Danish servicemen Lars and Jimmy are th...</td>\n",
       "      <td>2.587911</td>\n",
       "      <td>2009-10-21</td>\n",
       "      <td>90.0</td>\n",
       "      <td>[{'iso_639_1': 'da', 'name': 'Dansk'}]</td>\n",
       "      <td>Brotherhood</td>\n",
       "      <td>7.1</td>\n",
       "      <td>21.0</td>\n",
       "    </tr>\n",
       "    <tr>\n",
       "      <th>23534</th>\n",
       "      <td>[{'id': 18, 'name': 'Drama'}]</td>\n",
       "      <td>110428</td>\n",
       "      <td>fr</td>\n",
       "      <td>Camille Claudel 1915</td>\n",
       "      <td>Winter, 1915. Confined by her family to an asy...</td>\n",
       "      <td>0.110065</td>\n",
       "      <td>2013-03-13</td>\n",
       "      <td>95.0</td>\n",
       "      <td>[{'iso_639_1': 'fr', 'name': 'Français'}]</td>\n",
       "      <td>Camille Claudel 1915</td>\n",
       "      <td>7.0</td>\n",
       "      <td>20.0</td>\n",
       "    </tr>\n",
       "    <tr>\n",
       "      <th>24844</th>\n",
       "      <td>[{'id': 35, 'name': 'Comedy'}, {'id': 18, 'nam...</td>\n",
       "      <td>11115</td>\n",
       "      <td>en</td>\n",
       "      <td>Deal</td>\n",
       "      <td>As an ex-gambler teaches a hot-shot college ki...</td>\n",
       "      <td>6.880365</td>\n",
       "      <td>2008-01-29</td>\n",
       "      <td>85.0</td>\n",
       "      <td>[{'iso_639_1': 'en', 'name': 'English'}]</td>\n",
       "      <td>Deal</td>\n",
       "      <td>5.2</td>\n",
       "      <td>22.0</td>\n",
       "    </tr>\n",
       "    <tr>\n",
       "      <th>26625</th>\n",
       "      <td>[{'id': 18, 'name': 'Drama'}, {'id': 27, 'name...</td>\n",
       "      <td>69234</td>\n",
       "      <td>en</td>\n",
       "      <td>The Phantom of the Opera</td>\n",
       "      <td>Count de Chagnie has discovered Christine's si...</td>\n",
       "      <td>0.43849</td>\n",
       "      <td>1990-03-18</td>\n",
       "      <td>168.0</td>\n",
       "      <td>[{'iso_639_1': 'en', 'name': 'English'}, {'iso...</td>\n",
       "      <td>The Phantom of the Opera</td>\n",
       "      <td>5.0</td>\n",
       "      <td>3.0</td>\n",
       "    </tr>\n",
       "    <tr>\n",
       "      <th>28860</th>\n",
       "      <td>[{'id': 18, 'name': 'Drama'}, {'id': 35, 'name...</td>\n",
       "      <td>168538</td>\n",
       "      <td>en</td>\n",
       "      <td>Nana</td>\n",
       "      <td>In Zola's Paris, an ingenue arrives at a tony ...</td>\n",
       "      <td>1.276602</td>\n",
       "      <td>1983-06-13</td>\n",
       "      <td>92.0</td>\n",
       "      <td>[]</td>\n",
       "      <td>Nana, the True Key of Pleasure</td>\n",
       "      <td>4.7</td>\n",
       "      <td>3.0</td>\n",
       "    </tr>\n",
       "    <tr>\n",
       "      <th>29374</th>\n",
       "      <td>[{'id': 18, 'name': 'Drama'}, {'id': 10769, 'n...</td>\n",
       "      <td>42495</td>\n",
       "      <td>en</td>\n",
       "      <td>King Lear</td>\n",
       "      <td>King Lear, old and tired, divides his kingdom ...</td>\n",
       "      <td>0.187901</td>\n",
       "      <td>1971-02-04</td>\n",
       "      <td>137.0</td>\n",
       "      <td>[{'iso_639_1': 'en', 'name': 'English'}]</td>\n",
       "      <td>King Lear</td>\n",
       "      <td>8.0</td>\n",
       "      <td>3.0</td>\n",
       "    </tr>\n",
       "    <tr>\n",
       "      <th>30001</th>\n",
       "      <td>[{'id': 18, 'name': 'Drama'}]</td>\n",
       "      <td>132641</td>\n",
       "      <td>ja</td>\n",
       "      <td>Tsuma</td>\n",
       "      <td>Ten years into a marriage, the wife is disappo...</td>\n",
       "      <td>0.619388</td>\n",
       "      <td>1953-04-29</td>\n",
       "      <td>89.0</td>\n",
       "      <td>[{'iso_639_1': 'ja', 'name': '日本語'}]</td>\n",
       "      <td>Wife</td>\n",
       "      <td>0.0</td>\n",
       "      <td>0.0</td>\n",
       "    </tr>\n",
       "    <tr>\n",
       "      <th>33743</th>\n",
       "      <td>[{'id': 12, 'name': 'Adventure'}, {'id': 10751...</td>\n",
       "      <td>15028</td>\n",
       "      <td>en</td>\n",
       "      <td>Clockstoppers</td>\n",
       "      <td>Until now, Zak Gibbs' greatest challenge has b...</td>\n",
       "      <td>4.920175</td>\n",
       "      <td>2002-03-17</td>\n",
       "      <td>94.0</td>\n",
       "      <td>[{'iso_639_1': 'cs', 'name': 'Český'}, {'iso_6...</td>\n",
       "      <td>Clockstoppers</td>\n",
       "      <td>4.9</td>\n",
       "      <td>90.0</td>\n",
       "    </tr>\n",
       "    <tr>\n",
       "      <th>33826</th>\n",
       "      <td>[{'id': 35, 'name': 'Comedy'}, {'id': 80, 'nam...</td>\n",
       "      <td>4912</td>\n",
       "      <td>en</td>\n",
       "      <td>Confessions of a Dangerous Mind</td>\n",
       "      <td>Television made him famous, but his biggest hi...</td>\n",
       "      <td>7.645827</td>\n",
       "      <td>2002-12-30</td>\n",
       "      <td>113.0</td>\n",
       "      <td>[{'iso_639_1': 'en', 'name': 'English'}]</td>\n",
       "      <td>Confessions of a Dangerous Mind</td>\n",
       "      <td>6.6</td>\n",
       "      <td>281.0</td>\n",
       "    </tr>\n",
       "    <tr>\n",
       "      <th>35798</th>\n",
       "      <td>[{'id': 99, 'name': 'Documentary'}]</td>\n",
       "      <td>159849</td>\n",
       "      <td>en</td>\n",
       "      <td>Why We Fight: Divide and Conquer</td>\n",
       "      <td>The third film of Frank Capra's 'Why We Fight\"...</td>\n",
       "      <td>0.473322</td>\n",
       "      <td>1943-01-01</td>\n",
       "      <td>57.0</td>\n",
       "      <td>[{'iso_639_1': 'en', 'name': 'English'}]</td>\n",
       "      <td>Why We Fight: Divide and Conquer</td>\n",
       "      <td>5.0</td>\n",
       "      <td>1.0</td>\n",
       "    </tr>\n",
       "    <tr>\n",
       "      <th>38871</th>\n",
       "      <td>[{'id': 28, 'name': 'Action'}, {'id': 18, 'nam...</td>\n",
       "      <td>99080</td>\n",
       "      <td>en</td>\n",
       "      <td>The Viking</td>\n",
       "      <td>Originally called White Thunder, American prod...</td>\n",
       "      <td>0.002362</td>\n",
       "      <td>1931-06-21</td>\n",
       "      <td>70.0</td>\n",
       "      <td>[{'iso_639_1': 'en', 'name': 'English'}]</td>\n",
       "      <td>The Viking</td>\n",
       "      <td>0.0</td>\n",
       "      <td>0.0</td>\n",
       "    </tr>\n",
       "    <tr>\n",
       "      <th>40040</th>\n",
       "      <td>[{'id': 18, 'name': 'Drama'}, {'id': 14, 'name...</td>\n",
       "      <td>298721</td>\n",
       "      <td>th</td>\n",
       "      <td>รักที่ขอนแก่น</td>\n",
       "      <td>In a hospital, ten soldiers are being treated ...</td>\n",
       "      <td>2.535419</td>\n",
       "      <td>2015-09-02</td>\n",
       "      <td>122.0</td>\n",
       "      <td>[{'iso_639_1': 'en', 'name': 'English'}, {'iso...</td>\n",
       "      <td>Cemetery of Splendour</td>\n",
       "      <td>4.4</td>\n",
       "      <td>50.0</td>\n",
       "    </tr>\n",
       "    <tr>\n",
       "      <th>40276</th>\n",
       "      <td>[{'id': 35, 'name': 'Comedy'}]</td>\n",
       "      <td>97995</td>\n",
       "      <td>en</td>\n",
       "      <td>Seven Years Bad Luck</td>\n",
       "      <td>After breaking a mirror in his home, superstit...</td>\n",
       "      <td>0.141558</td>\n",
       "      <td>1921-02-06</td>\n",
       "      <td>62.0</td>\n",
       "      <td>[{'iso_639_1': 'en', 'name': 'English'}]</td>\n",
       "      <td>Seven Years Bad Luck</td>\n",
       "      <td>5.6</td>\n",
       "      <td>4.0</td>\n",
       "    </tr>\n",
       "    <tr>\n",
       "      <th>44821</th>\n",
       "      <td>[{'id': 12, 'name': 'Adventure'}, {'id': 14, '...</td>\n",
       "      <td>10991</td>\n",
       "      <td>ja</td>\n",
       "      <td>Pokémon 3: The Movie</td>\n",
       "      <td>When Molly Hale's sadness of her father's disa...</td>\n",
       "      <td>6.480376</td>\n",
       "      <td>2000-07-08</td>\n",
       "      <td>93.0</td>\n",
       "      <td>[{'iso_639_1': 'en', 'name': 'English'}]</td>\n",
       "      <td>Pokémon: Spell of the Unknown</td>\n",
       "      <td>6.0</td>\n",
       "      <td>144.0</td>\n",
       "    </tr>\n",
       "    <tr>\n",
       "      <th>44826</th>\n",
       "      <td>[{'id': 12, 'name': 'Adventure'}, {'id': 14, '...</td>\n",
       "      <td>12600</td>\n",
       "      <td>ja</td>\n",
       "      <td>劇場版ポケットモンスター セレビィ 時を越えた遭遇（であい）</td>\n",
       "      <td>All your favorite Pokémon characters are back,...</td>\n",
       "      <td>6.080108</td>\n",
       "      <td>2001-07-06</td>\n",
       "      <td>75.0</td>\n",
       "      <td>[{'iso_639_1': 'ja', 'name': '日本語'}]</td>\n",
       "      <td>Pokémon 4Ever: Celebi - Voice of the Forest</td>\n",
       "      <td>5.7</td>\n",
       "      <td>82.0</td>\n",
       "    </tr>\n",
       "    <tr>\n",
       "      <th>45265</th>\n",
       "      <td>[{'id': 35, 'name': 'Comedy'}, {'id': 18, 'nam...</td>\n",
       "      <td>265189</td>\n",
       "      <td>sv</td>\n",
       "      <td>Turist</td>\n",
       "      <td>While holidaying in the French Alps, a Swedish...</td>\n",
       "      <td>12.165685</td>\n",
       "      <td>2014-08-15</td>\n",
       "      <td>118.0</td>\n",
       "      <td>[{'iso_639_1': 'fr', 'name': 'Français'}, {'is...</td>\n",
       "      <td>Force Majeure</td>\n",
       "      <td>6.8</td>\n",
       "      <td>255.0</td>\n",
       "    </tr>\n",
       "  </tbody>\n",
       "</table>\n",
       "</div>"
      ],
      "text/plain": [
       "                                                  genres      id   \n",
       "1465   [{'id': 18, 'name': 'Drama'}, {'id': 10749, 'n...  105045  \\\n",
       "9165   [{'id': 80, 'name': 'Crime'}, {'id': 18, 'name...    5511   \n",
       "9327   [{'id': 12, 'name': 'Adventure'}, {'id': 16, '...   23305   \n",
       "12066  [{'id': 18, 'name': 'Drama'}, {'id': 80, 'name...   14788   \n",
       "13375  [{'id': 53, 'name': 'Thriller'}, {'id': 9648, ...  141971   \n",
       "15074  [{'id': 18, 'name': 'Drama'}, {'id': 10749, 'n...   22649   \n",
       "15765  [{'id': 18, 'name': 'Drama'}, {'id': 35, 'name...   13209   \n",
       "16764  [{'id': 53, 'name': 'Thriller'}, {'id': 9648, ...  141971   \n",
       "20843  [{'id': 12, 'name': 'Adventure'}, {'id': 18, '...   77221   \n",
       "20899                      [{'id': 18, 'name': 'Drama'}]  109962   \n",
       "21116                [{'id': 99, 'name': 'Documentary'}]   84198   \n",
       "21165  [{'id': 14, 'name': 'Fantasy'}, {'id': 18, 'na...  119916   \n",
       "21854  [{'id': 18, 'name': 'Drama'}, {'id': 878, 'nam...  152795   \n",
       "22151  [{'id': 28, 'name': 'Action'}, {'id': 27, 'nam...   18440   \n",
       "23044                      [{'id': 18, 'name': 'Drama'}]   25541   \n",
       "23534                      [{'id': 18, 'name': 'Drama'}]  110428   \n",
       "24844  [{'id': 35, 'name': 'Comedy'}, {'id': 18, 'nam...   11115   \n",
       "26625  [{'id': 18, 'name': 'Drama'}, {'id': 27, 'name...   69234   \n",
       "28860  [{'id': 18, 'name': 'Drama'}, {'id': 35, 'name...  168538   \n",
       "29374  [{'id': 18, 'name': 'Drama'}, {'id': 10769, 'n...   42495   \n",
       "30001                      [{'id': 18, 'name': 'Drama'}]  132641   \n",
       "33743  [{'id': 12, 'name': 'Adventure'}, {'id': 10751...   15028   \n",
       "33826  [{'id': 35, 'name': 'Comedy'}, {'id': 80, 'nam...    4912   \n",
       "35798                [{'id': 99, 'name': 'Documentary'}]  159849   \n",
       "38871  [{'id': 28, 'name': 'Action'}, {'id': 18, 'nam...   99080   \n",
       "40040  [{'id': 18, 'name': 'Drama'}, {'id': 14, 'name...  298721   \n",
       "40276                     [{'id': 35, 'name': 'Comedy'}]   97995   \n",
       "44821  [{'id': 12, 'name': 'Adventure'}, {'id': 14, '...   10991   \n",
       "44826  [{'id': 12, 'name': 'Adventure'}, {'id': 14, '...   12600   \n",
       "45265  [{'id': 35, 'name': 'Comedy'}, {'id': 18, 'nam...  265189   \n",
       "\n",
       "      original_language                    original_title   \n",
       "1465                 de                   Das Versprechen  \\\n",
       "9165                 fr                       Le Samouraï   \n",
       "9327                 en                       The Warrior   \n",
       "12066                en                            Bubble   \n",
       "13375                fi                          Blackout   \n",
       "15074                en                A Farewell to Arms   \n",
       "15765                fa                           Offside   \n",
       "16764                fi                          Blackout   \n",
       "20843                en                        Black Gold   \n",
       "20899                en                   Rich and Famous   \n",
       "21116                en              A Place at the Table   \n",
       "21165                en                       The Tempest   \n",
       "21854                en                      The Congress   \n",
       "22151                en                  Days of Darkness   \n",
       "23044                da                        Broderskab   \n",
       "23534                fr              Camille Claudel 1915   \n",
       "24844                en                              Deal   \n",
       "26625                en          The Phantom of the Opera   \n",
       "28860                en                              Nana   \n",
       "29374                en                         King Lear   \n",
       "30001                ja                             Tsuma   \n",
       "33743                en                     Clockstoppers   \n",
       "33826                en   Confessions of a Dangerous Mind   \n",
       "35798                en  Why We Fight: Divide and Conquer   \n",
       "38871                en                        The Viking   \n",
       "40040                th                     รักที่ขอนแก่น   \n",
       "40276                en              Seven Years Bad Luck   \n",
       "44821                ja              Pokémon 3: The Movie   \n",
       "44826                ja    劇場版ポケットモンスター セレビィ 時を越えた遭遇（であい）   \n",
       "45265                sv                            Turist   \n",
       "\n",
       "                                                overview popularity   \n",
       "1465   East-Berlin, 1961, shortly after the erection ...   0.122178  \\\n",
       "9165   Hitman Jef Costello is a perfectionist who alw...   9.091288   \n",
       "9327   In feudal India, a warrior (Khan) who renounce...   1.967992   \n",
       "12066  Set against the backdrop of a decaying Midwest...   3.008299   \n",
       "13375  Recovering from a nail gun shot to the head an...   0.411949   \n",
       "15074  British nurse Catherine Barkley (Helen Hayes) ...   2.411191   \n",
       "15765  Since women are banned from soccer matches, Ir...   1.529879   \n",
       "16764  Recovering from a nail gun shot to the head an...   0.411949   \n",
       "20843  On the Arabian Peninsula in the 1930s, two war...   6.475665   \n",
       "20899  Two literary women compete for 20 years: one w...  10.396878   \n",
       "21116  Using personal stories, this powerful document...   1.673307   \n",
       "21165  Prospero, the true Duke of Milan is now living...   0.000018   \n",
       "21854  More than two decades after catapulting to sta...   8.534039   \n",
       "22151  When a comet strikes Earth and kicks up a clou...   1.436085   \n",
       "23044  Former Danish servicemen Lars and Jimmy are th...   2.587911   \n",
       "23534  Winter, 1915. Confined by her family to an asy...   0.110065   \n",
       "24844  As an ex-gambler teaches a hot-shot college ki...   6.880365   \n",
       "26625  Count de Chagnie has discovered Christine's si...    0.43849   \n",
       "28860  In Zola's Paris, an ingenue arrives at a tony ...   1.276602   \n",
       "29374  King Lear, old and tired, divides his kingdom ...   0.187901   \n",
       "30001  Ten years into a marriage, the wife is disappo...   0.619388   \n",
       "33743  Until now, Zak Gibbs' greatest challenge has b...   4.920175   \n",
       "33826  Television made him famous, but his biggest hi...   7.645827   \n",
       "35798  The third film of Frank Capra's 'Why We Fight\"...   0.473322   \n",
       "38871  Originally called White Thunder, American prod...   0.002362   \n",
       "40040  In a hospital, ten soldiers are being treated ...   2.535419   \n",
       "40276  After breaking a mirror in his home, superstit...   0.141558   \n",
       "44821  When Molly Hale's sadness of her father's disa...   6.480376   \n",
       "44826  All your favorite Pokémon characters are back,...   6.080108   \n",
       "45265  While holidaying in the French Alps, a Swedish...  12.165685   \n",
       "\n",
       "      release_date  runtime   \n",
       "1465    1995-02-16    115.0  \\\n",
       "9165    1967-10-25    105.0   \n",
       "9327    2001-09-23     86.0   \n",
       "12066   2005-09-03     73.0   \n",
       "13375   2008-12-26    108.0   \n",
       "15074   1932-12-08     89.0   \n",
       "15765   2006-05-26     93.0   \n",
       "16764   2008-12-26    108.0   \n",
       "20843   2011-12-21    130.0   \n",
       "20899   1981-09-23    115.0   \n",
       "21116   2012-03-22     84.0   \n",
       "21165   1980-02-27    123.0   \n",
       "21854   2013-05-16    122.0   \n",
       "22151   2007-01-01     89.0   \n",
       "23044   2009-10-21     90.0   \n",
       "23534   2013-03-13     95.0   \n",
       "24844   2008-01-29     85.0   \n",
       "26625   1990-03-18    168.0   \n",
       "28860   1983-06-13     92.0   \n",
       "29374   1971-02-04    137.0   \n",
       "30001   1953-04-29     89.0   \n",
       "33743   2002-03-17     94.0   \n",
       "33826   2002-12-30    113.0   \n",
       "35798   1943-01-01     57.0   \n",
       "38871   1931-06-21     70.0   \n",
       "40040   2015-09-02    122.0   \n",
       "40276   1921-02-06     62.0   \n",
       "44821   2000-07-08     93.0   \n",
       "44826   2001-07-06     75.0   \n",
       "45265   2014-08-15    118.0   \n",
       "\n",
       "                                        spoken_languages   \n",
       "1465            [{'iso_639_1': 'de', 'name': 'Deutsch'}]  \\\n",
       "9165           [{'iso_639_1': 'fr', 'name': 'Français'}]   \n",
       "9327             [{'iso_639_1': 'hi', 'name': 'हिन्दी'}]   \n",
       "12066           [{'iso_639_1': 'en', 'name': 'English'}]   \n",
       "13375             [{'iso_639_1': 'fi', 'name': 'suomi'}]   \n",
       "15074           [{'iso_639_1': 'en', 'name': 'English'}]   \n",
       "15765             [{'iso_639_1': 'fa', 'name': 'فارسی'}]   \n",
       "16764             [{'iso_639_1': 'fi', 'name': 'suomi'}]   \n",
       "20843           [{'iso_639_1': 'en', 'name': 'English'}]   \n",
       "20899           [{'iso_639_1': 'en', 'name': 'English'}]   \n",
       "21116           [{'iso_639_1': 'en', 'name': 'English'}]   \n",
       "21165                                                 []   \n",
       "21854           [{'iso_639_1': 'en', 'name': 'English'}]   \n",
       "22151           [{'iso_639_1': 'en', 'name': 'English'}]   \n",
       "23044             [{'iso_639_1': 'da', 'name': 'Dansk'}]   \n",
       "23534          [{'iso_639_1': 'fr', 'name': 'Français'}]   \n",
       "24844           [{'iso_639_1': 'en', 'name': 'English'}]   \n",
       "26625  [{'iso_639_1': 'en', 'name': 'English'}, {'iso...   \n",
       "28860                                                 []   \n",
       "29374           [{'iso_639_1': 'en', 'name': 'English'}]   \n",
       "30001               [{'iso_639_1': 'ja', 'name': '日本語'}]   \n",
       "33743  [{'iso_639_1': 'cs', 'name': 'Český'}, {'iso_6...   \n",
       "33826           [{'iso_639_1': 'en', 'name': 'English'}]   \n",
       "35798           [{'iso_639_1': 'en', 'name': 'English'}]   \n",
       "38871           [{'iso_639_1': 'en', 'name': 'English'}]   \n",
       "40040  [{'iso_639_1': 'en', 'name': 'English'}, {'iso...   \n",
       "40276           [{'iso_639_1': 'en', 'name': 'English'}]   \n",
       "44821           [{'iso_639_1': 'en', 'name': 'English'}]   \n",
       "44826               [{'iso_639_1': 'ja', 'name': '日本語'}]   \n",
       "45265  [{'iso_639_1': 'fr', 'name': 'Français'}, {'is...   \n",
       "\n",
       "                                             title  vote_average  vote_count  \n",
       "1465                                   The Promise           5.0         1.0  \n",
       "9165                                   Le Samouraï           7.9       187.0  \n",
       "9327                                   The Warrior           6.3        15.0  \n",
       "12066                                       Bubble           6.4        36.0  \n",
       "13375                                     Blackout           6.7         3.0  \n",
       "15074                           A Farewell to Arms           6.2        29.0  \n",
       "15765                                      Offside           6.7        27.0  \n",
       "16764                                     Blackout           6.7         3.0  \n",
       "20843                                   Black Gold           5.9        77.0  \n",
       "20899                              Rich and Famous           4.9         7.0  \n",
       "21116                         A Place at the Table           6.9         7.0  \n",
       "21165                                  The Tempest           0.0         0.0  \n",
       "21854                                 The Congress           6.4       165.0  \n",
       "22151                             Days of Darkness           5.0         5.0  \n",
       "23044                                  Brotherhood           7.1        21.0  \n",
       "23534                         Camille Claudel 1915           7.0        20.0  \n",
       "24844                                         Deal           5.2        22.0  \n",
       "26625                     The Phantom of the Opera           5.0         3.0  \n",
       "28860               Nana, the True Key of Pleasure           4.7         3.0  \n",
       "29374                                    King Lear           8.0         3.0  \n",
       "30001                                         Wife           0.0         0.0  \n",
       "33743                                Clockstoppers           4.9        90.0  \n",
       "33826              Confessions of a Dangerous Mind           6.6       281.0  \n",
       "35798             Why We Fight: Divide and Conquer           5.0         1.0  \n",
       "38871                                   The Viking           0.0         0.0  \n",
       "40040                        Cemetery of Splendour           4.4        50.0  \n",
       "40276                         Seven Years Bad Luck           5.6         4.0  \n",
       "44821                Pokémon: Spell of the Unknown           6.0       144.0  \n",
       "44826  Pokémon 4Ever: Celebi - Voice of the Forest           5.7        82.0  \n",
       "45265                                Force Majeure           6.8       255.0  "
      ]
     },
     "execution_count": 103,
     "metadata": {},
     "output_type": "execute_result"
    }
   ],
   "source": [
    "data_df[data_df[['id','title']].duplicated()]"
   ]
  },
  {
   "attachments": {},
   "cell_type": "markdown",
   "id": "37bf7d94",
   "metadata": {},
   "source": [
    "There are duplications.\n",
    "I'm just gonna drop those who are repeated.\n",
    "I'm going to user `drop duplicates` which retains the first occurence but will drop any subsequent duplicate."
   ]
  },
  {
   "cell_type": "code",
   "execution_count": 111,
   "id": "2ee7d900",
   "metadata": {},
   "outputs": [],
   "source": [
    "data_df.drop_duplicates(inplace= True)"
   ]
  },
  {
   "cell_type": "code",
   "execution_count": 112,
   "id": "8ede7b39",
   "metadata": {},
   "outputs": [
    {
     "data": {
      "text/plain": [
       "17"
      ]
     },
     "execution_count": 112,
     "metadata": {},
     "output_type": "execute_result"
    }
   ],
   "source": [
    "data_df[['id','title']].duplicated().sum() #sanity check"
   ]
  },
  {
   "attachments": {},
   "cell_type": "markdown",
   "id": "8ba24545",
   "metadata": {},
   "source": [
    "There are still duplicates:\n",
    "let's see those"
   ]
  },
  {
   "cell_type": "code",
   "execution_count": 116,
   "id": "f001358c",
   "metadata": {},
   "outputs": [],
   "source": [
    "data_df[data_df[['id','title']].duplicated()].drop_duplicates(inplace=True)"
   ]
  },
  {
   "cell_type": "code",
   "execution_count": 121,
   "id": "bfef03e4",
   "metadata": {},
   "outputs": [
    {
     "data": {
      "text/plain": [
       "12066     14788\n",
       "15074     22649\n",
       "15765     13209\n",
       "20843     77221\n",
       "20899    109962\n",
       "21116     84198\n",
       "23534    110428\n",
       "26625     69234\n",
       "30001    132641\n",
       "33743     15028\n",
       "33826      4912\n",
       "35798    159849\n",
       "38871     99080\n",
       "40276     97995\n",
       "44821     10991\n",
       "44826     12600\n",
       "45265    265189\n",
       "Name: id, dtype: object"
      ]
     },
     "execution_count": 121,
     "metadata": {},
     "output_type": "execute_result"
    }
   ],
   "source": [
    "#sanity check \n",
    "data_df[data_df['id'].duplicated()]['id']"
   ]
  },
  {
   "attachments": {},
   "cell_type": "markdown",
   "id": "3d383ea2",
   "metadata": {},
   "source": [
    "There is no duplication in the ids."
   ]
  },
  {
   "attachments": {},
   "cell_type": "markdown",
   "id": "e9df758e",
   "metadata": {},
   "source": [
    "### Dealing appropriatly with the null values in the columns\n"
   ]
  },
  {
   "attachments": {},
   "cell_type": "markdown",
   "id": "82ac6a2a",
   "metadata": {},
   "source": [
    "Replacing the nulls in `vote` columns with 0."
   ]
  },
  {
   "cell_type": "code",
   "execution_count": 122,
   "id": "7c38d701",
   "metadata": {
    "tags": []
   },
   "outputs": [],
   "source": [
    "data_df[data_df['vote_average'].isnull()] = 0\n",
    "data_df[data_df['vote_count'].isnull()] = 0"
   ]
  },
  {
   "cell_type": "code",
   "execution_count": 123,
   "id": "13676f45",
   "metadata": {
    "tags": []
   },
   "outputs": [
    {
     "data": {
      "text/plain": [
       "genres                 0\n",
       "id                     0\n",
       "original_language     11\n",
       "original_title         0\n",
       "overview             954\n",
       "popularity             0\n",
       "release_date          84\n",
       "runtime              257\n",
       "spoken_languages       0\n",
       "title                  0\n",
       "vote_average           0\n",
       "vote_count             0\n",
       "dtype: int64"
      ]
     },
     "execution_count": 123,
     "metadata": {},
     "output_type": "execute_result"
    }
   ],
   "source": [
    "data_df.isnull().sum()"
   ]
  },
  {
   "cell_type": "code",
   "execution_count": 124,
   "id": "97cb5453",
   "metadata": {
    "tags": []
   },
   "outputs": [
    {
     "data": {
      "text/plain": [
       "genres                 0\n",
       "id                     0\n",
       "original_language     11\n",
       "original_title         0\n",
       "overview             954\n",
       "popularity             0\n",
       "release_date          84\n",
       "runtime              257\n",
       "spoken_languages       0\n",
       "title                  0\n",
       "vote_average           0\n",
       "vote_count             0\n",
       "dtype: int64"
      ]
     },
     "execution_count": 124,
     "metadata": {},
     "output_type": "execute_result"
    }
   ],
   "source": [
    "data_df.isnull().sum()"
   ]
  },
  {
   "attachments": {},
   "cell_type": "markdown",
   "id": "27860e2b",
   "metadata": {},
   "source": [
    "Replacing the null values in `overview` column with title:"
   ]
  },
  {
   "cell_type": "code",
   "execution_count": 125,
   "id": "55949b72",
   "metadata": {
    "tags": []
   },
   "outputs": [],
   "source": [
    "data_df['overview']= data_df['overview'].fillna(data_df['title'])"
   ]
  },
  {
   "attachments": {},
   "cell_type": "markdown",
   "id": "78d06049",
   "metadata": {},
   "source": [
    "Replacing the null values in `runtime` column with the average runtime of the movies:"
   ]
  },
  {
   "cell_type": "code",
   "execution_count": 126,
   "id": "a24b7185",
   "metadata": {
    "tags": []
   },
   "outputs": [],
   "source": [
    "data_df[data_df['runtime'].isnull()] = data_df['runtime'].mean()"
   ]
  },
  {
   "cell_type": "code",
   "execution_count": 127,
   "id": "cd699bea",
   "metadata": {
    "tags": []
   },
   "outputs": [
    {
     "data": {
      "text/plain": [
       "genres                0\n",
       "id                    0\n",
       "original_language    11\n",
       "original_title        0\n",
       "overview              0\n",
       "popularity            0\n",
       "release_date         73\n",
       "runtime               0\n",
       "spoken_languages      0\n",
       "title                 0\n",
       "vote_average          0\n",
       "vote_count            0\n",
       "dtype: int64"
      ]
     },
     "execution_count": 127,
     "metadata": {},
     "output_type": "execute_result"
    }
   ],
   "source": [
    "data_df.isnull().sum()"
   ]
  },
  {
   "cell_type": "code",
   "execution_count": 128,
   "id": "f3621b20",
   "metadata": {
    "tags": []
   },
   "outputs": [],
   "source": [
    "data_df[\"original_language\"] = data_df['original_language'].fillna(data_df.spoken_languages[1])\n"
   ]
  },
  {
   "cell_type": "code",
   "execution_count": 129,
   "id": "777aa635",
   "metadata": {},
   "outputs": [
    {
     "data": {
      "text/plain": [
       "genres                0\n",
       "id                    0\n",
       "original_language     0\n",
       "original_title        0\n",
       "overview              0\n",
       "popularity            0\n",
       "release_date         73\n",
       "runtime               0\n",
       "spoken_languages      0\n",
       "title                 0\n",
       "vote_average          0\n",
       "vote_count            0\n",
       "dtype: int64"
      ]
     },
     "execution_count": 129,
     "metadata": {},
     "output_type": "execute_result"
    }
   ],
   "source": [
    "data_df.isnull().sum()"
   ]
  },
  {
   "attachments": {},
   "cell_type": "markdown",
   "id": "ab201e77",
   "metadata": {},
   "source": [
    "Below: I'm going to convert the `release date` columns into `datetime` format."
   ]
  },
  {
   "cell_type": "code",
   "execution_count": 132,
   "id": "386262df",
   "metadata": {
    "tags": []
   },
   "outputs": [],
   "source": [
    "data_df = data_df[pd.to_datetime(data_df[\"release_date\"],errors='coerce').notnull()] #putting null instead of those who are not numbers and then converting those which are not null\n",
    "data_df['release_date'] = pd.to_datetime(data_df['release_date'])\n"
   ]
  },
  {
   "cell_type": "code",
   "execution_count": 133,
   "id": "258f470f",
   "metadata": {
    "tags": []
   },
   "outputs": [
    {
     "name": "stdout",
     "output_type": "stream",
     "text": [
      "<class 'pandas.core.frame.DataFrame'>\n",
      "Index: 45117 entries, 0 to 45465\n",
      "Data columns (total 12 columns):\n",
      " #   Column             Non-Null Count  Dtype         \n",
      "---  ------             --------------  -----         \n",
      " 0   genres             45117 non-null  object        \n",
      " 1   id                 45117 non-null  object        \n",
      " 2   original_language  45117 non-null  object        \n",
      " 3   original_title     45117 non-null  object        \n",
      " 4   overview           45117 non-null  object        \n",
      " 5   popularity         45117 non-null  object        \n",
      " 6   release_date       45117 non-null  datetime64[ns]\n",
      " 7   runtime            45117 non-null  float64       \n",
      " 8   spoken_languages   45117 non-null  object        \n",
      " 9   title              45117 non-null  object        \n",
      " 10  vote_average       45117 non-null  float64       \n",
      " 11  vote_count         45117 non-null  float64       \n",
      "dtypes: datetime64[ns](1), float64(3), object(8)\n",
      "memory usage: 4.5+ MB\n"
     ]
    }
   ],
   "source": [
    "#sanity check on data types\n",
    "data_df.info()"
   ]
  },
  {
   "cell_type": "code",
   "execution_count": 134,
   "id": "96825f5f",
   "metadata": {
    "tags": []
   },
   "outputs": [],
   "source": [
    "data_df[data_df['release_date'].isnull()] = data_df['release_date'].mean()"
   ]
  },
  {
   "cell_type": "code",
   "execution_count": 135,
   "id": "0966b25a",
   "metadata": {
    "tags": []
   },
   "outputs": [
    {
     "data": {
      "text/plain": [
       "genres               0\n",
       "id                   0\n",
       "original_language    0\n",
       "original_title       0\n",
       "overview             0\n",
       "popularity           0\n",
       "release_date         0\n",
       "runtime              0\n",
       "spoken_languages     0\n",
       "title                0\n",
       "vote_average         0\n",
       "vote_count           0\n",
       "dtype: int64"
      ]
     },
     "execution_count": 135,
     "metadata": {},
     "output_type": "execute_result"
    }
   ],
   "source": [
    "data_df.isnull().sum()"
   ]
  },
  {
   "cell_type": "code",
   "execution_count": 136,
   "id": "3bf3bfe0",
   "metadata": {
    "tags": []
   },
   "outputs": [
    {
     "data": {
      "text/plain": [
       "genres               0\n",
       "id                   0\n",
       "original_language    0\n",
       "original_title       0\n",
       "overview             0\n",
       "popularity           0\n",
       "release_date         0\n",
       "runtime              0\n",
       "spoken_languages     0\n",
       "title                0\n",
       "vote_average         0\n",
       "vote_count           0\n",
       "dtype: int64"
      ]
     },
     "execution_count": 136,
     "metadata": {},
     "output_type": "execute_result"
    }
   ],
   "source": [
    "#sanity check\n",
    "data_df.isnull().sum()"
   ]
  },
  {
   "attachments": {},
   "cell_type": "markdown",
   "id": "d2155b5b",
   "metadata": {},
   "source": [
    "Converting `movieId` to int cause we're gonna use that later:"
   ]
  },
  {
   "cell_type": "code",
   "execution_count": 137,
   "id": "f3233b47",
   "metadata": {},
   "outputs": [],
   "source": [
    "data_df['id'] = data_df['id'].astype('int64')"
   ]
  },
  {
   "cell_type": "code",
   "execution_count": 138,
   "id": "39bf10c6",
   "metadata": {
    "tags": []
   },
   "outputs": [
    {
     "name": "stdout",
     "output_type": "stream",
     "text": [
      "<class 'pandas.core.frame.DataFrame'>\n",
      "Index: 45117 entries, 0 to 45465\n",
      "Data columns (total 12 columns):\n",
      " #   Column             Non-Null Count  Dtype         \n",
      "---  ------             --------------  -----         \n",
      " 0   genres             45117 non-null  object        \n",
      " 1   id                 45117 non-null  int64         \n",
      " 2   original_language  45117 non-null  object        \n",
      " 3   original_title     45117 non-null  object        \n",
      " 4   overview           45117 non-null  object        \n",
      " 5   popularity         45117 non-null  object        \n",
      " 6   release_date       45117 non-null  datetime64[ns]\n",
      " 7   runtime            45117 non-null  float64       \n",
      " 8   spoken_languages   45117 non-null  object        \n",
      " 9   title              45117 non-null  object        \n",
      " 10  vote_average       45117 non-null  float64       \n",
      " 11  vote_count         45117 non-null  float64       \n",
      "dtypes: datetime64[ns](1), float64(3), int64(1), object(7)\n",
      "memory usage: 4.5+ MB\n"
     ]
    }
   ],
   "source": [
    "data_df.info() #sanity check"
   ]
  },
  {
   "attachments": {},
   "cell_type": "markdown",
   "id": "2160b0a7",
   "metadata": {
    "tags": []
   },
   "source": [
    "Changing name of the `id` col to `movieID` so it has the same name as reveiw column: to join the review table with movies."
   ]
  },
  {
   "cell_type": "code",
   "execution_count": 139,
   "id": "38042483",
   "metadata": {
    "tags": []
   },
   "outputs": [],
   "source": [
    "movies =data_df.rename(columns = {'id' : 'movieId'})\n",
    "#our new dataframe dataframe that we're gonna work on "
   ]
  },
  {
   "attachments": {},
   "cell_type": "markdown",
   "id": "e2f26b4f",
   "metadata": {},
   "source": [
    "#### Dropping the `genres` \n",
    "since it is a string and then creating a new `genre` as type of a list of genres."
   ]
  },
  {
   "cell_type": "code",
   "execution_count": 140,
   "id": "1c3b7337",
   "metadata": {},
   "outputs": [],
   "source": [
    "movies['genres'] = movies['genres'].astype(\"str\") #converting to string so i can work on it \n",
    "genre_list=[]\n",
    "for genre in movies['genres']:\n",
    "    genre = genre.strip(\"[\").strip(\"]\") #taking out the brackets \n",
    "    genre_list.append(genre.split(',')) #spliting the letters by the comma\n",
    "result = [] #list of lists\n",
    "\n",
    "\n",
    "for i in range(len(genre_list)):\n",
    "    \n",
    "    ls=[] #list of dicts\n",
    "    \n",
    "    for item in genre_list[i]:\n",
    "        temp = {}\n",
    "        item = item.replace(\"'\", \"\").replace(\"{\", \"\").replace(\"}\", \"\")\n",
    "        if len(item.split(\":\"))==2:\n",
    "            key, value = item.split(\":\")\n",
    "            key = key.strip()\n",
    "            value = value.strip()\n",
    "            temp[key] = value\n",
    "   \n",
    "            ls.append(temp)\n",
    "    result.append(ls)    "
   ]
  },
  {
   "attachments": {},
   "cell_type": "markdown",
   "id": "4354391d",
   "metadata": {},
   "source": [
    "Creating a new column (`genre`) and putting the genres as a list of genres in it."
   ]
  },
  {
   "cell_type": "code",
   "execution_count": 141,
   "id": "625aef25",
   "metadata": {},
   "outputs": [],
   "source": [
    "genres_names = []\n",
    "for item in result:\n",
    "    for dct in item:\n",
    "        if 'name' not in dct.keys():\n",
    "            item.remove(dct)\n",
    "gen_list = []\n",
    "for item in result:\n",
    "    genres = []\n",
    "    for dct in item:\n",
    "        k,val = list(dct.items())[0]\n",
    "        genres.append(val)\n",
    "        \n",
    "    gen_list.append(genres)\n",
    "    #created a new column name genre and saved it as a list of genres\n",
    "movies['genre']=gen_list"
   ]
  },
  {
   "cell_type": "code",
   "execution_count": 142,
   "id": "94d5f42c",
   "metadata": {},
   "outputs": [],
   "source": [
    "#dropping `genres` col\n",
    "movies.drop(columns=\"genres\" , inplace=True)"
   ]
  },
  {
   "attachments": {},
   "cell_type": "markdown",
   "id": "05c36f41",
   "metadata": {},
   "source": [
    "I'm going to convert the genres for the movies into binary format so we can workk with them.\n",
    "\n",
    "Getting dummies for genres:"
   ]
  },
  {
   "cell_type": "code",
   "execution_count": 143,
   "id": "6ff656f3",
   "metadata": {},
   "outputs": [],
   "source": [
    "dummies_df  = pd.get_dummies(movies['genre'].explode()).groupby(level=0).sum()\n"
   ]
  },
  {
   "cell_type": "code",
   "execution_count": 144,
   "id": "c5a583f1",
   "metadata": {},
   "outputs": [
    {
     "data": {
      "text/html": [
       "<div>\n",
       "<style scoped>\n",
       "    .dataframe tbody tr th:only-of-type {\n",
       "        vertical-align: middle;\n",
       "    }\n",
       "\n",
       "    .dataframe tbody tr th {\n",
       "        vertical-align: top;\n",
       "    }\n",
       "\n",
       "    .dataframe thead th {\n",
       "        text-align: right;\n",
       "    }\n",
       "</style>\n",
       "<table border=\"1\" class=\"dataframe\">\n",
       "  <thead>\n",
       "    <tr style=\"text-align: right;\">\n",
       "      <th></th>\n",
       "      <th>Action</th>\n",
       "      <th>Adventure</th>\n",
       "      <th>Animation</th>\n",
       "      <th>Comedy</th>\n",
       "      <th>Crime</th>\n",
       "      <th>Documentary</th>\n",
       "      <th>Drama</th>\n",
       "      <th>Family</th>\n",
       "      <th>Fantasy</th>\n",
       "      <th>Foreign</th>\n",
       "      <th>History</th>\n",
       "      <th>Horror</th>\n",
       "      <th>Music</th>\n",
       "      <th>Mystery</th>\n",
       "      <th>Romance</th>\n",
       "      <th>Science Fiction</th>\n",
       "      <th>TV Movie</th>\n",
       "      <th>Thriller</th>\n",
       "      <th>War</th>\n",
       "      <th>Western</th>\n",
       "    </tr>\n",
       "  </thead>\n",
       "  <tbody>\n",
       "    <tr>\n",
       "      <th>0</th>\n",
       "      <td>0</td>\n",
       "      <td>0</td>\n",
       "      <td>1</td>\n",
       "      <td>1</td>\n",
       "      <td>0</td>\n",
       "      <td>0</td>\n",
       "      <td>0</td>\n",
       "      <td>1</td>\n",
       "      <td>0</td>\n",
       "      <td>0</td>\n",
       "      <td>0</td>\n",
       "      <td>0</td>\n",
       "      <td>0</td>\n",
       "      <td>0</td>\n",
       "      <td>0</td>\n",
       "      <td>0</td>\n",
       "      <td>0</td>\n",
       "      <td>0</td>\n",
       "      <td>0</td>\n",
       "      <td>0</td>\n",
       "    </tr>\n",
       "    <tr>\n",
       "      <th>1</th>\n",
       "      <td>0</td>\n",
       "      <td>1</td>\n",
       "      <td>0</td>\n",
       "      <td>0</td>\n",
       "      <td>0</td>\n",
       "      <td>0</td>\n",
       "      <td>0</td>\n",
       "      <td>1</td>\n",
       "      <td>1</td>\n",
       "      <td>0</td>\n",
       "      <td>0</td>\n",
       "      <td>0</td>\n",
       "      <td>0</td>\n",
       "      <td>0</td>\n",
       "      <td>0</td>\n",
       "      <td>0</td>\n",
       "      <td>0</td>\n",
       "      <td>0</td>\n",
       "      <td>0</td>\n",
       "      <td>0</td>\n",
       "    </tr>\n",
       "    <tr>\n",
       "      <th>2</th>\n",
       "      <td>0</td>\n",
       "      <td>0</td>\n",
       "      <td>0</td>\n",
       "      <td>1</td>\n",
       "      <td>0</td>\n",
       "      <td>0</td>\n",
       "      <td>0</td>\n",
       "      <td>0</td>\n",
       "      <td>0</td>\n",
       "      <td>0</td>\n",
       "      <td>0</td>\n",
       "      <td>0</td>\n",
       "      <td>0</td>\n",
       "      <td>0</td>\n",
       "      <td>1</td>\n",
       "      <td>0</td>\n",
       "      <td>0</td>\n",
       "      <td>0</td>\n",
       "      <td>0</td>\n",
       "      <td>0</td>\n",
       "    </tr>\n",
       "    <tr>\n",
       "      <th>3</th>\n",
       "      <td>0</td>\n",
       "      <td>0</td>\n",
       "      <td>0</td>\n",
       "      <td>1</td>\n",
       "      <td>0</td>\n",
       "      <td>0</td>\n",
       "      <td>1</td>\n",
       "      <td>0</td>\n",
       "      <td>0</td>\n",
       "      <td>0</td>\n",
       "      <td>0</td>\n",
       "      <td>0</td>\n",
       "      <td>0</td>\n",
       "      <td>0</td>\n",
       "      <td>1</td>\n",
       "      <td>0</td>\n",
       "      <td>0</td>\n",
       "      <td>0</td>\n",
       "      <td>0</td>\n",
       "      <td>0</td>\n",
       "    </tr>\n",
       "    <tr>\n",
       "      <th>4</th>\n",
       "      <td>0</td>\n",
       "      <td>0</td>\n",
       "      <td>0</td>\n",
       "      <td>1</td>\n",
       "      <td>0</td>\n",
       "      <td>0</td>\n",
       "      <td>0</td>\n",
       "      <td>0</td>\n",
       "      <td>0</td>\n",
       "      <td>0</td>\n",
       "      <td>0</td>\n",
       "      <td>0</td>\n",
       "      <td>0</td>\n",
       "      <td>0</td>\n",
       "      <td>0</td>\n",
       "      <td>0</td>\n",
       "      <td>0</td>\n",
       "      <td>0</td>\n",
       "      <td>0</td>\n",
       "      <td>0</td>\n",
       "    </tr>\n",
       "    <tr>\n",
       "      <th>...</th>\n",
       "      <td>...</td>\n",
       "      <td>...</td>\n",
       "      <td>...</td>\n",
       "      <td>...</td>\n",
       "      <td>...</td>\n",
       "      <td>...</td>\n",
       "      <td>...</td>\n",
       "      <td>...</td>\n",
       "      <td>...</td>\n",
       "      <td>...</td>\n",
       "      <td>...</td>\n",
       "      <td>...</td>\n",
       "      <td>...</td>\n",
       "      <td>...</td>\n",
       "      <td>...</td>\n",
       "      <td>...</td>\n",
       "      <td>...</td>\n",
       "      <td>...</td>\n",
       "      <td>...</td>\n",
       "      <td>...</td>\n",
       "    </tr>\n",
       "    <tr>\n",
       "      <th>45460</th>\n",
       "      <td>1</td>\n",
       "      <td>0</td>\n",
       "      <td>0</td>\n",
       "      <td>0</td>\n",
       "      <td>0</td>\n",
       "      <td>0</td>\n",
       "      <td>1</td>\n",
       "      <td>0</td>\n",
       "      <td>0</td>\n",
       "      <td>0</td>\n",
       "      <td>0</td>\n",
       "      <td>0</td>\n",
       "      <td>0</td>\n",
       "      <td>0</td>\n",
       "      <td>1</td>\n",
       "      <td>0</td>\n",
       "      <td>0</td>\n",
       "      <td>0</td>\n",
       "      <td>0</td>\n",
       "      <td>0</td>\n",
       "    </tr>\n",
       "    <tr>\n",
       "      <th>45462</th>\n",
       "      <td>0</td>\n",
       "      <td>0</td>\n",
       "      <td>0</td>\n",
       "      <td>0</td>\n",
       "      <td>0</td>\n",
       "      <td>0</td>\n",
       "      <td>1</td>\n",
       "      <td>0</td>\n",
       "      <td>0</td>\n",
       "      <td>0</td>\n",
       "      <td>0</td>\n",
       "      <td>0</td>\n",
       "      <td>0</td>\n",
       "      <td>0</td>\n",
       "      <td>0</td>\n",
       "      <td>0</td>\n",
       "      <td>0</td>\n",
       "      <td>0</td>\n",
       "      <td>0</td>\n",
       "      <td>0</td>\n",
       "    </tr>\n",
       "    <tr>\n",
       "      <th>45463</th>\n",
       "      <td>1</td>\n",
       "      <td>0</td>\n",
       "      <td>0</td>\n",
       "      <td>0</td>\n",
       "      <td>0</td>\n",
       "      <td>0</td>\n",
       "      <td>1</td>\n",
       "      <td>0</td>\n",
       "      <td>0</td>\n",
       "      <td>0</td>\n",
       "      <td>0</td>\n",
       "      <td>0</td>\n",
       "      <td>0</td>\n",
       "      <td>0</td>\n",
       "      <td>0</td>\n",
       "      <td>0</td>\n",
       "      <td>0</td>\n",
       "      <td>1</td>\n",
       "      <td>0</td>\n",
       "      <td>0</td>\n",
       "    </tr>\n",
       "    <tr>\n",
       "      <th>45464</th>\n",
       "      <td>0</td>\n",
       "      <td>0</td>\n",
       "      <td>0</td>\n",
       "      <td>0</td>\n",
       "      <td>0</td>\n",
       "      <td>0</td>\n",
       "      <td>0</td>\n",
       "      <td>0</td>\n",
       "      <td>0</td>\n",
       "      <td>0</td>\n",
       "      <td>0</td>\n",
       "      <td>0</td>\n",
       "      <td>0</td>\n",
       "      <td>0</td>\n",
       "      <td>0</td>\n",
       "      <td>0</td>\n",
       "      <td>0</td>\n",
       "      <td>0</td>\n",
       "      <td>0</td>\n",
       "      <td>0</td>\n",
       "    </tr>\n",
       "    <tr>\n",
       "      <th>45465</th>\n",
       "      <td>0</td>\n",
       "      <td>0</td>\n",
       "      <td>0</td>\n",
       "      <td>0</td>\n",
       "      <td>0</td>\n",
       "      <td>0</td>\n",
       "      <td>0</td>\n",
       "      <td>0</td>\n",
       "      <td>0</td>\n",
       "      <td>0</td>\n",
       "      <td>0</td>\n",
       "      <td>0</td>\n",
       "      <td>0</td>\n",
       "      <td>0</td>\n",
       "      <td>0</td>\n",
       "      <td>0</td>\n",
       "      <td>0</td>\n",
       "      <td>0</td>\n",
       "      <td>0</td>\n",
       "      <td>0</td>\n",
       "    </tr>\n",
       "  </tbody>\n",
       "</table>\n",
       "<p>45117 rows × 20 columns</p>\n",
       "</div>"
      ],
      "text/plain": [
       "       Action  Adventure  Animation  Comedy  Crime  Documentary  Drama   \n",
       "0           0          0          1       1      0            0      0  \\\n",
       "1           0          1          0       0      0            0      0   \n",
       "2           0          0          0       1      0            0      0   \n",
       "3           0          0          0       1      0            0      1   \n",
       "4           0          0          0       1      0            0      0   \n",
       "...       ...        ...        ...     ...    ...          ...    ...   \n",
       "45460       1          0          0       0      0            0      1   \n",
       "45462       0          0          0       0      0            0      1   \n",
       "45463       1          0          0       0      0            0      1   \n",
       "45464       0          0          0       0      0            0      0   \n",
       "45465       0          0          0       0      0            0      0   \n",
       "\n",
       "       Family  Fantasy  Foreign  History  Horror  Music  Mystery  Romance   \n",
       "0           1        0        0        0       0      0        0        0  \\\n",
       "1           1        1        0        0       0      0        0        0   \n",
       "2           0        0        0        0       0      0        0        1   \n",
       "3           0        0        0        0       0      0        0        1   \n",
       "4           0        0        0        0       0      0        0        0   \n",
       "...       ...      ...      ...      ...     ...    ...      ...      ...   \n",
       "45460       0        0        0        0       0      0        0        1   \n",
       "45462       0        0        0        0       0      0        0        0   \n",
       "45463       0        0        0        0       0      0        0        0   \n",
       "45464       0        0        0        0       0      0        0        0   \n",
       "45465       0        0        0        0       0      0        0        0   \n",
       "\n",
       "       Science Fiction  TV Movie  Thriller  War  Western  \n",
       "0                    0         0         0    0        0  \n",
       "1                    0         0         0    0        0  \n",
       "2                    0         0         0    0        0  \n",
       "3                    0         0         0    0        0  \n",
       "4                    0         0         0    0        0  \n",
       "...                ...       ...       ...  ...      ...  \n",
       "45460                0         0         0    0        0  \n",
       "45462                0         0         0    0        0  \n",
       "45463                0         0         1    0        0  \n",
       "45464                0         0         0    0        0  \n",
       "45465                0         0         0    0        0  \n",
       "\n",
       "[45117 rows x 20 columns]"
      ]
     },
     "execution_count": 144,
     "metadata": {},
     "output_type": "execute_result"
    }
   ],
   "source": [
    "dummies_df"
   ]
  },
  {
   "attachments": {},
   "cell_type": "markdown",
   "id": "eb3c080e",
   "metadata": {},
   "source": [
    "Concating the dummies to the movies dataframe:"
   ]
  },
  {
   "cell_type": "code",
   "execution_count": 145,
   "id": "47897641",
   "metadata": {},
   "outputs": [],
   "source": [
    "movies = movies.join(dummies_df)"
   ]
  },
  {
   "cell_type": "code",
   "execution_count": 146,
   "id": "f9045755",
   "metadata": {},
   "outputs": [
    {
     "data": {
      "text/plain": [
       "0"
      ]
     },
     "execution_count": 146,
     "metadata": {},
     "output_type": "execute_result"
    }
   ],
   "source": [
    "movies.isna().sum().sum()\n",
    "#just checking for any nulls after the join"
   ]
  },
  {
   "cell_type": "code",
   "execution_count": 147,
   "id": "064668a1",
   "metadata": {},
   "outputs": [
    {
     "data": {
      "text/plain": [
       "32190"
      ]
     },
     "execution_count": 147,
     "metadata": {},
     "output_type": "execute_result"
    }
   ],
   "source": [
    "len(movies[movies['original_language'] == 'en'].values)\n",
    "#checking the number of movies that have English as their first language"
   ]
  },
  {
   "attachments": {},
   "cell_type": "markdown",
   "id": "e0858e0d",
   "metadata": {},
   "source": [
    "Now Let's see how many votes, movies have.\n",
    "\n",
    "It would be rational to consider those who have at least a number of vote counts."
   ]
  },
  {
   "cell_type": "code",
   "execution_count": 149,
   "id": "8e3d3486",
   "metadata": {},
   "outputs": [],
   "source": [
    "count_per_movie = movies.groupby([\"vote_count\"])['movieId'].count()\n"
   ]
  },
  {
   "cell_type": "code",
   "execution_count": 150,
   "id": "c3f6ae5c",
   "metadata": {},
   "outputs": [
    {
     "data": {
      "image/png": "[encoded data removed]",
      "text/plain": [
       "<Figure size 640x480 with 1 Axes>"
      ]
     },
     "metadata": {},
     "output_type": "display_data"
    }
   ],
   "source": [
    "plt.figure()\n",
    "plt.title(\"Number of reviews for each movies\")\n",
    "plt.hist(count_per_movie,bins=30)\n",
    "plt.xlabel(\"movie count\")\n",
    "plt.ylabel(\"Reviews\")\n",
    "plt.show()"
   ]
  },
  {
   "attachments": {},
   "cell_type": "markdown",
   "id": "0e8e99e4",
   "metadata": {},
   "source": [
    "I'm gonna go with movies which have a vote higher than 100. (above 100 reviews)"
   ]
  },
  {
   "cell_type": "code",
   "execution_count": 151,
   "id": "8eeac458",
   "metadata": {},
   "outputs": [],
   "source": [
    "\n",
    "filtered_df = movies[movies[\"vote_count\"] > 100]\n",
    "#This leaves us with 6k movies(which have above 100 reviews)\n",
    "filtered_df\n",
    "movies =filtered_df"
   ]
  },
  {
   "cell_type": "code",
   "execution_count": 152,
   "id": "9fb11768",
   "metadata": {},
   "outputs": [],
   "source": [
    "# Select only the columns that have numeric data types\n",
    "genres_df = movies.drop(movies.iloc[:, 1:13],axis=1,inplace=False)"
   ]
  },
  {
   "cell_type": "code",
   "execution_count": 153,
   "id": "eb17d1be",
   "metadata": {},
   "outputs": [],
   "source": [
    "genres_df.to_csv(\"Data/genres_dummies.csv\")"
   ]
  },
  {
   "cell_type": "code",
   "execution_count": 154,
   "id": "0d82b438",
   "metadata": {},
   "outputs": [],
   "source": [
    "movies.to_csv(\"Data/movies.csv\")\n",
    "#saving the movies dataframe that consist of 6k movies/ we're gonna do the filtering on these."
   ]
  },
  {
   "attachments": {},
   "cell_type": "markdown",
   "id": "b7df708d",
   "metadata": {},
   "source": [
    "## ratings file cleaning"
   ]
  },
  {
   "cell_type": "code",
   "execution_count": 155,
   "id": "d595c95c",
   "metadata": {
    "tags": []
   },
   "outputs": [],
   "source": [
    "ratings_df = pd.read_csv(\"Data/ratings.csv\")"
   ]
  },
  {
   "cell_type": "code",
   "execution_count": 156,
   "id": "f7d3f222",
   "metadata": {
    "tags": []
   },
   "outputs": [
    {
     "data": {
      "text/html": [
       "<div>\n",
       "<style scoped>\n",
       "    .dataframe tbody tr th:only-of-type {\n",
       "        vertical-align: middle;\n",
       "    }\n",
       "\n",
       "    .dataframe tbody tr th {\n",
       "        vertical-align: top;\n",
       "    }\n",
       "\n",
       "    .dataframe thead th {\n",
       "        text-align: right;\n",
       "    }\n",
       "</style>\n",
       "<table border=\"1\" class=\"dataframe\">\n",
       "  <thead>\n",
       "    <tr style=\"text-align: right;\">\n",
       "      <th></th>\n",
       "      <th>userId</th>\n",
       "      <th>movieId</th>\n",
       "      <th>rating</th>\n",
       "      <th>timestamp</th>\n",
       "    </tr>\n",
       "  </thead>\n",
       "  <tbody>\n",
       "    <tr>\n",
       "      <th>0</th>\n",
       "      <td>1</td>\n",
       "      <td>296</td>\n",
       "      <td>5.0</td>\n",
       "      <td>1147880044</td>\n",
       "    </tr>\n",
       "    <tr>\n",
       "      <th>1</th>\n",
       "      <td>1</td>\n",
       "      <td>306</td>\n",
       "      <td>3.5</td>\n",
       "      <td>1147868817</td>\n",
       "    </tr>\n",
       "  </tbody>\n",
       "</table>\n",
       "</div>"
      ],
      "text/plain": [
       "   userId  movieId  rating   timestamp\n",
       "0       1      296     5.0  1147880044\n",
       "1       1      306     3.5  1147868817"
      ]
     },
     "execution_count": 156,
     "metadata": {},
     "output_type": "execute_result"
    }
   ],
   "source": [
    "ratings_df.head(2)"
   ]
  },
  {
   "cell_type": "code",
   "execution_count": 157,
   "id": "0c123cf9",
   "metadata": {
    "tags": []
   },
   "outputs": [],
   "source": [
    "#we're gonna drop the timestamp col since we're not gonna use it for anything\n",
    "ratings_df.drop(columns = \"timestamp\", inplace=True)"
   ]
  },
  {
   "attachments": {},
   "cell_type": "markdown",
   "id": "8615246c",
   "metadata": {},
   "source": [
    "Checking for any null values."
   ]
  },
  {
   "cell_type": "code",
   "execution_count": 158,
   "id": "10d0aa57",
   "metadata": {
    "tags": []
   },
   "outputs": [
    {
     "data": {
      "text/plain": [
       "userId     0\n",
       "movieId    0\n",
       "rating     0\n",
       "dtype: int64"
      ]
     },
     "execution_count": 158,
     "metadata": {},
     "output_type": "execute_result"
    }
   ],
   "source": [
    "ratings_df.isnull().sum()"
   ]
  },
  {
   "cell_type": "code",
   "execution_count": 159,
   "id": "e132ec0c",
   "metadata": {},
   "outputs": [
    {
     "data": {
      "text/html": [
       "<div>\n",
       "<style scoped>\n",
       "    .dataframe tbody tr th:only-of-type {\n",
       "        vertical-align: middle;\n",
       "    }\n",
       "\n",
       "    .dataframe tbody tr th {\n",
       "        vertical-align: top;\n",
       "    }\n",
       "\n",
       "    .dataframe thead th {\n",
       "        text-align: right;\n",
       "    }\n",
       "</style>\n",
       "<table border=\"1\" class=\"dataframe\">\n",
       "  <thead>\n",
       "    <tr style=\"text-align: right;\">\n",
       "      <th></th>\n",
       "      <th>userId</th>\n",
       "      <th>movieId</th>\n",
       "      <th>rating</th>\n",
       "    </tr>\n",
       "  </thead>\n",
       "  <tbody>\n",
       "    <tr>\n",
       "      <th>0</th>\n",
       "      <td>1</td>\n",
       "      <td>296</td>\n",
       "      <td>5.0</td>\n",
       "    </tr>\n",
       "    <tr>\n",
       "      <th>1</th>\n",
       "      <td>1</td>\n",
       "      <td>306</td>\n",
       "      <td>3.5</td>\n",
       "    </tr>\n",
       "    <tr>\n",
       "      <th>2</th>\n",
       "      <td>1</td>\n",
       "      <td>307</td>\n",
       "      <td>5.0</td>\n",
       "    </tr>\n",
       "    <tr>\n",
       "      <th>3</th>\n",
       "      <td>1</td>\n",
       "      <td>665</td>\n",
       "      <td>5.0</td>\n",
       "    </tr>\n",
       "    <tr>\n",
       "      <th>4</th>\n",
       "      <td>1</td>\n",
       "      <td>899</td>\n",
       "      <td>3.5</td>\n",
       "    </tr>\n",
       "    <tr>\n",
       "      <th>...</th>\n",
       "      <td>...</td>\n",
       "      <td>...</td>\n",
       "      <td>...</td>\n",
       "    </tr>\n",
       "    <tr>\n",
       "      <th>25000090</th>\n",
       "      <td>162541</td>\n",
       "      <td>50872</td>\n",
       "      <td>4.5</td>\n",
       "    </tr>\n",
       "    <tr>\n",
       "      <th>25000091</th>\n",
       "      <td>162541</td>\n",
       "      <td>55768</td>\n",
       "      <td>2.5</td>\n",
       "    </tr>\n",
       "    <tr>\n",
       "      <th>25000092</th>\n",
       "      <td>162541</td>\n",
       "      <td>56176</td>\n",
       "      <td>2.0</td>\n",
       "    </tr>\n",
       "    <tr>\n",
       "      <th>25000093</th>\n",
       "      <td>162541</td>\n",
       "      <td>58559</td>\n",
       "      <td>4.0</td>\n",
       "    </tr>\n",
       "    <tr>\n",
       "      <th>25000094</th>\n",
       "      <td>162541</td>\n",
       "      <td>63876</td>\n",
       "      <td>5.0</td>\n",
       "    </tr>\n",
       "  </tbody>\n",
       "</table>\n",
       "<p>25000095 rows × 3 columns</p>\n",
       "</div>"
      ],
      "text/plain": [
       "          userId  movieId  rating\n",
       "0              1      296     5.0\n",
       "1              1      306     3.5\n",
       "2              1      307     5.0\n",
       "3              1      665     5.0\n",
       "4              1      899     3.5\n",
       "...          ...      ...     ...\n",
       "25000090  162541    50872     4.5\n",
       "25000091  162541    55768     2.5\n",
       "25000092  162541    56176     2.0\n",
       "25000093  162541    58559     4.0\n",
       "25000094  162541    63876     5.0\n",
       "\n",
       "[25000095 rows x 3 columns]"
      ]
     },
     "execution_count": 159,
     "metadata": {},
     "output_type": "execute_result"
    }
   ],
   "source": [
    "ratings_df"
   ]
  },
  {
   "attachments": {},
   "cell_type": "markdown",
   "id": "5cb1e1e1",
   "metadata": {},
   "source": [
    "I'm assuming whoever rated the movie above 3.5 they liked it. i just do this to make sure the data is balanced so i can take my sample from it."
   ]
  },
  {
   "cell_type": "code",
   "execution_count": 161,
   "id": "0168c173",
   "metadata": {},
   "outputs": [],
   "source": [
    "ratings_df['liked'] =ratings_df['rating'].apply(lambda x: 1 if x > 3.5 else 0)\n"
   ]
  },
  {
   "cell_type": "code",
   "execution_count": 162,
   "id": "c0197463",
   "metadata": {},
   "outputs": [
    {
     "data": {
      "text/html": [
       "<div>\n",
       "<style scoped>\n",
       "    .dataframe tbody tr th:only-of-type {\n",
       "        vertical-align: middle;\n",
       "    }\n",
       "\n",
       "    .dataframe tbody tr th {\n",
       "        vertical-align: top;\n",
       "    }\n",
       "\n",
       "    .dataframe thead th {\n",
       "        text-align: right;\n",
       "    }\n",
       "</style>\n",
       "<table border=\"1\" class=\"dataframe\">\n",
       "  <thead>\n",
       "    <tr style=\"text-align: right;\">\n",
       "      <th></th>\n",
       "      <th>userId</th>\n",
       "      <th>movieId</th>\n",
       "      <th>rating</th>\n",
       "      <th>liked</th>\n",
       "    </tr>\n",
       "  </thead>\n",
       "  <tbody>\n",
       "    <tr>\n",
       "      <th>0</th>\n",
       "      <td>1</td>\n",
       "      <td>296</td>\n",
       "      <td>5.0</td>\n",
       "      <td>1</td>\n",
       "    </tr>\n",
       "    <tr>\n",
       "      <th>1</th>\n",
       "      <td>1</td>\n",
       "      <td>306</td>\n",
       "      <td>3.5</td>\n",
       "      <td>0</td>\n",
       "    </tr>\n",
       "    <tr>\n",
       "      <th>2</th>\n",
       "      <td>1</td>\n",
       "      <td>307</td>\n",
       "      <td>5.0</td>\n",
       "      <td>1</td>\n",
       "    </tr>\n",
       "    <tr>\n",
       "      <th>3</th>\n",
       "      <td>1</td>\n",
       "      <td>665</td>\n",
       "      <td>5.0</td>\n",
       "      <td>1</td>\n",
       "    </tr>\n",
       "    <tr>\n",
       "      <th>4</th>\n",
       "      <td>1</td>\n",
       "      <td>899</td>\n",
       "      <td>3.5</td>\n",
       "      <td>0</td>\n",
       "    </tr>\n",
       "    <tr>\n",
       "      <th>...</th>\n",
       "      <td>...</td>\n",
       "      <td>...</td>\n",
       "      <td>...</td>\n",
       "      <td>...</td>\n",
       "    </tr>\n",
       "    <tr>\n",
       "      <th>25000090</th>\n",
       "      <td>162541</td>\n",
       "      <td>50872</td>\n",
       "      <td>4.5</td>\n",
       "      <td>1</td>\n",
       "    </tr>\n",
       "    <tr>\n",
       "      <th>25000091</th>\n",
       "      <td>162541</td>\n",
       "      <td>55768</td>\n",
       "      <td>2.5</td>\n",
       "      <td>0</td>\n",
       "    </tr>\n",
       "    <tr>\n",
       "      <th>25000092</th>\n",
       "      <td>162541</td>\n",
       "      <td>56176</td>\n",
       "      <td>2.0</td>\n",
       "      <td>0</td>\n",
       "    </tr>\n",
       "    <tr>\n",
       "      <th>25000093</th>\n",
       "      <td>162541</td>\n",
       "      <td>58559</td>\n",
       "      <td>4.0</td>\n",
       "      <td>1</td>\n",
       "    </tr>\n",
       "    <tr>\n",
       "      <th>25000094</th>\n",
       "      <td>162541</td>\n",
       "      <td>63876</td>\n",
       "      <td>5.0</td>\n",
       "      <td>1</td>\n",
       "    </tr>\n",
       "  </tbody>\n",
       "</table>\n",
       "<p>25000095 rows × 4 columns</p>\n",
       "</div>"
      ],
      "text/plain": [
       "          userId  movieId  rating  liked\n",
       "0              1      296     5.0      1\n",
       "1              1      306     3.5      0\n",
       "2              1      307     5.0      1\n",
       "3              1      665     5.0      1\n",
       "4              1      899     3.5      0\n",
       "...          ...      ...     ...    ...\n",
       "25000090  162541    50872     4.5      1\n",
       "25000091  162541    55768     2.5      0\n",
       "25000092  162541    56176     2.0      0\n",
       "25000093  162541    58559     4.0      1\n",
       "25000094  162541    63876     5.0      1\n",
       "\n",
       "[25000095 rows x 4 columns]"
      ]
     },
     "execution_count": 162,
     "metadata": {},
     "output_type": "execute_result"
    }
   ],
   "source": [
    "ratings_df"
   ]
  },
  {
   "cell_type": "code",
   "execution_count": 163,
   "id": "7f5f6f6c",
   "metadata": {},
   "outputs": [
    {
     "data": {
      "text/plain": [
       "liked\n",
       "0    12547284\n",
       "1    12452811\n",
       "Name: rating, dtype: int64"
      ]
     },
     "execution_count": 163,
     "metadata": {},
     "output_type": "execute_result"
    }
   ],
   "source": [
    "ratings_df.groupby(\"liked\")['rating'].count()"
   ]
  },
  {
   "attachments": {},
   "cell_type": "markdown",
   "id": "98acce32",
   "metadata": {},
   "source": [
    "The data is ditributed with balance, so there is no need to consider taking sample as an imblanced data."
   ]
  },
  {
   "attachments": {},
   "cell_type": "markdown",
   "id": "ff579aca",
   "metadata": {},
   "source": [
    "Number of ratings is pretty huge. so I'm going to take a sample out of it. (~5%)"
   ]
  },
  {
   "cell_type": "code",
   "execution_count": 164,
   "id": "52f4750c",
   "metadata": {},
   "outputs": [],
   "source": [
    "sample_ratings = ratings_df.sample(frac=0.05)"
   ]
  },
  {
   "cell_type": "code",
   "execution_count": 165,
   "id": "4e5413c2",
   "metadata": {},
   "outputs": [
    {
     "data": {
      "text/html": [
       "<div>\n",
       "<style scoped>\n",
       "    .dataframe tbody tr th:only-of-type {\n",
       "        vertical-align: middle;\n",
       "    }\n",
       "\n",
       "    .dataframe tbody tr th {\n",
       "        vertical-align: top;\n",
       "    }\n",
       "\n",
       "    .dataframe thead th {\n",
       "        text-align: right;\n",
       "    }\n",
       "</style>\n",
       "<table border=\"1\" class=\"dataframe\">\n",
       "  <thead>\n",
       "    <tr style=\"text-align: right;\">\n",
       "      <th></th>\n",
       "      <th>userId</th>\n",
       "      <th>movieId</th>\n",
       "      <th>rating</th>\n",
       "      <th>liked</th>\n",
       "    </tr>\n",
       "  </thead>\n",
       "  <tbody>\n",
       "    <tr>\n",
       "      <th>14326703</th>\n",
       "      <td>92818</td>\n",
       "      <td>1029</td>\n",
       "      <td>3.5</td>\n",
       "      <td>0</td>\n",
       "    </tr>\n",
       "    <tr>\n",
       "      <th>23964481</th>\n",
       "      <td>155725</td>\n",
       "      <td>1393</td>\n",
       "      <td>3.0</td>\n",
       "      <td>0</td>\n",
       "    </tr>\n",
       "    <tr>\n",
       "      <th>18085728</th>\n",
       "      <td>117180</td>\n",
       "      <td>316</td>\n",
       "      <td>1.0</td>\n",
       "      <td>0</td>\n",
       "    </tr>\n",
       "    <tr>\n",
       "      <th>518291</th>\n",
       "      <td>3549</td>\n",
       "      <td>923</td>\n",
       "      <td>5.0</td>\n",
       "      <td>1</td>\n",
       "    </tr>\n",
       "    <tr>\n",
       "      <th>1944663</th>\n",
       "      <td>12944</td>\n",
       "      <td>5444</td>\n",
       "      <td>4.0</td>\n",
       "      <td>1</td>\n",
       "    </tr>\n",
       "    <tr>\n",
       "      <th>...</th>\n",
       "      <td>...</td>\n",
       "      <td>...</td>\n",
       "      <td>...</td>\n",
       "      <td>...</td>\n",
       "    </tr>\n",
       "    <tr>\n",
       "      <th>13715318</th>\n",
       "      <td>88841</td>\n",
       "      <td>58559</td>\n",
       "      <td>5.0</td>\n",
       "      <td>1</td>\n",
       "    </tr>\n",
       "    <tr>\n",
       "      <th>5257878</th>\n",
       "      <td>34160</td>\n",
       "      <td>69844</td>\n",
       "      <td>4.0</td>\n",
       "      <td>1</td>\n",
       "    </tr>\n",
       "    <tr>\n",
       "      <th>3062366</th>\n",
       "      <td>20178</td>\n",
       "      <td>1089</td>\n",
       "      <td>2.5</td>\n",
       "      <td>0</td>\n",
       "    </tr>\n",
       "    <tr>\n",
       "      <th>19485331</th>\n",
       "      <td>126490</td>\n",
       "      <td>2531</td>\n",
       "      <td>2.0</td>\n",
       "      <td>0</td>\n",
       "    </tr>\n",
       "    <tr>\n",
       "      <th>19327794</th>\n",
       "      <td>125475</td>\n",
       "      <td>1156</td>\n",
       "      <td>4.5</td>\n",
       "      <td>1</td>\n",
       "    </tr>\n",
       "  </tbody>\n",
       "</table>\n",
       "<p>1250005 rows × 4 columns</p>\n",
       "</div>"
      ],
      "text/plain": [
       "          userId  movieId  rating  liked\n",
       "14326703   92818     1029     3.5      0\n",
       "23964481  155725     1393     3.0      0\n",
       "18085728  117180      316     1.0      0\n",
       "518291      3549      923     5.0      1\n",
       "1944663    12944     5444     4.0      1\n",
       "...          ...      ...     ...    ...\n",
       "13715318   88841    58559     5.0      1\n",
       "5257878    34160    69844     4.0      1\n",
       "3062366    20178     1089     2.5      0\n",
       "19485331  126490     2531     2.0      0\n",
       "19327794  125475     1156     4.5      1\n",
       "\n",
       "[1250005 rows x 4 columns]"
      ]
     },
     "execution_count": 165,
     "metadata": {},
     "output_type": "execute_result"
    }
   ],
   "source": [
    "sample_ratings"
   ]
  },
  {
   "attachments": {},
   "cell_type": "markdown",
   "id": "7b84bb42",
   "metadata": {},
   "source": [
    "### Take sample form Ratings:"
   ]
  },
  {
   "attachments": {},
   "cell_type": "markdown",
   "id": "49f2d959",
   "metadata": {},
   "source": [
    "Let's take a look at the number of movies each user has rated."
   ]
  },
  {
   "cell_type": "code",
   "execution_count": 166,
   "id": "52e0ba5f",
   "metadata": {},
   "outputs": [],
   "source": [
    "reviews_per_user=sample_ratings.groupby(\"userId\").size()"
   ]
  },
  {
   "attachments": {},
   "cell_type": "markdown",
   "id": "f80dcb3b",
   "metadata": {},
   "source": [
    "It would be rational to use the reviewers who have at least a certain number of reviews on movies. Because we're going to user them in our 'user-item' matrix and 'user-user' matrix and our model would learn much better if the user has rated at least a certain number of movies rather than one."
   ]
  },
  {
   "cell_type": "code",
   "execution_count": 167,
   "id": "330841d9",
   "metadata": {},
   "outputs": [
    {
     "data": {
      "image/png": "[encoded data removed]",
      "text/plain": [
       "<Figure size 640x480 with 1 Axes>"
      ]
     },
     "metadata": {},
     "output_type": "display_data"
    }
   ],
   "source": [
    "\n",
    "# Plot the number of ratings\n",
    "plt.hist(reviews_per_user,bins=15)\n",
    "plt.xlabel('Users')\n",
    "plt.ylabel('Number of Ratings')\n",
    "plt.title('Number of Ratings per User')\n",
    "plt.show()"
   ]
  },
  {
   "attachments": {},
   "cell_type": "markdown",
   "id": "3963f8a4",
   "metadata": {},
   "source": [
    "I'm going to extract the users who have more than 10 reviews."
   ]
  },
  {
   "cell_type": "code",
   "execution_count": 168,
   "id": "972cf038",
   "metadata": {},
   "outputs": [],
   "source": [
    "reviews_per_user = reviews_per_user[reviews_per_user>10]"
   ]
  },
  {
   "cell_type": "code",
   "execution_count": 169,
   "id": "494c8ea9",
   "metadata": {},
   "outputs": [
    {
     "data": {
      "text/plain": [
       "Index([     3,      4,     12,     13,     19,     23,     31,     38,     41,\n",
       "           43,\n",
       "       ...\n",
       "       162498, 162507, 162508, 162512, 162516, 162519, 162521, 162529, 162533,\n",
       "       162534],\n",
       "      dtype='int64', name='userId', length=31992)"
      ]
     },
     "execution_count": 169,
     "metadata": {},
     "output_type": "execute_result"
    }
   ],
   "source": [
    "reviews_per_user.index"
   ]
  },
  {
   "cell_type": "code",
   "execution_count": 170,
   "id": "29907f1f",
   "metadata": {},
   "outputs": [],
   "source": [
    "sample_ratings =sample_ratings.sort_index()"
   ]
  },
  {
   "attachments": {},
   "cell_type": "markdown",
   "id": "4511195d",
   "metadata": {},
   "source": [
    "Keeping the users who have rated more than 10 movies in my sample."
   ]
  },
  {
   "cell_type": "code",
   "execution_count": 171,
   "id": "725cd0a1",
   "metadata": {},
   "outputs": [],
   "source": [
    "sample_ratings = sample_ratings[sample_ratings['userId'].isin(reviews_per_user.index)]"
   ]
  },
  {
   "cell_type": "code",
   "execution_count": 71,
   "id": "b9bace0a",
   "metadata": {},
   "outputs": [
    {
     "data": {
      "text/html": [
       "<div>\n",
       "<style scoped>\n",
       "    .dataframe tbody tr th:only-of-type {\n",
       "        vertical-align: middle;\n",
       "    }\n",
       "\n",
       "    .dataframe tbody tr th {\n",
       "        vertical-align: top;\n",
       "    }\n",
       "\n",
       "    .dataframe thead th {\n",
       "        text-align: right;\n",
       "    }\n",
       "</style>\n",
       "<table border=\"1\" class=\"dataframe\">\n",
       "  <thead>\n",
       "    <tr style=\"text-align: right;\">\n",
       "      <th></th>\n",
       "      <th>userId</th>\n",
       "      <th>movieId</th>\n",
       "      <th>rating</th>\n",
       "      <th>liked</th>\n",
       "    </tr>\n",
       "  </thead>\n",
       "  <tbody>\n",
       "    <tr>\n",
       "      <th>266</th>\n",
       "      <td>3</td>\n",
       "      <td>356</td>\n",
       "      <td>4.0</td>\n",
       "      <td>1</td>\n",
       "    </tr>\n",
       "    <tr>\n",
       "      <th>375</th>\n",
       "      <td>3</td>\n",
       "      <td>4167</td>\n",
       "      <td>3.5</td>\n",
       "      <td>0</td>\n",
       "    </tr>\n",
       "    <tr>\n",
       "      <th>381</th>\n",
       "      <td>3</td>\n",
       "      <td>4306</td>\n",
       "      <td>4.0</td>\n",
       "      <td>1</td>\n",
       "    </tr>\n",
       "    <tr>\n",
       "      <th>409</th>\n",
       "      <td>3</td>\n",
       "      <td>4979</td>\n",
       "      <td>4.0</td>\n",
       "      <td>1</td>\n",
       "    </tr>\n",
       "    <tr>\n",
       "      <th>439</th>\n",
       "      <td>3</td>\n",
       "      <td>5574</td>\n",
       "      <td>4.0</td>\n",
       "      <td>1</td>\n",
       "    </tr>\n",
       "    <tr>\n",
       "      <th>...</th>\n",
       "      <td>...</td>\n",
       "      <td>...</td>\n",
       "      <td>...</td>\n",
       "      <td>...</td>\n",
       "    </tr>\n",
       "    <tr>\n",
       "      <th>24999295</th>\n",
       "      <td>162534</td>\n",
       "      <td>122892</td>\n",
       "      <td>2.5</td>\n",
       "      <td>0</td>\n",
       "    </tr>\n",
       "    <tr>\n",
       "      <th>24999306</th>\n",
       "      <td>162534</td>\n",
       "      <td>136016</td>\n",
       "      <td>2.0</td>\n",
       "      <td>0</td>\n",
       "    </tr>\n",
       "    <tr>\n",
       "      <th>24999318</th>\n",
       "      <td>162534</td>\n",
       "      <td>152081</td>\n",
       "      <td>2.5</td>\n",
       "      <td>0</td>\n",
       "    </tr>\n",
       "    <tr>\n",
       "      <th>24999344</th>\n",
       "      <td>162534</td>\n",
       "      <td>174055</td>\n",
       "      <td>3.5</td>\n",
       "      <td>0</td>\n",
       "    </tr>\n",
       "    <tr>\n",
       "      <th>24999364</th>\n",
       "      <td>162534</td>\n",
       "      <td>185029</td>\n",
       "      <td>3.5</td>\n",
       "      <td>0</td>\n",
       "    </tr>\n",
       "  </tbody>\n",
       "</table>\n",
       "<p>813470 rows × 4 columns</p>\n",
       "</div>"
      ],
      "text/plain": [
       "          userId  movieId  rating  liked\n",
       "266            3      356     4.0      1\n",
       "375            3     4167     3.5      0\n",
       "381            3     4306     4.0      1\n",
       "409            3     4979     4.0      1\n",
       "439            3     5574     4.0      1\n",
       "...          ...      ...     ...    ...\n",
       "24999295  162534   122892     2.5      0\n",
       "24999306  162534   136016     2.0      0\n",
       "24999318  162534   152081     2.5      0\n",
       "24999344  162534   174055     3.5      0\n",
       "24999364  162534   185029     3.5      0\n",
       "\n",
       "[813470 rows x 4 columns]"
      ]
     },
     "execution_count": 71,
     "metadata": {},
     "output_type": "execute_result"
    }
   ],
   "source": [
    "sample_ratings"
   ]
  },
  {
   "attachments": {},
   "cell_type": "markdown",
   "id": "1aa4a258",
   "metadata": {},
   "source": [
    "This leaves us with around 800k reviews for our filtering and modeling."
   ]
  },
  {
   "cell_type": "code",
   "execution_count": 72,
   "id": "90f9eced",
   "metadata": {},
   "outputs": [],
   "source": [
    "\n",
    "#im gonna save it in a csv file\n",
    "sample_ratings.to_csv(\"Data/ratings_sample.csv\",index=False)"
   ]
  }
 ],
 "metadata": {
  "kernelspec": {
   "display_name": "plotly_bokeh",
   "language": "python",
   "name": "python3"
  },
  "language_info": {
   "codemirror_mode": {
    "name": "ipython",
    "version": 3
   },
   "file_extension": ".py",
   "mimetype": "text/x-python",
   "name": "python",
   "nbconvert_exporter": "python",
   "pygments_lexer": "ipython3",
   "version": "3.8.16"
  }
 },
 "nbformat": 4,
 "nbformat_minor": 5
}
