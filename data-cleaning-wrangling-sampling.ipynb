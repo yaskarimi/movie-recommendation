{
 "cells": [
  {
   "cell_type": "code",
   "execution_count": 1,
   "id": "0566566f",
   "metadata": {
    "tags": []
   },
   "outputs": [],
   "source": [
    "#importing the libraries that we need here\n",
    "import pandas as pd\n",
    "import numpy as np \n",
    "from pandas.api.types import CategoricalDtype\n",
    "from datetime import datetime \n",
    "import pandas as pd\n",
    "import numpy as np \n",
    "import nltk\n",
    "from sklearn.feature_extraction.text import TfidfVectorizer\n",
    "from sklearn.metrics.pairwise import cosine_similarity\n",
    "from sklearn.feature_extraction.text import CountVectorizer\n",
    "import matplotlib.pyplot as plt\n",
    "import seaborn as sns\n",
    "from sklearn.preprocessing import normalize"
   ]
  },
  {
   "attachments": {},
   "cell_type": "markdown",
   "id": "25b565f3",
   "metadata": {},
   "source": [
    "## movies metadata file cleaning"
   ]
  },
  {
   "cell_type": "code",
   "execution_count": 2,
   "id": "cc375e4e",
   "metadata": {
    "tags": []
   },
   "outputs": [
    {
     "name": "stderr",
     "output_type": "stream",
     "text": [
      "/var/folders/j1/rhs6cm1s6r33j2qkcxx0f8kr0000gn/T/ipykernel_3139/2760051603.py:1: DtypeWarning: Columns (10) have mixed types. Specify dtype option on import or set low_memory=False.\n",
      "  movies_df = pd.read_csv(\"Data/movies_metadata.csv\")\n"
     ]
    }
   ],
   "source": [
    "#loading the movie info table into a pandas dataframe\n",
    "movies_df = pd.read_csv(\"Data/movies_metadata.csv\")"
   ]
  },
  {
   "attachments": {},
   "cell_type": "markdown",
   "id": "f1862975",
   "metadata": {},
   "source": [
    "Checking out the shape of the dataframe:"
   ]
  },
  {
   "cell_type": "code",
   "execution_count": 3,
   "id": "ed46fbbd",
   "metadata": {},
   "outputs": [
    {
     "data": {
      "text/plain": [
       "(45466, 24)"
      ]
     },
     "execution_count": 3,
     "metadata": {},
     "output_type": "execute_result"
    }
   ],
   "source": [
    "movies_df.shape"
   ]
  },
  {
   "attachments": {},
   "cell_type": "markdown",
   "id": "f4a9bf1a",
   "metadata": {},
   "source": [
    "around 45k rows(movies) and 24 features for the movie description."
   ]
  },
  {
   "cell_type": "code",
   "execution_count": 56,
   "id": "0d741d7c",
   "metadata": {},
   "outputs": [
    {
     "data": {
      "text/html": [
       "<div>\n",
       "<style scoped>\n",
       "    .dataframe tbody tr th:only-of-type {\n",
       "        vertical-align: middle;\n",
       "    }\n",
       "\n",
       "    .dataframe tbody tr th {\n",
       "        vertical-align: top;\n",
       "    }\n",
       "\n",
       "    .dataframe thead th {\n",
       "        text-align: right;\n",
       "    }\n",
       "</style>\n",
       "<table border=\"1\" class=\"dataframe\">\n",
       "  <thead>\n",
       "    <tr style=\"text-align: right;\">\n",
       "      <th></th>\n",
       "      <th>adult</th>\n",
       "      <th>belongs_to_collection</th>\n",
       "      <th>budget</th>\n",
       "      <th>genres</th>\n",
       "      <th>homepage</th>\n",
       "      <th>id</th>\n",
       "      <th>imdb_id</th>\n",
       "      <th>original_language</th>\n",
       "      <th>original_title</th>\n",
       "      <th>overview</th>\n",
       "      <th>...</th>\n",
       "      <th>release_date</th>\n",
       "      <th>revenue</th>\n",
       "      <th>runtime</th>\n",
       "      <th>spoken_languages</th>\n",
       "      <th>status</th>\n",
       "      <th>tagline</th>\n",
       "      <th>title</th>\n",
       "      <th>video</th>\n",
       "      <th>vote_average</th>\n",
       "      <th>vote_count</th>\n",
       "    </tr>\n",
       "  </thead>\n",
       "  <tbody>\n",
       "    <tr>\n",
       "      <th>0</th>\n",
       "      <td>False</td>\n",
       "      <td>{'id': 10194, 'name': 'Toy Story Collection', ...</td>\n",
       "      <td>30000000</td>\n",
       "      <td>[{'id': 16, 'name': 'Animation'}, {'id': 35, '...</td>\n",
       "      <td>http://toystory.disney.com/toy-story</td>\n",
       "      <td>862</td>\n",
       "      <td>tt0114709</td>\n",
       "      <td>en</td>\n",
       "      <td>Toy Story</td>\n",
       "      <td>Led by Woody, Andy's toys live happily in his ...</td>\n",
       "      <td>...</td>\n",
       "      <td>1995-10-30</td>\n",
       "      <td>373554033.0</td>\n",
       "      <td>81.0</td>\n",
       "      <td>[{'iso_639_1': 'en', 'name': 'English'}]</td>\n",
       "      <td>Released</td>\n",
       "      <td>NaN</td>\n",
       "      <td>Toy Story</td>\n",
       "      <td>False</td>\n",
       "      <td>7.7</td>\n",
       "      <td>5415.0</td>\n",
       "    </tr>\n",
       "    <tr>\n",
       "      <th>1</th>\n",
       "      <td>False</td>\n",
       "      <td>NaN</td>\n",
       "      <td>65000000</td>\n",
       "      <td>[{'id': 12, 'name': 'Adventure'}, {'id': 14, '...</td>\n",
       "      <td>NaN</td>\n",
       "      <td>8844</td>\n",
       "      <td>tt0113497</td>\n",
       "      <td>en</td>\n",
       "      <td>Jumanji</td>\n",
       "      <td>When siblings Judy and Peter discover an encha...</td>\n",
       "      <td>...</td>\n",
       "      <td>1995-12-15</td>\n",
       "      <td>262797249.0</td>\n",
       "      <td>104.0</td>\n",
       "      <td>[{'iso_639_1': 'en', 'name': 'English'}, {'iso...</td>\n",
       "      <td>Released</td>\n",
       "      <td>Roll the dice and unleash the excitement!</td>\n",
       "      <td>Jumanji</td>\n",
       "      <td>False</td>\n",
       "      <td>6.9</td>\n",
       "      <td>2413.0</td>\n",
       "    </tr>\n",
       "    <tr>\n",
       "      <th>2</th>\n",
       "      <td>False</td>\n",
       "      <td>{'id': 119050, 'name': 'Grumpy Old Men Collect...</td>\n",
       "      <td>0</td>\n",
       "      <td>[{'id': 10749, 'name': 'Romance'}, {'id': 35, ...</td>\n",
       "      <td>NaN</td>\n",
       "      <td>15602</td>\n",
       "      <td>tt0113228</td>\n",
       "      <td>en</td>\n",
       "      <td>Grumpier Old Men</td>\n",
       "      <td>A family wedding reignites the ancient feud be...</td>\n",
       "      <td>...</td>\n",
       "      <td>1995-12-22</td>\n",
       "      <td>0.0</td>\n",
       "      <td>101.0</td>\n",
       "      <td>[{'iso_639_1': 'en', 'name': 'English'}]</td>\n",
       "      <td>Released</td>\n",
       "      <td>Still Yelling. Still Fighting. Still Ready for...</td>\n",
       "      <td>Grumpier Old Men</td>\n",
       "      <td>False</td>\n",
       "      <td>6.5</td>\n",
       "      <td>92.0</td>\n",
       "    </tr>\n",
       "    <tr>\n",
       "      <th>3</th>\n",
       "      <td>False</td>\n",
       "      <td>NaN</td>\n",
       "      <td>16000000</td>\n",
       "      <td>[{'id': 35, 'name': 'Comedy'}, {'id': 18, 'nam...</td>\n",
       "      <td>NaN</td>\n",
       "      <td>31357</td>\n",
       "      <td>tt0114885</td>\n",
       "      <td>en</td>\n",
       "      <td>Waiting to Exhale</td>\n",
       "      <td>Cheated on, mistreated and stepped on, the wom...</td>\n",
       "      <td>...</td>\n",
       "      <td>1995-12-22</td>\n",
       "      <td>81452156.0</td>\n",
       "      <td>127.0</td>\n",
       "      <td>[{'iso_639_1': 'en', 'name': 'English'}]</td>\n",
       "      <td>Released</td>\n",
       "      <td>Friends are the people who let you be yourself...</td>\n",
       "      <td>Waiting to Exhale</td>\n",
       "      <td>False</td>\n",
       "      <td>6.1</td>\n",
       "      <td>34.0</td>\n",
       "    </tr>\n",
       "    <tr>\n",
       "      <th>4</th>\n",
       "      <td>False</td>\n",
       "      <td>{'id': 96871, 'name': 'Father of the Bride Col...</td>\n",
       "      <td>0</td>\n",
       "      <td>[{'id': 35, 'name': 'Comedy'}]</td>\n",
       "      <td>NaN</td>\n",
       "      <td>11862</td>\n",
       "      <td>tt0113041</td>\n",
       "      <td>en</td>\n",
       "      <td>Father of the Bride Part II</td>\n",
       "      <td>Just when George Banks has recovered from his ...</td>\n",
       "      <td>...</td>\n",
       "      <td>1995-02-10</td>\n",
       "      <td>76578911.0</td>\n",
       "      <td>106.0</td>\n",
       "      <td>[{'iso_639_1': 'en', 'name': 'English'}]</td>\n",
       "      <td>Released</td>\n",
       "      <td>Just When His World Is Back To Normal... He's ...</td>\n",
       "      <td>Father of the Bride Part II</td>\n",
       "      <td>False</td>\n",
       "      <td>5.7</td>\n",
       "      <td>173.0</td>\n",
       "    </tr>\n",
       "  </tbody>\n",
       "</table>\n",
       "<p>5 rows × 24 columns</p>\n",
       "</div>"
      ],
      "text/plain": [
       "   adult                              belongs_to_collection    budget   \n",
       "0  False  {'id': 10194, 'name': 'Toy Story Collection', ...  30000000  \\\n",
       "1  False                                                NaN  65000000   \n",
       "2  False  {'id': 119050, 'name': 'Grumpy Old Men Collect...         0   \n",
       "3  False                                                NaN  16000000   \n",
       "4  False  {'id': 96871, 'name': 'Father of the Bride Col...         0   \n",
       "\n",
       "                                              genres   \n",
       "0  [{'id': 16, 'name': 'Animation'}, {'id': 35, '...  \\\n",
       "1  [{'id': 12, 'name': 'Adventure'}, {'id': 14, '...   \n",
       "2  [{'id': 10749, 'name': 'Romance'}, {'id': 35, ...   \n",
       "3  [{'id': 35, 'name': 'Comedy'}, {'id': 18, 'nam...   \n",
       "4                     [{'id': 35, 'name': 'Comedy'}]   \n",
       "\n",
       "                               homepage     id    imdb_id original_language   \n",
       "0  http://toystory.disney.com/toy-story    862  tt0114709                en  \\\n",
       "1                                   NaN   8844  tt0113497                en   \n",
       "2                                   NaN  15602  tt0113228                en   \n",
       "3                                   NaN  31357  tt0114885                en   \n",
       "4                                   NaN  11862  tt0113041                en   \n",
       "\n",
       "                original_title   \n",
       "0                    Toy Story  \\\n",
       "1                      Jumanji   \n",
       "2             Grumpier Old Men   \n",
       "3            Waiting to Exhale   \n",
       "4  Father of the Bride Part II   \n",
       "\n",
       "                                            overview  ... release_date   \n",
       "0  Led by Woody, Andy's toys live happily in his ...  ...   1995-10-30  \\\n",
       "1  When siblings Judy and Peter discover an encha...  ...   1995-12-15   \n",
       "2  A family wedding reignites the ancient feud be...  ...   1995-12-22   \n",
       "3  Cheated on, mistreated and stepped on, the wom...  ...   1995-12-22   \n",
       "4  Just when George Banks has recovered from his ...  ...   1995-02-10   \n",
       "\n",
       "       revenue runtime                                   spoken_languages   \n",
       "0  373554033.0    81.0           [{'iso_639_1': 'en', 'name': 'English'}]  \\\n",
       "1  262797249.0   104.0  [{'iso_639_1': 'en', 'name': 'English'}, {'iso...   \n",
       "2          0.0   101.0           [{'iso_639_1': 'en', 'name': 'English'}]   \n",
       "3   81452156.0   127.0           [{'iso_639_1': 'en', 'name': 'English'}]   \n",
       "4   76578911.0   106.0           [{'iso_639_1': 'en', 'name': 'English'}]   \n",
       "\n",
       "     status                                            tagline   \n",
       "0  Released                                                NaN  \\\n",
       "1  Released          Roll the dice and unleash the excitement!   \n",
       "2  Released  Still Yelling. Still Fighting. Still Ready for...   \n",
       "3  Released  Friends are the people who let you be yourself...   \n",
       "4  Released  Just When His World Is Back To Normal... He's ...   \n",
       "\n",
       "                         title  video vote_average vote_count  \n",
       "0                    Toy Story  False          7.7     5415.0  \n",
       "1                      Jumanji  False          6.9     2413.0  \n",
       "2             Grumpier Old Men  False          6.5       92.0  \n",
       "3            Waiting to Exhale  False          6.1       34.0  \n",
       "4  Father of the Bride Part II  False          5.7      173.0  \n",
       "\n",
       "[5 rows x 24 columns]"
      ]
     },
     "execution_count": 56,
     "metadata": {},
     "output_type": "execute_result"
    }
   ],
   "source": [
    "movies_df.head()"
   ]
  },
  {
   "attachments": {},
   "cell_type": "markdown",
   "id": "2a9b0cd4",
   "metadata": {},
   "source": [
    "Dropping the columns that we're not going to use"
   ]
  },
  {
   "cell_type": "code",
   "execution_count": 5,
   "id": "429d8cdf",
   "metadata": {
    "tags": []
   },
   "outputs": [],
   "source": [
    "data_df = movies_df.drop(columns = [\"adult\",\"belongs_to_collection\",\"homepage\" ,\"tagline\",\"status\",\"production_companies\",\"production_countries\",\n",
    "                         \"revenue\",\"video\",\"imdb_id\",\"budget\",\"poster_path\"] , inplace= False)"
   ]
  },
  {
   "cell_type": "code",
   "execution_count": 6,
   "id": "4f4df941",
   "metadata": {
    "tags": []
   },
   "outputs": [
    {
     "data": {
      "text/plain": [
       "genres                 0\n",
       "id                     0\n",
       "original_language     11\n",
       "original_title         0\n",
       "overview             954\n",
       "popularity             5\n",
       "release_date          87\n",
       "runtime              263\n",
       "spoken_languages       6\n",
       "title                  6\n",
       "vote_average           6\n",
       "vote_count             6\n",
       "dtype: int64"
      ]
     },
     "execution_count": 6,
     "metadata": {},
     "output_type": "execute_result"
    }
   ],
   "source": [
    "data_df.isnull().sum()"
   ]
  },
  {
   "attachments": {},
   "cell_type": "markdown",
   "id": "e9df758e",
   "metadata": {},
   "source": [
    "### Dealing appropriatly with the null values in the columns\n"
   ]
  },
  {
   "attachments": {},
   "cell_type": "markdown",
   "id": "82ac6a2a",
   "metadata": {},
   "source": [
    "Replacing the nulls in `vote` columns with 0."
   ]
  },
  {
   "cell_type": "code",
   "execution_count": 7,
   "id": "7c38d701",
   "metadata": {
    "tags": []
   },
   "outputs": [],
   "source": [
    "data_df[data_df['vote_average'].isnull()] = 0\n",
    "data_df[data_df['vote_count'].isnull()] = 0"
   ]
  },
  {
   "cell_type": "code",
   "execution_count": 8,
   "id": "13676f45",
   "metadata": {
    "tags": []
   },
   "outputs": [
    {
     "data": {
      "text/plain": [
       "genres                 0\n",
       "id                     0\n",
       "original_language     11\n",
       "original_title         0\n",
       "overview             954\n",
       "popularity             0\n",
       "release_date          84\n",
       "runtime              257\n",
       "spoken_languages       0\n",
       "title                  0\n",
       "vote_average           0\n",
       "vote_count             0\n",
       "dtype: int64"
      ]
     },
     "execution_count": 8,
     "metadata": {},
     "output_type": "execute_result"
    }
   ],
   "source": [
    "data_df.isnull().sum()"
   ]
  },
  {
   "cell_type": "code",
   "execution_count": 9,
   "id": "97cb5453",
   "metadata": {
    "tags": []
   },
   "outputs": [
    {
     "data": {
      "text/plain": [
       "genres                 0\n",
       "id                     0\n",
       "original_language     11\n",
       "original_title         0\n",
       "overview             954\n",
       "popularity             0\n",
       "release_date          84\n",
       "runtime              257\n",
       "spoken_languages       0\n",
       "title                  0\n",
       "vote_average           0\n",
       "vote_count             0\n",
       "dtype: int64"
      ]
     },
     "execution_count": 9,
     "metadata": {},
     "output_type": "execute_result"
    }
   ],
   "source": [
    "data_df.isnull().sum()"
   ]
  },
  {
   "attachments": {},
   "cell_type": "markdown",
   "id": "27860e2b",
   "metadata": {},
   "source": [
    "Replacing the null values in `overview` column with title:"
   ]
  },
  {
   "cell_type": "code",
   "execution_count": 10,
   "id": "55949b72",
   "metadata": {
    "tags": []
   },
   "outputs": [],
   "source": [
    "data_df['overview']= data_df['overview'].fillna(data_df['title'])"
   ]
  },
  {
   "attachments": {},
   "cell_type": "markdown",
   "id": "78d06049",
   "metadata": {},
   "source": [
    "Replacing the null values in `runtime` column with the average runtime of the movies:"
   ]
  },
  {
   "cell_type": "code",
   "execution_count": 11,
   "id": "a24b7185",
   "metadata": {
    "tags": []
   },
   "outputs": [],
   "source": [
    "data_df[data_df['runtime'].isnull()] = data_df['runtime'].mean()"
   ]
  },
  {
   "cell_type": "code",
   "execution_count": 12,
   "id": "cd699bea",
   "metadata": {
    "tags": []
   },
   "outputs": [
    {
     "data": {
      "text/plain": [
       "genres                0\n",
       "id                    0\n",
       "original_language    11\n",
       "original_title        0\n",
       "overview              0\n",
       "popularity            0\n",
       "release_date         73\n",
       "runtime               0\n",
       "spoken_languages      0\n",
       "title                 0\n",
       "vote_average          0\n",
       "vote_count            0\n",
       "dtype: int64"
      ]
     },
     "execution_count": 12,
     "metadata": {},
     "output_type": "execute_result"
    }
   ],
   "source": [
    "data_df.isnull().sum()"
   ]
  },
  {
   "cell_type": "code",
   "execution_count": 13,
   "id": "f3621b20",
   "metadata": {
    "tags": []
   },
   "outputs": [],
   "source": [
    "data_df[\"original_language\"] = data_df['original_language'].fillna(data_df.spoken_languages[1])\n"
   ]
  },
  {
   "cell_type": "code",
   "execution_count": 14,
   "id": "777aa635",
   "metadata": {},
   "outputs": [
    {
     "data": {
      "text/plain": [
       "genres                0\n",
       "id                    0\n",
       "original_language     0\n",
       "original_title        0\n",
       "overview              0\n",
       "popularity            0\n",
       "release_date         73\n",
       "runtime               0\n",
       "spoken_languages      0\n",
       "title                 0\n",
       "vote_average          0\n",
       "vote_count            0\n",
       "dtype: int64"
      ]
     },
     "execution_count": 14,
     "metadata": {},
     "output_type": "execute_result"
    }
   ],
   "source": [
    "data_df.isnull().sum()"
   ]
  },
  {
   "attachments": {},
   "cell_type": "markdown",
   "id": "ab201e77",
   "metadata": {},
   "source": [
    "Below: I'm going to convert the `release date` columns into `datetime` format."
   ]
  },
  {
   "cell_type": "code",
   "execution_count": 15,
   "id": "386262df",
   "metadata": {
    "tags": []
   },
   "outputs": [],
   "source": [
    "data_df = data_df[pd.to_datetime(data_df[\"release_date\"],errors='coerce').notnull()]\n",
    "data_df['release_date'] = pd.to_datetime(data_df['release_date'])\n"
   ]
  },
  {
   "cell_type": "code",
   "execution_count": 16,
   "id": "258f470f",
   "metadata": {
    "tags": []
   },
   "outputs": [
    {
     "name": "stdout",
     "output_type": "stream",
     "text": [
      "<class 'pandas.core.frame.DataFrame'>\n",
      "Index: 45130 entries, 0 to 45465\n",
      "Data columns (total 12 columns):\n",
      " #   Column             Non-Null Count  Dtype         \n",
      "---  ------             --------------  -----         \n",
      " 0   genres             45130 non-null  object        \n",
      " 1   id                 45130 non-null  object        \n",
      " 2   original_language  45130 non-null  object        \n",
      " 3   original_title     45130 non-null  object        \n",
      " 4   overview           45130 non-null  object        \n",
      " 5   popularity         45130 non-null  object        \n",
      " 6   release_date       45130 non-null  datetime64[ns]\n",
      " 7   runtime            45130 non-null  float64       \n",
      " 8   spoken_languages   45130 non-null  object        \n",
      " 9   title              45130 non-null  object        \n",
      " 10  vote_average       45130 non-null  float64       \n",
      " 11  vote_count         45130 non-null  float64       \n",
      "dtypes: datetime64[ns](1), float64(3), object(8)\n",
      "memory usage: 4.5+ MB\n"
     ]
    }
   ],
   "source": [
    "#sanity check on data types\n",
    "data_df.info()"
   ]
  },
  {
   "cell_type": "code",
   "execution_count": 17,
   "id": "96825f5f",
   "metadata": {
    "tags": []
   },
   "outputs": [],
   "source": [
    "data_df[data_df['release_date'].isnull()] = data_df['release_date'].mean()"
   ]
  },
  {
   "cell_type": "code",
   "execution_count": 18,
   "id": "0966b25a",
   "metadata": {
    "tags": []
   },
   "outputs": [
    {
     "data": {
      "text/plain": [
       "genres               0\n",
       "id                   0\n",
       "original_language    0\n",
       "original_title       0\n",
       "overview             0\n",
       "popularity           0\n",
       "release_date         0\n",
       "runtime              0\n",
       "spoken_languages     0\n",
       "title                0\n",
       "vote_average         0\n",
       "vote_count           0\n",
       "dtype: int64"
      ]
     },
     "execution_count": 18,
     "metadata": {},
     "output_type": "execute_result"
    }
   ],
   "source": [
    "data_df.isnull().sum()"
   ]
  },
  {
   "cell_type": "code",
   "execution_count": 19,
   "id": "3bf3bfe0",
   "metadata": {
    "tags": []
   },
   "outputs": [
    {
     "data": {
      "text/plain": [
       "genres               0\n",
       "id                   0\n",
       "original_language    0\n",
       "original_title       0\n",
       "overview             0\n",
       "popularity           0\n",
       "release_date         0\n",
       "runtime              0\n",
       "spoken_languages     0\n",
       "title                0\n",
       "vote_average         0\n",
       "vote_count           0\n",
       "dtype: int64"
      ]
     },
     "execution_count": 19,
     "metadata": {},
     "output_type": "execute_result"
    }
   ],
   "source": [
    "#sanity check\n",
    "data_df.isnull().sum()"
   ]
  },
  {
   "attachments": {},
   "cell_type": "markdown",
   "id": "d2155b5b",
   "metadata": {},
   "source": [
    "Converting `movieId` to int cause we're gonna use that later:"
   ]
  },
  {
   "cell_type": "code",
   "execution_count": 20,
   "id": "f3233b47",
   "metadata": {},
   "outputs": [],
   "source": [
    "data_df['id'] = data_df['id'].astype('int64')"
   ]
  },
  {
   "cell_type": "code",
   "execution_count": 21,
   "id": "39bf10c6",
   "metadata": {
    "tags": []
   },
   "outputs": [
    {
     "name": "stdout",
     "output_type": "stream",
     "text": [
      "<class 'pandas.core.frame.DataFrame'>\n",
      "Index: 45130 entries, 0 to 45465\n",
      "Data columns (total 12 columns):\n",
      " #   Column             Non-Null Count  Dtype         \n",
      "---  ------             --------------  -----         \n",
      " 0   genres             45130 non-null  object        \n",
      " 1   id                 45130 non-null  int64         \n",
      " 2   original_language  45130 non-null  object        \n",
      " 3   original_title     45130 non-null  object        \n",
      " 4   overview           45130 non-null  object        \n",
      " 5   popularity         45130 non-null  object        \n",
      " 6   release_date       45130 non-null  datetime64[ns]\n",
      " 7   runtime            45130 non-null  float64       \n",
      " 8   spoken_languages   45130 non-null  object        \n",
      " 9   title              45130 non-null  object        \n",
      " 10  vote_average       45130 non-null  float64       \n",
      " 11  vote_count         45130 non-null  float64       \n",
      "dtypes: datetime64[ns](1), float64(3), int64(1), object(7)\n",
      "memory usage: 4.5+ MB\n"
     ]
    }
   ],
   "source": [
    "data_df.info() #sanity check"
   ]
  },
  {
   "attachments": {},
   "cell_type": "markdown",
   "id": "2160b0a7",
   "metadata": {
    "tags": []
   },
   "source": [
    "Changing name of the `id` col to `movieID` so it has the same name as reveiw column: to join the review table with movies."
   ]
  },
  {
   "cell_type": "code",
   "execution_count": 22,
   "id": "38042483",
   "metadata": {
    "tags": []
   },
   "outputs": [],
   "source": [
    "movies =data_df.rename(columns = {'id' : 'movieId'})\n",
    "#our new dataframe dataframe that we're gonna work on "
   ]
  },
  {
   "attachments": {},
   "cell_type": "markdown",
   "id": "e2f26b4f",
   "metadata": {},
   "source": [
    "#### Dropping the `genres` \n",
    "since it is a string and then creating a new `genre` as type of a list of genres."
   ]
  },
  {
   "cell_type": "code",
   "execution_count": 23,
   "id": "1c3b7337",
   "metadata": {},
   "outputs": [],
   "source": [
    "movies['genres'] = movies['genres'].astype(\"str\")\n",
    "genre_list=[]\n",
    "for genre in movies['genres']:\n",
    "    genre = genre.strip(\"[\").strip(\"]\")\n",
    "    genre_list.append(genre.split(','))\n",
    "result = [] #list of lists\n",
    "\n",
    "\n",
    "for i in range(len(genre_list)):\n",
    "    \n",
    "    ls=[] #list of dicts\n",
    "    \n",
    "    for item in genre_list[i]:\n",
    "        temp = {}\n",
    "        item = item.replace(\"'\", \"\").replace(\"{\", \"\").replace(\"}\", \"\")\n",
    "        if len(item.split(\":\"))==2:\n",
    "            key, value = item.split(\":\")\n",
    "            key = key.strip()\n",
    "            value = value.strip()\n",
    "            temp[key] = value\n",
    "   \n",
    "            ls.append(temp)\n",
    "    result.append(ls)    "
   ]
  },
  {
   "attachments": {},
   "cell_type": "markdown",
   "id": "4354391d",
   "metadata": {},
   "source": [
    "Creating a new column (`genre`) and putting the genres as a list of genres in it."
   ]
  },
  {
   "cell_type": "code",
   "execution_count": 24,
   "id": "625aef25",
   "metadata": {},
   "outputs": [],
   "source": [
    "genres_names = []\n",
    "for item in result:\n",
    "    for dct in item:\n",
    "        if 'name' not in dct.keys():\n",
    "            item.remove(dct)\n",
    "gen_list = []\n",
    "for item in result:\n",
    "    genres = []\n",
    "    for dct in item:\n",
    "        k,val = list(dct.items())[0]\n",
    "        genres.append(val)\n",
    "        \n",
    "    gen_list.append(genres)\n",
    "    \n",
    "movies['genre']=gen_list"
   ]
  },
  {
   "cell_type": "code",
   "execution_count": 25,
   "id": "94d5f42c",
   "metadata": {},
   "outputs": [],
   "source": [
    "#dropping `genres` col\n",
    "movies.drop(columns=\"genres\" , inplace=True)"
   ]
  },
  {
   "attachments": {},
   "cell_type": "markdown",
   "id": "05c36f41",
   "metadata": {},
   "source": [
    "I'm going to convert the genres for the movies into binary format so we can workk with them.\n",
    "\n",
    "Getting dummies for genres:"
   ]
  },
  {
   "cell_type": "code",
   "execution_count": 26,
   "id": "6ff656f3",
   "metadata": {},
   "outputs": [],
   "source": [
    "dummies_df  = pd.get_dummies(movies['genre'].explode()).groupby(level=0).sum()\n"
   ]
  },
  {
   "cell_type": "code",
   "execution_count": 27,
   "id": "c5a583f1",
   "metadata": {},
   "outputs": [
    {
     "data": {
      "text/html": [
       "<div>\n",
       "<style scoped>\n",
       "    .dataframe tbody tr th:only-of-type {\n",
       "        vertical-align: middle;\n",
       "    }\n",
       "\n",
       "    .dataframe tbody tr th {\n",
       "        vertical-align: top;\n",
       "    }\n",
       "\n",
       "    .dataframe thead th {\n",
       "        text-align: right;\n",
       "    }\n",
       "</style>\n",
       "<table border=\"1\" class=\"dataframe\">\n",
       "  <thead>\n",
       "    <tr style=\"text-align: right;\">\n",
       "      <th></th>\n",
       "      <th>Action</th>\n",
       "      <th>Adventure</th>\n",
       "      <th>Animation</th>\n",
       "      <th>Comedy</th>\n",
       "      <th>Crime</th>\n",
       "      <th>Documentary</th>\n",
       "      <th>Drama</th>\n",
       "      <th>Family</th>\n",
       "      <th>Fantasy</th>\n",
       "      <th>Foreign</th>\n",
       "      <th>History</th>\n",
       "      <th>Horror</th>\n",
       "      <th>Music</th>\n",
       "      <th>Mystery</th>\n",
       "      <th>Romance</th>\n",
       "      <th>Science Fiction</th>\n",
       "      <th>TV Movie</th>\n",
       "      <th>Thriller</th>\n",
       "      <th>War</th>\n",
       "      <th>Western</th>\n",
       "    </tr>\n",
       "  </thead>\n",
       "  <tbody>\n",
       "    <tr>\n",
       "      <th>0</th>\n",
       "      <td>0</td>\n",
       "      <td>0</td>\n",
       "      <td>1</td>\n",
       "      <td>1</td>\n",
       "      <td>0</td>\n",
       "      <td>0</td>\n",
       "      <td>0</td>\n",
       "      <td>1</td>\n",
       "      <td>0</td>\n",
       "      <td>0</td>\n",
       "      <td>0</td>\n",
       "      <td>0</td>\n",
       "      <td>0</td>\n",
       "      <td>0</td>\n",
       "      <td>0</td>\n",
       "      <td>0</td>\n",
       "      <td>0</td>\n",
       "      <td>0</td>\n",
       "      <td>0</td>\n",
       "      <td>0</td>\n",
       "    </tr>\n",
       "    <tr>\n",
       "      <th>1</th>\n",
       "      <td>0</td>\n",
       "      <td>1</td>\n",
       "      <td>0</td>\n",
       "      <td>0</td>\n",
       "      <td>0</td>\n",
       "      <td>0</td>\n",
       "      <td>0</td>\n",
       "      <td>1</td>\n",
       "      <td>1</td>\n",
       "      <td>0</td>\n",
       "      <td>0</td>\n",
       "      <td>0</td>\n",
       "      <td>0</td>\n",
       "      <td>0</td>\n",
       "      <td>0</td>\n",
       "      <td>0</td>\n",
       "      <td>0</td>\n",
       "      <td>0</td>\n",
       "      <td>0</td>\n",
       "      <td>0</td>\n",
       "    </tr>\n",
       "    <tr>\n",
       "      <th>2</th>\n",
       "      <td>0</td>\n",
       "      <td>0</td>\n",
       "      <td>0</td>\n",
       "      <td>1</td>\n",
       "      <td>0</td>\n",
       "      <td>0</td>\n",
       "      <td>0</td>\n",
       "      <td>0</td>\n",
       "      <td>0</td>\n",
       "      <td>0</td>\n",
       "      <td>0</td>\n",
       "      <td>0</td>\n",
       "      <td>0</td>\n",
       "      <td>0</td>\n",
       "      <td>1</td>\n",
       "      <td>0</td>\n",
       "      <td>0</td>\n",
       "      <td>0</td>\n",
       "      <td>0</td>\n",
       "      <td>0</td>\n",
       "    </tr>\n",
       "    <tr>\n",
       "      <th>3</th>\n",
       "      <td>0</td>\n",
       "      <td>0</td>\n",
       "      <td>0</td>\n",
       "      <td>1</td>\n",
       "      <td>0</td>\n",
       "      <td>0</td>\n",
       "      <td>1</td>\n",
       "      <td>0</td>\n",
       "      <td>0</td>\n",
       "      <td>0</td>\n",
       "      <td>0</td>\n",
       "      <td>0</td>\n",
       "      <td>0</td>\n",
       "      <td>0</td>\n",
       "      <td>1</td>\n",
       "      <td>0</td>\n",
       "      <td>0</td>\n",
       "      <td>0</td>\n",
       "      <td>0</td>\n",
       "      <td>0</td>\n",
       "    </tr>\n",
       "    <tr>\n",
       "      <th>4</th>\n",
       "      <td>0</td>\n",
       "      <td>0</td>\n",
       "      <td>0</td>\n",
       "      <td>1</td>\n",
       "      <td>0</td>\n",
       "      <td>0</td>\n",
       "      <td>0</td>\n",
       "      <td>0</td>\n",
       "      <td>0</td>\n",
       "      <td>0</td>\n",
       "      <td>0</td>\n",
       "      <td>0</td>\n",
       "      <td>0</td>\n",
       "      <td>0</td>\n",
       "      <td>0</td>\n",
       "      <td>0</td>\n",
       "      <td>0</td>\n",
       "      <td>0</td>\n",
       "      <td>0</td>\n",
       "      <td>0</td>\n",
       "    </tr>\n",
       "    <tr>\n",
       "      <th>...</th>\n",
       "      <td>...</td>\n",
       "      <td>...</td>\n",
       "      <td>...</td>\n",
       "      <td>...</td>\n",
       "      <td>...</td>\n",
       "      <td>...</td>\n",
       "      <td>...</td>\n",
       "      <td>...</td>\n",
       "      <td>...</td>\n",
       "      <td>...</td>\n",
       "      <td>...</td>\n",
       "      <td>...</td>\n",
       "      <td>...</td>\n",
       "      <td>...</td>\n",
       "      <td>...</td>\n",
       "      <td>...</td>\n",
       "      <td>...</td>\n",
       "      <td>...</td>\n",
       "      <td>...</td>\n",
       "      <td>...</td>\n",
       "    </tr>\n",
       "    <tr>\n",
       "      <th>45460</th>\n",
       "      <td>1</td>\n",
       "      <td>0</td>\n",
       "      <td>0</td>\n",
       "      <td>0</td>\n",
       "      <td>0</td>\n",
       "      <td>0</td>\n",
       "      <td>1</td>\n",
       "      <td>0</td>\n",
       "      <td>0</td>\n",
       "      <td>0</td>\n",
       "      <td>0</td>\n",
       "      <td>0</td>\n",
       "      <td>0</td>\n",
       "      <td>0</td>\n",
       "      <td>1</td>\n",
       "      <td>0</td>\n",
       "      <td>0</td>\n",
       "      <td>0</td>\n",
       "      <td>0</td>\n",
       "      <td>0</td>\n",
       "    </tr>\n",
       "    <tr>\n",
       "      <th>45462</th>\n",
       "      <td>0</td>\n",
       "      <td>0</td>\n",
       "      <td>0</td>\n",
       "      <td>0</td>\n",
       "      <td>0</td>\n",
       "      <td>0</td>\n",
       "      <td>1</td>\n",
       "      <td>0</td>\n",
       "      <td>0</td>\n",
       "      <td>0</td>\n",
       "      <td>0</td>\n",
       "      <td>0</td>\n",
       "      <td>0</td>\n",
       "      <td>0</td>\n",
       "      <td>0</td>\n",
       "      <td>0</td>\n",
       "      <td>0</td>\n",
       "      <td>0</td>\n",
       "      <td>0</td>\n",
       "      <td>0</td>\n",
       "    </tr>\n",
       "    <tr>\n",
       "      <th>45463</th>\n",
       "      <td>1</td>\n",
       "      <td>0</td>\n",
       "      <td>0</td>\n",
       "      <td>0</td>\n",
       "      <td>0</td>\n",
       "      <td>0</td>\n",
       "      <td>1</td>\n",
       "      <td>0</td>\n",
       "      <td>0</td>\n",
       "      <td>0</td>\n",
       "      <td>0</td>\n",
       "      <td>0</td>\n",
       "      <td>0</td>\n",
       "      <td>0</td>\n",
       "      <td>0</td>\n",
       "      <td>0</td>\n",
       "      <td>0</td>\n",
       "      <td>1</td>\n",
       "      <td>0</td>\n",
       "      <td>0</td>\n",
       "    </tr>\n",
       "    <tr>\n",
       "      <th>45464</th>\n",
       "      <td>0</td>\n",
       "      <td>0</td>\n",
       "      <td>0</td>\n",
       "      <td>0</td>\n",
       "      <td>0</td>\n",
       "      <td>0</td>\n",
       "      <td>0</td>\n",
       "      <td>0</td>\n",
       "      <td>0</td>\n",
       "      <td>0</td>\n",
       "      <td>0</td>\n",
       "      <td>0</td>\n",
       "      <td>0</td>\n",
       "      <td>0</td>\n",
       "      <td>0</td>\n",
       "      <td>0</td>\n",
       "      <td>0</td>\n",
       "      <td>0</td>\n",
       "      <td>0</td>\n",
       "      <td>0</td>\n",
       "    </tr>\n",
       "    <tr>\n",
       "      <th>45465</th>\n",
       "      <td>0</td>\n",
       "      <td>0</td>\n",
       "      <td>0</td>\n",
       "      <td>0</td>\n",
       "      <td>0</td>\n",
       "      <td>0</td>\n",
       "      <td>0</td>\n",
       "      <td>0</td>\n",
       "      <td>0</td>\n",
       "      <td>0</td>\n",
       "      <td>0</td>\n",
       "      <td>0</td>\n",
       "      <td>0</td>\n",
       "      <td>0</td>\n",
       "      <td>0</td>\n",
       "      <td>0</td>\n",
       "      <td>0</td>\n",
       "      <td>0</td>\n",
       "      <td>0</td>\n",
       "      <td>0</td>\n",
       "    </tr>\n",
       "  </tbody>\n",
       "</table>\n",
       "<p>45130 rows × 20 columns</p>\n",
       "</div>"
      ],
      "text/plain": [
       "       Action  Adventure  Animation  Comedy  Crime  Documentary  Drama   \n",
       "0           0          0          1       1      0            0      0  \\\n",
       "1           0          1          0       0      0            0      0   \n",
       "2           0          0          0       1      0            0      0   \n",
       "3           0          0          0       1      0            0      1   \n",
       "4           0          0          0       1      0            0      0   \n",
       "...       ...        ...        ...     ...    ...          ...    ...   \n",
       "45460       1          0          0       0      0            0      1   \n",
       "45462       0          0          0       0      0            0      1   \n",
       "45463       1          0          0       0      0            0      1   \n",
       "45464       0          0          0       0      0            0      0   \n",
       "45465       0          0          0       0      0            0      0   \n",
       "\n",
       "       Family  Fantasy  Foreign  History  Horror  Music  Mystery  Romance   \n",
       "0           1        0        0        0       0      0        0        0  \\\n",
       "1           1        1        0        0       0      0        0        0   \n",
       "2           0        0        0        0       0      0        0        1   \n",
       "3           0        0        0        0       0      0        0        1   \n",
       "4           0        0        0        0       0      0        0        0   \n",
       "...       ...      ...      ...      ...     ...    ...      ...      ...   \n",
       "45460       0        0        0        0       0      0        0        1   \n",
       "45462       0        0        0        0       0      0        0        0   \n",
       "45463       0        0        0        0       0      0        0        0   \n",
       "45464       0        0        0        0       0      0        0        0   \n",
       "45465       0        0        0        0       0      0        0        0   \n",
       "\n",
       "       Science Fiction  TV Movie  Thriller  War  Western  \n",
       "0                    0         0         0    0        0  \n",
       "1                    0         0         0    0        0  \n",
       "2                    0         0         0    0        0  \n",
       "3                    0         0         0    0        0  \n",
       "4                    0         0         0    0        0  \n",
       "...                ...       ...       ...  ...      ...  \n",
       "45460                0         0         0    0        0  \n",
       "45462                0         0         0    0        0  \n",
       "45463                0         0         1    0        0  \n",
       "45464                0         0         0    0        0  \n",
       "45465                0         0         0    0        0  \n",
       "\n",
       "[45130 rows x 20 columns]"
      ]
     },
     "execution_count": 27,
     "metadata": {},
     "output_type": "execute_result"
    }
   ],
   "source": [
    "dummies_df"
   ]
  },
  {
   "attachments": {},
   "cell_type": "markdown",
   "id": "eb3c080e",
   "metadata": {},
   "source": [
    "Concating the dummies to the movies dataframe:"
   ]
  },
  {
   "cell_type": "code",
   "execution_count": 28,
   "id": "47897641",
   "metadata": {},
   "outputs": [],
   "source": [
    "movies = movies.join(dummies_df)"
   ]
  },
  {
   "cell_type": "code",
   "execution_count": 29,
   "id": "f9045755",
   "metadata": {},
   "outputs": [
    {
     "data": {
      "text/plain": [
       "0"
      ]
     },
     "execution_count": 29,
     "metadata": {},
     "output_type": "execute_result"
    }
   ],
   "source": [
    "movies.isna().sum().sum()\n",
    "#just checking for any nulls after the join"
   ]
  },
  {
   "cell_type": "code",
   "execution_count": 30,
   "id": "064668a1",
   "metadata": {},
   "outputs": [
    {
     "data": {
      "text/plain": [
       "32197"
      ]
     },
     "execution_count": 30,
     "metadata": {},
     "output_type": "execute_result"
    }
   ],
   "source": [
    "len(movies[movies['original_language'] == 'en'].values)\n",
    "#checking the number of movies that have English as their first language"
   ]
  },
  {
   "cell_type": "code",
   "execution_count": 31,
   "id": "dfda1ef2",
   "metadata": {},
   "outputs": [
    {
     "name": "stdout",
     "output_type": "stream",
     "text": [
      "['Animation', 'Drama', 'Crime', 'Action', 'History', 'Documentary', 'Thriller', 'Comedy', 'Mystery', 'Horror', 'TV Movie', 'Western', 'Fantasy', 'Foreign', 'War', 'Science Fiction', 'Family', 'Music', 'Romance', 'Adventure']\n"
     ]
    }
   ],
   "source": [
    "# unique_genres = set()\n",
    "# for genres_list in movies['genre']:\n",
    "#     unique_genres.update(genres_list)\n",
    "\n",
    "# # Convert the set of unique genres back to a list\n",
    "# unique_genres = list(unique_genres)\n",
    "\n",
    "# print(unique_genres)"
   ]
  },
  {
   "attachments": {},
   "cell_type": "markdown",
   "id": "e0858e0d",
   "metadata": {},
   "source": [
    "Now Let's see how many votes, movies have.\n",
    "\n",
    "It would be rational to consider those who have at least a number of vote counts."
   ]
  },
  {
   "cell_type": "code",
   "execution_count": 57,
   "id": "8e3d3486",
   "metadata": {},
   "outputs": [],
   "source": [
    "count_per_movie = movies.groupby([\"vote_count\"])['movieId'].count()\n"
   ]
  },
  {
   "cell_type": "code",
   "execution_count": 58,
   "id": "c3f6ae5c",
   "metadata": {},
   "outputs": [
    {
     "data": {
      "image/png": "[encoded data removed]",
      "text/plain": [
       "<Figure size 640x480 with 1 Axes>"
      ]
     },
     "metadata": {},
     "output_type": "display_data"
    }
   ],
   "source": [
    "plt.figure()\n",
    "plt.title(\"Number of reviews for each movies\")\n",
    "plt.hist(count_per_movie,bins=30)\n",
    "plt.xlabel(\"movie count\")\n",
    "plt.ylabel(\"Reviews\")\n",
    "plt.show()"
   ]
  },
  {
   "attachments": {},
   "cell_type": "markdown",
   "id": "0e8e99e4",
   "metadata": {},
   "source": [
    "I'm gonna go with movies which have a vote higher than 100. (above 100 reviews)"
   ]
  },
  {
   "cell_type": "code",
   "execution_count": 34,
   "id": "8eeac458",
   "metadata": {},
   "outputs": [],
   "source": [
    "\n",
    "filtered_df = movies[movies[\"vote_count\"] > 100]\n",
    "#This leaves us with 6k movies(which have above 100 reviews)\n",
    "filtered_df\n",
    "movies =filtered_df"
   ]
  },
  {
   "cell_type": "code",
   "execution_count": 35,
   "id": "9fb11768",
   "metadata": {},
   "outputs": [],
   "source": [
    "# Select only the columns that have numeric data types\n",
    "genres_df = movies.drop(movies.iloc[:, 1:13],axis=1,inplace=False)"
   ]
  },
  {
   "cell_type": "code",
   "execution_count": 36,
   "id": "eb17d1be",
   "metadata": {},
   "outputs": [],
   "source": [
    "genres_df.to_csv(\"Data/genres_dummies.csv\")"
   ]
  },
  {
   "cell_type": "code",
   "execution_count": 59,
   "id": "0d82b438",
   "metadata": {},
   "outputs": [],
   "source": [
    "movies.to_csv(\"Data/movies.csv\")\n",
    "#saving the movies dataframe that consist of 6k movies/ we're gonna do the filtering on these."
   ]
  },
  {
   "attachments": {},
   "cell_type": "markdown",
   "id": "b7df708d",
   "metadata": {},
   "source": [
    "## ratings file cleaning"
   ]
  },
  {
   "cell_type": "code",
   "execution_count": 38,
   "id": "d595c95c",
   "metadata": {
    "tags": []
   },
   "outputs": [],
   "source": [
    "ratings_df = pd.read_csv(\"Data/ratings.csv\")"
   ]
  },
  {
   "cell_type": "code",
   "execution_count": 39,
   "id": "f7d3f222",
   "metadata": {
    "tags": []
   },
   "outputs": [
    {
     "data": {
      "text/html": [
       "<div>\n",
       "<style scoped>\n",
       "    .dataframe tbody tr th:only-of-type {\n",
       "        vertical-align: middle;\n",
       "    }\n",
       "\n",
       "    .dataframe tbody tr th {\n",
       "        vertical-align: top;\n",
       "    }\n",
       "\n",
       "    .dataframe thead th {\n",
       "        text-align: right;\n",
       "    }\n",
       "</style>\n",
       "<table border=\"1\" class=\"dataframe\">\n",
       "  <thead>\n",
       "    <tr style=\"text-align: right;\">\n",
       "      <th></th>\n",
       "      <th>userId</th>\n",
       "      <th>movieId</th>\n",
       "      <th>rating</th>\n",
       "      <th>timestamp</th>\n",
       "    </tr>\n",
       "  </thead>\n",
       "  <tbody>\n",
       "    <tr>\n",
       "      <th>0</th>\n",
       "      <td>1</td>\n",
       "      <td>296</td>\n",
       "      <td>5.0</td>\n",
       "      <td>1147880044</td>\n",
       "    </tr>\n",
       "    <tr>\n",
       "      <th>1</th>\n",
       "      <td>1</td>\n",
       "      <td>306</td>\n",
       "      <td>3.5</td>\n",
       "      <td>1147868817</td>\n",
       "    </tr>\n",
       "  </tbody>\n",
       "</table>\n",
       "</div>"
      ],
      "text/plain": [
       "   userId  movieId  rating   timestamp\n",
       "0       1      296     5.0  1147880044\n",
       "1       1      306     3.5  1147868817"
      ]
     },
     "execution_count": 39,
     "metadata": {},
     "output_type": "execute_result"
    }
   ],
   "source": [
    "ratings_df.head(2)"
   ]
  },
  {
   "cell_type": "code",
   "execution_count": null,
   "id": "0c123cf9",
   "metadata": {
    "tags": []
   },
   "outputs": [],
   "source": [
    "#we're gonna drop the timestamp col since we're not gonna use it for anything\n",
    "ratings_df.drop(columns = \"timestamp\", inplace=True)"
   ]
  },
  {
   "attachments": {},
   "cell_type": "markdown",
   "id": "8615246c",
   "metadata": {},
   "source": [
    "Checking for any null values."
   ]
  },
  {
   "cell_type": "code",
   "execution_count": 41,
   "id": "10d0aa57",
   "metadata": {
    "tags": []
   },
   "outputs": [
    {
     "data": {
      "text/plain": [
       "userId     0\n",
       "movieId    0\n",
       "rating     0\n",
       "dtype: int64"
      ]
     },
     "execution_count": 41,
     "metadata": {},
     "output_type": "execute_result"
    }
   ],
   "source": [
    "ratings_df.isnull().sum()"
   ]
  },
  {
   "cell_type": "code",
   "execution_count": 42,
   "id": "e132ec0c",
   "metadata": {},
   "outputs": [
    {
     "data": {
      "text/html": [
       "<div>\n",
       "<style scoped>\n",
       "    .dataframe tbody tr th:only-of-type {\n",
       "        vertical-align: middle;\n",
       "    }\n",
       "\n",
       "    .dataframe tbody tr th {\n",
       "        vertical-align: top;\n",
       "    }\n",
       "\n",
       "    .dataframe thead th {\n",
       "        text-align: right;\n",
       "    }\n",
       "</style>\n",
       "<table border=\"1\" class=\"dataframe\">\n",
       "  <thead>\n",
       "    <tr style=\"text-align: right;\">\n",
       "      <th></th>\n",
       "      <th>userId</th>\n",
       "      <th>movieId</th>\n",
       "      <th>rating</th>\n",
       "    </tr>\n",
       "  </thead>\n",
       "  <tbody>\n",
       "    <tr>\n",
       "      <th>0</th>\n",
       "      <td>1</td>\n",
       "      <td>296</td>\n",
       "      <td>5.0</td>\n",
       "    </tr>\n",
       "    <tr>\n",
       "      <th>1</th>\n",
       "      <td>1</td>\n",
       "      <td>306</td>\n",
       "      <td>3.5</td>\n",
       "    </tr>\n",
       "    <tr>\n",
       "      <th>2</th>\n",
       "      <td>1</td>\n",
       "      <td>307</td>\n",
       "      <td>5.0</td>\n",
       "    </tr>\n",
       "    <tr>\n",
       "      <th>3</th>\n",
       "      <td>1</td>\n",
       "      <td>665</td>\n",
       "      <td>5.0</td>\n",
       "    </tr>\n",
       "    <tr>\n",
       "      <th>4</th>\n",
       "      <td>1</td>\n",
       "      <td>899</td>\n",
       "      <td>3.5</td>\n",
       "    </tr>\n",
       "    <tr>\n",
       "      <th>...</th>\n",
       "      <td>...</td>\n",
       "      <td>...</td>\n",
       "      <td>...</td>\n",
       "    </tr>\n",
       "    <tr>\n",
       "      <th>25000090</th>\n",
       "      <td>162541</td>\n",
       "      <td>50872</td>\n",
       "      <td>4.5</td>\n",
       "    </tr>\n",
       "    <tr>\n",
       "      <th>25000091</th>\n",
       "      <td>162541</td>\n",
       "      <td>55768</td>\n",
       "      <td>2.5</td>\n",
       "    </tr>\n",
       "    <tr>\n",
       "      <th>25000092</th>\n",
       "      <td>162541</td>\n",
       "      <td>56176</td>\n",
       "      <td>2.0</td>\n",
       "    </tr>\n",
       "    <tr>\n",
       "      <th>25000093</th>\n",
       "      <td>162541</td>\n",
       "      <td>58559</td>\n",
       "      <td>4.0</td>\n",
       "    </tr>\n",
       "    <tr>\n",
       "      <th>25000094</th>\n",
       "      <td>162541</td>\n",
       "      <td>63876</td>\n",
       "      <td>5.0</td>\n",
       "    </tr>\n",
       "  </tbody>\n",
       "</table>\n",
       "<p>25000095 rows × 3 columns</p>\n",
       "</div>"
      ],
      "text/plain": [
       "          userId  movieId  rating\n",
       "0              1      296     5.0\n",
       "1              1      306     3.5\n",
       "2              1      307     5.0\n",
       "3              1      665     5.0\n",
       "4              1      899     3.5\n",
       "...          ...      ...     ...\n",
       "25000090  162541    50872     4.5\n",
       "25000091  162541    55768     2.5\n",
       "25000092  162541    56176     2.0\n",
       "25000093  162541    58559     4.0\n",
       "25000094  162541    63876     5.0\n",
       "\n",
       "[25000095 rows x 3 columns]"
      ]
     },
     "execution_count": 42,
     "metadata": {},
     "output_type": "execute_result"
    }
   ],
   "source": [
    "ratings_df"
   ]
  },
  {
   "cell_type": "code",
   "execution_count": 43,
   "id": "0168c173",
   "metadata": {},
   "outputs": [],
   "source": [
    "ratings_df['liked'] =ratings_df['rating'].apply(lambda x: 1 if x > 3.5 else 0)\n"
   ]
  },
  {
   "cell_type": "code",
   "execution_count": 44,
   "id": "c0197463",
   "metadata": {},
   "outputs": [
    {
     "data": {
      "text/html": [
       "<div>\n",
       "<style scoped>\n",
       "    .dataframe tbody tr th:only-of-type {\n",
       "        vertical-align: middle;\n",
       "    }\n",
       "\n",
       "    .dataframe tbody tr th {\n",
       "        vertical-align: top;\n",
       "    }\n",
       "\n",
       "    .dataframe thead th {\n",
       "        text-align: right;\n",
       "    }\n",
       "</style>\n",
       "<table border=\"1\" class=\"dataframe\">\n",
       "  <thead>\n",
       "    <tr style=\"text-align: right;\">\n",
       "      <th></th>\n",
       "      <th>userId</th>\n",
       "      <th>movieId</th>\n",
       "      <th>rating</th>\n",
       "      <th>liked</th>\n",
       "    </tr>\n",
       "  </thead>\n",
       "  <tbody>\n",
       "    <tr>\n",
       "      <th>0</th>\n",
       "      <td>1</td>\n",
       "      <td>296</td>\n",
       "      <td>5.0</td>\n",
       "      <td>1</td>\n",
       "    </tr>\n",
       "    <tr>\n",
       "      <th>1</th>\n",
       "      <td>1</td>\n",
       "      <td>306</td>\n",
       "      <td>3.5</td>\n",
       "      <td>0</td>\n",
       "    </tr>\n",
       "    <tr>\n",
       "      <th>2</th>\n",
       "      <td>1</td>\n",
       "      <td>307</td>\n",
       "      <td>5.0</td>\n",
       "      <td>1</td>\n",
       "    </tr>\n",
       "    <tr>\n",
       "      <th>3</th>\n",
       "      <td>1</td>\n",
       "      <td>665</td>\n",
       "      <td>5.0</td>\n",
       "      <td>1</td>\n",
       "    </tr>\n",
       "    <tr>\n",
       "      <th>4</th>\n",
       "      <td>1</td>\n",
       "      <td>899</td>\n",
       "      <td>3.5</td>\n",
       "      <td>0</td>\n",
       "    </tr>\n",
       "    <tr>\n",
       "      <th>...</th>\n",
       "      <td>...</td>\n",
       "      <td>...</td>\n",
       "      <td>...</td>\n",
       "      <td>...</td>\n",
       "    </tr>\n",
       "    <tr>\n",
       "      <th>25000090</th>\n",
       "      <td>162541</td>\n",
       "      <td>50872</td>\n",
       "      <td>4.5</td>\n",
       "      <td>1</td>\n",
       "    </tr>\n",
       "    <tr>\n",
       "      <th>25000091</th>\n",
       "      <td>162541</td>\n",
       "      <td>55768</td>\n",
       "      <td>2.5</td>\n",
       "      <td>0</td>\n",
       "    </tr>\n",
       "    <tr>\n",
       "      <th>25000092</th>\n",
       "      <td>162541</td>\n",
       "      <td>56176</td>\n",
       "      <td>2.0</td>\n",
       "      <td>0</td>\n",
       "    </tr>\n",
       "    <tr>\n",
       "      <th>25000093</th>\n",
       "      <td>162541</td>\n",
       "      <td>58559</td>\n",
       "      <td>4.0</td>\n",
       "      <td>1</td>\n",
       "    </tr>\n",
       "    <tr>\n",
       "      <th>25000094</th>\n",
       "      <td>162541</td>\n",
       "      <td>63876</td>\n",
       "      <td>5.0</td>\n",
       "      <td>1</td>\n",
       "    </tr>\n",
       "  </tbody>\n",
       "</table>\n",
       "<p>25000095 rows × 4 columns</p>\n",
       "</div>"
      ],
      "text/plain": [
       "          userId  movieId  rating  liked\n",
       "0              1      296     5.0      1\n",
       "1              1      306     3.5      0\n",
       "2              1      307     5.0      1\n",
       "3              1      665     5.0      1\n",
       "4              1      899     3.5      0\n",
       "...          ...      ...     ...    ...\n",
       "25000090  162541    50872     4.5      1\n",
       "25000091  162541    55768     2.5      0\n",
       "25000092  162541    56176     2.0      0\n",
       "25000093  162541    58559     4.0      1\n",
       "25000094  162541    63876     5.0      1\n",
       "\n",
       "[25000095 rows x 4 columns]"
      ]
     },
     "execution_count": 44,
     "metadata": {},
     "output_type": "execute_result"
    }
   ],
   "source": [
    "ratings_df"
   ]
  },
  {
   "cell_type": "code",
   "execution_count": 45,
   "id": "7f5f6f6c",
   "metadata": {},
   "outputs": [
    {
     "data": {
      "text/plain": [
       "liked\n",
       "0    12547284\n",
       "1    12452811\n",
       "Name: rating, dtype: int64"
      ]
     },
     "execution_count": 45,
     "metadata": {},
     "output_type": "execute_result"
    }
   ],
   "source": [
    "ratings_df.groupby(\"liked\")['rating'].count()"
   ]
  },
  {
   "attachments": {},
   "cell_type": "markdown",
   "id": "98acce32",
   "metadata": {},
   "source": [
    "The data is ditributed with balance, so there is no need to consider taking sample as an imblanced data."
   ]
  },
  {
   "attachments": {},
   "cell_type": "markdown",
   "id": "ff579aca",
   "metadata": {},
   "source": [
    "Number of ratings is pretty huge. so I'm going to take a sample out of it. (~5%)"
   ]
  },
  {
   "cell_type": "code",
   "execution_count": 63,
   "id": "52f4750c",
   "metadata": {},
   "outputs": [],
   "source": [
    "sample_ratings = ratings_df.sample(frac=0.05)"
   ]
  },
  {
   "cell_type": "code",
   "execution_count": 64,
   "id": "4e5413c2",
   "metadata": {},
   "outputs": [
    {
     "data": {
      "text/html": [
       "<div>\n",
       "<style scoped>\n",
       "    .dataframe tbody tr th:only-of-type {\n",
       "        vertical-align: middle;\n",
       "    }\n",
       "\n",
       "    .dataframe tbody tr th {\n",
       "        vertical-align: top;\n",
       "    }\n",
       "\n",
       "    .dataframe thead th {\n",
       "        text-align: right;\n",
       "    }\n",
       "</style>\n",
       "<table border=\"1\" class=\"dataframe\">\n",
       "  <thead>\n",
       "    <tr style=\"text-align: right;\">\n",
       "      <th></th>\n",
       "      <th>userId</th>\n",
       "      <th>movieId</th>\n",
       "      <th>rating</th>\n",
       "      <th>liked</th>\n",
       "    </tr>\n",
       "  </thead>\n",
       "  <tbody>\n",
       "    <tr>\n",
       "      <th>12255027</th>\n",
       "      <td>79381</td>\n",
       "      <td>45186</td>\n",
       "      <td>4.0</td>\n",
       "      <td>1</td>\n",
       "    </tr>\n",
       "    <tr>\n",
       "      <th>23748393</th>\n",
       "      <td>154229</td>\n",
       "      <td>1436</td>\n",
       "      <td>1.0</td>\n",
       "      <td>0</td>\n",
       "    </tr>\n",
       "    <tr>\n",
       "      <th>19496323</th>\n",
       "      <td>126569</td>\n",
       "      <td>1259</td>\n",
       "      <td>4.0</td>\n",
       "      <td>1</td>\n",
       "    </tr>\n",
       "    <tr>\n",
       "      <th>11804786</th>\n",
       "      <td>76531</td>\n",
       "      <td>30793</td>\n",
       "      <td>3.5</td>\n",
       "      <td>0</td>\n",
       "    </tr>\n",
       "    <tr>\n",
       "      <th>20610516</th>\n",
       "      <td>134054</td>\n",
       "      <td>106489</td>\n",
       "      <td>2.5</td>\n",
       "      <td>0</td>\n",
       "    </tr>\n",
       "    <tr>\n",
       "      <th>...</th>\n",
       "      <td>...</td>\n",
       "      <td>...</td>\n",
       "      <td>...</td>\n",
       "      <td>...</td>\n",
       "    </tr>\n",
       "    <tr>\n",
       "      <th>7416855</th>\n",
       "      <td>48095</td>\n",
       "      <td>6461</td>\n",
       "      <td>4.0</td>\n",
       "      <td>1</td>\n",
       "    </tr>\n",
       "    <tr>\n",
       "      <th>12062546</th>\n",
       "      <td>78244</td>\n",
       "      <td>7570</td>\n",
       "      <td>1.0</td>\n",
       "      <td>0</td>\n",
       "    </tr>\n",
       "    <tr>\n",
       "      <th>6874691</th>\n",
       "      <td>44597</td>\n",
       "      <td>152081</td>\n",
       "      <td>4.5</td>\n",
       "      <td>1</td>\n",
       "    </tr>\n",
       "    <tr>\n",
       "      <th>3163034</th>\n",
       "      <td>20850</td>\n",
       "      <td>2794</td>\n",
       "      <td>4.0</td>\n",
       "      <td>1</td>\n",
       "    </tr>\n",
       "    <tr>\n",
       "      <th>5562525</th>\n",
       "      <td>35992</td>\n",
       "      <td>77561</td>\n",
       "      <td>2.0</td>\n",
       "      <td>0</td>\n",
       "    </tr>\n",
       "  </tbody>\n",
       "</table>\n",
       "<p>1250005 rows × 4 columns</p>\n",
       "</div>"
      ],
      "text/plain": [
       "          userId  movieId  rating  liked\n",
       "12255027   79381    45186     4.0      1\n",
       "23748393  154229     1436     1.0      0\n",
       "19496323  126569     1259     4.0      1\n",
       "11804786   76531    30793     3.5      0\n",
       "20610516  134054   106489     2.5      0\n",
       "...          ...      ...     ...    ...\n",
       "7416855    48095     6461     4.0      1\n",
       "12062546   78244     7570     1.0      0\n",
       "6874691    44597   152081     4.5      1\n",
       "3163034    20850     2794     4.0      1\n",
       "5562525    35992    77561     2.0      0\n",
       "\n",
       "[1250005 rows x 4 columns]"
      ]
     },
     "execution_count": 64,
     "metadata": {},
     "output_type": "execute_result"
    }
   ],
   "source": [
    "sample_ratings"
   ]
  },
  {
   "attachments": {},
   "cell_type": "markdown",
   "id": "7b84bb42",
   "metadata": {},
   "source": [
    "### Take sample form Ratings:"
   ]
  },
  {
   "attachments": {},
   "cell_type": "markdown",
   "id": "49f2d959",
   "metadata": {},
   "source": [
    "Let's take a look at the number of movies each user has rated."
   ]
  },
  {
   "cell_type": "code",
   "execution_count": 65,
   "id": "52e0ba5f",
   "metadata": {},
   "outputs": [],
   "source": [
    "reviews_per_user=sample_ratings.groupby(\"userId\").size()"
   ]
  },
  {
   "attachments": {},
   "cell_type": "markdown",
   "id": "f80dcb3b",
   "metadata": {},
   "source": [
    "It would be rational to use the reviewers who have at least a certain number of reviews on movies. Because we're going to user them in our 'user-item' matrix and 'user-user' matrix and our model would learn much better if the user has rated at least a certain number of movies rather than one."
   ]
  },
  {
   "cell_type": "code",
   "execution_count": 66,
   "id": "330841d9",
   "metadata": {},
   "outputs": [
    {
     "data": {
      "image/png": "[encoded data removed]",
      "text/plain": [
       "<Figure size 640x480 with 1 Axes>"
      ]
     },
     "metadata": {},
     "output_type": "display_data"
    }
   ],
   "source": [
    "\n",
    "# Plot the number of ratings\n",
    "plt.hist(reviews_per_user,bins=15)\n",
    "plt.xlabel('Users')\n",
    "plt.ylabel('Number of Ratings')\n",
    "plt.title('Number of Ratings per User')\n",
    "plt.show()"
   ]
  },
  {
   "attachments": {},
   "cell_type": "markdown",
   "id": "3963f8a4",
   "metadata": {},
   "source": [
    "I'm going to extract the users who have more than 10 reviews."
   ]
  },
  {
   "cell_type": "code",
   "execution_count": 67,
   "id": "972cf038",
   "metadata": {},
   "outputs": [],
   "source": [
    "reviews_per_user = reviews_per_user[reviews_per_user>10]"
   ]
  },
  {
   "cell_type": "code",
   "execution_count": 68,
   "id": "494c8ea9",
   "metadata": {},
   "outputs": [
    {
     "data": {
      "text/plain": [
       "Index([     3,      9,     12,     13,     19,     23,     31,     38,     43,\n",
       "           57,\n",
       "       ...\n",
       "       162488, 162495, 162508, 162512, 162516, 162519, 162521, 162529, 162533,\n",
       "       162534],\n",
       "      dtype='int64', name='userId', length=32137)"
      ]
     },
     "execution_count": 68,
     "metadata": {},
     "output_type": "execute_result"
    }
   ],
   "source": [
    "reviews_per_user.index"
   ]
  },
  {
   "cell_type": "code",
   "execution_count": 69,
   "id": "29907f1f",
   "metadata": {},
   "outputs": [],
   "source": [
    "sample_ratings =sample_ratings.sort_index()"
   ]
  },
  {
   "cell_type": "code",
   "execution_count": 70,
   "id": "725cd0a1",
   "metadata": {},
   "outputs": [],
   "source": [
    "sample_ratings = sample_ratings[sample_ratings['userId'].isin(reviews_per_user.index)]"
   ]
  },
  {
   "cell_type": "code",
   "execution_count": 71,
   "id": "b9bace0a",
   "metadata": {},
   "outputs": [
    {
     "data": {
      "text/html": [
       "<div>\n",
       "<style scoped>\n",
       "    .dataframe tbody tr th:only-of-type {\n",
       "        vertical-align: middle;\n",
       "    }\n",
       "\n",
       "    .dataframe tbody tr th {\n",
       "        vertical-align: top;\n",
       "    }\n",
       "\n",
       "    .dataframe thead th {\n",
       "        text-align: right;\n",
       "    }\n",
       "</style>\n",
       "<table border=\"1\" class=\"dataframe\">\n",
       "  <thead>\n",
       "    <tr style=\"text-align: right;\">\n",
       "      <th></th>\n",
       "      <th>userId</th>\n",
       "      <th>movieId</th>\n",
       "      <th>rating</th>\n",
       "      <th>liked</th>\n",
       "    </tr>\n",
       "  </thead>\n",
       "  <tbody>\n",
       "    <tr>\n",
       "      <th>266</th>\n",
       "      <td>3</td>\n",
       "      <td>356</td>\n",
       "      <td>4.0</td>\n",
       "      <td>1</td>\n",
       "    </tr>\n",
       "    <tr>\n",
       "      <th>375</th>\n",
       "      <td>3</td>\n",
       "      <td>4167</td>\n",
       "      <td>3.5</td>\n",
       "      <td>0</td>\n",
       "    </tr>\n",
       "    <tr>\n",
       "      <th>381</th>\n",
       "      <td>3</td>\n",
       "      <td>4306</td>\n",
       "      <td>4.0</td>\n",
       "      <td>1</td>\n",
       "    </tr>\n",
       "    <tr>\n",
       "      <th>409</th>\n",
       "      <td>3</td>\n",
       "      <td>4979</td>\n",
       "      <td>4.0</td>\n",
       "      <td>1</td>\n",
       "    </tr>\n",
       "    <tr>\n",
       "      <th>439</th>\n",
       "      <td>3</td>\n",
       "      <td>5574</td>\n",
       "      <td>4.0</td>\n",
       "      <td>1</td>\n",
       "    </tr>\n",
       "    <tr>\n",
       "      <th>...</th>\n",
       "      <td>...</td>\n",
       "      <td>...</td>\n",
       "      <td>...</td>\n",
       "      <td>...</td>\n",
       "    </tr>\n",
       "    <tr>\n",
       "      <th>24999295</th>\n",
       "      <td>162534</td>\n",
       "      <td>122892</td>\n",
       "      <td>2.5</td>\n",
       "      <td>0</td>\n",
       "    </tr>\n",
       "    <tr>\n",
       "      <th>24999306</th>\n",
       "      <td>162534</td>\n",
       "      <td>136016</td>\n",
       "      <td>2.0</td>\n",
       "      <td>0</td>\n",
       "    </tr>\n",
       "    <tr>\n",
       "      <th>24999318</th>\n",
       "      <td>162534</td>\n",
       "      <td>152081</td>\n",
       "      <td>2.5</td>\n",
       "      <td>0</td>\n",
       "    </tr>\n",
       "    <tr>\n",
       "      <th>24999344</th>\n",
       "      <td>162534</td>\n",
       "      <td>174055</td>\n",
       "      <td>3.5</td>\n",
       "      <td>0</td>\n",
       "    </tr>\n",
       "    <tr>\n",
       "      <th>24999364</th>\n",
       "      <td>162534</td>\n",
       "      <td>185029</td>\n",
       "      <td>3.5</td>\n",
       "      <td>0</td>\n",
       "    </tr>\n",
       "  </tbody>\n",
       "</table>\n",
       "<p>813470 rows × 4 columns</p>\n",
       "</div>"
      ],
      "text/plain": [
       "          userId  movieId  rating  liked\n",
       "266            3      356     4.0      1\n",
       "375            3     4167     3.5      0\n",
       "381            3     4306     4.0      1\n",
       "409            3     4979     4.0      1\n",
       "439            3     5574     4.0      1\n",
       "...          ...      ...     ...    ...\n",
       "24999295  162534   122892     2.5      0\n",
       "24999306  162534   136016     2.0      0\n",
       "24999318  162534   152081     2.5      0\n",
       "24999344  162534   174055     3.5      0\n",
       "24999364  162534   185029     3.5      0\n",
       "\n",
       "[813470 rows x 4 columns]"
      ]
     },
     "execution_count": 71,
     "metadata": {},
     "output_type": "execute_result"
    }
   ],
   "source": [
    "sample_ratings"
   ]
  },
  {
   "attachments": {},
   "cell_type": "markdown",
   "id": "1aa4a258",
   "metadata": {},
   "source": [
    "This leaves us with around 800k reviews for our filtering and modeling."
   ]
  },
  {
   "cell_type": "code",
   "execution_count": 72,
   "id": "90f9eced",
   "metadata": {},
   "outputs": [],
   "source": [
    "\n",
    "#im gonna save it in a csv file\n",
    "sample_ratings.to_csv(\"Data/ratings_sample.csv\",index=False)"
   ]
  },
  {
   "cell_type": "code",
   "execution_count": null,
   "id": "f082e7f2",
   "metadata": {},
   "outputs": [],
   "source": []
  }
 ],
 "metadata": {
  "kernelspec": {
   "display_name": "plotly_bokeh",
   "language": "python",
   "name": "python3"
  },
  "language_info": {
   "codemirror_mode": {
    "name": "ipython",
    "version": 3
   },
   "file_extension": ".py",
   "mimetype": "text/x-python",
   "name": "python",
   "nbconvert_exporter": "python",
   "pygments_lexer": "ipython3",
   "version": "3.8.16"
  }
 },
 "nbformat": 4,
 "nbformat_minor": 5
}
