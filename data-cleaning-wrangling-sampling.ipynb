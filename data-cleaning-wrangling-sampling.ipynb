{
 "cells": [
  {
   "cell_type": "code",
   "execution_count": 210,
   "id": "0566566f",
   "metadata": {
    "tags": []
   },
   "outputs": [],
   "source": [
    "import pandas as pd\n",
    "import numpy as np \n",
    "from pandas.api.types import CategoricalDtype\n",
    "from datetime import datetime \n",
    "import pandas as pd\n",
    "import numpy as np \n",
    "import nltk\n",
    "from sklearn.feature_extraction.text import TfidfVectorizer\n",
    "from sklearn.metrics.pairwise import cosine_similarity\n",
    "from sklearn.feature_extraction.text import CountVectorizer\n",
    "import matplotlib.pyplot as plt\n",
    "from sklearn.preprocessing import normalize"
   ]
  },
  {
   "attachments": {},
   "cell_type": "markdown",
   "id": "25b565f3",
   "metadata": {},
   "source": [
    "## movies metadata file cleaning"
   ]
  },
  {
   "cell_type": "code",
   "execution_count": 404,
   "id": "cc375e4e",
   "metadata": {
    "tags": []
   },
   "outputs": [
    {
     "name": "stderr",
     "output_type": "stream",
     "text": [
      "/var/folders/j1/rhs6cm1s6r33j2qkcxx0f8kr0000gn/T/ipykernel_19062/2760051603.py:1: DtypeWarning: Columns (10) have mixed types. Specify dtype option on import or set low_memory=False.\n",
      "  movies_df = pd.read_csv(\"Data/movies_metadata.csv\")\n"
     ]
    }
   ],
   "source": [
    "movies_df = pd.read_csv(\"Data/movies_metadata.csv\")"
   ]
  },
  {
   "cell_type": "code",
   "execution_count": 405,
   "id": "ed46fbbd",
   "metadata": {},
   "outputs": [
    {
     "data": {
      "text/plain": [
       "(45466, 24)"
      ]
     },
     "execution_count": 405,
     "metadata": {},
     "output_type": "execute_result"
    }
   ],
   "source": [
    "movies_df.shape"
   ]
  },
  {
   "cell_type": "code",
   "execution_count": 406,
   "id": "dd763d12",
   "metadata": {
    "tags": []
   },
   "outputs": [
    {
     "data": {
      "text/plain": [
       "45465"
      ]
     },
     "execution_count": 406,
     "metadata": {},
     "output_type": "execute_result"
    }
   ],
   "source": [
    "movies_df.index.min()\n",
    "movies_df.index.max()"
   ]
  },
  {
   "cell_type": "code",
   "execution_count": 407,
   "id": "429d8cdf",
   "metadata": {
    "tags": []
   },
   "outputs": [],
   "source": [
    "data_df = movies_df.drop(columns = [\"adult\",\"belongs_to_collection\",\"homepage\" ,\"tagline\",\"status\",\"production_companies\",\"production_countries\",\n",
    "                         \"revenue\",\"video\"] , inplace= False)"
   ]
  },
  {
   "cell_type": "code",
   "execution_count": 408,
   "id": "4f4df941",
   "metadata": {
    "tags": []
   },
   "outputs": [
    {
     "data": {
      "text/plain": [
       "budget                 0\n",
       "genres                 0\n",
       "id                     0\n",
       "imdb_id               17\n",
       "original_language     11\n",
       "original_title         0\n",
       "overview             954\n",
       "popularity             5\n",
       "poster_path          386\n",
       "release_date          87\n",
       "runtime              263\n",
       "spoken_languages       6\n",
       "title                  6\n",
       "vote_average           6\n",
       "vote_count             6\n",
       "dtype: int64"
      ]
     },
     "execution_count": 408,
     "metadata": {},
     "output_type": "execute_result"
    }
   ],
   "source": [
    "data_df.isnull().sum()"
   ]
  },
  {
   "cell_type": "code",
   "execution_count": 409,
   "id": "7c38d701",
   "metadata": {
    "tags": []
   },
   "outputs": [],
   "source": [
    "data_df[data_df['vote_average'].isnull()] = 0\n",
    "data_df[data_df['vote_count'].isnull()] = 0"
   ]
  },
  {
   "cell_type": "code",
   "execution_count": 410,
   "id": "13676f45",
   "metadata": {
    "tags": []
   },
   "outputs": [
    {
     "data": {
      "text/plain": [
       "budget                 0\n",
       "genres                 0\n",
       "id                     0\n",
       "imdb_id               17\n",
       "original_language     11\n",
       "original_title         0\n",
       "overview             954\n",
       "popularity             0\n",
       "poster_path          383\n",
       "release_date          84\n",
       "runtime              257\n",
       "spoken_languages       0\n",
       "title                  0\n",
       "vote_average           0\n",
       "vote_count             0\n",
       "dtype: int64"
      ]
     },
     "execution_count": 410,
     "metadata": {},
     "output_type": "execute_result"
    }
   ],
   "source": [
    "data_df.isnull().sum()"
   ]
  },
  {
   "cell_type": "code",
   "execution_count": 411,
   "id": "9bb9d839",
   "metadata": {
    "tags": []
   },
   "outputs": [],
   "source": [
    "data_df.drop(columns=\"budget\" , inplace=True)"
   ]
  },
  {
   "cell_type": "code",
   "execution_count": 412,
   "id": "97cb5453",
   "metadata": {
    "tags": []
   },
   "outputs": [
    {
     "data": {
      "text/plain": [
       "genres                 0\n",
       "id                     0\n",
       "imdb_id               17\n",
       "original_language     11\n",
       "original_title         0\n",
       "overview             954\n",
       "popularity             0\n",
       "poster_path          383\n",
       "release_date          84\n",
       "runtime              257\n",
       "spoken_languages       0\n",
       "title                  0\n",
       "vote_average           0\n",
       "vote_count             0\n",
       "dtype: int64"
      ]
     },
     "execution_count": 412,
     "metadata": {},
     "output_type": "execute_result"
    }
   ],
   "source": [
    "data_df.isnull().sum()"
   ]
  },
  {
   "cell_type": "code",
   "execution_count": 413,
   "id": "55949b72",
   "metadata": {
    "tags": []
   },
   "outputs": [],
   "source": [
    "data_df['overview']= data_df['overview'].fillna(data_df['title'])"
   ]
  },
  {
   "cell_type": "code",
   "execution_count": 414,
   "id": "a24b7185",
   "metadata": {
    "tags": []
   },
   "outputs": [],
   "source": [
    "data_df[data_df['runtime'].isnull()] = data_df['runtime'].mean()"
   ]
  },
  {
   "cell_type": "code",
   "execution_count": 415,
   "id": "81e14830",
   "metadata": {
    "tags": []
   },
   "outputs": [],
   "source": [
    "data_df.drop(columns=\"poster_path\" , inplace=True)"
   ]
  },
  {
   "cell_type": "code",
   "execution_count": 416,
   "id": "cd699bea",
   "metadata": {
    "tags": []
   },
   "outputs": [
    {
     "data": {
      "text/plain": [
       "genres                0\n",
       "id                    0\n",
       "imdb_id              15\n",
       "original_language    11\n",
       "original_title        0\n",
       "overview              0\n",
       "popularity            0\n",
       "release_date         73\n",
       "runtime               0\n",
       "spoken_languages      0\n",
       "title                 0\n",
       "vote_average          0\n",
       "vote_count            0\n",
       "dtype: int64"
      ]
     },
     "execution_count": 416,
     "metadata": {},
     "output_type": "execute_result"
    }
   ],
   "source": [
    "data_df.isnull().sum()"
   ]
  },
  {
   "cell_type": "code",
   "execution_count": 417,
   "id": "f3621b20",
   "metadata": {
    "tags": []
   },
   "outputs": [],
   "source": [
    "data_df[\"original_language\"] = data_df['original_language'].fillna(data_df.spoken_languages[1])\n"
   ]
  },
  {
   "cell_type": "code",
   "execution_count": 418,
   "id": "aa4ff4b6",
   "metadata": {
    "tags": []
   },
   "outputs": [
    {
     "data": {
      "text/html": [
       "<div>\n",
       "<style scoped>\n",
       "    .dataframe tbody tr th:only-of-type {\n",
       "        vertical-align: middle;\n",
       "    }\n",
       "\n",
       "    .dataframe tbody tr th {\n",
       "        vertical-align: top;\n",
       "    }\n",
       "\n",
       "    .dataframe thead th {\n",
       "        text-align: right;\n",
       "    }\n",
       "</style>\n",
       "<table border=\"1\" class=\"dataframe\">\n",
       "  <thead>\n",
       "    <tr style=\"text-align: right;\">\n",
       "      <th></th>\n",
       "      <th>genres</th>\n",
       "      <th>id</th>\n",
       "      <th>imdb_id</th>\n",
       "      <th>original_language</th>\n",
       "      <th>original_title</th>\n",
       "      <th>overview</th>\n",
       "      <th>popularity</th>\n",
       "      <th>release_date</th>\n",
       "      <th>runtime</th>\n",
       "      <th>spoken_languages</th>\n",
       "      <th>title</th>\n",
       "      <th>vote_average</th>\n",
       "      <th>vote_count</th>\n",
       "    </tr>\n",
       "  </thead>\n",
       "  <tbody>\n",
       "    <tr>\n",
       "      <th>0</th>\n",
       "      <td>[{'id': 16, 'name': 'Animation'}, {'id': 35, '...</td>\n",
       "      <td>862</td>\n",
       "      <td>tt0114709</td>\n",
       "      <td>en</td>\n",
       "      <td>Toy Story</td>\n",
       "      <td>Led by Woody, Andy's toys live happily in his ...</td>\n",
       "      <td>21.946943</td>\n",
       "      <td>1995-10-30</td>\n",
       "      <td>81.0</td>\n",
       "      <td>[{'iso_639_1': 'en', 'name': 'English'}]</td>\n",
       "      <td>Toy Story</td>\n",
       "      <td>7.7</td>\n",
       "      <td>5415.0</td>\n",
       "    </tr>\n",
       "    <tr>\n",
       "      <th>1</th>\n",
       "      <td>[{'id': 12, 'name': 'Adventure'}, {'id': 14, '...</td>\n",
       "      <td>8844</td>\n",
       "      <td>tt0113497</td>\n",
       "      <td>en</td>\n",
       "      <td>Jumanji</td>\n",
       "      <td>When siblings Judy and Peter discover an encha...</td>\n",
       "      <td>17.015539</td>\n",
       "      <td>1995-12-15</td>\n",
       "      <td>104.0</td>\n",
       "      <td>[{'iso_639_1': 'en', 'name': 'English'}, {'iso...</td>\n",
       "      <td>Jumanji</td>\n",
       "      <td>6.9</td>\n",
       "      <td>2413.0</td>\n",
       "    </tr>\n",
       "    <tr>\n",
       "      <th>2</th>\n",
       "      <td>[{'id': 10749, 'name': 'Romance'}, {'id': 35, ...</td>\n",
       "      <td>15602</td>\n",
       "      <td>tt0113228</td>\n",
       "      <td>en</td>\n",
       "      <td>Grumpier Old Men</td>\n",
       "      <td>A family wedding reignites the ancient feud be...</td>\n",
       "      <td>11.7129</td>\n",
       "      <td>1995-12-22</td>\n",
       "      <td>101.0</td>\n",
       "      <td>[{'iso_639_1': 'en', 'name': 'English'}]</td>\n",
       "      <td>Grumpier Old Men</td>\n",
       "      <td>6.5</td>\n",
       "      <td>92.0</td>\n",
       "    </tr>\n",
       "    <tr>\n",
       "      <th>3</th>\n",
       "      <td>[{'id': 35, 'name': 'Comedy'}, {'id': 18, 'nam...</td>\n",
       "      <td>31357</td>\n",
       "      <td>tt0114885</td>\n",
       "      <td>en</td>\n",
       "      <td>Waiting to Exhale</td>\n",
       "      <td>Cheated on, mistreated and stepped on, the wom...</td>\n",
       "      <td>3.859495</td>\n",
       "      <td>1995-12-22</td>\n",
       "      <td>127.0</td>\n",
       "      <td>[{'iso_639_1': 'en', 'name': 'English'}]</td>\n",
       "      <td>Waiting to Exhale</td>\n",
       "      <td>6.1</td>\n",
       "      <td>34.0</td>\n",
       "    </tr>\n",
       "    <tr>\n",
       "      <th>4</th>\n",
       "      <td>[{'id': 35, 'name': 'Comedy'}]</td>\n",
       "      <td>11862</td>\n",
       "      <td>tt0113041</td>\n",
       "      <td>en</td>\n",
       "      <td>Father of the Bride Part II</td>\n",
       "      <td>Just when George Banks has recovered from his ...</td>\n",
       "      <td>8.387519</td>\n",
       "      <td>1995-02-10</td>\n",
       "      <td>106.0</td>\n",
       "      <td>[{'iso_639_1': 'en', 'name': 'English'}]</td>\n",
       "      <td>Father of the Bride Part II</td>\n",
       "      <td>5.7</td>\n",
       "      <td>173.0</td>\n",
       "    </tr>\n",
       "  </tbody>\n",
       "</table>\n",
       "</div>"
      ],
      "text/plain": [
       "                                              genres     id    imdb_id  \\\n",
       "0  [{'id': 16, 'name': 'Animation'}, {'id': 35, '...    862  tt0114709   \n",
       "1  [{'id': 12, 'name': 'Adventure'}, {'id': 14, '...   8844  tt0113497   \n",
       "2  [{'id': 10749, 'name': 'Romance'}, {'id': 35, ...  15602  tt0113228   \n",
       "3  [{'id': 35, 'name': 'Comedy'}, {'id': 18, 'nam...  31357  tt0114885   \n",
       "4                     [{'id': 35, 'name': 'Comedy'}]  11862  tt0113041   \n",
       "\n",
       "  original_language               original_title  \\\n",
       "0                en                    Toy Story   \n",
       "1                en                      Jumanji   \n",
       "2                en             Grumpier Old Men   \n",
       "3                en            Waiting to Exhale   \n",
       "4                en  Father of the Bride Part II   \n",
       "\n",
       "                                            overview popularity release_date  \\\n",
       "0  Led by Woody, Andy's toys live happily in his ...  21.946943   1995-10-30   \n",
       "1  When siblings Judy and Peter discover an encha...  17.015539   1995-12-15   \n",
       "2  A family wedding reignites the ancient feud be...    11.7129   1995-12-22   \n",
       "3  Cheated on, mistreated and stepped on, the wom...   3.859495   1995-12-22   \n",
       "4  Just when George Banks has recovered from his ...   8.387519   1995-02-10   \n",
       "\n",
       "   runtime                                   spoken_languages  \\\n",
       "0     81.0           [{'iso_639_1': 'en', 'name': 'English'}]   \n",
       "1    104.0  [{'iso_639_1': 'en', 'name': 'English'}, {'iso...   \n",
       "2    101.0           [{'iso_639_1': 'en', 'name': 'English'}]   \n",
       "3    127.0           [{'iso_639_1': 'en', 'name': 'English'}]   \n",
       "4    106.0           [{'iso_639_1': 'en', 'name': 'English'}]   \n",
       "\n",
       "                         title  vote_average  vote_count  \n",
       "0                    Toy Story           7.7      5415.0  \n",
       "1                      Jumanji           6.9      2413.0  \n",
       "2             Grumpier Old Men           6.5        92.0  \n",
       "3            Waiting to Exhale           6.1        34.0  \n",
       "4  Father of the Bride Part II           5.7       173.0  "
      ]
     },
     "execution_count": 418,
     "metadata": {},
     "output_type": "execute_result"
    }
   ],
   "source": [
    "data_df.head()"
   ]
  },
  {
   "cell_type": "code",
   "execution_count": 419,
   "id": "777aa635",
   "metadata": {},
   "outputs": [
    {
     "data": {
      "text/plain": [
       "genres                0\n",
       "id                    0\n",
       "imdb_id              15\n",
       "original_language     0\n",
       "original_title        0\n",
       "overview              0\n",
       "popularity            0\n",
       "release_date         73\n",
       "runtime               0\n",
       "spoken_languages      0\n",
       "title                 0\n",
       "vote_average          0\n",
       "vote_count            0\n",
       "dtype: int64"
      ]
     },
     "execution_count": 419,
     "metadata": {},
     "output_type": "execute_result"
    }
   ],
   "source": [
    "data_df.isnull().sum()"
   ]
  },
  {
   "cell_type": "code",
   "execution_count": 420,
   "id": "386262df",
   "metadata": {
    "tags": []
   },
   "outputs": [],
   "source": [
    "data_df = data_df[pd.to_datetime(data_df[\"release_date\"],errors='coerce').notnull()]\n",
    "data_df['release_date'] = pd.to_datetime(data_df['release_date'])\n"
   ]
  },
  {
   "cell_type": "code",
   "execution_count": 421,
   "id": "258f470f",
   "metadata": {
    "tags": []
   },
   "outputs": [
    {
     "name": "stdout",
     "output_type": "stream",
     "text": [
      "<class 'pandas.core.frame.DataFrame'>\n",
      "Int64Index: 45393 entries, 0 to 45465\n",
      "Data columns (total 13 columns):\n",
      " #   Column             Non-Null Count  Dtype         \n",
      "---  ------             --------------  -----         \n",
      " 0   genres             45393 non-null  object        \n",
      " 1   id                 45393 non-null  object        \n",
      " 2   imdb_id            45381 non-null  object        \n",
      " 3   original_language  45393 non-null  object        \n",
      " 4   original_title     45393 non-null  object        \n",
      " 5   overview           45393 non-null  object        \n",
      " 6   popularity         45393 non-null  object        \n",
      " 7   release_date       45393 non-null  datetime64[ns]\n",
      " 8   runtime            45393 non-null  float64       \n",
      " 9   spoken_languages   45393 non-null  object        \n",
      " 10  title              45393 non-null  object        \n",
      " 11  vote_average       45393 non-null  float64       \n",
      " 12  vote_count         45393 non-null  float64       \n",
      "dtypes: datetime64[ns](1), float64(3), object(9)\n",
      "memory usage: 4.8+ MB\n"
     ]
    }
   ],
   "source": [
    "data_df.info()"
   ]
  },
  {
   "cell_type": "code",
   "execution_count": 422,
   "id": "96825f5f",
   "metadata": {
    "tags": []
   },
   "outputs": [],
   "source": [
    "data_df[data_df['release_date'].isnull()] = data_df['release_date'].mean()"
   ]
  },
  {
   "cell_type": "code",
   "execution_count": 423,
   "id": "0966b25a",
   "metadata": {
    "tags": []
   },
   "outputs": [
    {
     "data": {
      "text/plain": [
       "genres                0\n",
       "id                    0\n",
       "imdb_id              12\n",
       "original_language     0\n",
       "original_title        0\n",
       "overview              0\n",
       "popularity            0\n",
       "release_date          0\n",
       "runtime               0\n",
       "spoken_languages      0\n",
       "title                 0\n",
       "vote_average          0\n",
       "vote_count            0\n",
       "dtype: int64"
      ]
     },
     "execution_count": 423,
     "metadata": {},
     "output_type": "execute_result"
    }
   ],
   "source": [
    "data_df.isnull().sum()"
   ]
  },
  {
   "cell_type": "code",
   "execution_count": 424,
   "id": "b304fe8a",
   "metadata": {
    "tags": []
   },
   "outputs": [],
   "source": [
    "data_df[data_df['imdb_id'].isnull()] = \"Unknown\""
   ]
  },
  {
   "cell_type": "code",
   "execution_count": 425,
   "id": "3bf3bfe0",
   "metadata": {
    "tags": []
   },
   "outputs": [
    {
     "data": {
      "text/plain": [
       "genres               0\n",
       "id                   0\n",
       "imdb_id              0\n",
       "original_language    0\n",
       "original_title       0\n",
       "overview             0\n",
       "popularity           0\n",
       "release_date         0\n",
       "runtime              0\n",
       "spoken_languages     0\n",
       "title                0\n",
       "vote_average         0\n",
       "vote_count           0\n",
       "dtype: int64"
      ]
     },
     "execution_count": 425,
     "metadata": {},
     "output_type": "execute_result"
    }
   ],
   "source": [
    "#sanity check\n",
    "data_df.isnull().sum()"
   ]
  },
  {
   "cell_type": "code",
   "execution_count": 426,
   "id": "39bf10c6",
   "metadata": {
    "tags": []
   },
   "outputs": [
    {
     "data": {
      "text/html": [
       "<div>\n",
       "<style scoped>\n",
       "    .dataframe tbody tr th:only-of-type {\n",
       "        vertical-align: middle;\n",
       "    }\n",
       "\n",
       "    .dataframe tbody tr th {\n",
       "        vertical-align: top;\n",
       "    }\n",
       "\n",
       "    .dataframe thead th {\n",
       "        text-align: right;\n",
       "    }\n",
       "</style>\n",
       "<table border=\"1\" class=\"dataframe\">\n",
       "  <thead>\n",
       "    <tr style=\"text-align: right;\">\n",
       "      <th></th>\n",
       "      <th>genres</th>\n",
       "      <th>id</th>\n",
       "      <th>imdb_id</th>\n",
       "      <th>original_language</th>\n",
       "      <th>original_title</th>\n",
       "      <th>overview</th>\n",
       "      <th>popularity</th>\n",
       "      <th>release_date</th>\n",
       "      <th>runtime</th>\n",
       "      <th>spoken_languages</th>\n",
       "      <th>title</th>\n",
       "      <th>vote_average</th>\n",
       "      <th>vote_count</th>\n",
       "    </tr>\n",
       "  </thead>\n",
       "  <tbody>\n",
       "    <tr>\n",
       "      <th>0</th>\n",
       "      <td>[{'id': 16, 'name': 'Animation'}, {'id': 35, '...</td>\n",
       "      <td>862</td>\n",
       "      <td>tt0114709</td>\n",
       "      <td>en</td>\n",
       "      <td>Toy Story</td>\n",
       "      <td>Led by Woody, Andy's toys live happily in his ...</td>\n",
       "      <td>21.946943</td>\n",
       "      <td>1995-10-30 00:00:00</td>\n",
       "      <td>81.0</td>\n",
       "      <td>[{'iso_639_1': 'en', 'name': 'English'}]</td>\n",
       "      <td>Toy Story</td>\n",
       "      <td>7.7</td>\n",
       "      <td>5415.0</td>\n",
       "    </tr>\n",
       "  </tbody>\n",
       "</table>\n",
       "</div>"
      ],
      "text/plain": [
       "                                              genres   id    imdb_id  \\\n",
       "0  [{'id': 16, 'name': 'Animation'}, {'id': 35, '...  862  tt0114709   \n",
       "\n",
       "  original_language original_title  \\\n",
       "0                en      Toy Story   \n",
       "\n",
       "                                            overview popularity  \\\n",
       "0  Led by Woody, Andy's toys live happily in his ...  21.946943   \n",
       "\n",
       "          release_date runtime                          spoken_languages  \\\n",
       "0  1995-10-30 00:00:00    81.0  [{'iso_639_1': 'en', 'name': 'English'}]   \n",
       "\n",
       "       title vote_average vote_count  \n",
       "0  Toy Story          7.7     5415.0  "
      ]
     },
     "execution_count": 426,
     "metadata": {},
     "output_type": "execute_result"
    }
   ],
   "source": [
    "data_df.head(1)"
   ]
  },
  {
   "attachments": {},
   "cell_type": "markdown",
   "id": "2160b0a7",
   "metadata": {
    "tags": []
   },
   "source": [
    "Changing name of the `id` col to `movieID` to join the review table with movies."
   ]
  },
  {
   "cell_type": "code",
   "execution_count": 267,
   "id": "38042483",
   "metadata": {
    "tags": []
   },
   "outputs": [],
   "source": [
    "movies =data_df.rename(columns = {'id' : 'movieId'})"
   ]
  },
  {
   "attachments": {},
   "cell_type": "markdown",
   "id": "b7df708d",
   "metadata": {},
   "source": [
    "## ratings file cleaning"
   ]
  },
  {
   "cell_type": "code",
   "execution_count": 263,
   "id": "d595c95c",
   "metadata": {
    "tags": []
   },
   "outputs": [],
   "source": [
    "ratings_df = pd.read_csv(\"Data/ratings.csv\")"
   ]
  },
  {
   "cell_type": "code",
   "execution_count": 264,
   "id": "f7d3f222",
   "metadata": {
    "tags": []
   },
   "outputs": [
    {
     "data": {
      "text/html": [
       "<div>\n",
       "<style scoped>\n",
       "    .dataframe tbody tr th:only-of-type {\n",
       "        vertical-align: middle;\n",
       "    }\n",
       "\n",
       "    .dataframe tbody tr th {\n",
       "        vertical-align: top;\n",
       "    }\n",
       "\n",
       "    .dataframe thead th {\n",
       "        text-align: right;\n",
       "    }\n",
       "</style>\n",
       "<table border=\"1\" class=\"dataframe\">\n",
       "  <thead>\n",
       "    <tr style=\"text-align: right;\">\n",
       "      <th></th>\n",
       "      <th>userId</th>\n",
       "      <th>movieId</th>\n",
       "      <th>rating</th>\n",
       "      <th>timestamp</th>\n",
       "    </tr>\n",
       "  </thead>\n",
       "  <tbody>\n",
       "    <tr>\n",
       "      <th>0</th>\n",
       "      <td>1</td>\n",
       "      <td>296</td>\n",
       "      <td>5.0</td>\n",
       "      <td>1147880044</td>\n",
       "    </tr>\n",
       "    <tr>\n",
       "      <th>1</th>\n",
       "      <td>1</td>\n",
       "      <td>306</td>\n",
       "      <td>3.5</td>\n",
       "      <td>1147868817</td>\n",
       "    </tr>\n",
       "  </tbody>\n",
       "</table>\n",
       "</div>"
      ],
      "text/plain": [
       "   userId  movieId  rating   timestamp\n",
       "0       1      296     5.0  1147880044\n",
       "1       1      306     3.5  1147868817"
      ]
     },
     "execution_count": 264,
     "metadata": {},
     "output_type": "execute_result"
    }
   ],
   "source": [
    "ratings_df.head(2)"
   ]
  },
  {
   "cell_type": "code",
   "execution_count": 265,
   "id": "0c123cf9",
   "metadata": {
    "tags": []
   },
   "outputs": [],
   "source": [
    "#we're gonna drop the timestamp col\n",
    "ratings_df.drop(columns = \"timestamp\", inplace=True)"
   ]
  },
  {
   "cell_type": "code",
   "execution_count": 266,
   "id": "10d0aa57",
   "metadata": {
    "tags": []
   },
   "outputs": [
    {
     "data": {
      "text/plain": [
       "userId     0\n",
       "movieId    0\n",
       "rating     0\n",
       "dtype: int64"
      ]
     },
     "execution_count": 266,
     "metadata": {},
     "output_type": "execute_result"
    }
   ],
   "source": [
    "ratings_df.isnull().sum()"
   ]
  },
  {
   "cell_type": "code",
   "execution_count": 270,
   "id": "e132ec0c",
   "metadata": {},
   "outputs": [
    {
     "data": {
      "text/html": [
       "<div>\n",
       "<style scoped>\n",
       "    .dataframe tbody tr th:only-of-type {\n",
       "        vertical-align: middle;\n",
       "    }\n",
       "\n",
       "    .dataframe tbody tr th {\n",
       "        vertical-align: top;\n",
       "    }\n",
       "\n",
       "    .dataframe thead th {\n",
       "        text-align: right;\n",
       "    }\n",
       "</style>\n",
       "<table border=\"1\" class=\"dataframe\">\n",
       "  <thead>\n",
       "    <tr style=\"text-align: right;\">\n",
       "      <th></th>\n",
       "      <th>userId</th>\n",
       "      <th>movieId</th>\n",
       "      <th>rating</th>\n",
       "    </tr>\n",
       "  </thead>\n",
       "  <tbody>\n",
       "    <tr>\n",
       "      <th>0</th>\n",
       "      <td>1</td>\n",
       "      <td>296</td>\n",
       "      <td>5.0</td>\n",
       "    </tr>\n",
       "    <tr>\n",
       "      <th>1</th>\n",
       "      <td>1</td>\n",
       "      <td>306</td>\n",
       "      <td>3.5</td>\n",
       "    </tr>\n",
       "    <tr>\n",
       "      <th>2</th>\n",
       "      <td>1</td>\n",
       "      <td>307</td>\n",
       "      <td>5.0</td>\n",
       "    </tr>\n",
       "    <tr>\n",
       "      <th>3</th>\n",
       "      <td>1</td>\n",
       "      <td>665</td>\n",
       "      <td>5.0</td>\n",
       "    </tr>\n",
       "    <tr>\n",
       "      <th>4</th>\n",
       "      <td>1</td>\n",
       "      <td>899</td>\n",
       "      <td>3.5</td>\n",
       "    </tr>\n",
       "    <tr>\n",
       "      <th>...</th>\n",
       "      <td>...</td>\n",
       "      <td>...</td>\n",
       "      <td>...</td>\n",
       "    </tr>\n",
       "    <tr>\n",
       "      <th>25000090</th>\n",
       "      <td>162541</td>\n",
       "      <td>50872</td>\n",
       "      <td>4.5</td>\n",
       "    </tr>\n",
       "    <tr>\n",
       "      <th>25000091</th>\n",
       "      <td>162541</td>\n",
       "      <td>55768</td>\n",
       "      <td>2.5</td>\n",
       "    </tr>\n",
       "    <tr>\n",
       "      <th>25000092</th>\n",
       "      <td>162541</td>\n",
       "      <td>56176</td>\n",
       "      <td>2.0</td>\n",
       "    </tr>\n",
       "    <tr>\n",
       "      <th>25000093</th>\n",
       "      <td>162541</td>\n",
       "      <td>58559</td>\n",
       "      <td>4.0</td>\n",
       "    </tr>\n",
       "    <tr>\n",
       "      <th>25000094</th>\n",
       "      <td>162541</td>\n",
       "      <td>63876</td>\n",
       "      <td>5.0</td>\n",
       "    </tr>\n",
       "  </tbody>\n",
       "</table>\n",
       "<p>25000095 rows × 3 columns</p>\n",
       "</div>"
      ],
      "text/plain": [
       "          userId  movieId  rating\n",
       "0              1      296     5.0\n",
       "1              1      306     3.5\n",
       "2              1      307     5.0\n",
       "3              1      665     5.0\n",
       "4              1      899     3.5\n",
       "...          ...      ...     ...\n",
       "25000090  162541    50872     4.5\n",
       "25000091  162541    55768     2.5\n",
       "25000092  162541    56176     2.0\n",
       "25000093  162541    58559     4.0\n",
       "25000094  162541    63876     5.0\n",
       "\n",
       "[25000095 rows x 3 columns]"
      ]
     },
     "execution_count": 270,
     "metadata": {},
     "output_type": "execute_result"
    }
   ],
   "source": [
    "ratings_df"
   ]
  },
  {
   "cell_type": "code",
   "execution_count": 271,
   "id": "0168c173",
   "metadata": {},
   "outputs": [],
   "source": [
    "ratings_df['liked'] =ratings_df['rating'].apply(lambda x: 1 if x > 3.5 else 0)\n"
   ]
  },
  {
   "cell_type": "code",
   "execution_count": 272,
   "id": "c0197463",
   "metadata": {},
   "outputs": [
    {
     "data": {
      "text/html": [
       "<div>\n",
       "<style scoped>\n",
       "    .dataframe tbody tr th:only-of-type {\n",
       "        vertical-align: middle;\n",
       "    }\n",
       "\n",
       "    .dataframe tbody tr th {\n",
       "        vertical-align: top;\n",
       "    }\n",
       "\n",
       "    .dataframe thead th {\n",
       "        text-align: right;\n",
       "    }\n",
       "</style>\n",
       "<table border=\"1\" class=\"dataframe\">\n",
       "  <thead>\n",
       "    <tr style=\"text-align: right;\">\n",
       "      <th></th>\n",
       "      <th>userId</th>\n",
       "      <th>movieId</th>\n",
       "      <th>rating</th>\n",
       "      <th>liked</th>\n",
       "    </tr>\n",
       "  </thead>\n",
       "  <tbody>\n",
       "    <tr>\n",
       "      <th>0</th>\n",
       "      <td>1</td>\n",
       "      <td>296</td>\n",
       "      <td>5.0</td>\n",
       "      <td>1</td>\n",
       "    </tr>\n",
       "    <tr>\n",
       "      <th>1</th>\n",
       "      <td>1</td>\n",
       "      <td>306</td>\n",
       "      <td>3.5</td>\n",
       "      <td>0</td>\n",
       "    </tr>\n",
       "    <tr>\n",
       "      <th>2</th>\n",
       "      <td>1</td>\n",
       "      <td>307</td>\n",
       "      <td>5.0</td>\n",
       "      <td>1</td>\n",
       "    </tr>\n",
       "    <tr>\n",
       "      <th>3</th>\n",
       "      <td>1</td>\n",
       "      <td>665</td>\n",
       "      <td>5.0</td>\n",
       "      <td>1</td>\n",
       "    </tr>\n",
       "    <tr>\n",
       "      <th>4</th>\n",
       "      <td>1</td>\n",
       "      <td>899</td>\n",
       "      <td>3.5</td>\n",
       "      <td>0</td>\n",
       "    </tr>\n",
       "    <tr>\n",
       "      <th>...</th>\n",
       "      <td>...</td>\n",
       "      <td>...</td>\n",
       "      <td>...</td>\n",
       "      <td>...</td>\n",
       "    </tr>\n",
       "    <tr>\n",
       "      <th>25000090</th>\n",
       "      <td>162541</td>\n",
       "      <td>50872</td>\n",
       "      <td>4.5</td>\n",
       "      <td>1</td>\n",
       "    </tr>\n",
       "    <tr>\n",
       "      <th>25000091</th>\n",
       "      <td>162541</td>\n",
       "      <td>55768</td>\n",
       "      <td>2.5</td>\n",
       "      <td>0</td>\n",
       "    </tr>\n",
       "    <tr>\n",
       "      <th>25000092</th>\n",
       "      <td>162541</td>\n",
       "      <td>56176</td>\n",
       "      <td>2.0</td>\n",
       "      <td>0</td>\n",
       "    </tr>\n",
       "    <tr>\n",
       "      <th>25000093</th>\n",
       "      <td>162541</td>\n",
       "      <td>58559</td>\n",
       "      <td>4.0</td>\n",
       "      <td>1</td>\n",
       "    </tr>\n",
       "    <tr>\n",
       "      <th>25000094</th>\n",
       "      <td>162541</td>\n",
       "      <td>63876</td>\n",
       "      <td>5.0</td>\n",
       "      <td>1</td>\n",
       "    </tr>\n",
       "  </tbody>\n",
       "</table>\n",
       "<p>25000095 rows × 4 columns</p>\n",
       "</div>"
      ],
      "text/plain": [
       "          userId  movieId  rating  liked\n",
       "0              1      296     5.0      1\n",
       "1              1      306     3.5      0\n",
       "2              1      307     5.0      1\n",
       "3              1      665     5.0      1\n",
       "4              1      899     3.5      0\n",
       "...          ...      ...     ...    ...\n",
       "25000090  162541    50872     4.5      1\n",
       "25000091  162541    55768     2.5      0\n",
       "25000092  162541    56176     2.0      0\n",
       "25000093  162541    58559     4.0      1\n",
       "25000094  162541    63876     5.0      1\n",
       "\n",
       "[25000095 rows x 4 columns]"
      ]
     },
     "execution_count": 272,
     "metadata": {},
     "output_type": "execute_result"
    }
   ],
   "source": [
    "ratings_df"
   ]
  },
  {
   "attachments": {},
   "cell_type": "markdown",
   "id": "d552da24",
   "metadata": {},
   "source": [
    "We're going to take samples (balanced smaple) the data is pretty imbalance between `liked` and `not liked` groups and then "
   ]
  },
  {
   "cell_type": "code",
   "execution_count": 279,
   "id": "8fa69fa2",
   "metadata": {},
   "outputs": [],
   "source": [
    "liked_group_reviews = ratings_df[ratings_df['liked'] == 1].sample(frac=0.08)"
   ]
  },
  {
   "cell_type": "code",
   "execution_count": 280,
   "id": "58ad29ba",
   "metadata": {},
   "outputs": [
    {
     "data": {
      "text/html": [
       "<div>\n",
       "<style scoped>\n",
       "    .dataframe tbody tr th:only-of-type {\n",
       "        vertical-align: middle;\n",
       "    }\n",
       "\n",
       "    .dataframe tbody tr th {\n",
       "        vertical-align: top;\n",
       "    }\n",
       "\n",
       "    .dataframe thead th {\n",
       "        text-align: right;\n",
       "    }\n",
       "</style>\n",
       "<table border=\"1\" class=\"dataframe\">\n",
       "  <thead>\n",
       "    <tr style=\"text-align: right;\">\n",
       "      <th></th>\n",
       "      <th>userId</th>\n",
       "      <th>movieId</th>\n",
       "      <th>rating</th>\n",
       "      <th>liked</th>\n",
       "    </tr>\n",
       "  </thead>\n",
       "  <tbody>\n",
       "    <tr>\n",
       "      <th>6984929</th>\n",
       "      <td>45296</td>\n",
       "      <td>62</td>\n",
       "      <td>5.0</td>\n",
       "      <td>1</td>\n",
       "    </tr>\n",
       "    <tr>\n",
       "      <th>1362104</th>\n",
       "      <td>9172</td>\n",
       "      <td>858</td>\n",
       "      <td>5.0</td>\n",
       "      <td>1</td>\n",
       "    </tr>\n",
       "    <tr>\n",
       "      <th>24719216</th>\n",
       "      <td>160657</td>\n",
       "      <td>292</td>\n",
       "      <td>4.0</td>\n",
       "      <td>1</td>\n",
       "    </tr>\n",
       "    <tr>\n",
       "      <th>7609873</th>\n",
       "      <td>49385</td>\n",
       "      <td>1282</td>\n",
       "      <td>4.0</td>\n",
       "      <td>1</td>\n",
       "    </tr>\n",
       "    <tr>\n",
       "      <th>17859205</th>\n",
       "      <td>115810</td>\n",
       "      <td>51088</td>\n",
       "      <td>4.0</td>\n",
       "      <td>1</td>\n",
       "    </tr>\n",
       "    <tr>\n",
       "      <th>...</th>\n",
       "      <td>...</td>\n",
       "      <td>...</td>\n",
       "      <td>...</td>\n",
       "      <td>...</td>\n",
       "    </tr>\n",
       "    <tr>\n",
       "      <th>8251801</th>\n",
       "      <td>53707</td>\n",
       "      <td>953</td>\n",
       "      <td>4.5</td>\n",
       "      <td>1</td>\n",
       "    </tr>\n",
       "    <tr>\n",
       "      <th>12544334</th>\n",
       "      <td>81124</td>\n",
       "      <td>1333</td>\n",
       "      <td>4.5</td>\n",
       "      <td>1</td>\n",
       "    </tr>\n",
       "    <tr>\n",
       "      <th>10313536</th>\n",
       "      <td>66904</td>\n",
       "      <td>1050</td>\n",
       "      <td>5.0</td>\n",
       "      <td>1</td>\n",
       "    </tr>\n",
       "    <tr>\n",
       "      <th>9165785</th>\n",
       "      <td>59732</td>\n",
       "      <td>2194</td>\n",
       "      <td>4.0</td>\n",
       "      <td>1</td>\n",
       "    </tr>\n",
       "    <tr>\n",
       "      <th>1332064</th>\n",
       "      <td>8979</td>\n",
       "      <td>1243</td>\n",
       "      <td>4.5</td>\n",
       "      <td>1</td>\n",
       "    </tr>\n",
       "  </tbody>\n",
       "</table>\n",
       "<p>996225 rows × 4 columns</p>\n",
       "</div>"
      ],
      "text/plain": [
       "          userId  movieId  rating  liked\n",
       "6984929    45296       62     5.0      1\n",
       "1362104     9172      858     5.0      1\n",
       "24719216  160657      292     4.0      1\n",
       "7609873    49385     1282     4.0      1\n",
       "17859205  115810    51088     4.0      1\n",
       "...          ...      ...     ...    ...\n",
       "8251801    53707      953     4.5      1\n",
       "12544334   81124     1333     4.5      1\n",
       "10313536   66904     1050     5.0      1\n",
       "9165785    59732     2194     4.0      1\n",
       "1332064     8979     1243     4.5      1\n",
       "\n",
       "[996225 rows x 4 columns]"
      ]
     },
     "execution_count": 280,
     "metadata": {},
     "output_type": "execute_result"
    }
   ],
   "source": [
    "liked_group_reviews"
   ]
  },
  {
   "cell_type": "code",
   "execution_count": 289,
   "id": "a6d87323",
   "metadata": {},
   "outputs": [],
   "source": [
    "not_liked_group_reviews=ratings_df[ratings_df['liked'] == 0].sample(frac=0.8)"
   ]
  },
  {
   "cell_type": "code",
   "execution_count": 290,
   "id": "12545737",
   "metadata": {},
   "outputs": [
    {
     "data": {
      "text/html": [
       "<div>\n",
       "<style scoped>\n",
       "    .dataframe tbody tr th:only-of-type {\n",
       "        vertical-align: middle;\n",
       "    }\n",
       "\n",
       "    .dataframe tbody tr th {\n",
       "        vertical-align: top;\n",
       "    }\n",
       "\n",
       "    .dataframe thead th {\n",
       "        text-align: right;\n",
       "    }\n",
       "</style>\n",
       "<table border=\"1\" class=\"dataframe\">\n",
       "  <thead>\n",
       "    <tr style=\"text-align: right;\">\n",
       "      <th></th>\n",
       "      <th>userId</th>\n",
       "      <th>movieId</th>\n",
       "      <th>rating</th>\n",
       "      <th>liked</th>\n",
       "    </tr>\n",
       "  </thead>\n",
       "  <tbody>\n",
       "    <tr>\n",
       "      <th>15945962</th>\n",
       "      <td>103342</td>\n",
       "      <td>107406</td>\n",
       "      <td>3.0</td>\n",
       "      <td>0</td>\n",
       "    </tr>\n",
       "    <tr>\n",
       "      <th>17036870</th>\n",
       "      <td>110474</td>\n",
       "      <td>34048</td>\n",
       "      <td>2.5</td>\n",
       "      <td>0</td>\n",
       "    </tr>\n",
       "    <tr>\n",
       "      <th>10054503</th>\n",
       "      <td>65236</td>\n",
       "      <td>80219</td>\n",
       "      <td>3.0</td>\n",
       "      <td>0</td>\n",
       "    </tr>\n",
       "    <tr>\n",
       "      <th>23512371</th>\n",
       "      <td>152665</td>\n",
       "      <td>4005</td>\n",
       "      <td>3.5</td>\n",
       "      <td>0</td>\n",
       "    </tr>\n",
       "    <tr>\n",
       "      <th>9157663</th>\n",
       "      <td>59657</td>\n",
       "      <td>68157</td>\n",
       "      <td>3.0</td>\n",
       "      <td>0</td>\n",
       "    </tr>\n",
       "    <tr>\n",
       "      <th>...</th>\n",
       "      <td>...</td>\n",
       "      <td>...</td>\n",
       "      <td>...</td>\n",
       "      <td>...</td>\n",
       "    </tr>\n",
       "    <tr>\n",
       "      <th>19449258</th>\n",
       "      <td>126249</td>\n",
       "      <td>231</td>\n",
       "      <td>3.5</td>\n",
       "      <td>0</td>\n",
       "    </tr>\n",
       "    <tr>\n",
       "      <th>19506752</th>\n",
       "      <td>126637</td>\n",
       "      <td>8596</td>\n",
       "      <td>2.5</td>\n",
       "      <td>0</td>\n",
       "    </tr>\n",
       "    <tr>\n",
       "      <th>3598060</th>\n",
       "      <td>23733</td>\n",
       "      <td>54272</td>\n",
       "      <td>3.0</td>\n",
       "      <td>0</td>\n",
       "    </tr>\n",
       "    <tr>\n",
       "      <th>6005314</th>\n",
       "      <td>38906</td>\n",
       "      <td>785</td>\n",
       "      <td>3.5</td>\n",
       "      <td>0</td>\n",
       "    </tr>\n",
       "    <tr>\n",
       "      <th>13484529</th>\n",
       "      <td>87240</td>\n",
       "      <td>1483</td>\n",
       "      <td>2.0</td>\n",
       "      <td>0</td>\n",
       "    </tr>\n",
       "  </tbody>\n",
       "</table>\n",
       "<p>10037827 rows × 4 columns</p>\n",
       "</div>"
      ],
      "text/plain": [
       "          userId  movieId  rating  liked\n",
       "15945962  103342   107406     3.0      0\n",
       "17036870  110474    34048     2.5      0\n",
       "10054503   65236    80219     3.0      0\n",
       "23512371  152665     4005     3.5      0\n",
       "9157663    59657    68157     3.0      0\n",
       "...          ...      ...     ...    ...\n",
       "19449258  126249      231     3.5      0\n",
       "19506752  126637     8596     2.5      0\n",
       "3598060    23733    54272     3.0      0\n",
       "6005314    38906      785     3.5      0\n",
       "13484529   87240     1483     2.0      0\n",
       "\n",
       "[10037827 rows x 4 columns]"
      ]
     },
     "execution_count": 290,
     "metadata": {},
     "output_type": "execute_result"
    }
   ],
   "source": [
    "not_liked_group_reviews"
   ]
  },
  {
   "cell_type": "code",
   "execution_count": 314,
   "id": "52f4750c",
   "metadata": {},
   "outputs": [],
   "source": [
    "sample_ratings = pd.concat([liked_group_reviews,not_liked_group_reviews])"
   ]
  },
  {
   "cell_type": "code",
   "execution_count": 315,
   "id": "4e5413c2",
   "metadata": {},
   "outputs": [
    {
     "data": {
      "text/html": [
       "<div>\n",
       "<style scoped>\n",
       "    .dataframe tbody tr th:only-of-type {\n",
       "        vertical-align: middle;\n",
       "    }\n",
       "\n",
       "    .dataframe tbody tr th {\n",
       "        vertical-align: top;\n",
       "    }\n",
       "\n",
       "    .dataframe thead th {\n",
       "        text-align: right;\n",
       "    }\n",
       "</style>\n",
       "<table border=\"1\" class=\"dataframe\">\n",
       "  <thead>\n",
       "    <tr style=\"text-align: right;\">\n",
       "      <th></th>\n",
       "      <th>userId</th>\n",
       "      <th>movieId</th>\n",
       "      <th>rating</th>\n",
       "      <th>liked</th>\n",
       "    </tr>\n",
       "  </thead>\n",
       "  <tbody>\n",
       "    <tr>\n",
       "      <th>6984929</th>\n",
       "      <td>45296</td>\n",
       "      <td>62</td>\n",
       "      <td>5.0</td>\n",
       "      <td>1</td>\n",
       "    </tr>\n",
       "    <tr>\n",
       "      <th>1362104</th>\n",
       "      <td>9172</td>\n",
       "      <td>858</td>\n",
       "      <td>5.0</td>\n",
       "      <td>1</td>\n",
       "    </tr>\n",
       "    <tr>\n",
       "      <th>24719216</th>\n",
       "      <td>160657</td>\n",
       "      <td>292</td>\n",
       "      <td>4.0</td>\n",
       "      <td>1</td>\n",
       "    </tr>\n",
       "    <tr>\n",
       "      <th>7609873</th>\n",
       "      <td>49385</td>\n",
       "      <td>1282</td>\n",
       "      <td>4.0</td>\n",
       "      <td>1</td>\n",
       "    </tr>\n",
       "    <tr>\n",
       "      <th>17859205</th>\n",
       "      <td>115810</td>\n",
       "      <td>51088</td>\n",
       "      <td>4.0</td>\n",
       "      <td>1</td>\n",
       "    </tr>\n",
       "    <tr>\n",
       "      <th>...</th>\n",
       "      <td>...</td>\n",
       "      <td>...</td>\n",
       "      <td>...</td>\n",
       "      <td>...</td>\n",
       "    </tr>\n",
       "    <tr>\n",
       "      <th>19449258</th>\n",
       "      <td>126249</td>\n",
       "      <td>231</td>\n",
       "      <td>3.5</td>\n",
       "      <td>0</td>\n",
       "    </tr>\n",
       "    <tr>\n",
       "      <th>19506752</th>\n",
       "      <td>126637</td>\n",
       "      <td>8596</td>\n",
       "      <td>2.5</td>\n",
       "      <td>0</td>\n",
       "    </tr>\n",
       "    <tr>\n",
       "      <th>3598060</th>\n",
       "      <td>23733</td>\n",
       "      <td>54272</td>\n",
       "      <td>3.0</td>\n",
       "      <td>0</td>\n",
       "    </tr>\n",
       "    <tr>\n",
       "      <th>6005314</th>\n",
       "      <td>38906</td>\n",
       "      <td>785</td>\n",
       "      <td>3.5</td>\n",
       "      <td>0</td>\n",
       "    </tr>\n",
       "    <tr>\n",
       "      <th>13484529</th>\n",
       "      <td>87240</td>\n",
       "      <td>1483</td>\n",
       "      <td>2.0</td>\n",
       "      <td>0</td>\n",
       "    </tr>\n",
       "  </tbody>\n",
       "</table>\n",
       "<p>11034052 rows × 4 columns</p>\n",
       "</div>"
      ],
      "text/plain": [
       "          userId  movieId  rating  liked\n",
       "6984929    45296       62     5.0      1\n",
       "1362104     9172      858     5.0      1\n",
       "24719216  160657      292     4.0      1\n",
       "7609873    49385     1282     4.0      1\n",
       "17859205  115810    51088     4.0      1\n",
       "...          ...      ...     ...    ...\n",
       "19449258  126249      231     3.5      0\n",
       "19506752  126637     8596     2.5      0\n",
       "3598060    23733    54272     3.0      0\n",
       "6005314    38906      785     3.5      0\n",
       "13484529   87240     1483     2.0      0\n",
       "\n",
       "[11034052 rows x 4 columns]"
      ]
     },
     "execution_count": 315,
     "metadata": {},
     "output_type": "execute_result"
    }
   ],
   "source": [
    "sample_ratings"
   ]
  },
  {
   "cell_type": "code",
   "execution_count": 316,
   "id": "93006300",
   "metadata": {},
   "outputs": [],
   "source": [
    "reviews_per_user = sample_ratings.groupby(\"userId\")['movieId'].count()"
   ]
  },
  {
   "cell_type": "code",
   "execution_count": 317,
   "id": "5072df15",
   "metadata": {},
   "outputs": [
    {
     "data": {
      "image/png": "[encoded data removed]",
      "text/plain": [
       "<Figure size 2500x1500 with 1 Axes>"
      ]
     },
     "metadata": {},
     "output_type": "display_data"
    }
   ],
   "source": [
    "\n",
    "plt.figure(figsize=(25,15))\n",
    "plt.hist(reviews_per_user,bins=25)\n",
    "plt.show()"
   ]
  },
  {
   "cell_type": "code",
   "execution_count": 318,
   "id": "e59a6855",
   "metadata": {},
   "outputs": [
    {
     "data": {
      "text/plain": [
       "Int64Index([     1,      2,      3,      4,      5,      6,      7,      8,\n",
       "                 9,     10,\n",
       "            ...\n",
       "            162532, 162533, 162534, 162535, 162536, 162537, 162538, 162539,\n",
       "            162540, 162541],\n",
       "           dtype='int64', name='userId', length=162430)"
      ]
     },
     "execution_count": 318,
     "metadata": {},
     "output_type": "execute_result"
    }
   ],
   "source": [
    "reviews_per_user.index\n",
    "# we want to keep the ones who have rated more than 50 movies"
   ]
  },
  {
   "cell_type": "code",
   "execution_count": 319,
   "id": "972cf038",
   "metadata": {},
   "outputs": [],
   "source": [
    "reviews_per_user = reviews_per_user[reviews_per_user>50]"
   ]
  },
  {
   "cell_type": "code",
   "execution_count": 320,
   "id": "494c8ea9",
   "metadata": {},
   "outputs": [
    {
     "data": {
      "text/plain": [
       "Int64Index([     2,      3,      4,      8,      9,     12,     13,     18,\n",
       "                19,     23,\n",
       "            ...\n",
       "            162515, 162516, 162519, 162521, 162524, 162529, 162533, 162534,\n",
       "            162538, 162541],\n",
       "           dtype='int64', name='userId', length=48783)"
      ]
     },
     "execution_count": 320,
     "metadata": {},
     "output_type": "execute_result"
    }
   ],
   "source": [
    "reviews_per_user.index"
   ]
  },
  {
   "cell_type": "code",
   "execution_count": 339,
   "id": "58110291",
   "metadata": {},
   "outputs": [],
   "source": [
    "sample_ratings = sample_ratings[sample_ratings['userId'].isin(reviews_per_user.index)]"
   ]
  },
  {
   "cell_type": "code",
   "execution_count": 344,
   "id": "29907f1f",
   "metadata": {},
   "outputs": [],
   "source": [
    "sample_ratings =sample_ratings.sort_index()"
   ]
  },
  {
   "cell_type": "code",
   "execution_count": 345,
   "id": "b60339f6",
   "metadata": {},
   "outputs": [
    {
     "data": {
      "text/html": [
       "<div>\n",
       "<style scoped>\n",
       "    .dataframe tbody tr th:only-of-type {\n",
       "        vertical-align: middle;\n",
       "    }\n",
       "\n",
       "    .dataframe tbody tr th {\n",
       "        vertical-align: top;\n",
       "    }\n",
       "\n",
       "    .dataframe thead th {\n",
       "        text-align: right;\n",
       "    }\n",
       "</style>\n",
       "<table border=\"1\" class=\"dataframe\">\n",
       "  <thead>\n",
       "    <tr style=\"text-align: right;\">\n",
       "      <th></th>\n",
       "      <th>userId</th>\n",
       "      <th>movieId</th>\n",
       "      <th>rating</th>\n",
       "      <th>liked</th>\n",
       "    </tr>\n",
       "  </thead>\n",
       "  <tbody>\n",
       "    <tr>\n",
       "      <th>71</th>\n",
       "      <td>2</td>\n",
       "      <td>62</td>\n",
       "      <td>0.5</td>\n",
       "      <td>0</td>\n",
       "    </tr>\n",
       "    <tr>\n",
       "      <th>78</th>\n",
       "      <td>2</td>\n",
       "      <td>266</td>\n",
       "      <td>1.0</td>\n",
       "      <td>0</td>\n",
       "    </tr>\n",
       "    <tr>\n",
       "      <th>80</th>\n",
       "      <td>2</td>\n",
       "      <td>333</td>\n",
       "      <td>5.0</td>\n",
       "      <td>1</td>\n",
       "    </tr>\n",
       "    <tr>\n",
       "      <th>84</th>\n",
       "      <td>2</td>\n",
       "      <td>380</td>\n",
       "      <td>1.0</td>\n",
       "      <td>0</td>\n",
       "    </tr>\n",
       "    <tr>\n",
       "      <th>91</th>\n",
       "      <td>2</td>\n",
       "      <td>553</td>\n",
       "      <td>2.0</td>\n",
       "      <td>0</td>\n",
       "    </tr>\n",
       "    <tr>\n",
       "      <th>...</th>\n",
       "      <td>...</td>\n",
       "      <td>...</td>\n",
       "      <td>...</td>\n",
       "      <td>...</td>\n",
       "    </tr>\n",
       "    <tr>\n",
       "      <th>25000082</th>\n",
       "      <td>162541</td>\n",
       "      <td>8610</td>\n",
       "      <td>2.5</td>\n",
       "      <td>0</td>\n",
       "    </tr>\n",
       "    <tr>\n",
       "      <th>25000083</th>\n",
       "      <td>162541</td>\n",
       "      <td>8905</td>\n",
       "      <td>3.0</td>\n",
       "      <td>0</td>\n",
       "    </tr>\n",
       "    <tr>\n",
       "      <th>25000088</th>\n",
       "      <td>162541</td>\n",
       "      <td>41566</td>\n",
       "      <td>4.0</td>\n",
       "      <td>1</td>\n",
       "    </tr>\n",
       "    <tr>\n",
       "      <th>25000091</th>\n",
       "      <td>162541</td>\n",
       "      <td>55768</td>\n",
       "      <td>2.5</td>\n",
       "      <td>0</td>\n",
       "    </tr>\n",
       "    <tr>\n",
       "      <th>25000092</th>\n",
       "      <td>162541</td>\n",
       "      <td>56176</td>\n",
       "      <td>2.0</td>\n",
       "      <td>0</td>\n",
       "    </tr>\n",
       "  </tbody>\n",
       "</table>\n",
       "<p>8810607 rows × 4 columns</p>\n",
       "</div>"
      ],
      "text/plain": [
       "          userId  movieId  rating  liked\n",
       "71             2       62     0.5      0\n",
       "78             2      266     1.0      0\n",
       "80             2      333     5.0      1\n",
       "84             2      380     1.0      0\n",
       "91             2      553     2.0      0\n",
       "...          ...      ...     ...    ...\n",
       "25000082  162541     8610     2.5      0\n",
       "25000083  162541     8905     3.0      0\n",
       "25000088  162541    41566     4.0      1\n",
       "25000091  162541    55768     2.5      0\n",
       "25000092  162541    56176     2.0      0\n",
       "\n",
       "[8810607 rows x 4 columns]"
      ]
     },
     "execution_count": 345,
     "metadata": {},
     "output_type": "execute_result"
    }
   ],
   "source": [
    "sample_ratings"
   ]
  },
  {
   "attachments": {},
   "cell_type": "markdown",
   "id": "b25ad493",
   "metadata": {},
   "source": [
    "That leaves us with ~88k reviews."
   ]
  },
  {
   "cell_type": "code",
   "execution_count": 346,
   "id": "7b2a9eba",
   "metadata": {},
   "outputs": [],
   "source": [
    "#im gonna save it in a csv file\n",
    "ratings_sample.to_csv(\"Data/ratings_sample.csv\")"
   ]
  },
  {
   "attachments": {},
   "cell_type": "markdown",
   "id": "e2f26b4f",
   "metadata": {},
   "source": [
    "### back to movies dataframe"
   ]
  },
  {
   "cell_type": "code",
   "execution_count": 429,
   "id": "a52ce09b",
   "metadata": {},
   "outputs": [],
   "source": [
    "# movies['spoken_languages'] = movies['spoken_languages'].astype('str')"
   ]
  },
  {
   "cell_type": "code",
   "execution_count": 350,
   "id": "18b16fe8",
   "metadata": {},
   "outputs": [],
   "source": [
    "# lang_list=[]\n",
    "# for lang in movies['spoken_languages']:\n",
    "#     lang = lang.strip(\"[\").strip(\"]\")\n",
    "#     lang_list.append(lang.split(','))\n"
   ]
  },
  {
   "cell_type": "code",
   "execution_count": 351,
   "id": "2bf1924e",
   "metadata": {},
   "outputs": [],
   "source": [
    "# languages = [] #list of lists\n",
    "\n",
    "\n",
    "# for i in range(len(lang_list)):\n",
    "    \n",
    "#     ls=[] #list of dicts\n",
    "    \n",
    "#     for item in lang_list[i]:\n",
    "#         temp = {}\n",
    "#         item = item.replace(\"'\", \"\").replace(\"{\", \"\").replace(\"}\", \"\")\n",
    "#         if len(item.split(\":\"))==2:\n",
    "#             key, value = item.split(\":\")\n",
    "#             key = key.strip()\n",
    "#             value = value.strip()\n",
    "#             temp[key] = value\n",
    "   \n",
    "#             ls.append(temp)\n",
    "#     languages.append(ls)      "
   ]
  },
  {
   "cell_type": "code",
   "execution_count": 433,
   "id": "fd67bb32",
   "metadata": {},
   "outputs": [
    {
     "data": {
      "text/plain": [
       "(45381, 144)"
      ]
     },
     "execution_count": 433,
     "metadata": {},
     "output_type": "execute_result"
    }
   ],
   "source": [
    "movies.shape"
   ]
  },
  {
   "cell_type": "code",
   "execution_count": 354,
   "id": "3c91c23e",
   "metadata": {},
   "outputs": [],
   "source": [
    "# langs =[]\n",
    "# for i in range(len(languages)):\n",
    "#     temp =[]\n",
    "    \n",
    "#     for idx,dct in enumerate(languages[i]):\n",
    "        \n",
    "#         for key,val in dct.items():\n",
    "#             if key =='name':\n",
    "#                 temp.append(val)\n",
    "                \n",
    "   \n",
    "#     #list of temps\n",
    "#     langs.append(temp)\n",
    "  \n",
    "# movies['language'] = langs\n",
    "# movies['lang_list'] = langs"
   ]
  },
  {
   "cell_type": "code",
   "execution_count": 355,
   "id": "868ca3ae",
   "metadata": {},
   "outputs": [],
   "source": [
    "#converting language column from list ot strings\n",
    "# movies['language'] = [','.join(map(str, l)) for l in movies['language']]\n"
   ]
  },
  {
   "cell_type": "code",
   "execution_count": 356,
   "id": "fa7b0dd2",
   "metadata": {},
   "outputs": [],
   "source": [
    "#dropping the spoken languages col\n",
    "# movies.drop(columns = 'spoken_languages',inplace=True)"
   ]
  },
  {
   "cell_type": "code",
   "execution_count": null,
   "id": "58258192",
   "metadata": {},
   "outputs": [],
   "source": [
    "movies['genres'] = movies['genres'].astype(\"str\")"
   ]
  },
  {
   "cell_type": "code",
   "execution_count": 359,
   "id": "1c3b7337",
   "metadata": {},
   "outputs": [],
   "source": [
    "genre_list=[]\n",
    "for genre in movies['genres']:\n",
    "    genre = genre.strip(\"[\").strip(\"]\")\n",
    "    genre_list.append(genre.split(','))\n"
   ]
  },
  {
   "cell_type": "code",
   "execution_count": 360,
   "metadata": {},
   "outputs": [],
   "source": [
    "result = [] #list of lists\n",
    "\n",
    "\n",
    "for i in range(len(genre_list)):\n",
    "    \n",
    "    ls=[] #list of dicts\n",
    "    \n",
    "    for item in genre_list[i]:\n",
    "        temp = {}\n",
    "        item = item.replace(\"'\", \"\").replace(\"{\", \"\").replace(\"}\", \"\")\n",
    "        if len(item.split(\":\"))==2:\n",
    "            key, value = item.split(\":\")\n",
    "            key = key.strip()\n",
    "            value = value.strip()\n",
    "            temp[key] = value\n",
    "   \n",
    "            ls.append(temp)\n",
    "    result.append(ls)        \n",
    "        "
   ]
  },
  {
   "cell_type": "code",
   "execution_count": 361,
   "metadata": {},
   "outputs": [
    {
     "data": {
      "text/plain": [
       "45393"
      ]
     },
     "execution_count": 361,
     "metadata": {},
     "output_type": "execute_result"
    }
   ],
   "source": [
    "len(genre_list)"
   ]
  },
  {
   "cell_type": "code",
   "execution_count": 362,
   "id": "ca092d61",
   "metadata": {},
   "outputs": [
    {
     "data": {
      "text/plain": [
       "45393"
      ]
     },
     "execution_count": 362,
     "metadata": {},
     "output_type": "execute_result"
    }
   ],
   "source": [
    "len(result)"
   ]
  },
  {
   "cell_type": "code",
   "execution_count": 364,
   "id": "31c14c46",
   "metadata": {},
   "outputs": [],
   "source": [
    "genres_names = []\n",
    "for item in result:\n",
    "    for dct in item:\n",
    "        if 'name' not in dct.keys():\n",
    "            item.remove(dct)\n",
    "        "
   ]
  },
  {
   "cell_type": "code",
   "execution_count": 365,
   "id": "625aef25",
   "metadata": {},
   "outputs": [],
   "source": [
    "gen_list = []\n",
    "for item in result:\n",
    "    genres = []\n",
    "    for dct in item:\n",
    "        k,val = list(dct.items())[0]\n",
    "        genres.append(val)\n",
    "        \n",
    "    gen_list.append(genres)\n",
    "    \n"
   ]
  },
  {
   "cell_type": "code",
   "execution_count": 366,
   "id": "a03fe8c1",
   "metadata": {},
   "outputs": [
    {
     "data": {
      "text/plain": [
       "45393"
      ]
     },
     "execution_count": 366,
     "metadata": {},
     "output_type": "execute_result"
    }
   ],
   "source": [
    "len(gen_list)"
   ]
  },
  {
   "cell_type": "code",
   "execution_count": 368,
   "id": "d2342104",
   "metadata": {},
   "outputs": [],
   "source": [
    "movies['genre']=gen_list"
   ]
  },
  {
   "cell_type": "code",
   "execution_count": 435,
   "id": "d7d7a418",
   "metadata": {},
   "outputs": [
    {
     "data": {
      "text/plain": [
       "0         [Animation, Comedy, Family]\n",
       "1        [Adventure, Fantasy, Family]\n",
       "2                   [Romance, Comedy]\n",
       "3            [Comedy, Drama, Romance]\n",
       "4                            [Comedy]\n",
       "                     ...             \n",
       "45460        [Drama, Action, Romance]\n",
       "45462                         [Drama]\n",
       "45463       [Action, Drama, Thriller]\n",
       "45464                              []\n",
       "45465                              []\n",
       "Name: genre, Length: 45381, dtype: object"
      ]
     },
     "execution_count": 435,
     "metadata": {},
     "output_type": "execute_result"
    }
   ],
   "source": [
    "movies['genre']"
   ]
  },
  {
   "cell_type": "code",
   "execution_count": 370,
   "id": "94d5f42c",
   "metadata": {},
   "outputs": [],
   "source": [
    "#dropping `genres` col\n",
    "movies.drop(columns=\"genres\" , inplace=True)"
   ]
  },
  {
   "cell_type": "code",
   "execution_count": 436,
   "id": "b6e830bd",
   "metadata": {},
   "outputs": [
    {
     "name": "stderr",
     "output_type": "stream",
     "text": [
      "/var/folders/j1/rhs6cm1s6r33j2qkcxx0f8kr0000gn/T/ipykernel_19062/2943367366.py:1: FutureWarning: The default dtype for empty Series will be 'object' instead of 'float64' in a future version. Specify a dtype explicitly to silence this warning.\n",
      "  dummies_df = pd.get_dummies(movies['genre'].apply(pd.Series), prefix='', prefix_sep='').groupby(level=0).sum(numeric_only=True, min_count=0)\n"
     ]
    }
   ],
   "source": [
    "dummies_df = pd.get_dummies(movies['genre'].apply(pd.Series), prefix='', prefix_sep='').groupby(level=0).sum(numeric_only=True, min_count=0)\n",
    "\n"
   ]
  },
  {
   "cell_type": "code",
   "execution_count": 437,
   "id": "75a185c3",
   "metadata": {},
   "outputs": [
    {
     "data": {
      "text/html": [
       "<div>\n",
       "<style scoped>\n",
       "    .dataframe tbody tr th:only-of-type {\n",
       "        vertical-align: middle;\n",
       "    }\n",
       "\n",
       "    .dataframe tbody tr th {\n",
       "        vertical-align: top;\n",
       "    }\n",
       "\n",
       "    .dataframe thead th {\n",
       "        text-align: right;\n",
       "    }\n",
       "</style>\n",
       "<table border=\"1\" class=\"dataframe\">\n",
       "  <thead>\n",
       "    <tr style=\"text-align: right;\">\n",
       "      <th></th>\n",
       "      <th>Action</th>\n",
       "      <th>Adventure</th>\n",
       "      <th>Animation</th>\n",
       "      <th>Comedy</th>\n",
       "      <th>Crime</th>\n",
       "      <th>Documentary</th>\n",
       "      <th>Drama</th>\n",
       "      <th>Family</th>\n",
       "      <th>Fantasy</th>\n",
       "      <th>Foreign</th>\n",
       "      <th>...</th>\n",
       "      <th>Family</th>\n",
       "      <th>Foreign</th>\n",
       "      <th>Music</th>\n",
       "      <th>Romance</th>\n",
       "      <th>Science Fiction</th>\n",
       "      <th>Thriller</th>\n",
       "      <th>Western</th>\n",
       "      <th>Comedy</th>\n",
       "      <th>Family</th>\n",
       "      <th>Thriller</th>\n",
       "    </tr>\n",
       "  </thead>\n",
       "  <tbody>\n",
       "    <tr>\n",
       "      <th>0</th>\n",
       "      <td>0</td>\n",
       "      <td>0</td>\n",
       "      <td>1</td>\n",
       "      <td>0</td>\n",
       "      <td>0</td>\n",
       "      <td>0</td>\n",
       "      <td>0</td>\n",
       "      <td>0</td>\n",
       "      <td>0</td>\n",
       "      <td>0</td>\n",
       "      <td>...</td>\n",
       "      <td>0</td>\n",
       "      <td>0</td>\n",
       "      <td>0</td>\n",
       "      <td>0</td>\n",
       "      <td>0</td>\n",
       "      <td>0</td>\n",
       "      <td>0</td>\n",
       "      <td>0</td>\n",
       "      <td>0</td>\n",
       "      <td>0</td>\n",
       "    </tr>\n",
       "    <tr>\n",
       "      <th>1</th>\n",
       "      <td>0</td>\n",
       "      <td>1</td>\n",
       "      <td>0</td>\n",
       "      <td>0</td>\n",
       "      <td>0</td>\n",
       "      <td>0</td>\n",
       "      <td>0</td>\n",
       "      <td>0</td>\n",
       "      <td>0</td>\n",
       "      <td>0</td>\n",
       "      <td>...</td>\n",
       "      <td>0</td>\n",
       "      <td>0</td>\n",
       "      <td>0</td>\n",
       "      <td>0</td>\n",
       "      <td>0</td>\n",
       "      <td>0</td>\n",
       "      <td>0</td>\n",
       "      <td>0</td>\n",
       "      <td>0</td>\n",
       "      <td>0</td>\n",
       "    </tr>\n",
       "    <tr>\n",
       "      <th>2</th>\n",
       "      <td>0</td>\n",
       "      <td>0</td>\n",
       "      <td>0</td>\n",
       "      <td>0</td>\n",
       "      <td>0</td>\n",
       "      <td>0</td>\n",
       "      <td>0</td>\n",
       "      <td>0</td>\n",
       "      <td>0</td>\n",
       "      <td>0</td>\n",
       "      <td>...</td>\n",
       "      <td>0</td>\n",
       "      <td>0</td>\n",
       "      <td>0</td>\n",
       "      <td>0</td>\n",
       "      <td>0</td>\n",
       "      <td>0</td>\n",
       "      <td>0</td>\n",
       "      <td>0</td>\n",
       "      <td>0</td>\n",
       "      <td>0</td>\n",
       "    </tr>\n",
       "    <tr>\n",
       "      <th>3</th>\n",
       "      <td>0</td>\n",
       "      <td>0</td>\n",
       "      <td>0</td>\n",
       "      <td>1</td>\n",
       "      <td>0</td>\n",
       "      <td>0</td>\n",
       "      <td>0</td>\n",
       "      <td>0</td>\n",
       "      <td>0</td>\n",
       "      <td>0</td>\n",
       "      <td>...</td>\n",
       "      <td>0</td>\n",
       "      <td>0</td>\n",
       "      <td>0</td>\n",
       "      <td>0</td>\n",
       "      <td>0</td>\n",
       "      <td>0</td>\n",
       "      <td>0</td>\n",
       "      <td>0</td>\n",
       "      <td>0</td>\n",
       "      <td>0</td>\n",
       "    </tr>\n",
       "    <tr>\n",
       "      <th>4</th>\n",
       "      <td>0</td>\n",
       "      <td>0</td>\n",
       "      <td>0</td>\n",
       "      <td>1</td>\n",
       "      <td>0</td>\n",
       "      <td>0</td>\n",
       "      <td>0</td>\n",
       "      <td>0</td>\n",
       "      <td>0</td>\n",
       "      <td>0</td>\n",
       "      <td>...</td>\n",
       "      <td>0</td>\n",
       "      <td>0</td>\n",
       "      <td>0</td>\n",
       "      <td>0</td>\n",
       "      <td>0</td>\n",
       "      <td>0</td>\n",
       "      <td>0</td>\n",
       "      <td>0</td>\n",
       "      <td>0</td>\n",
       "      <td>0</td>\n",
       "    </tr>\n",
       "    <tr>\n",
       "      <th>...</th>\n",
       "      <td>...</td>\n",
       "      <td>...</td>\n",
       "      <td>...</td>\n",
       "      <td>...</td>\n",
       "      <td>...</td>\n",
       "      <td>...</td>\n",
       "      <td>...</td>\n",
       "      <td>...</td>\n",
       "      <td>...</td>\n",
       "      <td>...</td>\n",
       "      <td>...</td>\n",
       "      <td>...</td>\n",
       "      <td>...</td>\n",
       "      <td>...</td>\n",
       "      <td>...</td>\n",
       "      <td>...</td>\n",
       "      <td>...</td>\n",
       "      <td>...</td>\n",
       "      <td>...</td>\n",
       "      <td>...</td>\n",
       "      <td>...</td>\n",
       "    </tr>\n",
       "    <tr>\n",
       "      <th>45460</th>\n",
       "      <td>0</td>\n",
       "      <td>0</td>\n",
       "      <td>0</td>\n",
       "      <td>0</td>\n",
       "      <td>0</td>\n",
       "      <td>0</td>\n",
       "      <td>1</td>\n",
       "      <td>0</td>\n",
       "      <td>0</td>\n",
       "      <td>0</td>\n",
       "      <td>...</td>\n",
       "      <td>0</td>\n",
       "      <td>0</td>\n",
       "      <td>0</td>\n",
       "      <td>0</td>\n",
       "      <td>0</td>\n",
       "      <td>0</td>\n",
       "      <td>0</td>\n",
       "      <td>0</td>\n",
       "      <td>0</td>\n",
       "      <td>0</td>\n",
       "    </tr>\n",
       "    <tr>\n",
       "      <th>45462</th>\n",
       "      <td>0</td>\n",
       "      <td>0</td>\n",
       "      <td>0</td>\n",
       "      <td>0</td>\n",
       "      <td>0</td>\n",
       "      <td>0</td>\n",
       "      <td>1</td>\n",
       "      <td>0</td>\n",
       "      <td>0</td>\n",
       "      <td>0</td>\n",
       "      <td>...</td>\n",
       "      <td>0</td>\n",
       "      <td>0</td>\n",
       "      <td>0</td>\n",
       "      <td>0</td>\n",
       "      <td>0</td>\n",
       "      <td>0</td>\n",
       "      <td>0</td>\n",
       "      <td>0</td>\n",
       "      <td>0</td>\n",
       "      <td>0</td>\n",
       "    </tr>\n",
       "    <tr>\n",
       "      <th>45463</th>\n",
       "      <td>1</td>\n",
       "      <td>0</td>\n",
       "      <td>0</td>\n",
       "      <td>0</td>\n",
       "      <td>0</td>\n",
       "      <td>0</td>\n",
       "      <td>0</td>\n",
       "      <td>0</td>\n",
       "      <td>0</td>\n",
       "      <td>0</td>\n",
       "      <td>...</td>\n",
       "      <td>0</td>\n",
       "      <td>0</td>\n",
       "      <td>0</td>\n",
       "      <td>0</td>\n",
       "      <td>0</td>\n",
       "      <td>0</td>\n",
       "      <td>0</td>\n",
       "      <td>0</td>\n",
       "      <td>0</td>\n",
       "      <td>0</td>\n",
       "    </tr>\n",
       "    <tr>\n",
       "      <th>45464</th>\n",
       "      <td>0</td>\n",
       "      <td>0</td>\n",
       "      <td>0</td>\n",
       "      <td>0</td>\n",
       "      <td>0</td>\n",
       "      <td>0</td>\n",
       "      <td>0</td>\n",
       "      <td>0</td>\n",
       "      <td>0</td>\n",
       "      <td>0</td>\n",
       "      <td>...</td>\n",
       "      <td>0</td>\n",
       "      <td>0</td>\n",
       "      <td>0</td>\n",
       "      <td>0</td>\n",
       "      <td>0</td>\n",
       "      <td>0</td>\n",
       "      <td>0</td>\n",
       "      <td>0</td>\n",
       "      <td>0</td>\n",
       "      <td>0</td>\n",
       "    </tr>\n",
       "    <tr>\n",
       "      <th>45465</th>\n",
       "      <td>0</td>\n",
       "      <td>0</td>\n",
       "      <td>0</td>\n",
       "      <td>0</td>\n",
       "      <td>0</td>\n",
       "      <td>0</td>\n",
       "      <td>0</td>\n",
       "      <td>0</td>\n",
       "      <td>0</td>\n",
       "      <td>0</td>\n",
       "      <td>...</td>\n",
       "      <td>0</td>\n",
       "      <td>0</td>\n",
       "      <td>0</td>\n",
       "      <td>0</td>\n",
       "      <td>0</td>\n",
       "      <td>0</td>\n",
       "      <td>0</td>\n",
       "      <td>0</td>\n",
       "      <td>0</td>\n",
       "      <td>0</td>\n",
       "    </tr>\n",
       "  </tbody>\n",
       "</table>\n",
       "<p>45381 rows × 131 columns</p>\n",
       "</div>"
      ],
      "text/plain": [
       "       Action  Adventure  Animation  Comedy  Crime  Documentary  Drama  \\\n",
       "0           0          0          1       0      0            0      0   \n",
       "1           0          1          0       0      0            0      0   \n",
       "2           0          0          0       0      0            0      0   \n",
       "3           0          0          0       1      0            0      0   \n",
       "4           0          0          0       1      0            0      0   \n",
       "...       ...        ...        ...     ...    ...          ...    ...   \n",
       "45460       0          0          0       0      0            0      1   \n",
       "45462       0          0          0       0      0            0      1   \n",
       "45463       1          0          0       0      0            0      0   \n",
       "45464       0          0          0       0      0            0      0   \n",
       "45465       0          0          0       0      0            0      0   \n",
       "\n",
       "       Family  Fantasy  Foreign  ...  Family  Foreign  Music  Romance  \\\n",
       "0           0        0        0  ...       0        0      0        0   \n",
       "1           0        0        0  ...       0        0      0        0   \n",
       "2           0        0        0  ...       0        0      0        0   \n",
       "3           0        0        0  ...       0        0      0        0   \n",
       "4           0        0        0  ...       0        0      0        0   \n",
       "...       ...      ...      ...  ...     ...      ...    ...      ...   \n",
       "45460       0        0        0  ...       0        0      0        0   \n",
       "45462       0        0        0  ...       0        0      0        0   \n",
       "45463       0        0        0  ...       0        0      0        0   \n",
       "45464       0        0        0  ...       0        0      0        0   \n",
       "45465       0        0        0  ...       0        0      0        0   \n",
       "\n",
       "       Science Fiction  Thriller  Western  Comedy  Family  Thriller  \n",
       "0                    0         0        0       0       0         0  \n",
       "1                    0         0        0       0       0         0  \n",
       "2                    0         0        0       0       0         0  \n",
       "3                    0         0        0       0       0         0  \n",
       "4                    0         0        0       0       0         0  \n",
       "...                ...       ...      ...     ...     ...       ...  \n",
       "45460                0         0        0       0       0         0  \n",
       "45462                0         0        0       0       0         0  \n",
       "45463                0         0        0       0       0         0  \n",
       "45464                0         0        0       0       0         0  \n",
       "45465                0         0        0       0       0         0  \n",
       "\n",
       "[45381 rows x 131 columns]"
      ]
     },
     "execution_count": 437,
     "metadata": {},
     "output_type": "execute_result"
    }
   ],
   "source": [
    "dummies_df"
   ]
  },
  {
   "cell_type": "code",
   "execution_count": null,
   "id": "d4d3a077",
   "metadata": {},
   "outputs": [],
   "source": [
    "movies = movies.join(dummies_df)"
   ]
  },
  {
   "cell_type": "code",
   "execution_count": 374,
   "id": "7840ea76",
   "metadata": {},
   "outputs": [
    {
     "data": {
      "text/plain": [
       "0"
      ]
     },
     "execution_count": 374,
     "metadata": {},
     "output_type": "execute_result"
    }
   ],
   "source": [
    "movies.isna().sum().sum()"
   ]
  },
  {
   "cell_type": "code",
   "execution_count": 376,
   "id": "060440d3",
   "metadata": {},
   "outputs": [
    {
     "data": {
      "text/plain": [
       "32187"
      ]
     },
     "execution_count": 376,
     "metadata": {},
     "output_type": "execute_result"
    }
   ],
   "source": [
    "len(movies[movies['original_language'] == 'en'].values)"
   ]
  },
  {
   "attachments": {},
   "cell_type": "markdown",
   "id": "79818d71",
   "metadata": {},
   "source": [
    "model_movies_df"
   ]
  },
  {
   "cell_type": "code",
   "execution_count": 59,
   "id": "4859cde9",
   "metadata": {},
   "outputs": [],
   "source": [
    "# genres_vote_count.to_csv(\"genres_vote_count.csv\")"
   ]
  },
  {
   "cell_type": "code",
   "execution_count": 377,
   "id": "9a57c591",
   "metadata": {},
   "outputs": [],
   "source": [
    "lang_s = movies[\"lang_list\"]"
   ]
  },
  {
   "cell_type": "code",
   "execution_count": 378,
   "id": "75282d24",
   "metadata": {},
   "outputs": [],
   "source": [
    "movies.drop(columns= 'lang_list',inplace=True)"
   ]
  },
  {
   "cell_type": "code",
   "execution_count": 379,
   "id": "eb1b2917",
   "metadata": {},
   "outputs": [],
   "source": [
    "# lang_stacked.to_csv(\"language_count.csv\")"
   ]
  },
  {
   "cell_type": "code",
   "execution_count": 380,
   "id": "51209b26",
   "metadata": {},
   "outputs": [],
   "source": [
    "movies.to_csv(\"movies.csv\" , index= False)\n",
    "#saving cleaned movies and ready to work on "
   ]
  },
  {
   "cell_type": "code",
   "execution_count": 388,
   "id": "dda239bf",
   "metadata": {},
   "outputs": [],
   "source": [
    "idx = movies[movies['vote_count'] == 'Unknown'].index\n",
    "movies.drop(idx, inplace=True)"
   ]
  },
  {
   "cell_type": "code",
   "execution_count": 395,
   "id": "6e0fbd2f",
   "metadata": {},
   "outputs": [
    {
     "data": {
      "text/plain": [
       "0        5415.0\n",
       "1        2413.0\n",
       "2          92.0\n",
       "3          34.0\n",
       "4         173.0\n",
       "          ...  \n",
       "45460      26.0\n",
       "45462       3.0\n",
       "45463       6.0\n",
       "45464       0.0\n",
       "45465       0.0\n",
       "Name: vote_count, Length: 45381, dtype: object"
      ]
     },
     "execution_count": 395,
     "metadata": {},
     "output_type": "execute_result"
    }
   ],
   "source": [
    "movies['vote_count']"
   ]
  },
  {
   "cell_type": "code",
   "execution_count": 444,
   "id": "e92a3ab3",
   "metadata": {},
   "outputs": [],
   "source": [
    "count_per_movie = movies.groupby(\"movieId\")['vote_count'].sum()"
   ]
  },
  {
   "cell_type": "code",
   "execution_count": 445,
   "id": "05a1423e",
   "metadata": {},
   "outputs": [
    {
     "data": {
      "text/plain": [
       "movieId\n",
       "0                            0.0\n",
       "94.1157070494813    24187.736712\n",
       "100                       1671.0\n",
       "10000                        9.0\n",
       "10001                       46.0\n",
       "                        ...     \n",
       "99946                        2.0\n",
       "9995                         5.0\n",
       "9997                        77.0\n",
       "99977                        6.0\n",
       "9999                        11.0\n",
       "Name: vote_count, Length: 45090, dtype: object"
      ]
     },
     "execution_count": 445,
     "metadata": {},
     "output_type": "execute_result"
    }
   ],
   "source": [
    "count_per_movie"
   ]
  },
  {
   "cell_type": "code",
   "execution_count": 446,
   "id": "54b34cb7",
   "metadata": {},
   "outputs": [
    {
     "data": {
      "image/png": "[encoded data removed]",
      "text/plain": [
       "<Figure size 2000x1500 with 1 Axes>"
      ]
     },
     "metadata": {},
     "output_type": "display_data"
    }
   ],
   "source": [
    "plt.figure(figsize=(20,15))\n",
    "plt.hist(count_per_movie,bins=30)\n",
    "plt.show()"
   ]
  },
  {
   "cell_type": "code",
   "execution_count": 449,
   "id": "0e2c20a4",
   "metadata": {},
   "outputs": [],
   "source": [
    "count_per_movie= count_per_movie[count_per_movie>100]\n"
   ]
  },
  {
   "cell_type": "code",
   "execution_count": 450,
   "id": "756681c2",
   "metadata": {},
   "outputs": [
    {
     "data": {
      "text/plain": [
       "movieId\n",
       "94.1157070494813    24187.736712\n",
       "100                       1671.0\n",
       "10003                      310.0\n",
       "100042                    1140.0\n",
       "10007                      146.0\n",
       "                        ...     \n",
       "9988                       173.0\n",
       "9989                       156.0\n",
       "9991                       158.0\n",
       "9992                       663.0\n",
       "9994                       334.0\n",
       "Name: vote_count, Length: 6019, dtype: object"
      ]
     },
     "execution_count": 450,
     "metadata": {},
     "output_type": "execute_result"
    }
   ],
   "source": [
    "count_per_movie"
   ]
  },
  {
   "attachments": {},
   "cell_type": "markdown",
   "id": "17f8d2f2",
   "metadata": {},
   "source": [
    "This leaves us with 6k movies(which have above 100 reviews)"
   ]
  },
  {
   "cell_type": "code",
   "execution_count": 451,
   "id": "08e98872",
   "metadata": {},
   "outputs": [],
   "source": [
    "movies = movies[movies['movieId'].isin(count_per_movie.index)]"
   ]
  },
  {
   "cell_type": "code",
   "execution_count": 453,
   "id": "27bda329",
   "metadata": {},
   "outputs": [],
   "source": [
    "movies.to_csv(\"Data/movies.csv\")"
   ]
  },
  {
   "cell_type": "code",
   "execution_count": 73,
   "id": "6fa59dab",
   "metadata": {},
   "outputs": [],
   "source": [
    "tfidf = TfidfVectorizer(analyzer = 'word' , stop_words='english',min_df=0,ngram_range=(1,2))"
   ]
  },
  {
   "cell_type": "code",
   "execution_count": null,
   "id": "b9300985",
   "metadata": {},
   "outputs": [],
   "source": []
  },
  {
   "cell_type": "code",
   "execution_count": 74,
   "id": "a09935b6",
   "metadata": {},
   "outputs": [],
   "source": [
    "#sanity check on the matrix\n",
    "# tfVec_matrix.shape"
   ]
  },
  {
   "cell_type": "code",
   "execution_count": null,
   "id": "0b06f597",
   "metadata": {},
   "outputs": [],
   "source": [
    "def common_movies(user1,user2):\n",
    "    movies=[]\n",
    "    movies_id = [id for id in ratings_sample[ratings_sample['userId']==user1]['movieId'] if id in ratings_sample[ratings_sample['userId']==user2]['movieId']]\n",
    "    # for id in movies_id:\n",
    "    #     movies.append(movies_df[movies_df['movieId'] == id]['title']) \n",
    "    # return movies\n",
    "    return movies_id\n",
    "  "
   ]
  },
  {
   "cell_type": "code",
   "execution_count": null,
   "id": "d9c7a9fd",
   "metadata": {},
   "outputs": [],
   "source": [
    "#need to calculate the cosine similarity between the liked movies on users\n",
    "def get_common_liked_movie(user1,user2):\n",
    "    cm = common_movies(user1,user2)\n",
    "    liked_by_user1 = ratings_sample[ (ratings_sample['userId']==11) & (ratings_sample['liked']==1) ]['movieId']\n",
    "    liked_by_user2 = ratings_sample[(ratings_sample['userId']==22) & (ratings_sample['liked']==1)]['movieId']\n",
    "    liked_movies=[]\n",
    "    liked_titles=[]\n",
    "    movies_id = [movie_id for movie_id in cm]\n",
    "    for id in movies_id:\n",
    "        if id in ((liked_by_user1) & (liked_by_user2)):\n",
    "            \n",
    "            liked_movies.append(id)\n",
    "\n",
    "    for id in liked_movies:   \n",
    "            liked_titles.append(movies_df[movies_df['movieId'] == id]['title'])\n",
    "    return liked_titles"
   ]
  },
  {
   "cell_type": "code",
   "execution_count": 1,
   "id": "13043b1e",
   "metadata": {},
   "outputs": [],
   "source": [
    "def get_liked_movies_info(movie_title):\n",
    "    title = movie_title\n",
    "    genre = movies_df[movies_df['movieId']==title]['genre']\n",
    "    lang = movies_df[movies_df['movieId']==title]['original_language']\n",
    "    runtime = movies_df[movies_df['movieId']==title]['runtime']\n",
    "    "
   ]
  },
  {
   "cell_type": "code",
   "execution_count": null,
   "id": "e5b3e8c4",
   "metadata": {},
   "outputs": [],
   "source": [
    "#Now I'm going to vectorize the overview words.\n",
    "# translator = Translator()\n",
    "# def translate_non_english(text):\n",
    "#     try:\n",
    "#         if translator.detect(text).lang != 'en':\n",
    "#             return translator.translate(text).text\n",
    "#     except AttributeError:\n",
    "#         pass  # Handle attribute error and return the original text\n",
    "#     return text\n",
    "# # Apply translation function to 'overview' column\n",
    "# movies_df['overview'] = movies_df['overview'].apply(translate_non_english)"
   ]
  },
  {
   "cell_type": "code",
   "execution_count": null,
   "id": "ae8f6d63",
   "metadata": {},
   "outputs": [],
   "source": [
    "\n",
    "#Define a TF-IDF Vectorizer Object. Remove all english stop words such as 'the', 'a'\n",
    "tfidf = TfidfVectorizer(stop_words='english',min_df=0,ngram_range=(1,2))\n",
    "\n",
    "#Replace NaN with an empty string\n",
    "movies_df['overview'] = movies_df['overview'].fillna('')\n",
    "\n",
    "#Construct the required TF-IDF matrix by fitting and transforming the data\n",
    "tfidf_matrix = tfidf.fit_transform(movies_df['overview'])\n",
    "\n",
    "#Output the shape of tfidf_matrix\n",
    "tfidf_matrix.shape"
   ]
  },
  {
   "attachments": {},
   "cell_type": "markdown",
   "id": "e38d37af",
   "metadata": {},
   "source": [
    "Since we have used the TF-IDF vectorizer, calculating the dot product will directly give us the cosine similarity score. Therefore, we will use sklearn's linear_kernel() instead of cosine_similarities() since it is faster."
   ]
  },
  {
   "cell_type": "code",
   "execution_count": null,
   "id": "de968b89",
   "metadata": {},
   "outputs": [],
   "source": [
    "# Import linear_kernel\n",
    "from sklearn.metrics.pairwise import linear_kernel\n",
    "\n",
    "# Compute the cosine similarity matrix\n",
    "cosine_sim = linear_kernel(tfidf_matrix, tfidf_matrix)"
   ]
  },
  {
   "cell_type": "code",
   "execution_count": null,
   "id": "c0de44bd",
   "metadata": {},
   "outputs": [],
   "source": [
    "# Function that takes in movie title as input and outputs most similar movies based on oveerview\n",
    "def get_recommendations(title, cosine_sim=cosine_sim):\n",
    "    \n",
    "    # Get the index of the movie that matches the title\n",
    "    idx = indices[title]\n",
    "    print(idx)\n",
    "    print()\n",
    "    movie_indices =[]\n",
    "    # Get the pairwsie similarity scores of all movies with that movie\n",
    "    sim_scores = list(enumerate(cosine_sim[idx]))\n",
    "    \n",
    "    \n",
    "    # Sort the movies based on the similarity scores\n",
    "\n",
    "    idx = indices[title]\n",
    "    sim_scores = list(enumerate(cosine_sim[idx]))\n",
    "    sim_scores = sorted(sim_scores, key=lambda x: x[1], reverse=True)\n",
    "    sim_scores = sim_scores[1:11]\n",
    "    movie_indices=[i[0] for i in sim_scores]\n",
    "        \n",
    "    # Return the top 10 most similar movies\n",
    "    return movies_df['title'].iloc[movie_indices]\n",
    "get_recommendations('Batman')"
   ]
  },
  {
   "cell_type": "code",
   "execution_count": null,
   "id": "f98e3fd2",
   "metadata": {},
   "outputs": [],
   "source": []
  },
  {
   "cell_type": "code",
   "execution_count": null,
   "id": "a2a430ca",
   "metadata": {},
   "outputs": [],
   "source": []
  }
 ],
 "metadata": {
  "kernelspec": {
   "display_name": "plotly_bokeh",
   "language": "python",
   "name": "python3"
  },
  "language_info": {
   "codemirror_mode": {
    "name": "ipython",
    "version": 3
   },
   "file_extension": ".py",
   "mimetype": "text/x-python",
   "name": "python",
   "nbconvert_exporter": "python",
   "pygments_lexer": "ipython3",
   "version": "3.8.16"
  }
 },
 "nbformat": 4,
 "nbformat_minor": 5
}
