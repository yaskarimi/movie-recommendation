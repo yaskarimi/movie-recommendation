{
 "cells": [
  {
   "cell_type": "code",
   "execution_count": 2,
   "metadata": {},
   "outputs": [],
   "source": [
    "import pandas as pd\n",
    "import numpy as np \n",
    "from pandas.api.types import CategoricalDtype\n",
    "from datetime import datetime \n",
    "import pandas as pd\n",
    "import numpy as np \n",
    "import nltk\n",
    "from sklearn.feature_extraction.text import TfidfVectorizer\n",
    "from sklearn.metrics.pairwise import cosine_similarity\n",
    "from sklearn.feature_extraction.text import CountVectorizer\n",
    "import matplotlib.pyplot as plt\n",
    "from sklearn.preprocessing import normalize\n",
    "from scipy.sparse import csr_matrix\n"
   ]
  },
  {
   "attachments": {},
   "cell_type": "markdown",
   "metadata": {},
   "source": [
    "\n",
    "Load the cleaned dataset which contains 6k rows of movie info:"
   ]
  },
  {
   "cell_type": "code",
   "execution_count": 3,
   "metadata": {},
   "outputs": [],
   "source": [
    "movies = pd.read_csv(\"Data/movies.csv\")"
   ]
  },
  {
   "cell_type": "code",
   "execution_count": 4,
   "metadata": {},
   "outputs": [
    {
     "data": {
      "text/plain": [
       "(6020, 33)"
      ]
     },
     "execution_count": 4,
     "metadata": {},
     "output_type": "execute_result"
    }
   ],
   "source": [
    "movies.shape"
   ]
  },
  {
   "attachments": {},
   "cell_type": "markdown",
   "metadata": {},
   "source": [
    "### Searching the dataframe for the movies which have similar name to the one that is searched"
   ]
  },
  {
   "attachments": {},
   "cell_type": "markdown",
   "metadata": {},
   "source": [
    "- vectorizing the `title` \n",
    "- fit and transform the titles in the tfidf vectorizer."
   ]
  },
  {
   "cell_type": "code",
   "execution_count": 5,
   "metadata": {},
   "outputs": [
    {
     "data": {
      "text/plain": [
       "(6020, 12139)"
      ]
     },
     "execution_count": 5,
     "metadata": {},
     "output_type": "execute_result"
    }
   ],
   "source": [
    "#Define a TF-IDF Vectorizer Object for titles\n",
    "tfidf_title = TfidfVectorizer(stop_words='english',min_df=0,ngram_range=(1,4))\n",
    "\n",
    "\n",
    "#Construct the required TF-IDF matrix by fitting and transforming the data\n",
    "title_matrix = tfidf_title.fit_transform(movies['title'])\n",
    "\n",
    "#Output the shape of tfidf_matrix\n",
    "title_matrix.shape"
   ]
  },
  {
   "attachments": {},
   "cell_type": "markdown",
   "metadata": {},
   "source": [
    "- Getting the cosine similarity of the title "
   ]
  },
  {
   "cell_type": "code",
   "execution_count": 6,
   "metadata": {},
   "outputs": [],
   "source": [
    "title_similarity = cosine_similarity(title_matrix)\n"
   ]
  },
  {
   "cell_type": "code",
   "execution_count": 7,
   "metadata": {},
   "outputs": [
    {
     "data": {
      "text/plain": [
       "(6020, 6020)"
      ]
     },
     "execution_count": 7,
     "metadata": {},
     "output_type": "execute_result"
    }
   ],
   "source": [
    "title_similarity.shape\n",
    "#sanity check on the shape of our matrix"
   ]
  },
  {
   "attachments": {},
   "cell_type": "markdown",
   "metadata": {},
   "source": [
    "#### `Content_recommender` function \n",
    "which gets a title for a movie and returns the top movies with similar name to the one searched.\n"
   ]
  },
  {
   "cell_type": "code",
   "execution_count": 8,
   "metadata": {},
   "outputs": [],
   "source": [
    "# def content_recommender(title, movies,similarities) :\n",
    "    \n",
    "#     idx = movies[movies['title']==title].index\n",
    "#     if  idx.empty:\n",
    "#         matching_movies = movies[movies['title'].str.contains(title, case=False)]\n",
    "#         matching_indices = matching_movies.index\n",
    "#         idx = matching_indices[0]\n",
    "#         if matching_movies.empty:\n",
    "#             raise ValueError(\"No similar movie titles found.\")\n",
    "        \n",
    "    \n",
    "\n",
    "    \n",
    "# # Create a dataframe with the movie titles\n",
    "#     sim_df = pd.DataFrame({'movie':movies['title'], \n",
    "#                        'similarity': title_similarity[idx]})\n",
    "#     # Get the top 10 movies with \n",
    "#     top_movies = sim_df.sort_values(by='similarity', ascending=False).head(10)\n",
    "\n",
    "#     return top_movies"
   ]
  },
  {
   "cell_type": "code",
   "execution_count": 51,
   "metadata": {},
   "outputs": [],
   "source": [
    "from fuzzywuzzy import fuzz\n",
    "from fuzzywuzzy import process\n",
    "import pandas as pd\n",
    "\n",
    "def find_similar_movies(movie_title, top_n=10, threshold=80):\n",
    "    # Calculate similarity scores for each movie title\n",
    "    titles = movies['title'].tolist()\n",
    "    similarity_scores = process.extract(movie_title, titles, scorer=fuzz.partial_ratio)\n",
    "\n",
    "    # Filter movies with similarity scores above the threshold\n",
    "    \n",
    "    similar_movies = [name for name,score in similarity_scores if score >= threshold]\n",
    "    # print(similar_movies[:top_n])\n",
    "    return similar_movies[:top_n]\n",
    "\n"
   ]
  },
  {
   "cell_type": "code",
   "execution_count": 52,
   "metadata": {},
   "outputs": [
    {
     "name": "stdout",
     "output_type": "stream",
     "text": [
      "['Batman Forever', 'Batman', 'M', 'Batman Returns', 'Batman & Robin']\n"
     ]
    }
   ],
   "source": [
    "\n",
    "similar_movies = find_similar_movies(\"batman\", top_n=10, threshold=80)\n",
    "print(similar_movies)"
   ]
  },
  {
   "attachments": {},
   "cell_type": "markdown",
   "metadata": {},
   "source": [
    "- Creating a tfidf vectorizer\n",
    "- fit and transform 5000 most repeated woreds in the movie reviews"
   ]
  },
  {
   "cell_type": "code",
   "execution_count": 10,
   "metadata": {},
   "outputs": [
    {
     "data": {
      "text/plain": [
       "(6020, 3269)"
      ]
     },
     "execution_count": 10,
     "metadata": {},
     "output_type": "execute_result"
    }
   ],
   "source": [
    "#Define a TF-IDF Vectorizer Object. Remove all english stop words such as 'the', 'a'\n",
    "tfidf = TfidfVectorizer(stop_words='english',min_df=10,ngram_range=(1,2),max_features=5000)\n",
    "\n",
    "\n",
    "#Construct the required TF-IDF matrix by fitting and transforming the data\n",
    "tfidf_matrix = tfidf.fit_transform(movies['overview'])\n",
    "\n",
    "#Output the shape of tfidf_matrix\n",
    "tfidf_matrix.shape"
   ]
  },
  {
   "attachments": {},
   "cell_type": "markdown",
   "metadata": {},
   "source": [
    "Since we have used the TF-IDF vectorizer, calculating the dot product will directly give us the cosine similarity score. Therefore, we will use sklearn's linear_kernel() instead of cosine_similarities() since it is faster."
   ]
  },
  {
   "cell_type": "code",
   "execution_count": 11,
   "metadata": {},
   "outputs": [],
   "source": [
    "overview_similarity = cosine_similarity(tfidf_matrix)"
   ]
  },
  {
   "attachments": {},
   "cell_type": "markdown",
   "metadata": {},
   "source": [
    "### `Recommendr_on_story` "
   ]
  },
  {
   "cell_type": "code",
   "execution_count": 12,
   "metadata": {},
   "outputs": [],
   "source": [
    "def recommender_on_story(title,similarities):\n",
    "    idx = movies[movies['title']==title].index\n",
    "    if  idx.empty:\n",
    "        matching_movies = movies[movies['title'].str.contains(title, case=False)]\n",
    "        matching_indices = matching_movies.index\n",
    "        idx = matching_indices[0]\n",
    "        if matching_movies.empty:\n",
    "            raise ValueError(\"No similar movie titles found.\")\n",
    "    \n",
    "    sim_df = pd.DataFrame({'movie':movies['title'], \n",
    "                       'similarity': similarities[idx]})\n",
    "    top_movies = sim_df.sort_values(by='similarity', ascending=False).head(10)\n",
    "    return top_movies"
   ]
  },
  {
   "cell_type": "code",
   "execution_count": 21,
   "metadata": {},
   "outputs": [
    {
     "data": {
      "text/html": [
       "<div>\n",
       "<style scoped>\n",
       "    .dataframe tbody tr th:only-of-type {\n",
       "        vertical-align: middle;\n",
       "    }\n",
       "\n",
       "    .dataframe tbody tr th {\n",
       "        vertical-align: top;\n",
       "    }\n",
       "\n",
       "    .dataframe thead th {\n",
       "        text-align: right;\n",
       "    }\n",
       "</style>\n",
       "<table border=\"1\" class=\"dataframe\">\n",
       "  <thead>\n",
       "    <tr style=\"text-align: right;\">\n",
       "      <th></th>\n",
       "      <th>movie</th>\n",
       "      <th>similarity</th>\n",
       "    </tr>\n",
       "  </thead>\n",
       "  <tbody>\n",
       "    <tr>\n",
       "      <th>1413</th>\n",
       "      <td>Mad Max</td>\n",
       "      <td>1.000000</td>\n",
       "    </tr>\n",
       "    <tr>\n",
       "      <th>2782</th>\n",
       "      <td>District B13</td>\n",
       "      <td>0.186573</td>\n",
       "    </tr>\n",
       "    <tr>\n",
       "      <th>3370</th>\n",
       "      <td>Australia</td>\n",
       "      <td>0.183906</td>\n",
       "    </tr>\n",
       "    <tr>\n",
       "      <th>4240</th>\n",
       "      <td>Texas Killing Fields</td>\n",
       "      <td>0.183822</td>\n",
       "    </tr>\n",
       "    <tr>\n",
       "      <th>3575</th>\n",
       "      <td>Surrogates</td>\n",
       "      <td>0.180333</td>\n",
       "    </tr>\n",
       "    <tr>\n",
       "      <th>1970</th>\n",
       "      <td>Black Christmas</td>\n",
       "      <td>0.179205</td>\n",
       "    </tr>\n",
       "    <tr>\n",
       "      <th>4579</th>\n",
       "      <td>New World</td>\n",
       "      <td>0.178068</td>\n",
       "    </tr>\n",
       "    <tr>\n",
       "      <th>5781</th>\n",
       "      <td>The Light Between Oceans</td>\n",
       "      <td>0.174850</td>\n",
       "    </tr>\n",
       "    <tr>\n",
       "      <th>6007</th>\n",
       "      <td>Banana</td>\n",
       "      <td>0.174773</td>\n",
       "    </tr>\n",
       "    <tr>\n",
       "      <th>467</th>\n",
       "      <td>The Sting</td>\n",
       "      <td>0.169804</td>\n",
       "    </tr>\n",
       "  </tbody>\n",
       "</table>\n",
       "</div>"
      ],
      "text/plain": [
       "                         movie  similarity\n",
       "1413                   Mad Max    1.000000\n",
       "2782              District B13    0.186573\n",
       "3370                 Australia    0.183906\n",
       "4240      Texas Killing Fields    0.183822\n",
       "3575                Surrogates    0.180333\n",
       "1970           Black Christmas    0.179205\n",
       "4579                 New World    0.178068\n",
       "5781  The Light Between Oceans    0.174850\n",
       "6007                    Banana    0.174773\n",
       "467                  The Sting    0.169804"
      ]
     },
     "execution_count": 21,
     "metadata": {},
     "output_type": "execute_result"
    }
   ],
   "source": [
    "recommender_on_story(\"mad max\",overview_similarity)"
   ]
  },
  {
   "attachments": {},
   "cell_type": "markdown",
   "metadata": {},
   "source": [
    "First:\n",
    "\n",
    "Load the data farme that contains genres dummies and movieIds."
   ]
  },
  {
   "cell_type": "code",
   "execution_count": 14,
   "metadata": {},
   "outputs": [],
   "source": [
    "genres_df = pd.read_csv(\"Data/genres_dummies.csv\")\n",
    "genres_df.drop(\"Unnamed: 0\",axis=1,inplace=True)"
   ]
  },
  {
   "attachments": {},
   "cell_type": "markdown",
   "metadata": {},
   "source": [
    "Then we're going to define a cosine similarity matrix for them:"
   ]
  },
  {
   "cell_type": "code",
   "execution_count": 15,
   "metadata": {},
   "outputs": [],
   "source": [
    "genre_columns = genres_df.columns[1:]\n",
    "\n",
    "# Calculate the similarity matrix based on genres\n",
    "genre_similariy = cosine_similarity(genres_df[genre_columns])"
   ]
  },
  {
   "cell_type": "code",
   "execution_count": 16,
   "metadata": {},
   "outputs": [
    {
     "data": {
      "text/plain": [
       "(6020, 6020)"
      ]
     },
     "execution_count": 16,
     "metadata": {},
     "output_type": "execute_result"
    }
   ],
   "source": [
    "genre_similariy.shape"
   ]
  },
  {
   "cell_type": "code",
   "execution_count": 17,
   "metadata": {},
   "outputs": [
    {
     "data": {
      "text/plain": [
       "(6020, 33)"
      ]
     },
     "execution_count": 17,
     "metadata": {},
     "output_type": "execute_result"
    }
   ],
   "source": [
    "movies.shape"
   ]
  },
  {
   "cell_type": "code",
   "execution_count": 18,
   "metadata": {},
   "outputs": [],
   "source": [
    "def recommender_on_genre(title,similarities):\n",
    "    idx = movies[movies['title']==title].index\n",
    "    if  idx.empty:\n",
    "        matching_movies = movies[movies['title'].str.contains(title, case=False)]\n",
    "        matching_indices = matching_movies.index\n",
    "        idx = matching_indices[0]\n",
    "        if matching_movies.empty:\n",
    "            raise ValueError(\"No similar movie titles found.\")\n",
    "    print(idx)    \n",
    "    sim_df = pd.DataFrame({'movie':movies['title'], \n",
    "                       'similarity': similarities[idx]})\n",
    "    top_movies = sim_df.sort_values(by='similarity', ascending=False).head(10)\n",
    "    return top_movies"
   ]
  },
  {
   "attachments": {},
   "cell_type": "markdown",
   "metadata": {},
   "source": []
  },
  {
   "cell_type": "code",
   "execution_count": 19,
   "metadata": {},
   "outputs": [
    {
     "name": "stdout",
     "output_type": "stream",
     "text": [
      "1741\n"
     ]
    },
    {
     "data": {
      "text/html": [
       "<div>\n",
       "<style scoped>\n",
       "    .dataframe tbody tr th:only-of-type {\n",
       "        vertical-align: middle;\n",
       "    }\n",
       "\n",
       "    .dataframe tbody tr th {\n",
       "        vertical-align: top;\n",
       "    }\n",
       "\n",
       "    .dataframe thead th {\n",
       "        text-align: right;\n",
       "    }\n",
       "</style>\n",
       "<table border=\"1\" class=\"dataframe\">\n",
       "  <thead>\n",
       "    <tr style=\"text-align: right;\">\n",
       "      <th></th>\n",
       "      <th>movie</th>\n",
       "      <th>similarity</th>\n",
       "    </tr>\n",
       "  </thead>\n",
       "  <tbody>\n",
       "    <tr>\n",
       "      <th>3859</th>\n",
       "      <td>The Chronicles of Narnia: The Voyage of the Da...</td>\n",
       "      <td>1.0</td>\n",
       "    </tr>\n",
       "    <tr>\n",
       "      <th>3849</th>\n",
       "      <td>Harry Potter and the Deathly Hallows: Part 1</td>\n",
       "      <td>1.0</td>\n",
       "    </tr>\n",
       "    <tr>\n",
       "      <th>3217</th>\n",
       "      <td>The Spiderwick Chronicles</td>\n",
       "      <td>1.0</td>\n",
       "    </tr>\n",
       "    <tr>\n",
       "      <th>980</th>\n",
       "      <td>Mighty Joe Young</td>\n",
       "      <td>1.0</td>\n",
       "    </tr>\n",
       "    <tr>\n",
       "      <th>5343</th>\n",
       "      <td>Fantastic Beasts and Where to Find Them</td>\n",
       "      <td>1.0</td>\n",
       "    </tr>\n",
       "    <tr>\n",
       "      <th>3667</th>\n",
       "      <td>Percy Jackson &amp; the Olympians: The Lightning T...</td>\n",
       "      <td>1.0</td>\n",
       "    </tr>\n",
       "    <tr>\n",
       "      <th>1891</th>\n",
       "      <td>Clash of the Titans</td>\n",
       "      <td>1.0</td>\n",
       "    </tr>\n",
       "    <tr>\n",
       "      <th>2008</th>\n",
       "      <td>Journey to the Center of the Earth</td>\n",
       "      <td>1.0</td>\n",
       "    </tr>\n",
       "    <tr>\n",
       "      <th>4585</th>\n",
       "      <td>Percy Jackson: Sea of Monsters</td>\n",
       "      <td>1.0</td>\n",
       "    </tr>\n",
       "    <tr>\n",
       "      <th>3266</th>\n",
       "      <td>The Chronicles of Narnia: Prince Caspian</td>\n",
       "      <td>1.0</td>\n",
       "    </tr>\n",
       "  </tbody>\n",
       "</table>\n",
       "</div>"
      ],
      "text/plain": [
       "                                                  movie  similarity\n",
       "3859  The Chronicles of Narnia: The Voyage of the Da...         1.0\n",
       "3849       Harry Potter and the Deathly Hallows: Part 1         1.0\n",
       "3217                          The Spiderwick Chronicles         1.0\n",
       "980                                    Mighty Joe Young         1.0\n",
       "5343            Fantastic Beasts and Where to Find Them         1.0\n",
       "3667  Percy Jackson & the Olympians: The Lightning T...         1.0\n",
       "1891                                Clash of the Titans         1.0\n",
       "2008                 Journey to the Center of the Earth         1.0\n",
       "4585                     Percy Jackson: Sea of Monsters         1.0\n",
       "3266           The Chronicles of Narnia: Prince Caspian         1.0"
      ]
     },
     "execution_count": 19,
     "metadata": {},
     "output_type": "execute_result"
    }
   ],
   "source": [
    "recommender_on_genre(\"Harry potter\",genre_similariy)"
   ]
  },
  {
   "cell_type": "code",
   "execution_count": null,
   "metadata": {},
   "outputs": [],
   "source": []
  }
 ],
 "metadata": {
  "kernelspec": {
   "display_name": "bigdata_ml",
   "language": "python",
   "name": "python3"
  },
  "language_info": {
   "codemirror_mode": {
    "name": "ipython",
    "version": 3
   },
   "file_extension": ".py",
   "mimetype": "text/x-python",
   "name": "python",
   "nbconvert_exporter": "python",
   "pygments_lexer": "ipython3",
   "version": "3.8.16"
  },
  "orig_nbformat": 4
 },
 "nbformat": 4,
 "nbformat_minor": 2
}
