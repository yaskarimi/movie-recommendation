{
 "cells": [
  {
   "cell_type": "code",
   "execution_count": 438,
   "metadata": {},
   "outputs": [],
   "source": [
    "#improting the libraries we need\n",
    "import pandas as pd\n",
    "import numpy as np \n",
    "from pandas.api.types import CategoricalDtype\n",
    "from datetime import datetime \n",
    "import pandas as pd\n",
    "import numpy as np \n",
    "import nltk\n",
    "from sklearn.feature_extraction.text import TfidfVectorizer\n",
    "from sklearn.metrics.pairwise import cosine_similarity\n",
    "from sklearn.feature_extraction.text import CountVectorizer\n",
    "from scipy.sparse import csr_matrix\n",
    "from fuzzywuzzy import fuzz\n",
    "from fuzzywuzzy import process\n",
    "\n",
    "import warnings\n",
    "warnings.filterwarnings(\"ignore\")"
   ]
  },
  {
   "attachments": {},
   "cell_type": "markdown",
   "metadata": {},
   "source": [
    "\n",
    "Load the cleaned dataset which contains 6k rows of movie info:"
   ]
  },
  {
   "cell_type": "code",
   "execution_count": 3,
   "metadata": {},
   "outputs": [],
   "source": [
    "movies = pd.read_csv(\"Data/movies.csv\")"
   ]
  },
  {
   "attachments": {},
   "cell_type": "markdown",
   "metadata": {},
   "source": [
    "Checking out the `movies` dataframe :"
   ]
  },
  {
   "cell_type": "code",
   "execution_count": 4,
   "metadata": {},
   "outputs": [
    {
     "data": {
      "text/plain": [
       "(6020, 33)"
      ]
     },
     "execution_count": 4,
     "metadata": {},
     "output_type": "execute_result"
    }
   ],
   "source": [
    "movies.shape"
   ]
  },
  {
   "attachments": {},
   "cell_type": "markdown",
   "metadata": {},
   "source": [
    "For content-based filtering, I'm going to use: `title` , `overview` and `genre`.\n",
    "\n",
    "The idea for each of these is to vectorize the words with TF-IDF and create 3 cosine similarity matrixes.\n",
    "\n",
    "\n",
    "Each time that we call one of the functions: `recommendr_on_story` or `recommender_on_genre` if the title is valid, then it will proceed with the functions but if it cannot find a match for movie title, the `find_similar_movies` function will get called and returns top movies which have the highest similarities with the name that was searched. \n",
    "\n",
    "\n",
    "Next step in `recommendr_on_story` or `recommender_on_genre` would be taking out the first movie(highest similarity) and find movies based on the feature we want."
   ]
  },
  {
   "attachments": {},
   "cell_type": "markdown",
   "metadata": {},
   "source": [
    "### Searching the dataframe for the movies which have similar name to the one that is searched"
   ]
  },
  {
   "attachments": {},
   "cell_type": "markdown",
   "metadata": {},
   "source": [
    "TF-IDF vectorizer is a method for storing a measure of relevance of every word in each document by reweighing the counts.\n",
    "\n"
   ]
  },
  {
   "attachments": {},
   "cell_type": "markdown",
   "metadata": {},
   "source": [
    "- Creating a `TF-IDF` vectorizer\n",
    "- fit and transform the titles in the tfidf vectorizer.\n",
    "- create a matrix out of the transformed titles.\n"
   ]
  },
  {
   "cell_type": "code",
   "execution_count": 297,
   "metadata": {},
   "outputs": [
    {
     "data": {
      "text/plain": [
       "(6020, 5258)"
      ]
     },
     "execution_count": 297,
     "metadata": {},
     "output_type": "execute_result"
    }
   ],
   "source": [
    "#Define a TF-IDF Vectorizer Object for titles\n",
    "\n",
    "tfidf_title = TfidfVectorizer(stop_words='english',min_df=0,ngram_range=(1,2))\n",
    "\n",
    "\n",
    "#Construct the required TF-IDF matrix by fitting and transforming the data\n",
    "title_matrix = tfidf_title.fit_transform(movies['title'])\n",
    "\n",
    "#Output the shape of tfidf_matrix\n",
    "title_matrix.shape"
   ]
  },
  {
   "attachments": {},
   "cell_type": "markdown",
   "metadata": {},
   "source": [
    "- Getting the cosine similarity of the title "
   ]
  },
  {
   "cell_type": "code",
   "execution_count": 303,
   "metadata": {},
   "outputs": [],
   "source": [
    "title_similarity = cosine_similarity(title_matrix,title_matrix)\n"
   ]
  },
  {
   "cell_type": "code",
   "execution_count": 304,
   "metadata": {},
   "outputs": [
    {
     "data": {
      "text/plain": [
       "array([[1.        , 0.        , 0.        , ..., 0.        , 0.        ,\n",
       "        0.        ],\n",
       "       [0.        , 1.        , 0.        , ..., 0.        , 0.        ,\n",
       "        0.        ],\n",
       "       [0.        , 0.        , 1.        , ..., 0.02596629, 0.        ,\n",
       "        0.        ],\n",
       "       ...,\n",
       "       [0.        , 0.        , 0.02596629, ..., 1.        , 0.        ,\n",
       "        0.        ],\n",
       "       [0.        , 0.        , 0.        , ..., 0.        , 1.        ,\n",
       "        0.        ],\n",
       "       [0.        , 0.        , 0.        , ..., 0.        , 0.        ,\n",
       "        1.        ]])"
      ]
     },
     "execution_count": 304,
     "metadata": {},
     "output_type": "execute_result"
    }
   ],
   "source": [
    "title_similarity"
   ]
  },
  {
   "attachments": {},
   "cell_type": "markdown",
   "metadata": {},
   "source": [
    "`Title_similarity` is a matrix which both rows and columns are movie titles  and the values indicate the relationship between the movie titles. the higher the value (closer 1) it means the titles are more similar to each other. That is why the similarity between a row and a column with same title is 1. "
   ]
  },
  {
   "cell_type": "code",
   "execution_count": 305,
   "metadata": {},
   "outputs": [
    {
     "data": {
      "text/plain": [
       "(6020, 6020)"
      ]
     },
     "execution_count": 305,
     "metadata": {},
     "output_type": "execute_result"
    }
   ],
   "source": [
    "title_similarity.shape\n",
    "#sanity check on the shape of our matrix"
   ]
  },
  {
   "attachments": {},
   "cell_type": "markdown",
   "metadata": {},
   "source": [
    "#### `Content_recommender` function \n",
    "which gets a title for a movie and returns the top movies with similar name to the one searched.\n"
   ]
  },
  {
   "attachments": {},
   "cell_type": "markdown",
   "metadata": {},
   "source": [
    "I'm using `fuzzywuzzy` library for this function since the user may have typos and this will help us in increasing the accuracy."
   ]
  },
  {
   "cell_type": "code",
   "execution_count": 446,
   "metadata": {},
   "outputs": [],
   "source": [
    "def find_similar_movies(movie_title, top_n=10, threshold=60):\n",
    "    idx=movies[movies['title']==movie_title].index.values\n",
    "    if len(idx)==0:\n",
    "        titles=[]\n",
    "        # Calculate similarity scores for each movie title\n",
    "        titles = movies['title'].tolist() #movie title that we have in a list \n",
    "        similarity_scores = process.extract(movie_title, titles, scorer=fuzz.partial_ratio) #similarity score between the title searched and the movie titles we have\n",
    "       \n",
    "        \n",
    "\n",
    "        # Filter movies with similarity scores above the threshold\n",
    "        similar_movies = [name for name,score in similarity_scores if score >= threshold]\n",
    "       \n",
    "        #create a dataframe to compare the similarity of the titles we've found and the one that has been searched.\n",
    "        title_similarity_df =  pd.DataFrame(columns =[\"title\" , 'similarity'])\n",
    "\n",
    "        \n",
    "        similar_movies.append(movie_title)\n",
    "        \n",
    "        title_matrix = tfidf_title.transform(similar_movies)\n",
    "        title_sim = cosine_similarity(title_matrix)\n",
    "        \n",
    "        for i in range(len(similar_movies)-1):\n",
    "            #transforming the titles we have found into out TF-IDF matrix and getting a cosine similarity\n",
    "            sim = title_sim[len(similar_movies)-1][i]\n",
    "            new_row = [{\"title\": similar_movies[i], \"similarity\": sim }]\n",
    "            title_similarity_df = title_similarity_df.append(new_row,ignore_index=True)   \n",
    "        title_similarity_df =title_similarity_df.sort_values(by='similarity',ascending=False).head(top_n)    \n",
    "        return title_similarity_df.title.values\n",
    "    return movie_title\n"
   ]
  },
  {
   "cell_type": "code",
   "execution_count": 447,
   "metadata": {},
   "outputs": [
    {
     "name": "stdout",
     "output_type": "stream",
     "text": [
      "['M' 'Batman Forever' 'Batman' 'Batman Returns' 'Batman & Robin']\n"
     ]
    }
   ],
   "source": [
    "\n",
    "similar_movies = find_similar_movies(\"barman\", top_n=10)\n",
    "\n",
    "print(similar_movies)"
   ]
  },
  {
   "attachments": {},
   "cell_type": "markdown",
   "metadata": {},
   "source": [
    "### TF-IDF for Movie overviews:\n",
    "\n",
    "- Creating a tfidf vectorizer for the 5000 most repeated words in the movie reviews\n",
    "- Max_features = maximum number of words we want to get out of this vectorization. if we don't specify anything it will go over all of them and that would  take a lot of space and time\n",
    "- stemming the words: since this is an overview it might have words similar to each otherlik run,running,runs, so we're stemming to count those as one word('run').\n",
    "- fit and transform the overviews.\n",
    "- Create a cosine similarity just like above, for `Overview TF_IDF` matrix."
   ]
  },
  {
   "cell_type": "code",
   "execution_count": 448,
   "metadata": {},
   "outputs": [
    {
     "data": {
      "text/plain": [
       "(6020, 3036)"
      ]
     },
     "execution_count": 448,
     "metadata": {},
     "output_type": "execute_result"
    }
   ],
   "source": [
    "#Define a TF-IDF Vectorizer Object. Remove all english stop words such as 'the', 'a'\n",
    "stemmer = nltk.stem.PorterStemmer()\n",
    "tfidf = TfidfVectorizer(stop_words='english',min_df=10,ngram_range=(1,2),max_features=5000,tokenizer = lambda x: [stemmer.stem(i) for i in x.split(' ')])\n",
    "\n",
    "\n",
    "#Construct the required TF-IDF matrix by fitting and transforming the data\n",
    "tfidf_matrix = tfidf.fit_transform(movies['overview'])\n",
    "\n",
    "#Output the shape of tfidf_matrix\n",
    "tfidf_matrix.shape"
   ]
  },
  {
   "cell_type": "code",
   "execution_count": 449,
   "metadata": {},
   "outputs": [],
   "source": [
    "overview_similarity = cosine_similarity(tfidf_matrix)\n",
    "#cosine similarity gives the relationship between the vectorized words.\n",
    "#higher the number(closer to 1) the words are more similar to each other."
   ]
  },
  {
   "cell_type": "code",
   "execution_count": 450,
   "metadata": {},
   "outputs": [
    {
     "data": {
      "text/plain": [
       "array([[1.        , 0.01383318, 0.01645828, ..., 0.01044857, 0.04085473,\n",
       "        0.        ],\n",
       "       [0.01383318, 1.        , 0.06442897, ..., 0.        , 0.03124879,\n",
       "        0.        ],\n",
       "       [0.01645828, 0.06442897, 1.        , ..., 0.00819855, 0.032057  ,\n",
       "        0.01317856],\n",
       "       ...,\n",
       "       [0.01044857, 0.        , 0.00819855, ..., 1.        , 0.02035144,\n",
       "        0.        ],\n",
       "       [0.04085473, 0.03124879, 0.032057  , ..., 0.02035144, 1.        ,\n",
       "        0.        ],\n",
       "       [0.        , 0.        , 0.01317856, ..., 0.        , 0.        ,\n",
       "        1.        ]])"
      ]
     },
     "execution_count": 450,
     "metadata": {},
     "output_type": "execute_result"
    }
   ],
   "source": [
    "overview_similarity\n",
    "#similarity between the overview words."
   ]
  },
  {
   "attachments": {},
   "cell_type": "markdown",
   "metadata": {},
   "source": [
    "### `Recommender_on_story` \n",
    "\n",
    "Now We want to get use of our `overview_similarity` and find the title of the movies that have similar overviews."
   ]
  },
  {
   "attachments": {},
   "cell_type": "markdown",
   "metadata": {},
   "source": [
    "In the `recommender_on_story` function, we take the title of the movie we want to find similar movies to it plus the overview_similairty matrix as inputs.\n",
    "\n",
    "- The function first checks for the index of the movie in the original dataset.\n",
    "- if the index is empty: We will use `find_similar_movies` and try to find the similar titles to the one searched.\n",
    "- next step would be inserting the movies and their similarities in a dataframe (`sim_df`) and returning the sort version of it.\n",
    "- the top 10 movies with highest similarities have an overview similar to the movie searched."
   ]
  },
  {
   "cell_type": "code",
   "execution_count": 451,
   "metadata": {},
   "outputs": [],
   "source": [
    "def recommender_on_story(title,similarities): #taking title and similarity matrix as inputs.\n",
    "    sim_df = pd.DataFrame(columns =['Movie','Similarity'])\n",
    "    #creating a dataframe to show the results in it.\n",
    "    idx=movies[movies['title']==title].index.values\n",
    "    if len(idx)==0:\n",
    "        similar_titles = find_similar_movies(title, top_n=10, threshold=80)\n",
    "        if len(matching_movies) ==0:s\n",
    "            raise ValueError(\"No similar movie titles found.\")\n",
    "   \n",
    "        \n",
    "    \n",
    "\n",
    "    title=similar_titles[0]\n",
    "    idx=movies[movies['title']==title].index.values[0]\n",
    "    #transform the overview of the movies here\n",
    "    similarities =  similarities[idx]\n",
    "\n",
    "    for i in range(len(similarities)):\n",
    "        movie_title = movies.loc[i,'title']\n",
    "\n",
    "        new_row = [{\"Movie\": movie_title, 'Similarity': similarities[i]}]\n",
    "        sim_df = sim_df.append(new_row,ignore_index=True)\n",
    "    top_movies = sim_df.sort_values(by='Similarity', ascending=False).head(10)\n",
    "    return top_movies"
   ]
  },
  {
   "cell_type": "code",
   "execution_count": 437,
   "metadata": {},
   "outputs": [
    {
     "data": {
      "text/html": [
       "<div>\n",
       "<style scoped>\n",
       "    .dataframe tbody tr th:only-of-type {\n",
       "        vertical-align: middle;\n",
       "    }\n",
       "\n",
       "    .dataframe tbody tr th {\n",
       "        vertical-align: top;\n",
       "    }\n",
       "\n",
       "    .dataframe thead th {\n",
       "        text-align: right;\n",
       "    }\n",
       "</style>\n",
       "<table border=\"1\" class=\"dataframe\">\n",
       "  <thead>\n",
       "    <tr style=\"text-align: right;\">\n",
       "      <th></th>\n",
       "      <th>Movie</th>\n",
       "      <th>Similarity</th>\n",
       "    </tr>\n",
       "  </thead>\n",
       "  <tbody>\n",
       "    <tr>\n",
       "      <th>489</th>\n",
       "      <td>M</td>\n",
       "      <td>1.000000</td>\n",
       "    </tr>\n",
       "    <tr>\n",
       "      <th>4011</th>\n",
       "      <td>Blitz</td>\n",
       "      <td>0.345581</td>\n",
       "    </tr>\n",
       "    <tr>\n",
       "      <th>4607</th>\n",
       "      <td>The Frozen Ground</td>\n",
       "      <td>0.279702</td>\n",
       "    </tr>\n",
       "    <tr>\n",
       "      <th>194</th>\n",
       "      <td>Kalifornia</td>\n",
       "      <td>0.273599</td>\n",
       "    </tr>\n",
       "    <tr>\n",
       "      <th>17</th>\n",
       "      <td>Copycat</td>\n",
       "      <td>0.258375</td>\n",
       "    </tr>\n",
       "    <tr>\n",
       "      <th>4211</th>\n",
       "      <td>The Raven</td>\n",
       "      <td>0.225221</td>\n",
       "    </tr>\n",
       "    <tr>\n",
       "      <th>2926</th>\n",
       "      <td>The Departed</td>\n",
       "      <td>0.219819</td>\n",
       "    </tr>\n",
       "    <tr>\n",
       "      <th>1864</th>\n",
       "      <td>Minority Report</td>\n",
       "      <td>0.205639</td>\n",
       "    </tr>\n",
       "    <tr>\n",
       "      <th>4402</th>\n",
       "      <td>Chained</td>\n",
       "      <td>0.199051</td>\n",
       "    </tr>\n",
       "    <tr>\n",
       "      <th>3906</th>\n",
       "      <td>Burke &amp; Hare</td>\n",
       "      <td>0.196007</td>\n",
       "    </tr>\n",
       "  </tbody>\n",
       "</table>\n",
       "</div>"
      ],
      "text/plain": [
       "                  Movie  Similarity\n",
       "489                   M    1.000000\n",
       "4011              Blitz    0.345581\n",
       "4607  The Frozen Ground    0.279702\n",
       "194          Kalifornia    0.273599\n",
       "17              Copycat    0.258375\n",
       "4211          The Raven    0.225221\n",
       "2926       The Departed    0.219819\n",
       "1864    Minority Report    0.205639\n",
       "4402            Chained    0.199051\n",
       "3906       Burke & Hare    0.196007"
      ]
     },
     "execution_count": 437,
     "metadata": {},
     "output_type": "execute_result"
    }
   ],
   "source": [
    "recommender_on_story('barman',overview_similarity)"
   ]
  },
  {
   "attachments": {},
   "cell_type": "markdown",
   "metadata": {},
   "source": [
    "### Genre"
   ]
  },
  {
   "attachments": {},
   "cell_type": "markdown",
   "metadata": {},
   "source": [
    "First:\n",
    "\n",
    "Load the data farme that contains genres dummies and movieIds."
   ]
  },
  {
   "cell_type": "code",
   "execution_count": 419,
   "metadata": {},
   "outputs": [],
   "source": [
    "genres_df = pd.read_csv(\"Data/genres_dummies.csv\")\n",
    "genres_df.drop(\"Unnamed: 0\",axis=1,inplace=True)"
   ]
  },
  {
   "attachments": {},
   "cell_type": "markdown",
   "metadata": {},
   "source": [
    "Then we're going to define a cosine similarity matrix for them:"
   ]
  },
  {
   "cell_type": "code",
   "execution_count": 420,
   "metadata": {},
   "outputs": [],
   "source": [
    "genre_columns = genres_df.columns[1:]\n",
    "\n",
    "# Calculate the similarity matrix based on genres\n",
    "genre_similariy = cosine_similarity(genres_df[genre_columns])"
   ]
  },
  {
   "cell_type": "code",
   "execution_count": 421,
   "metadata": {},
   "outputs": [
    {
     "data": {
      "text/plain": [
       "(6020, 6020)"
      ]
     },
     "execution_count": 421,
     "metadata": {},
     "output_type": "execute_result"
    }
   ],
   "source": [
    "genre_similariy.shape"
   ]
  },
  {
   "cell_type": "code",
   "execution_count": 422,
   "metadata": {},
   "outputs": [
    {
     "data": {
      "text/plain": [
       "(6020, 33)"
      ]
     },
     "execution_count": 422,
     "metadata": {},
     "output_type": "execute_result"
    }
   ],
   "source": [
    "movies.shape"
   ]
  },
  {
   "cell_type": "code",
   "execution_count": 423,
   "metadata": {},
   "outputs": [],
   "source": [
    "def recommender_on_genre(title,similarities):\n",
    "    idx = movies[movies['title']==title].index\n",
    "    if  idx.empty:\n",
    "        matching_movies = movies[movies['title'].str.contains(title, case=False)]\n",
    "        matching_indices = matching_movies.index\n",
    "        idx = matching_indices[0]\n",
    "        if matching_movies.empty:\n",
    "            raise ValueError(\"No similar movie titles found.\")\n",
    "    print(idx)    \n",
    "    sim_df = pd.DataFrame({'movie':movies['title'], \n",
    "                       'similarity': similarities[idx]})\n",
    "    top_movies = sim_df.sort_values(by='similarity', ascending=False).head(10)\n",
    "    return top_movies"
   ]
  },
  {
   "attachments": {},
   "cell_type": "markdown",
   "metadata": {},
   "source": []
  },
  {
   "cell_type": "code",
   "execution_count": 424,
   "metadata": {},
   "outputs": [
    {
     "name": "stdout",
     "output_type": "stream",
     "text": [
      "1741\n"
     ]
    },
    {
     "data": {
      "text/html": [
       "<div>\n",
       "<style scoped>\n",
       "    .dataframe tbody tr th:only-of-type {\n",
       "        vertical-align: middle;\n",
       "    }\n",
       "\n",
       "    .dataframe tbody tr th {\n",
       "        vertical-align: top;\n",
       "    }\n",
       "\n",
       "    .dataframe thead th {\n",
       "        text-align: right;\n",
       "    }\n",
       "</style>\n",
       "<table border=\"1\" class=\"dataframe\">\n",
       "  <thead>\n",
       "    <tr style=\"text-align: right;\">\n",
       "      <th></th>\n",
       "      <th>movie</th>\n",
       "      <th>similarity</th>\n",
       "    </tr>\n",
       "  </thead>\n",
       "  <tbody>\n",
       "    <tr>\n",
       "      <th>3859</th>\n",
       "      <td>The Chronicles of Narnia: The Voyage of the Da...</td>\n",
       "      <td>1.0</td>\n",
       "    </tr>\n",
       "    <tr>\n",
       "      <th>3849</th>\n",
       "      <td>Harry Potter and the Deathly Hallows: Part 1</td>\n",
       "      <td>1.0</td>\n",
       "    </tr>\n",
       "    <tr>\n",
       "      <th>3217</th>\n",
       "      <td>The Spiderwick Chronicles</td>\n",
       "      <td>1.0</td>\n",
       "    </tr>\n",
       "    <tr>\n",
       "      <th>980</th>\n",
       "      <td>Mighty Joe Young</td>\n",
       "      <td>1.0</td>\n",
       "    </tr>\n",
       "    <tr>\n",
       "      <th>5343</th>\n",
       "      <td>Fantastic Beasts and Where to Find Them</td>\n",
       "      <td>1.0</td>\n",
       "    </tr>\n",
       "    <tr>\n",
       "      <th>3667</th>\n",
       "      <td>Percy Jackson &amp; the Olympians: The Lightning T...</td>\n",
       "      <td>1.0</td>\n",
       "    </tr>\n",
       "    <tr>\n",
       "      <th>1891</th>\n",
       "      <td>Clash of the Titans</td>\n",
       "      <td>1.0</td>\n",
       "    </tr>\n",
       "    <tr>\n",
       "      <th>2008</th>\n",
       "      <td>Journey to the Center of the Earth</td>\n",
       "      <td>1.0</td>\n",
       "    </tr>\n",
       "    <tr>\n",
       "      <th>4585</th>\n",
       "      <td>Percy Jackson: Sea of Monsters</td>\n",
       "      <td>1.0</td>\n",
       "    </tr>\n",
       "    <tr>\n",
       "      <th>3266</th>\n",
       "      <td>The Chronicles of Narnia: Prince Caspian</td>\n",
       "      <td>1.0</td>\n",
       "    </tr>\n",
       "  </tbody>\n",
       "</table>\n",
       "</div>"
      ],
      "text/plain": [
       "                                                  movie  similarity\n",
       "3859  The Chronicles of Narnia: The Voyage of the Da...         1.0\n",
       "3849       Harry Potter and the Deathly Hallows: Part 1         1.0\n",
       "3217                          The Spiderwick Chronicles         1.0\n",
       "980                                    Mighty Joe Young         1.0\n",
       "5343            Fantastic Beasts and Where to Find Them         1.0\n",
       "3667  Percy Jackson & the Olympians: The Lightning T...         1.0\n",
       "1891                                Clash of the Titans         1.0\n",
       "2008                 Journey to the Center of the Earth         1.0\n",
       "4585                     Percy Jackson: Sea of Monsters         1.0\n",
       "3266           The Chronicles of Narnia: Prince Caspian         1.0"
      ]
     },
     "execution_count": 424,
     "metadata": {},
     "output_type": "execute_result"
    }
   ],
   "source": [
    "recommender_on_genre(\"Harry potter\",genre_similariy)"
   ]
  },
  {
   "cell_type": "code",
   "execution_count": null,
   "metadata": {},
   "outputs": [],
   "source": []
  }
 ],
 "metadata": {
  "kernelspec": {
   "display_name": "bigdata_ml",
   "language": "python",
   "name": "python3"
  },
  "language_info": {
   "codemirror_mode": {
    "name": "ipython",
    "version": 3
   },
   "file_extension": ".py",
   "mimetype": "text/x-python",
   "name": "python",
   "nbconvert_exporter": "python",
   "pygments_lexer": "ipython3",
   "version": "3.8.16"
  },
  "orig_nbformat": 4
 },
 "nbformat": 4,
 "nbformat_minor": 2
}
