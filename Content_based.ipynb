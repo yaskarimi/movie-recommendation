{
 "cells": [
  {
   "attachments": {},
   "cell_type": "markdown",
   "metadata": {},
   "source": [
    "# Content-Based Filtering"
   ]
  },
  {
   "attachments": {},
   "cell_type": "markdown",
   "metadata": {},
   "source": [
    "Content-based filtering uses similarities in products, services, or content features, as well as information accumulated about the user to make recommendation.\n",
    "\n",
    "In this case the similarities are: `Genre` and `storyline` to recommend the movie."
   ]
  },
  {
   "cell_type": "code",
   "execution_count": 508,
   "metadata": {},
   "outputs": [],
   "source": [
    "#improting the libraries we need\n",
    "import pandas as pd\n",
    "import numpy as np \n",
    "from pandas.api.types import CategoricalDtype\n",
    "from datetime import datetime \n",
    "import pandas as pd\n",
    "import numpy as np \n",
    "import nltk\n",
    "from sklearn.feature_extraction.text import TfidfVectorizer\n",
    "from sklearn.metrics.pairwise import cosine_similarity\n",
    "from sklearn.feature_extraction.text import CountVectorizer\n",
    "from scipy.sparse import csr_matrix\n"
   ]
  },
  {
   "attachments": {},
   "cell_type": "markdown",
   "metadata": {},
   "source": [
    "\n",
    "Load the cleaned dataset which contains 6k rows of movie info:"
   ]
  },
  {
   "cell_type": "code",
   "execution_count": 3,
   "metadata": {},
   "outputs": [],
   "source": [
    "movies = pd.read_csv(\"Data/movies.csv\")"
   ]
  },
  {
   "attachments": {},
   "cell_type": "markdown",
   "metadata": {},
   "source": [
    "Checking out the `movies` dataframe :"
   ]
  },
  {
   "cell_type": "code",
   "execution_count": 4,
   "metadata": {},
   "outputs": [
    {
     "data": {
      "text/plain": [
       "(6020, 33)"
      ]
     },
     "execution_count": 4,
     "metadata": {},
     "output_type": "execute_result"
    }
   ],
   "source": [
    "movies.shape"
   ]
  },
  {
   "attachments": {},
   "cell_type": "markdown",
   "metadata": {},
   "source": [
    "For content-based filtering, I'm going to use: `title` , `overview` and `genre`.\n",
    "\n",
    "The idea for each of these is to vectorize the words with TF-IDF and create 3 cosine similarity matrixes.\n",
    "\n",
    "\n",
    "Each time that we call one of the functions: `recommendr_on_story` or `recommender_on_genre` if the title is valid, then it will proceed with the functions but if it cannot find a match for movie title, the `find_similar_movies` function will get called and returns top movies which have the highest similarities with the name that was searched. \n",
    "\n",
    "\n",
    "Next step in `recommendr_on_story` or `recommender_on_genre` would be taking out the first movie(highest similarity) and find movies based on the feature we want."
   ]
  },
  {
   "attachments": {},
   "cell_type": "markdown",
   "metadata": {},
   "source": [
    "### Searching the dataframe for the movies which have similar name to the one that is searched"
   ]
  },
  {
   "attachments": {},
   "cell_type": "markdown",
   "metadata": {},
   "source": [
    "TF-IDF vectorizer is a method for storing a measure of relevance of every word in each document by reweighing the counts.\n",
    "\n"
   ]
  },
  {
   "attachments": {},
   "cell_type": "markdown",
   "metadata": {},
   "source": [
    "- Creating a `TF-IDF` vectorizer\n",
    "- fit and transform the titles in the tfidf vectorizer.\n",
    "- create a matrix out of the transformed titles.\n"
   ]
  },
  {
   "cell_type": "code",
   "execution_count": 297,
   "metadata": {},
   "outputs": [
    {
     "data": {
      "text/plain": [
       "(6020, 5258)"
      ]
     },
     "execution_count": 297,
     "metadata": {},
     "output_type": "execute_result"
    }
   ],
   "source": [
    "#Define a TF-IDF Vectorizer Object for titles\n",
    "\n",
    "tfidf_title = TfidfVectorizer(stop_words='english',min_df=0,ngram_range=(1,2))\n",
    "\n",
    "\n",
    "#Construct the required TF-IDF matrix by fitting and transforming the data\n",
    "title_matrix = tfidf_title.fit_transform(movies['title'])\n",
    "\n",
    "#Output the shape of tfidf_matrix\n",
    "title_matrix.shape"
   ]
  },
  {
   "attachments": {},
   "cell_type": "markdown",
   "metadata": {},
   "source": [
    "### cosine Similarity \n",
    "Cosine Similarity is a method of calculating the similarity of two vectors. \n",
    "Here we're calculating the similarity between the titles:"
   ]
  },
  {
   "cell_type": "code",
   "execution_count": 303,
   "metadata": {},
   "outputs": [],
   "source": [
    "title_similarity = cosine_similarity(title_matrix,title_matrix)\n"
   ]
  },
  {
   "cell_type": "code",
   "execution_count": 304,
   "metadata": {},
   "outputs": [
    {
     "data": {
      "text/plain": [
       "array([[1.        , 0.        , 0.        , ..., 0.        , 0.        ,\n",
       "        0.        ],\n",
       "       [0.        , 1.        , 0.        , ..., 0.        , 0.        ,\n",
       "        0.        ],\n",
       "       [0.        , 0.        , 1.        , ..., 0.02596629, 0.        ,\n",
       "        0.        ],\n",
       "       ...,\n",
       "       [0.        , 0.        , 0.02596629, ..., 1.        , 0.        ,\n",
       "        0.        ],\n",
       "       [0.        , 0.        , 0.        , ..., 0.        , 1.        ,\n",
       "        0.        ],\n",
       "       [0.        , 0.        , 0.        , ..., 0.        , 0.        ,\n",
       "        1.        ]])"
      ]
     },
     "execution_count": 304,
     "metadata": {},
     "output_type": "execute_result"
    }
   ],
   "source": [
    "title_similarity"
   ]
  },
  {
   "attachments": {},
   "cell_type": "markdown",
   "metadata": {},
   "source": [
    "`Title_similarity` is a matrix which both rows and columns are movie titles  and the values indicate the relationship between the movie titles. the higher the value (closer 1) it means the titles are more similar to each other. That is why the similarity between a row and a column with same title is 1. "
   ]
  },
  {
   "cell_type": "code",
   "execution_count": 305,
   "metadata": {},
   "outputs": [
    {
     "data": {
      "text/plain": [
       "(6020, 6020)"
      ]
     },
     "execution_count": 305,
     "metadata": {},
     "output_type": "execute_result"
    }
   ],
   "source": [
    "title_similarity.shape\n",
    "#sanity check on the shape of our matrix"
   ]
  },
  {
   "attachments": {},
   "cell_type": "markdown",
   "metadata": {},
   "source": [
    "#### `Content_recommender` function \n",
    "which gets a title for a movie and returns the top movies with similar name to the one searched.\n"
   ]
  },
  {
   "attachments": {},
   "cell_type": "markdown",
   "metadata": {},
   "source": [
    "I'm using `fuzzywuzzy` library for this function since the user may have typos and this will help us in increasing the accuracy."
   ]
  },
  {
   "cell_type": "code",
   "execution_count": 452,
   "metadata": {},
   "outputs": [],
   "source": [
    "def find_similar_movies(movie_title, top_n=10, threshold=60):\n",
    "    idx=movies[movies['title']==movie_title].index.values\n",
    "    \n",
    "    titles=[]\n",
    "    # Calculate similarity scores for each movie title\n",
    "    titles = movies['title'].tolist() #movie title that we have in a list \n",
    "    similarity_scores = process.extract(movie_title, titles, scorer=fuzz.partial_ratio) #similarity score between the title searched and the movie titles we have\n",
    "    \n",
    "    \n",
    "\n",
    "    # Filter movies with similarity scores above the threshold\n",
    "    similar_movies = [name for name,score in similarity_scores if score >= threshold]\n",
    "    \n",
    "    #create a dataframe to compare the similarity of the titles we've found and the one that has been searched.\n",
    "    title_similarity_df =  pd.DataFrame(columns =[\"title\" , 'similarity'])\n",
    "\n",
    "    \n",
    "    similar_movies.append(movie_title)\n",
    "    \n",
    "    title_matrix = tfidf_title.transform(similar_movies)\n",
    "    title_sim = cosine_similarity(title_matrix)\n",
    "    \n",
    "    for i in range(len(similar_movies)-1):\n",
    "        #transforming the titles we have found into out TF-IDF matrix and getting a cosine similarity\n",
    "        sim = title_sim[len(similar_movies)-1][i]\n",
    "        new_row = [{\"title\": similar_movies[i], \"similarity\": sim }]\n",
    "        title_similarity_df = title_similarity_df.append(new_row,ignore_index=True)   \n",
    "    title_similarity_df =title_similarity_df.sort_values(by='similarity',ascending=False).head(top_n)    \n",
    "    return title_similarity_df.title.values\n",
    "    \n"
   ]
  },
  {
   "cell_type": "code",
   "execution_count": 453,
   "metadata": {},
   "outputs": [
    {
     "name": "stdout",
     "output_type": "stream",
     "text": [
      "['M' 'Batman Forever' 'Batman' 'Batman Returns' 'Batman & Robin']\n"
     ]
    }
   ],
   "source": [
    "\n",
    "similar_movies = find_similar_movies(\"barman\", top_n=10)\n",
    "\n",
    "print(similar_movies)"
   ]
  },
  {
   "attachments": {},
   "cell_type": "markdown",
   "metadata": {},
   "source": [
    "# Recommenders:"
   ]
  },
  {
   "attachments": {},
   "cell_type": "markdown",
   "metadata": {},
   "source": [
    "### TF-IDF for Movie overviews\n",
    "\n",
    "- Create a tfidf vectorizer for the 5000 most repeated words in the movie reviews\n",
    "- Max_features = maximum number of words we want to get out of this vectorization. if we don't specify anything it will go over all of them and that would  take a lot of space and time\n",
    "- stemming the words: since this is an overview it might have words similar to each otherlik run,running,runs, so we're stemming to count those as one word('run').\n",
    "- fit and transform the overviews.\n",
    "- Create a cosine similarity just like above, for `Overview TF_IDF` matrix."
   ]
  },
  {
   "cell_type": "code",
   "execution_count": 448,
   "metadata": {},
   "outputs": [
    {
     "data": {
      "text/plain": [
       "(6020, 3036)"
      ]
     },
     "execution_count": 448,
     "metadata": {},
     "output_type": "execute_result"
    }
   ],
   "source": [
    "#Define a TF-IDF Vectorizer Object. Remove all english stop words such as 'the', 'a'\n",
    "stemmer = nltk.stem.PorterStemmer()\n",
    "tfidf = TfidfVectorizer(stop_words='english',min_df=10,ngram_range=(1,2),max_features=5000,tokenizer = lambda x: [stemmer.stem(i) for i in x.split(' ')])\n",
    "\n",
    "\n",
    "#Construct the required TF-IDF matrix by fitting and transforming the data\n",
    "tfidf_matrix = tfidf.fit_transform(movies['overview'])\n",
    "\n",
    "#Output the shape of tfidf_matrix\n",
    "tfidf_matrix.shape"
   ]
  },
  {
   "cell_type": "code",
   "execution_count": 449,
   "metadata": {},
   "outputs": [],
   "source": [
    "overview_similarity = cosine_similarity(tfidf_matrix)\n",
    "#cosine similarity gives the relationship between the vectorized words.\n",
    "#higher the number(closer to 1) the words are more similar to each other."
   ]
  },
  {
   "cell_type": "code",
   "execution_count": 450,
   "metadata": {},
   "outputs": [
    {
     "data": {
      "text/plain": [
       "array([[1.        , 0.01383318, 0.01645828, ..., 0.01044857, 0.04085473,\n",
       "        0.        ],\n",
       "       [0.01383318, 1.        , 0.06442897, ..., 0.        , 0.03124879,\n",
       "        0.        ],\n",
       "       [0.01645828, 0.06442897, 1.        , ..., 0.00819855, 0.032057  ,\n",
       "        0.01317856],\n",
       "       ...,\n",
       "       [0.01044857, 0.        , 0.00819855, ..., 1.        , 0.02035144,\n",
       "        0.        ],\n",
       "       [0.04085473, 0.03124879, 0.032057  , ..., 0.02035144, 1.        ,\n",
       "        0.        ],\n",
       "       [0.        , 0.        , 0.01317856, ..., 0.        , 0.        ,\n",
       "        1.        ]])"
      ]
     },
     "execution_count": 450,
     "metadata": {},
     "output_type": "execute_result"
    }
   ],
   "source": [
    "overview_similarity\n",
    "#similarity between the overview words."
   ]
  },
  {
   "attachments": {},
   "cell_type": "markdown",
   "metadata": {},
   "source": [
    "### `Recommender_on_story` \n",
    "\n",
    "Now We want to get use of our `overview_similarity` and find the title of the movies that have similar overviews."
   ]
  },
  {
   "attachments": {},
   "cell_type": "markdown",
   "metadata": {},
   "source": [
    "In the `recommender_on_story` function, we take the title of the movie we want to find similar movies to it plus the overview_similairty matrix as inputs.\n",
    "\n",
    "- The function first checks for the index of the movie in the original dataset.\n",
    "- if the index is empty: We will use `find_similar_movies` and try to find the similar titles to the one searched.\n",
    "- next step would be inserting the movies and their similarities in a dataframe (`sim_df`) and returning the sort version of it.\n",
    "- the top 10 movies with highest similarities have an overview similar to the movie searched."
   ]
  },
  {
   "cell_type": "code",
   "execution_count": 486,
   "metadata": {},
   "outputs": [],
   "source": [
    "def recommender_on_story(title,similarities): #taking title and similarity matrix as inputs.\n",
    "    sim_df = pd.DataFrame(columns =['Movie','Similarity'])\n",
    "    #creating a dataframe to show the results in it.\n",
    "    idx=movies[movies['title']==title].index.values\n",
    "    if len(idx)==0: #checkng whether there was such a movie or we have to produce movie name close to it\n",
    "        similar_titles = find_similar_movies(title, top_n=10, threshold=80)\n",
    "        title=similar_titles[0]\n",
    "        if len(matching_movies) ==0:\n",
    "            raise ValueError(\"No similar movie titles found.\")\n",
    "   \n",
    "        \n",
    "    \n",
    "\n",
    "    \n",
    "    idx=movies[movies['title']==title].index.values[0]\n",
    "    #transform the overview of the movies here\n",
    "    similarities =  similarities[idx]\n",
    "\n",
    "    for i in range(len(similarities)):\n",
    "        movie_title = movies.loc[i,'title']\n",
    "\n",
    "        new_row = [{\"Movie\": movie_title, 'Similarity': similarities[i]}]\n",
    "        sim_df = sim_df.append(new_row,ignore_index=True)\n",
    "    top_movies = sim_df.sort_values(by='Similarity', ascending=False).head(10)\n",
    "    return top_movies"
   ]
  },
  {
   "cell_type": "code",
   "execution_count": 500,
   "metadata": {},
   "outputs": [
    {
     "data": {
      "text/html": [
       "<div>\n",
       "<style scoped>\n",
       "    .dataframe tbody tr th:only-of-type {\n",
       "        vertical-align: middle;\n",
       "    }\n",
       "\n",
       "    .dataframe tbody tr th {\n",
       "        vertical-align: top;\n",
       "    }\n",
       "\n",
       "    .dataframe thead th {\n",
       "        text-align: right;\n",
       "    }\n",
       "</style>\n",
       "<table border=\"1\" class=\"dataframe\">\n",
       "  <thead>\n",
       "    <tr style=\"text-align: right;\">\n",
       "      <th></th>\n",
       "      <th>Movie</th>\n",
       "      <th>Similarity</th>\n",
       "    </tr>\n",
       "  </thead>\n",
       "  <tbody>\n",
       "    <tr>\n",
       "      <th>240</th>\n",
       "      <td>Batman</td>\n",
       "      <td>1.000000</td>\n",
       "    </tr>\n",
       "    <tr>\n",
       "      <th>3516</th>\n",
       "      <td>Harry Potter and the Half-Blood Prince</td>\n",
       "      <td>0.274113</td>\n",
       "    </tr>\n",
       "    <tr>\n",
       "      <th>4121</th>\n",
       "      <td>The Dark Knight Rises</td>\n",
       "      <td>0.264122</td>\n",
       "    </tr>\n",
       "    <tr>\n",
       "      <th>3306</th>\n",
       "      <td>Batman: Gotham Knight</td>\n",
       "      <td>0.252821</td>\n",
       "    </tr>\n",
       "    <tr>\n",
       "      <th>63</th>\n",
       "      <td>Batman Forever</td>\n",
       "      <td>0.242784</td>\n",
       "    </tr>\n",
       "    <tr>\n",
       "      <th>611</th>\n",
       "      <td>Batman &amp; Robin</td>\n",
       "      <td>0.238748</td>\n",
       "    </tr>\n",
       "    <tr>\n",
       "      <th>2112</th>\n",
       "      <td>Videodrome</td>\n",
       "      <td>0.230962</td>\n",
       "    </tr>\n",
       "    <tr>\n",
       "      <th>3763</th>\n",
       "      <td>Batman: Under the Red Hood</td>\n",
       "      <td>0.228181</td>\n",
       "    </tr>\n",
       "    <tr>\n",
       "      <th>5601</th>\n",
       "      <td>Batman: Bad Blood</td>\n",
       "      <td>0.215129</td>\n",
       "    </tr>\n",
       "    <tr>\n",
       "      <th>1557</th>\n",
       "      <td>Masters of the Universe</td>\n",
       "      <td>0.198168</td>\n",
       "    </tr>\n",
       "  </tbody>\n",
       "</table>\n",
       "</div>"
      ],
      "text/plain": [
       "                                       Movie  Similarity\n",
       "240                                   Batman    1.000000\n",
       "3516  Harry Potter and the Half-Blood Prince    0.274113\n",
       "4121                   The Dark Knight Rises    0.264122\n",
       "3306                   Batman: Gotham Knight    0.252821\n",
       "63                            Batman Forever    0.242784\n",
       "611                           Batman & Robin    0.238748\n",
       "2112                              Videodrome    0.230962\n",
       "3763              Batman: Under the Red Hood    0.228181\n",
       "5601                       Batman: Bad Blood    0.215129\n",
       "1557                 Masters of the Universe    0.198168"
      ]
     },
     "execution_count": 500,
     "metadata": {},
     "output_type": "execute_result"
    }
   ],
   "source": [
    "#example \n",
    "recommender_on_story('batman',overview_similarity)"
   ]
  },
  {
   "attachments": {},
   "cell_type": "markdown",
   "metadata": {},
   "source": [
    "### Genre"
   ]
  },
  {
   "attachments": {},
   "cell_type": "markdown",
   "metadata": {},
   "source": [
    "First:\n",
    "\n",
    "Load the data farme that contains genres dummies and movieIds."
   ]
  },
  {
   "cell_type": "code",
   "execution_count": 473,
   "metadata": {},
   "outputs": [],
   "source": [
    "genres_df = pd.read_csv(\"Data/genres_dummies.csv\")\n",
    "genres_df.drop(\"Unnamed: 0\",axis=1,inplace=True)"
   ]
  },
  {
   "attachments": {},
   "cell_type": "markdown",
   "metadata": {},
   "source": [
    "Since the Genres are already in the binary format we can use them for the cosine similarity.And get the relationship between the genres(similarity)\n",
    "Then we're going to define a cosine similarity matrix for them:"
   ]
  },
  {
   "cell_type": "code",
   "execution_count": 474,
   "metadata": {},
   "outputs": [],
   "source": [
    "genre_columns = genres_df.columns[1:]\n",
    "\n",
    "# Calculate the similarity matrix based on genres\n",
    "genre_similarity = cosine_similarity(genres_df[genre_columns])"
   ]
  },
  {
   "cell_type": "code",
   "execution_count": 475,
   "metadata": {},
   "outputs": [
    {
     "data": {
      "text/plain": [
       "(6020, 6020)"
      ]
     },
     "execution_count": 475,
     "metadata": {},
     "output_type": "execute_result"
    }
   ],
   "source": [
    "genre_similariy.shape"
   ]
  },
  {
   "cell_type": "code",
   "execution_count": 476,
   "metadata": {},
   "outputs": [
    {
     "data": {
      "text/plain": [
       "(6020, 33)"
      ]
     },
     "execution_count": 476,
     "metadata": {},
     "output_type": "execute_result"
    }
   ],
   "source": [
    "movies.shape"
   ]
  },
  {
   "cell_type": "code",
   "execution_count": 488,
   "metadata": {},
   "outputs": [],
   "source": [
    "def recommender_on_genre(title,similarities):\n",
    "    idx = movies[movies['title']==title].index\n",
    "    if len(idx)==0: #checkng whether there was such a movie or we have to produce movie name close to it\n",
    "        similar_titles = find_similar_movies(title, top_n=10, threshold=80)\n",
    "        title=similar_titles[0] \n",
    "        if len(matching_movies) ==0:\n",
    "            raise ValueError(\"No similar movie titles found.\")\n",
    "      \n",
    "    idx=movies[movies['title']==title].index.values[0]\n",
    "    sim_df = pd.DataFrame({'movie':movies['title'], \n",
    "                       'similarity': similarities[idx]})\n",
    "    top_movies = sim_df.sort_values(by='similarity', ascending=False).head(10)\n",
    "    return top_movies"
   ]
  },
  {
   "cell_type": "code",
   "execution_count": 498,
   "metadata": {},
   "outputs": [],
   "source": [
    "def recommend(title):\n",
    "    print(\"Recommendation based on Genre: \\n---------\\n\")\n",
    "    print(recommender_on_genre(title,genre_similarity))\n",
    "    print(\"Recommendation based on storyline: \\n---------\\n\")\n",
    "    print(recommender_on_story(title,overview_similarity))"
   ]
  },
  {
   "cell_type": "code",
   "execution_count": 499,
   "metadata": {},
   "outputs": [
    {
     "name": "stdout",
     "output_type": "stream",
     "text": [
      "Recommendation based on Genre: \n",
      "---------\n",
      "\n",
      "                                                movie  similarity\n",
      "2719                                       Mirrormask         1.0\n",
      "1069                               The Legend of 1900         1.0\n",
      "1843                                       Spider-Man         1.0\n",
      "851                                  The Dark Crystal         1.0\n",
      "3282                                          Hancock         1.0\n",
      "3571                                              Ink         1.0\n",
      "56    The Neverending Story III: Escape from Fantasia         1.0\n",
      "5619                                    Gods of Egypt         1.0\n",
      "28                                      Mortal Kombat         1.0\n",
      "560                                    Batman Returns         1.0\n",
      "Recommendation based on storyline: \n",
      "---------\n",
      "\n",
      "                                       Movie  Similarity\n",
      "240                                   Batman    1.000000\n",
      "3516  Harry Potter and the Half-Blood Prince    0.274113\n",
      "4121                   The Dark Knight Rises    0.264122\n",
      "3306                   Batman: Gotham Knight    0.252821\n",
      "63                            Batman Forever    0.242784\n",
      "611                           Batman & Robin    0.238748\n",
      "2112                              Videodrome    0.230962\n",
      "3763              Batman: Under the Red Hood    0.228181\n",
      "5601                       Batman: Bad Blood    0.215129\n",
      "1557                 Masters of the Universe    0.198168\n"
     ]
    }
   ],
   "source": [
    "#Enter any movie Title and get the results: (Based on content)\n",
    "recommend(\"Batman\")"
   ]
  },
  {
   "cell_type": "code",
   "execution_count": null,
   "metadata": {},
   "outputs": [],
   "source": []
  }
 ],
 "metadata": {
  "kernelspec": {
   "display_name": "bigdata_ml",
   "language": "python",
   "name": "python3"
  },
  "language_info": {
   "codemirror_mode": {
    "name": "ipython",
    "version": 3
   },
   "file_extension": ".py",
   "mimetype": "text/x-python",
   "name": "python",
   "nbconvert_exporter": "python",
   "pygments_lexer": "ipython3",
   "version": "3.8.16"
  },
  "orig_nbformat": 4
 },
 "nbformat": 4,
 "nbformat_minor": 2
}
