{
  "cells": [
    {
      "attachments": {},
      "cell_type": "markdown",
      "metadata": {},
      "source": [
        "## Collaborative filtering"
      ]
    },
    {
      "cell_type": "code",
      "execution_count": 12,
      "metadata": {
        "id": "XcXE59W5Wnsp"
      },
      "outputs": [],
      "source": [
        "from pandas.api.types import CategoricalDtype\n",
        "from datetime import datetime\n",
        "import pandas as pd\n",
        "import numpy as np\n",
        "import nltk\n",
        "from sklearn.feature_extraction.text import TfidfVectorizer\n",
        "from sklearn.metrics.pairwise import cosine_similarity\n",
        "from sklearn.feature_extraction.text import CountVectorizer\n",
        "import matplotlib.pyplot as plt\n",
        "from sklearn.preprocessing import normalize\n",
        "\n",
        "from surprise.prediction_algorithms.matrix_factorization import SVD as FunkSVD\n",
        "from funk_svd.dataset import fetch_ml_ratings\n",
        "from funk_svd import SVD\n",
        "from sklearn.metrics import mean_absolute_error\n",
        "from surprise import Reader, Dataset, SVD,accuracy\n",
        "from surprise.model_selection import train_test_split\n",
        "from surprise.model_selection import GridSearchCV\n"
      ]
    },
    {
      "attachments": {},
      "cell_type": "markdown",
      "metadata": {},
      "source": [
        "#### Loading the data"
      ]
    },
    {
      "cell_type": "code",
      "execution_count": 13,
      "metadata": {
        "id": "2e1gxyfDWnsr"
      },
      "outputs": [],
      "source": [
        "movies= pd.read_csv(\"Data/movies.csv\")\n",
        "movies.drop(\"Unnamed: 0\",axis=1,inplace=True)"
      ]
    },
    {
      "cell_type": "code",
      "execution_count": 14,
      "metadata": {
        "id": "CMcc1o7BWnss"
      },
      "outputs": [],
      "source": [
        "ratings_sample = pd.read_csv(\"Data/ratings_sample.csv\")"
      ]
    },
    {
      "cell_type": "code",
      "execution_count": 15,
      "metadata": {
        "colab": {
          "base_uri": "https://localhost:8080/",
          "height": 424
        },
        "id": "61jb4eBHeSsl",
        "outputId": "a826124b-a8d7-4a41-8982-1ff58da1755b"
      },
      "outputs": [
        {
          "data": {
            "text/html": [
              "<div>\n",
              "<style scoped>\n",
              "    .dataframe tbody tr th:only-of-type {\n",
              "        vertical-align: middle;\n",
              "    }\n",
              "\n",
              "    .dataframe tbody tr th {\n",
              "        vertical-align: top;\n",
              "    }\n",
              "\n",
              "    .dataframe thead th {\n",
              "        text-align: right;\n",
              "    }\n",
              "</style>\n",
              "<table border=\"1\" class=\"dataframe\">\n",
              "  <thead>\n",
              "    <tr style=\"text-align: right;\">\n",
              "      <th></th>\n",
              "      <th>userId</th>\n",
              "      <th>movieId</th>\n",
              "      <th>rating</th>\n",
              "      <th>liked</th>\n",
              "    </tr>\n",
              "  </thead>\n",
              "  <tbody>\n",
              "    <tr>\n",
              "      <th>0</th>\n",
              "      <td>3</td>\n",
              "      <td>356</td>\n",
              "      <td>4.0</td>\n",
              "      <td>1</td>\n",
              "    </tr>\n",
              "    <tr>\n",
              "      <th>1</th>\n",
              "      <td>3</td>\n",
              "      <td>4167</td>\n",
              "      <td>3.5</td>\n",
              "      <td>0</td>\n",
              "    </tr>\n",
              "    <tr>\n",
              "      <th>2</th>\n",
              "      <td>3</td>\n",
              "      <td>4306</td>\n",
              "      <td>4.0</td>\n",
              "      <td>1</td>\n",
              "    </tr>\n",
              "    <tr>\n",
              "      <th>3</th>\n",
              "      <td>3</td>\n",
              "      <td>4979</td>\n",
              "      <td>4.0</td>\n",
              "      <td>1</td>\n",
              "    </tr>\n",
              "    <tr>\n",
              "      <th>4</th>\n",
              "      <td>3</td>\n",
              "      <td>5574</td>\n",
              "      <td>4.0</td>\n",
              "      <td>1</td>\n",
              "    </tr>\n",
              "    <tr>\n",
              "      <th>...</th>\n",
              "      <td>...</td>\n",
              "      <td>...</td>\n",
              "      <td>...</td>\n",
              "      <td>...</td>\n",
              "    </tr>\n",
              "    <tr>\n",
              "      <th>813465</th>\n",
              "      <td>162534</td>\n",
              "      <td>122892</td>\n",
              "      <td>2.5</td>\n",
              "      <td>0</td>\n",
              "    </tr>\n",
              "    <tr>\n",
              "      <th>813466</th>\n",
              "      <td>162534</td>\n",
              "      <td>136016</td>\n",
              "      <td>2.0</td>\n",
              "      <td>0</td>\n",
              "    </tr>\n",
              "    <tr>\n",
              "      <th>813467</th>\n",
              "      <td>162534</td>\n",
              "      <td>152081</td>\n",
              "      <td>2.5</td>\n",
              "      <td>0</td>\n",
              "    </tr>\n",
              "    <tr>\n",
              "      <th>813468</th>\n",
              "      <td>162534</td>\n",
              "      <td>174055</td>\n",
              "      <td>3.5</td>\n",
              "      <td>0</td>\n",
              "    </tr>\n",
              "    <tr>\n",
              "      <th>813469</th>\n",
              "      <td>162534</td>\n",
              "      <td>185029</td>\n",
              "      <td>3.5</td>\n",
              "      <td>0</td>\n",
              "    </tr>\n",
              "  </tbody>\n",
              "</table>\n",
              "<p>813470 rows × 4 columns</p>\n",
              "</div>"
            ],
            "text/plain": [
              "        userId  movieId  rating  liked\n",
              "0            3      356     4.0      1\n",
              "1            3     4167     3.5      0\n",
              "2            3     4306     4.0      1\n",
              "3            3     4979     4.0      1\n",
              "4            3     5574     4.0      1\n",
              "...        ...      ...     ...    ...\n",
              "813465  162534   122892     2.5      0\n",
              "813466  162534   136016     2.0      0\n",
              "813467  162534   152081     2.5      0\n",
              "813468  162534   174055     3.5      0\n",
              "813469  162534   185029     3.5      0\n",
              "\n",
              "[813470 rows x 4 columns]"
            ]
          },
          "execution_count": 15,
          "metadata": {},
          "output_type": "execute_result"
        }
      ],
      "source": [
        "ratings_sample"
      ]
    },
    {
      "cell_type": "code",
      "execution_count": 31,
      "metadata": {
        "colab": {
          "base_uri": "https://localhost:8080/",
          "height": 1000
        },
        "id": "7p03Y4qkWnss",
        "outputId": "33222d32-0904-4145-f667-344638f601ea"
      },
      "outputs": [
        {
          "data": {
            "text/html": [
              "<div>\n",
              "<style scoped>\n",
              "    .dataframe tbody tr th:only-of-type {\n",
              "        vertical-align: middle;\n",
              "    }\n",
              "\n",
              "    .dataframe tbody tr th {\n",
              "        vertical-align: top;\n",
              "    }\n",
              "\n",
              "    .dataframe thead th {\n",
              "        text-align: right;\n",
              "    }\n",
              "</style>\n",
              "<table border=\"1\" class=\"dataframe\">\n",
              "  <thead>\n",
              "    <tr style=\"text-align: right;\">\n",
              "      <th></th>\n",
              "      <th>movieId</th>\n",
              "      <th>original_language</th>\n",
              "      <th>original_title</th>\n",
              "      <th>overview</th>\n",
              "      <th>popularity</th>\n",
              "      <th>release_date</th>\n",
              "      <th>runtime</th>\n",
              "      <th>spoken_languages</th>\n",
              "      <th>title</th>\n",
              "      <th>vote_average</th>\n",
              "      <th>...</th>\n",
              "      <th>History</th>\n",
              "      <th>Horror</th>\n",
              "      <th>Music</th>\n",
              "      <th>Mystery</th>\n",
              "      <th>Romance</th>\n",
              "      <th>Science Fiction</th>\n",
              "      <th>TV Movie</th>\n",
              "      <th>Thriller</th>\n",
              "      <th>War</th>\n",
              "      <th>Western</th>\n",
              "    </tr>\n",
              "  </thead>\n",
              "  <tbody>\n",
              "    <tr>\n",
              "      <th>0</th>\n",
              "      <td>862</td>\n",
              "      <td>en</td>\n",
              "      <td>Toy Story</td>\n",
              "      <td>Led by Woody, Andy's toys live happily in his ...</td>\n",
              "      <td>21.946943</td>\n",
              "      <td>1995-10-30</td>\n",
              "      <td>81.0</td>\n",
              "      <td>[{'iso_639_1': 'en', 'name': 'English'}]</td>\n",
              "      <td>Toy Story</td>\n",
              "      <td>7.7</td>\n",
              "      <td>...</td>\n",
              "      <td>0</td>\n",
              "      <td>0</td>\n",
              "      <td>0</td>\n",
              "      <td>0</td>\n",
              "      <td>0</td>\n",
              "      <td>0</td>\n",
              "      <td>0</td>\n",
              "      <td>0</td>\n",
              "      <td>0</td>\n",
              "      <td>0</td>\n",
              "    </tr>\n",
              "    <tr>\n",
              "      <th>1</th>\n",
              "      <td>8844</td>\n",
              "      <td>en</td>\n",
              "      <td>Jumanji</td>\n",
              "      <td>When siblings Judy and Peter discover an encha...</td>\n",
              "      <td>17.015539</td>\n",
              "      <td>1995-12-15</td>\n",
              "      <td>104.0</td>\n",
              "      <td>[{'iso_639_1': 'en', 'name': 'English'}, {'iso...</td>\n",
              "      <td>Jumanji</td>\n",
              "      <td>6.9</td>\n",
              "      <td>...</td>\n",
              "      <td>0</td>\n",
              "      <td>0</td>\n",
              "      <td>0</td>\n",
              "      <td>0</td>\n",
              "      <td>0</td>\n",
              "      <td>0</td>\n",
              "      <td>0</td>\n",
              "      <td>0</td>\n",
              "      <td>0</td>\n",
              "      <td>0</td>\n",
              "    </tr>\n",
              "  </tbody>\n",
              "</table>\n",
              "<p>2 rows × 32 columns</p>\n",
              "</div>"
            ],
            "text/plain": [
              "   movieId original_language original_title  \\\n",
              "0      862                en      Toy Story   \n",
              "1     8844                en        Jumanji   \n",
              "\n",
              "                                            overview  popularity release_date  \\\n",
              "0  Led by Woody, Andy's toys live happily in his ...   21.946943   1995-10-30   \n",
              "1  When siblings Judy and Peter discover an encha...   17.015539   1995-12-15   \n",
              "\n",
              "   runtime                                   spoken_languages      title  \\\n",
              "0     81.0           [{'iso_639_1': 'en', 'name': 'English'}]  Toy Story   \n",
              "1    104.0  [{'iso_639_1': 'en', 'name': 'English'}, {'iso...    Jumanji   \n",
              "\n",
              "   vote_average  ...  History Horror  Music  Mystery  Romance  \\\n",
              "0           7.7  ...        0      0      0        0        0   \n",
              "1           6.9  ...        0      0      0        0        0   \n",
              "\n",
              "   Science Fiction  TV Movie  Thriller  War  Western  \n",
              "0                0         0         0    0        0  \n",
              "1                0         0         0    0        0  \n",
              "\n",
              "[2 rows x 32 columns]"
            ]
          },
          "execution_count": 31,
          "metadata": {},
          "output_type": "execute_result"
        }
      ],
      "source": [
        "movies.head(2)"
      ]
    },
    {
      "attachments": {},
      "cell_type": "markdown",
      "metadata": {},
      "source": [
        "Item’s rating is predicted based on how similar items have been rated by that user.\n",
        "\n",
        "The ratings are predicted using the user’s own ratings on neighbouring (closely related) items."
      ]
    },
    {
      "cell_type": "code",
      "execution_count": 17,
      "metadata": {},
      "outputs": [],
      "source": [
        "ratings = ratings_sample.sort_values(by='userId')"
      ]
    },
    {
      "cell_type": "code",
      "execution_count": 18,
      "metadata": {},
      "outputs": [],
      "source": [
        "ratings .drop(\"liked\",axis=1,inplace=True)\n",
        "#dropping the liked columns since we want to use the dataframe in FUNK SVD"
      ]
    },
    {
      "cell_type": "code",
      "execution_count": 19,
      "metadata": {},
      "outputs": [
        {
          "data": {
            "text/html": [
              "<div>\n",
              "<style scoped>\n",
              "    .dataframe tbody tr th:only-of-type {\n",
              "        vertical-align: middle;\n",
              "    }\n",
              "\n",
              "    .dataframe tbody tr th {\n",
              "        vertical-align: top;\n",
              "    }\n",
              "\n",
              "    .dataframe thead th {\n",
              "        text-align: right;\n",
              "    }\n",
              "</style>\n",
              "<table border=\"1\" class=\"dataframe\">\n",
              "  <thead>\n",
              "    <tr style=\"text-align: right;\">\n",
              "      <th></th>\n",
              "      <th>userId</th>\n",
              "      <th>movieId</th>\n",
              "      <th>rating</th>\n",
              "    </tr>\n",
              "  </thead>\n",
              "  <tbody>\n",
              "    <tr>\n",
              "      <th>0</th>\n",
              "      <td>3</td>\n",
              "      <td>356</td>\n",
              "      <td>4.0</td>\n",
              "    </tr>\n",
              "    <tr>\n",
              "      <th>27</th>\n",
              "      <td>3</td>\n",
              "      <td>148855</td>\n",
              "      <td>4.0</td>\n",
              "    </tr>\n",
              "    <tr>\n",
              "      <th>26</th>\n",
              "      <td>3</td>\n",
              "      <td>134853</td>\n",
              "      <td>4.0</td>\n",
              "    </tr>\n",
              "    <tr>\n",
              "      <th>25</th>\n",
              "      <td>3</td>\n",
              "      <td>130634</td>\n",
              "      <td>3.0</td>\n",
              "    </tr>\n",
              "    <tr>\n",
              "      <th>24</th>\n",
              "      <td>3</td>\n",
              "      <td>117529</td>\n",
              "      <td>3.0</td>\n",
              "    </tr>\n",
              "    <tr>\n",
              "      <th>...</th>\n",
              "      <td>...</td>\n",
              "      <td>...</td>\n",
              "      <td>...</td>\n",
              "    </tr>\n",
              "    <tr>\n",
              "      <th>813446</th>\n",
              "      <td>162534</td>\n",
              "      <td>1198</td>\n",
              "      <td>4.0</td>\n",
              "    </tr>\n",
              "    <tr>\n",
              "      <th>813445</th>\n",
              "      <td>162534</td>\n",
              "      <td>745</td>\n",
              "      <td>4.0</td>\n",
              "    </tr>\n",
              "    <tr>\n",
              "      <th>813468</th>\n",
              "      <td>162534</td>\n",
              "      <td>174055</td>\n",
              "      <td>3.5</td>\n",
              "    </tr>\n",
              "    <tr>\n",
              "      <th>813456</th>\n",
              "      <td>162534</td>\n",
              "      <td>33004</td>\n",
              "      <td>3.0</td>\n",
              "    </tr>\n",
              "    <tr>\n",
              "      <th>813469</th>\n",
              "      <td>162534</td>\n",
              "      <td>185029</td>\n",
              "      <td>3.5</td>\n",
              "    </tr>\n",
              "  </tbody>\n",
              "</table>\n",
              "<p>813470 rows × 3 columns</p>\n",
              "</div>"
            ],
            "text/plain": [
              "        userId  movieId  rating\n",
              "0            3      356     4.0\n",
              "27           3   148855     4.0\n",
              "26           3   134853     4.0\n",
              "25           3   130634     3.0\n",
              "24           3   117529     3.0\n",
              "...        ...      ...     ...\n",
              "813446  162534     1198     4.0\n",
              "813445  162534      745     4.0\n",
              "813468  162534   174055     3.5\n",
              "813456  162534    33004     3.0\n",
              "813469  162534   185029     3.5\n",
              "\n",
              "[813470 rows x 3 columns]"
            ]
          },
          "execution_count": 19,
          "metadata": {},
          "output_type": "execute_result"
        }
      ],
      "source": [
        "ratings"
      ]
    },
    {
      "attachments": {},
      "cell_type": "markdown",
      "metadata": {},
      "source": [
        "Setting the `userId` to order from (0,len) in order to able to use it in Funk SVD."
      ]
    },
    {
      "cell_type": "code",
      "execution_count": 20,
      "metadata": {},
      "outputs": [],
      "source": [
        "# Create a new column 'newUserID' with incremental values starting from 0\n",
        "ratings['UserID'] = range(len(ratings))\n",
        "\n"
      ]
    },
    {
      "cell_type": "code",
      "execution_count": 21,
      "metadata": {},
      "outputs": [],
      "source": [
        "# Update the 'userID' column with the values from the 'newUserID' column\n",
        "ratings['userId'] = ratings['UserID']\n",
        "\n",
        "# Remove the 'newUserID' column\n",
        "ratings = ratings.drop('UserID', axis=1)"
      ]
    },
    {
      "cell_type": "code",
      "execution_count": 22,
      "metadata": {},
      "outputs": [
        {
          "data": {
            "text/html": [
              "<div>\n",
              "<style scoped>\n",
              "    .dataframe tbody tr th:only-of-type {\n",
              "        vertical-align: middle;\n",
              "    }\n",
              "\n",
              "    .dataframe tbody tr th {\n",
              "        vertical-align: top;\n",
              "    }\n",
              "\n",
              "    .dataframe thead th {\n",
              "        text-align: right;\n",
              "    }\n",
              "</style>\n",
              "<table border=\"1\" class=\"dataframe\">\n",
              "  <thead>\n",
              "    <tr style=\"text-align: right;\">\n",
              "      <th></th>\n",
              "      <th>userId</th>\n",
              "      <th>movieId</th>\n",
              "      <th>rating</th>\n",
              "    </tr>\n",
              "  </thead>\n",
              "  <tbody>\n",
              "    <tr>\n",
              "      <th>0</th>\n",
              "      <td>0</td>\n",
              "      <td>356</td>\n",
              "      <td>4.0</td>\n",
              "    </tr>\n",
              "    <tr>\n",
              "      <th>27</th>\n",
              "      <td>1</td>\n",
              "      <td>148855</td>\n",
              "      <td>4.0</td>\n",
              "    </tr>\n",
              "    <tr>\n",
              "      <th>26</th>\n",
              "      <td>2</td>\n",
              "      <td>134853</td>\n",
              "      <td>4.0</td>\n",
              "    </tr>\n",
              "    <tr>\n",
              "      <th>25</th>\n",
              "      <td>3</td>\n",
              "      <td>130634</td>\n",
              "      <td>3.0</td>\n",
              "    </tr>\n",
              "    <tr>\n",
              "      <th>24</th>\n",
              "      <td>4</td>\n",
              "      <td>117529</td>\n",
              "      <td>3.0</td>\n",
              "    </tr>\n",
              "    <tr>\n",
              "      <th>...</th>\n",
              "      <td>...</td>\n",
              "      <td>...</td>\n",
              "      <td>...</td>\n",
              "    </tr>\n",
              "    <tr>\n",
              "      <th>813446</th>\n",
              "      <td>813465</td>\n",
              "      <td>1198</td>\n",
              "      <td>4.0</td>\n",
              "    </tr>\n",
              "    <tr>\n",
              "      <th>813445</th>\n",
              "      <td>813466</td>\n",
              "      <td>745</td>\n",
              "      <td>4.0</td>\n",
              "    </tr>\n",
              "    <tr>\n",
              "      <th>813468</th>\n",
              "      <td>813467</td>\n",
              "      <td>174055</td>\n",
              "      <td>3.5</td>\n",
              "    </tr>\n",
              "    <tr>\n",
              "      <th>813456</th>\n",
              "      <td>813468</td>\n",
              "      <td>33004</td>\n",
              "      <td>3.0</td>\n",
              "    </tr>\n",
              "    <tr>\n",
              "      <th>813469</th>\n",
              "      <td>813469</td>\n",
              "      <td>185029</td>\n",
              "      <td>3.5</td>\n",
              "    </tr>\n",
              "  </tbody>\n",
              "</table>\n",
              "<p>813470 rows × 3 columns</p>\n",
              "</div>"
            ],
            "text/plain": [
              "        userId  movieId  rating\n",
              "0            0      356     4.0\n",
              "27           1   148855     4.0\n",
              "26           2   134853     4.0\n",
              "25           3   130634     3.0\n",
              "24           4   117529     3.0\n",
              "...        ...      ...     ...\n",
              "813446  813465     1198     4.0\n",
              "813445  813466      745     4.0\n",
              "813468  813467   174055     3.5\n",
              "813456  813468    33004     3.0\n",
              "813469  813469   185029     3.5\n",
              "\n",
              "[813470 rows x 3 columns]"
            ]
          },
          "execution_count": 22,
          "metadata": {},
          "output_type": "execute_result"
        }
      ],
      "source": [
        "#sanity check\n",
        "ratings"
      ]
    },
    {
      "attachments": {},
      "cell_type": "markdown",
      "metadata": {},
      "source": [
        "### Funk SVD"
      ]
    },
    {
      "attachments": {},
      "cell_type": "markdown",
      "metadata": {},
      "source": [
        "Funk SVD is one of the Matrix Factorization techniques in Model based recommender engines that are part of the Collaborative filtering group of recommender engines.\n",
        "\n",
        "FunkFunk SVD is ideal for sparse matrixes.\n",
        "\n"
      ]
    },
    {
      "attachments": {},
      "cell_type": "markdown",
      "metadata": {},
      "source": [
        "We need to load our data into a dataset object using a package in `Surprise` library"
      ]
    },
    {
      "cell_type": "code",
      "execution_count": 23,
      "metadata": {},
      "outputs": [],
      "source": [
        "#using Funk SVD\n",
        "my_dataset = Dataset.load_from_df(ratings, Reader(rating_scale=(0.5, 5)))\n",
        "my_train_dataset = my_dataset.build_full_trainset()"
      ]
    },
    {
      "cell_type": "code",
      "execution_count": 24,
      "metadata": {},
      "outputs": [
        {
          "data": {
            "text/plain": [
              "<surprise.trainset.Trainset at 0x7fcde963e430>"
            ]
          },
          "execution_count": 24,
          "metadata": {},
          "output_type": "execute_result"
        }
      ],
      "source": [
        "my_train_dataset"
      ]
    },
    {
      "attachments": {},
      "cell_type": "markdown",
      "metadata": {},
      "source": [
        "Now all we do is initialize the algorithm, specify the number of latent variables and iterations we'd like to use, and then let the algorithm run."
      ]
    },
    {
      "attachments": {},
      "cell_type": "markdown",
      "metadata": {},
      "source": [
        "A huge downside here is that we cannot use 'Funk SVD' for the users that are new.\n",
        "For this purpose i'm defining a user Id below and also a movie Id and puuting it in my funk SVD function to see the results."
      ]
    },
    {
      "cell_type": "code",
      "execution_count": 25,
      "metadata": {},
      "outputs": [],
      "source": [
        "#example\n",
        "user_1 = 0\n",
        "movie = 62"
      ]
    },
    {
      "cell_type": "code",
      "execution_count": 26,
      "metadata": {},
      "outputs": [
        {
          "data": {
            "text/plain": [
              "<surprise.prediction_algorithms.matrix_factorization.SVD at 0x7fcdc8f024f0>"
            ]
          },
          "execution_count": 26,
          "metadata": {},
          "output_type": "execute_result"
        }
      ],
      "source": [
        "\n",
        "my_algorithm = FunkSVD(n_factors=15, \n",
        "                n_epochs=50, \n",
        "                lr_all=0.001,    # Learning rate for each epoch\n",
        "                biased=False,  # This forces the algorithm to store all latent information in the matrices\n",
        "                verbose=0,\n",
        "                reg_all =  0.08)\n",
        "my_algorithm.fit(my_train_dataset)\n",
        "\n",
        "\n"
      ]
    },
    {
      "attachments": {},
      "cell_type": "markdown",
      "metadata": {},
      "source": [
        "We call these two matrices users and items latent factors. \n",
        "\n",
        "Then, by applying the dot product between both matrices we can reconstruct our rating matrix. "
      ]
    },
    {
      "cell_type": "code",
      "execution_count": 27,
      "metadata": {},
      "outputs": [],
      "source": [
        "#user matrix\n",
        "U = my_algorithm.pu\n",
        "#​In the U matrix, we take all the random values associated with User 1"
      ]
    },
    {
      "cell_type": "code",
      "execution_count": 28,
      "metadata": {},
      "outputs": [],
      "source": [
        "#movie matrix\n",
        "M = my_algorithm.qi.T\n"
      ]
    },
    {
      "cell_type": "code",
      "execution_count": 29,
      "metadata": {},
      "outputs": [],
      "source": [
        "inner_user_id = my_train_dataset.to_inner_uid(user_1) # find the inner representation of user 1\n",
        "user_profile = U[inner_user_id]\n",
        "inner_movie_id = my_train_dataset.to_inner_iid(movie) # find the inner representation of item \n",
        "movie_profile = M[:, inner_movie_id]\n"
      ]
    },
    {
      "attachments": {},
      "cell_type": "markdown",
      "metadata": {},
      "source": [
        "`np.dot` will give us an expected rating.\n",
        "\n",
        "I'm going to say if the expected rating is above 3.5 it means I'm predicting the user will like the movie. "
      ]
    },
    {
      "cell_type": "code",
      "execution_count": 29,
      "metadata": {},
      "outputs": [
        {
          "name": "stdout",
          "output_type": "stream",
          "text": [
            "------ Result for 10 factors:\n",
            "expected rating for 332    2001: A Space Odyssey\n",
            "Name: title, dtype: object is -0.7451322818646982\n"
          ]
        }
      ],
      "source": [
        "expected_rating = np.dot(user_profile, movie_profile) #compute the dot product between the row and column found in order to make our prediction.\n",
        "print(f\"------ Result for 10 factors:\")\n",
        "print(f\"expected rating for {movies[movies['movieId']==movie]['title']} is {expected_rating}\")"
      ]
    },
    {
      "cell_type": "code",
      "execution_count": 30,
      "metadata": {},
      "outputs": [],
      "source": [
        "# The surprise package doesn't allow you to test on the trainset we built\n",
        "my_train_dataset, my_test_dataset = train_test_split(my_dataset, test_size=0.3)\n",
        "\n",
        "predictions = my_algorithm.test(my_test_dataset)"
      ]
    },
    {
      "cell_type": "code",
      "execution_count": 31,
      "metadata": {},
      "outputs": [],
      "source": [
        "if expected_rating > 3.5:\n",
        "    print(\"We predict that the user will like this movie! \")"
      ]
    },
    {
      "attachments": {},
      "cell_type": "markdown",
      "metadata": {},
      "source": [
        "We know the rating user 1 gave movie 2 (it's 3.0), so let's use this to demonstrate how we calculate ratings using these latent factors.\n",
        "\n",
        "First, we grab the user profile"
      ]
    },
    {
      "attachments": {},
      "cell_type": "markdown",
      "metadata": {},
      "source": [
        "Our expected rating of this movie by this user is the dot product of these two profiles."
      ]
    },
    {
      "attachments": {},
      "cell_type": "markdown",
      "metadata": {},
      "source": [
        "# Evaluation"
      ]
    },
    {
      "attachments": {},
      "cell_type": "markdown",
      "metadata": {},
      "source": [
        "Building a well-generalized model, Machine learning model cannot have 100 per cent efficiency otherwise the model is known as a biased model.\n",
        "So we need to evaluat our model to get a good accuracy while avoiding overfitting.\n",
        "\n",
        "For that we need to optimize our hyperparameters so we can get good results."
      ]
    },
    {
      "attachments": {},
      "cell_type": "markdown",
      "metadata": {},
      "source": [
        "Using the gridsearchCV which is a functinon in sklearn library to find the optimize hyperparameters for our models.\n",
        "\n",
        "It is a cross validation test splits the data into subsets(folds).It will return the set of parameters that minimises the mean score across folds\n",
        "\n",
        "Below I use 3 folds and RMSE accuracy score."
      ]
    },
    {
      "attachments": {},
      "cell_type": "markdown",
      "metadata": {},
      "source": [
        "RMSE: Root mean standard deviation.\n",
        "\n",
        "The output value you get is in the same unit as the required output variable which makes interpretation of loss easy.\n",
        "\n",
        "The formula of RMS is square root of (MSE(y_test,_y_pred))\n"
      ]
    },
    {
      "attachments": {},
      "cell_type": "markdown",
      "metadata": {},
      "source": [
        "We do this to make sure that we are doing better for each iteration."
      ]
    },
    {
      "cell_type": "code",
      "execution_count": 30,
      "metadata": {},
      "outputs": [
        {
          "name": "stdout",
          "output_type": "stream",
          "text": [
            "0.9615857978579115\n",
            "{'n_factors': 30, 'n_epochs': 35, 'lr_all': 0.001, 'reg_all': 0.08}\n"
          ]
        }
      ],
      "source": [
        "#Run for fast pass\n",
        "param_grid = {'n_factors': [30], 'n_epochs': [35], 'lr_all': [0.001],\n",
        "              'reg_all': [0.08]}\n",
        "              #n_factors – The number of factors\n",
        "              #n_epochs – The number of iteration of the SGD procedure\n",
        "              #lr_all – The learning rate for all parameters\n",
        "              #reg_all – The regularization term for all parameters. \n",
        "\n",
        "             \n",
        "gs = GridSearchCV(SVD, param_grid, measures=['rmse'], cv=3)\n",
        "gs.fit(my_dataset)\n",
        "algo = gs.best_estimator['rmse']\n",
        "print(gs.best_score['rmse'])\n",
        "print(gs.best_params['rmse'])\n",
        "\n",
        "#Assigning values\n",
        "t = gs.best_params\n",
        "factors = t['rmse']['n_factors']\n",
        "epochs = t['rmse']['n_epochs']\n",
        "lr_value = t['rmse']['lr_all']\n",
        "reg_value = t['rmse']['reg_all']"
      ]
    },
    {
      "attachments": {},
      "cell_type": "markdown",
      "metadata": {},
      "source": [
        "The performance of recommender systems are often evaluated by use.(interaction of the user with items).\n",
        "\n",
        "\n",
        "Matrix factorization is a collaborative filtering method to find the relationship between items’ and users’ entities. \n",
        "\n",
        "Latent features(the association between users and movies matrices) are determined to find similarity and make a prediction based on both item and user entities\n",
        "The matrix factorization of user and item matrices can be generated when the math cost function RMSE is minimized through matrix factorization."
      ]
    }
  ],
  "metadata": {
    "accelerator": "GPU",
    "colab": {
      "gpuType": "T4",
      "machine_shape": "hm",
      "provenance": []
    },
    "kernelspec": {
      "display_name": "Python 3",
      "name": "python3"
    },
    "language_info": {
      "codemirror_mode": {
        "name": "ipython",
        "version": 3
      },
      "file_extension": ".py",
      "mimetype": "text/x-python",
      "name": "python",
      "nbconvert_exporter": "python",
      "pygments_lexer": "ipython3",
      "version": "3.8.16"
    },
    "orig_nbformat": 4
  },
  "nbformat": 4,
  "nbformat_minor": 0
}
