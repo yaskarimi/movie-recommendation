{
  "cells": [
    {
      "cell_type": "code",
      "execution_count": 2,
      "metadata": {
        "id": "XcXE59W5Wnsp"
      },
      "outputs": [],
      "source": [
        "from pandas.api.types import CategoricalDtype\n",
        "from datetime import datetime\n",
        "import pandas as pd\n",
        "import numpy as np\n",
        "import nltk\n",
        "from sklearn.feature_extraction.text import TfidfVectorizer\n",
        "from sklearn.metrics.pairwise import cosine_similarity\n",
        "from sklearn.feature_extraction.text import CountVectorizer\n",
        "import matplotlib.pyplot as plt\n",
        "from sklearn.preprocessing import normalize\n",
        "\n",
        "from surprise.prediction_algorithms.matrix_factorization import SVD as FunkSVD\n",
        "from funk_svd.dataset import fetch_ml_ratings\n",
        "from funk_svd import SVD\n",
        "from sklearn.metrics import mean_absolute_error\n",
        "from surprise import Reader, Dataset, SVD,accuracy\n",
        "from surprise.model_selection import train_test_split\n",
        "from surprise.model_selection import GridSearchCV\n"
      ]
    },
    {
      "attachments": {},
      "cell_type": "markdown",
      "metadata": {},
      "source": [
        "#### Loading the data"
      ]
    },
    {
      "cell_type": "code",
      "execution_count": 3,
      "metadata": {
        "id": "2e1gxyfDWnsr"
      },
      "outputs": [],
      "source": [
        "movies= pd.read_csv(\"Data/movies.csv\")\n",
        "movies.drop(\"Unnamed: 0\",axis=1,inplace=True)"
      ]
    },
    {
      "cell_type": "code",
      "execution_count": 4,
      "metadata": {
        "id": "CMcc1o7BWnss"
      },
      "outputs": [],
      "source": [
        "ratings_sample = pd.read_csv(\"Data/ratings_sample.csv\")"
      ]
    },
    {
      "cell_type": "code",
      "execution_count": 5,
      "metadata": {
        "colab": {
          "base_uri": "https://localhost:8080/",
          "height": 424
        },
        "id": "61jb4eBHeSsl",
        "outputId": "a826124b-a8d7-4a41-8982-1ff58da1755b"
      },
      "outputs": [
        {
          "data": {
            "text/html": [
              "<div>\n",
              "<style scoped>\n",
              "    .dataframe tbody tr th:only-of-type {\n",
              "        vertical-align: middle;\n",
              "    }\n",
              "\n",
              "    .dataframe tbody tr th {\n",
              "        vertical-align: top;\n",
              "    }\n",
              "\n",
              "    .dataframe thead th {\n",
              "        text-align: right;\n",
              "    }\n",
              "</style>\n",
              "<table border=\"1\" class=\"dataframe\">\n",
              "  <thead>\n",
              "    <tr style=\"text-align: right;\">\n",
              "      <th></th>\n",
              "      <th>userId</th>\n",
              "      <th>movieId</th>\n",
              "      <th>rating</th>\n",
              "      <th>liked</th>\n",
              "    </tr>\n",
              "  </thead>\n",
              "  <tbody>\n",
              "    <tr>\n",
              "      <th>0</th>\n",
              "      <td>3</td>\n",
              "      <td>356</td>\n",
              "      <td>4.0</td>\n",
              "      <td>1</td>\n",
              "    </tr>\n",
              "    <tr>\n",
              "      <th>1</th>\n",
              "      <td>3</td>\n",
              "      <td>4167</td>\n",
              "      <td>3.5</td>\n",
              "      <td>0</td>\n",
              "    </tr>\n",
              "    <tr>\n",
              "      <th>2</th>\n",
              "      <td>3</td>\n",
              "      <td>4306</td>\n",
              "      <td>4.0</td>\n",
              "      <td>1</td>\n",
              "    </tr>\n",
              "    <tr>\n",
              "      <th>3</th>\n",
              "      <td>3</td>\n",
              "      <td>4979</td>\n",
              "      <td>4.0</td>\n",
              "      <td>1</td>\n",
              "    </tr>\n",
              "    <tr>\n",
              "      <th>4</th>\n",
              "      <td>3</td>\n",
              "      <td>5574</td>\n",
              "      <td>4.0</td>\n",
              "      <td>1</td>\n",
              "    </tr>\n",
              "    <tr>\n",
              "      <th>...</th>\n",
              "      <td>...</td>\n",
              "      <td>...</td>\n",
              "      <td>...</td>\n",
              "      <td>...</td>\n",
              "    </tr>\n",
              "    <tr>\n",
              "      <th>813465</th>\n",
              "      <td>162534</td>\n",
              "      <td>122892</td>\n",
              "      <td>2.5</td>\n",
              "      <td>0</td>\n",
              "    </tr>\n",
              "    <tr>\n",
              "      <th>813466</th>\n",
              "      <td>162534</td>\n",
              "      <td>136016</td>\n",
              "      <td>2.0</td>\n",
              "      <td>0</td>\n",
              "    </tr>\n",
              "    <tr>\n",
              "      <th>813467</th>\n",
              "      <td>162534</td>\n",
              "      <td>152081</td>\n",
              "      <td>2.5</td>\n",
              "      <td>0</td>\n",
              "    </tr>\n",
              "    <tr>\n",
              "      <th>813468</th>\n",
              "      <td>162534</td>\n",
              "      <td>174055</td>\n",
              "      <td>3.5</td>\n",
              "      <td>0</td>\n",
              "    </tr>\n",
              "    <tr>\n",
              "      <th>813469</th>\n",
              "      <td>162534</td>\n",
              "      <td>185029</td>\n",
              "      <td>3.5</td>\n",
              "      <td>0</td>\n",
              "    </tr>\n",
              "  </tbody>\n",
              "</table>\n",
              "<p>813470 rows × 4 columns</p>\n",
              "</div>"
            ],
            "text/plain": [
              "        userId  movieId  rating  liked\n",
              "0            3      356     4.0      1\n",
              "1            3     4167     3.5      0\n",
              "2            3     4306     4.0      1\n",
              "3            3     4979     4.0      1\n",
              "4            3     5574     4.0      1\n",
              "...        ...      ...     ...    ...\n",
              "813465  162534   122892     2.5      0\n",
              "813466  162534   136016     2.0      0\n",
              "813467  162534   152081     2.5      0\n",
              "813468  162534   174055     3.5      0\n",
              "813469  162534   185029     3.5      0\n",
              "\n",
              "[813470 rows x 4 columns]"
            ]
          },
          "execution_count": 5,
          "metadata": {},
          "output_type": "execute_result"
        }
      ],
      "source": [
        "ratings_sample"
      ]
    },
    {
      "attachments": {},
      "cell_type": "markdown",
      "metadata": {
        "id": "mvx4Tdeu_CIs"
      },
      "source": []
    },
    {
      "cell_type": "code",
      "execution_count": 6,
      "metadata": {
        "colab": {
          "base_uri": "https://localhost:8080/",
          "height": 1000
        },
        "id": "7p03Y4qkWnss",
        "outputId": "33222d32-0904-4145-f667-344638f601ea"
      },
      "outputs": [
        {
          "data": {
            "text/html": [
              "<div>\n",
              "<style scoped>\n",
              "    .dataframe tbody tr th:only-of-type {\n",
              "        vertical-align: middle;\n",
              "    }\n",
              "\n",
              "    .dataframe tbody tr th {\n",
              "        vertical-align: top;\n",
              "    }\n",
              "\n",
              "    .dataframe thead th {\n",
              "        text-align: right;\n",
              "    }\n",
              "</style>\n",
              "<table border=\"1\" class=\"dataframe\">\n",
              "  <thead>\n",
              "    <tr style=\"text-align: right;\">\n",
              "      <th></th>\n",
              "      <th>movieId</th>\n",
              "      <th>original_language</th>\n",
              "      <th>original_title</th>\n",
              "      <th>overview</th>\n",
              "      <th>popularity</th>\n",
              "      <th>release_date</th>\n",
              "      <th>runtime</th>\n",
              "      <th>spoken_languages</th>\n",
              "      <th>title</th>\n",
              "      <th>vote_average</th>\n",
              "      <th>...</th>\n",
              "      <th>History</th>\n",
              "      <th>Horror</th>\n",
              "      <th>Music</th>\n",
              "      <th>Mystery</th>\n",
              "      <th>Romance</th>\n",
              "      <th>Science Fiction</th>\n",
              "      <th>TV Movie</th>\n",
              "      <th>Thriller</th>\n",
              "      <th>War</th>\n",
              "      <th>Western</th>\n",
              "    </tr>\n",
              "  </thead>\n",
              "  <tbody>\n",
              "    <tr>\n",
              "      <th>0</th>\n",
              "      <td>862</td>\n",
              "      <td>en</td>\n",
              "      <td>Toy Story</td>\n",
              "      <td>Led by Woody, Andy's toys live happily in his ...</td>\n",
              "      <td>21.946943</td>\n",
              "      <td>1995-10-30</td>\n",
              "      <td>81.0</td>\n",
              "      <td>[{'iso_639_1': 'en', 'name': 'English'}]</td>\n",
              "      <td>Toy Story</td>\n",
              "      <td>7.7</td>\n",
              "      <td>...</td>\n",
              "      <td>0</td>\n",
              "      <td>0</td>\n",
              "      <td>0</td>\n",
              "      <td>0</td>\n",
              "      <td>0</td>\n",
              "      <td>0</td>\n",
              "      <td>0</td>\n",
              "      <td>0</td>\n",
              "      <td>0</td>\n",
              "      <td>0</td>\n",
              "    </tr>\n",
              "    <tr>\n",
              "      <th>1</th>\n",
              "      <td>8844</td>\n",
              "      <td>en</td>\n",
              "      <td>Jumanji</td>\n",
              "      <td>When siblings Judy and Peter discover an encha...</td>\n",
              "      <td>17.015539</td>\n",
              "      <td>1995-12-15</td>\n",
              "      <td>104.0</td>\n",
              "      <td>[{'iso_639_1': 'en', 'name': 'English'}, {'iso...</td>\n",
              "      <td>Jumanji</td>\n",
              "      <td>6.9</td>\n",
              "      <td>...</td>\n",
              "      <td>0</td>\n",
              "      <td>0</td>\n",
              "      <td>0</td>\n",
              "      <td>0</td>\n",
              "      <td>0</td>\n",
              "      <td>0</td>\n",
              "      <td>0</td>\n",
              "      <td>0</td>\n",
              "      <td>0</td>\n",
              "      <td>0</td>\n",
              "    </tr>\n",
              "    <tr>\n",
              "      <th>2</th>\n",
              "      <td>11862</td>\n",
              "      <td>en</td>\n",
              "      <td>Father of the Bride Part II</td>\n",
              "      <td>Just when George Banks has recovered from his ...</td>\n",
              "      <td>8.387519</td>\n",
              "      <td>1995-02-10</td>\n",
              "      <td>106.0</td>\n",
              "      <td>[{'iso_639_1': 'en', 'name': 'English'}]</td>\n",
              "      <td>Father of the Bride Part II</td>\n",
              "      <td>5.7</td>\n",
              "      <td>...</td>\n",
              "      <td>0</td>\n",
              "      <td>0</td>\n",
              "      <td>0</td>\n",
              "      <td>0</td>\n",
              "      <td>0</td>\n",
              "      <td>0</td>\n",
              "      <td>0</td>\n",
              "      <td>0</td>\n",
              "      <td>0</td>\n",
              "      <td>0</td>\n",
              "    </tr>\n",
              "    <tr>\n",
              "      <th>3</th>\n",
              "      <td>949</td>\n",
              "      <td>en</td>\n",
              "      <td>Heat</td>\n",
              "      <td>Obsessive master thief, Neil McCauley leads a ...</td>\n",
              "      <td>17.924927</td>\n",
              "      <td>1995-12-15</td>\n",
              "      <td>170.0</td>\n",
              "      <td>[{'iso_639_1': 'en', 'name': 'English'}, {'iso...</td>\n",
              "      <td>Heat</td>\n",
              "      <td>7.7</td>\n",
              "      <td>...</td>\n",
              "      <td>0</td>\n",
              "      <td>0</td>\n",
              "      <td>0</td>\n",
              "      <td>0</td>\n",
              "      <td>0</td>\n",
              "      <td>0</td>\n",
              "      <td>0</td>\n",
              "      <td>1</td>\n",
              "      <td>0</td>\n",
              "      <td>0</td>\n",
              "    </tr>\n",
              "    <tr>\n",
              "      <th>4</th>\n",
              "      <td>11860</td>\n",
              "      <td>en</td>\n",
              "      <td>Sabrina</td>\n",
              "      <td>An ugly duckling having undergone a remarkable...</td>\n",
              "      <td>6.677277</td>\n",
              "      <td>1995-12-15</td>\n",
              "      <td>127.0</td>\n",
              "      <td>[{'iso_639_1': 'fr', 'name': 'Français'}, {'is...</td>\n",
              "      <td>Sabrina</td>\n",
              "      <td>6.2</td>\n",
              "      <td>...</td>\n",
              "      <td>0</td>\n",
              "      <td>0</td>\n",
              "      <td>0</td>\n",
              "      <td>0</td>\n",
              "      <td>1</td>\n",
              "      <td>0</td>\n",
              "      <td>0</td>\n",
              "      <td>0</td>\n",
              "      <td>0</td>\n",
              "      <td>0</td>\n",
              "    </tr>\n",
              "    <tr>\n",
              "      <th>...</th>\n",
              "      <td>...</td>\n",
              "      <td>...</td>\n",
              "      <td>...</td>\n",
              "      <td>...</td>\n",
              "      <td>...</td>\n",
              "      <td>...</td>\n",
              "      <td>...</td>\n",
              "      <td>...</td>\n",
              "      <td>...</td>\n",
              "      <td>...</td>\n",
              "      <td>...</td>\n",
              "      <td>...</td>\n",
              "      <td>...</td>\n",
              "      <td>...</td>\n",
              "      <td>...</td>\n",
              "      <td>...</td>\n",
              "      <td>...</td>\n",
              "      <td>...</td>\n",
              "      <td>...</td>\n",
              "      <td>...</td>\n",
              "      <td>...</td>\n",
              "    </tr>\n",
              "    <tr>\n",
              "      <th>6015</th>\n",
              "      <td>265189</td>\n",
              "      <td>sv</td>\n",
              "      <td>Turist</td>\n",
              "      <td>While holidaying in the French Alps, a Swedish...</td>\n",
              "      <td>12.165685</td>\n",
              "      <td>2014-08-15</td>\n",
              "      <td>118.0</td>\n",
              "      <td>[{'iso_639_1': 'fr', 'name': 'Français'}, {'is...</td>\n",
              "      <td>Force Majeure</td>\n",
              "      <td>6.8</td>\n",
              "      <td>...</td>\n",
              "      <td>0</td>\n",
              "      <td>0</td>\n",
              "      <td>0</td>\n",
              "      <td>0</td>\n",
              "      <td>0</td>\n",
              "      <td>0</td>\n",
              "      <td>0</td>\n",
              "      <td>0</td>\n",
              "      <td>0</td>\n",
              "      <td>0</td>\n",
              "    </tr>\n",
              "    <tr>\n",
              "      <th>6016</th>\n",
              "      <td>277839</td>\n",
              "      <td>fr</td>\n",
              "      <td>Pattaya</td>\n",
              "      <td>Franky and Krimo dream of leaving the grey gri...</td>\n",
              "      <td>5.613875</td>\n",
              "      <td>2016-02-24</td>\n",
              "      <td>100.0</td>\n",
              "      <td>[{'iso_639_1': 'fr', 'name': 'Français'}]</td>\n",
              "      <td>Good Guys Go to Heaven, Bad Guys Go to Pattaya</td>\n",
              "      <td>5.3</td>\n",
              "      <td>...</td>\n",
              "      <td>0</td>\n",
              "      <td>0</td>\n",
              "      <td>0</td>\n",
              "      <td>0</td>\n",
              "      <td>0</td>\n",
              "      <td>0</td>\n",
              "      <td>0</td>\n",
              "      <td>0</td>\n",
              "      <td>0</td>\n",
              "      <td>0</td>\n",
              "    </tr>\n",
              "    <tr>\n",
              "      <th>6017</th>\n",
              "      <td>248705</td>\n",
              "      <td>fr</td>\n",
              "      <td>Les Visiteurs: La Révolution</td>\n",
              "      <td>Stuck in the corridors of time, Godefroy de Mo...</td>\n",
              "      <td>7.294920</td>\n",
              "      <td>2016-03-23</td>\n",
              "      <td>110.0</td>\n",
              "      <td>[{'iso_639_1': 'fr', 'name': 'Français'}]</td>\n",
              "      <td>The Visitors: Bastille Day</td>\n",
              "      <td>4.0</td>\n",
              "      <td>...</td>\n",
              "      <td>0</td>\n",
              "      <td>0</td>\n",
              "      <td>0</td>\n",
              "      <td>0</td>\n",
              "      <td>0</td>\n",
              "      <td>0</td>\n",
              "      <td>0</td>\n",
              "      <td>0</td>\n",
              "      <td>0</td>\n",
              "      <td>0</td>\n",
              "    </tr>\n",
              "    <tr>\n",
              "      <th>6018</th>\n",
              "      <td>455661</td>\n",
              "      <td>en</td>\n",
              "      <td>In a Heartbeat</td>\n",
              "      <td>A closeted boy runs the risk of being outed by...</td>\n",
              "      <td>20.821780</td>\n",
              "      <td>2017-06-01</td>\n",
              "      <td>4.0</td>\n",
              "      <td>[{'iso_639_1': 'en', 'name': 'English'}]</td>\n",
              "      <td>In a Heartbeat</td>\n",
              "      <td>8.3</td>\n",
              "      <td>...</td>\n",
              "      <td>0</td>\n",
              "      <td>0</td>\n",
              "      <td>0</td>\n",
              "      <td>0</td>\n",
              "      <td>1</td>\n",
              "      <td>0</td>\n",
              "      <td>0</td>\n",
              "      <td>0</td>\n",
              "      <td>0</td>\n",
              "      <td>0</td>\n",
              "    </tr>\n",
              "    <tr>\n",
              "      <th>6019</th>\n",
              "      <td>14008</td>\n",
              "      <td>en</td>\n",
              "      <td>Cadet Kelly</td>\n",
              "      <td>Hyperactive teenager Kelly is enrolled into a ...</td>\n",
              "      <td>4.392389</td>\n",
              "      <td>2002-03-07</td>\n",
              "      <td>101.0</td>\n",
              "      <td>[{'iso_639_1': 'en', 'name': 'English'}]</td>\n",
              "      <td>Cadet Kelly</td>\n",
              "      <td>5.2</td>\n",
              "      <td>...</td>\n",
              "      <td>0</td>\n",
              "      <td>0</td>\n",
              "      <td>0</td>\n",
              "      <td>0</td>\n",
              "      <td>0</td>\n",
              "      <td>0</td>\n",
              "      <td>0</td>\n",
              "      <td>0</td>\n",
              "      <td>0</td>\n",
              "      <td>0</td>\n",
              "    </tr>\n",
              "  </tbody>\n",
              "</table>\n",
              "<p>6020 rows × 32 columns</p>\n",
              "</div>"
            ],
            "text/plain": [
              "      movieId original_language                original_title  \\\n",
              "0         862                en                     Toy Story   \n",
              "1        8844                en                       Jumanji   \n",
              "2       11862                en   Father of the Bride Part II   \n",
              "3         949                en                          Heat   \n",
              "4       11860                en                       Sabrina   \n",
              "...       ...               ...                           ...   \n",
              "6015   265189                sv                        Turist   \n",
              "6016   277839                fr                       Pattaya   \n",
              "6017   248705                fr  Les Visiteurs: La Révolution   \n",
              "6018   455661                en                In a Heartbeat   \n",
              "6019    14008                en                   Cadet Kelly   \n",
              "\n",
              "                                               overview  popularity  \\\n",
              "0     Led by Woody, Andy's toys live happily in his ...   21.946943   \n",
              "1     When siblings Judy and Peter discover an encha...   17.015539   \n",
              "2     Just when George Banks has recovered from his ...    8.387519   \n",
              "3     Obsessive master thief, Neil McCauley leads a ...   17.924927   \n",
              "4     An ugly duckling having undergone a remarkable...    6.677277   \n",
              "...                                                 ...         ...   \n",
              "6015  While holidaying in the French Alps, a Swedish...   12.165685   \n",
              "6016  Franky and Krimo dream of leaving the grey gri...    5.613875   \n",
              "6017  Stuck in the corridors of time, Godefroy de Mo...    7.294920   \n",
              "6018  A closeted boy runs the risk of being outed by...   20.821780   \n",
              "6019  Hyperactive teenager Kelly is enrolled into a ...    4.392389   \n",
              "\n",
              "     release_date  runtime                                   spoken_languages  \\\n",
              "0      1995-10-30     81.0           [{'iso_639_1': 'en', 'name': 'English'}]   \n",
              "1      1995-12-15    104.0  [{'iso_639_1': 'en', 'name': 'English'}, {'iso...   \n",
              "2      1995-02-10    106.0           [{'iso_639_1': 'en', 'name': 'English'}]   \n",
              "3      1995-12-15    170.0  [{'iso_639_1': 'en', 'name': 'English'}, {'iso...   \n",
              "4      1995-12-15    127.0  [{'iso_639_1': 'fr', 'name': 'Français'}, {'is...   \n",
              "...           ...      ...                                                ...   \n",
              "6015   2014-08-15    118.0  [{'iso_639_1': 'fr', 'name': 'Français'}, {'is...   \n",
              "6016   2016-02-24    100.0          [{'iso_639_1': 'fr', 'name': 'Français'}]   \n",
              "6017   2016-03-23    110.0          [{'iso_639_1': 'fr', 'name': 'Français'}]   \n",
              "6018   2017-06-01      4.0           [{'iso_639_1': 'en', 'name': 'English'}]   \n",
              "6019   2002-03-07    101.0           [{'iso_639_1': 'en', 'name': 'English'}]   \n",
              "\n",
              "                                               title  vote_average  ...  \\\n",
              "0                                          Toy Story           7.7  ...   \n",
              "1                                            Jumanji           6.9  ...   \n",
              "2                        Father of the Bride Part II           5.7  ...   \n",
              "3                                               Heat           7.7  ...   \n",
              "4                                            Sabrina           6.2  ...   \n",
              "...                                              ...           ...  ...   \n",
              "6015                                   Force Majeure           6.8  ...   \n",
              "6016  Good Guys Go to Heaven, Bad Guys Go to Pattaya           5.3  ...   \n",
              "6017                      The Visitors: Bastille Day           4.0  ...   \n",
              "6018                                  In a Heartbeat           8.3  ...   \n",
              "6019                                     Cadet Kelly           5.2  ...   \n",
              "\n",
              "      History Horror  Music  Mystery  Romance  Science Fiction  TV Movie  \\\n",
              "0           0      0      0        0        0                0         0   \n",
              "1           0      0      0        0        0                0         0   \n",
              "2           0      0      0        0        0                0         0   \n",
              "3           0      0      0        0        0                0         0   \n",
              "4           0      0      0        0        1                0         0   \n",
              "...       ...    ...    ...      ...      ...              ...       ...   \n",
              "6015        0      0      0        0        0                0         0   \n",
              "6016        0      0      0        0        0                0         0   \n",
              "6017        0      0      0        0        0                0         0   \n",
              "6018        0      0      0        0        1                0         0   \n",
              "6019        0      0      0        0        0                0         0   \n",
              "\n",
              "      Thriller  War  Western  \n",
              "0            0    0        0  \n",
              "1            0    0        0  \n",
              "2            0    0        0  \n",
              "3            1    0        0  \n",
              "4            0    0        0  \n",
              "...        ...  ...      ...  \n",
              "6015         0    0        0  \n",
              "6016         0    0        0  \n",
              "6017         0    0        0  \n",
              "6018         0    0        0  \n",
              "6019         0    0        0  \n",
              "\n",
              "[6020 rows x 32 columns]"
            ]
          },
          "execution_count": 6,
          "metadata": {},
          "output_type": "execute_result"
        }
      ],
      "source": [
        "movies"
      ]
    },
    {
      "attachments": {},
      "cell_type": "markdown",
      "metadata": {
        "id": "U77st3WcWnsu"
      },
      "source": [
        "## Collaborative filtering"
      ]
    },
    {
      "cell_type": "code",
      "execution_count": 7,
      "metadata": {},
      "outputs": [],
      "source": [
        "ratings = ratings_sample.sort_values(by='userId')"
      ]
    },
    {
      "cell_type": "code",
      "execution_count": 8,
      "metadata": {},
      "outputs": [],
      "source": [
        "ratings .drop(\"liked\",axis=1,inplace=True)\n",
        "#dropping the liked columns since we want to use the dataframe in FUNK SVD"
      ]
    },
    {
      "cell_type": "code",
      "execution_count": 9,
      "metadata": {},
      "outputs": [
        {
          "data": {
            "text/html": [
              "<div>\n",
              "<style scoped>\n",
              "    .dataframe tbody tr th:only-of-type {\n",
              "        vertical-align: middle;\n",
              "    }\n",
              "\n",
              "    .dataframe tbody tr th {\n",
              "        vertical-align: top;\n",
              "    }\n",
              "\n",
              "    .dataframe thead th {\n",
              "        text-align: right;\n",
              "    }\n",
              "</style>\n",
              "<table border=\"1\" class=\"dataframe\">\n",
              "  <thead>\n",
              "    <tr style=\"text-align: right;\">\n",
              "      <th></th>\n",
              "      <th>userId</th>\n",
              "      <th>movieId</th>\n",
              "      <th>rating</th>\n",
              "    </tr>\n",
              "  </thead>\n",
              "  <tbody>\n",
              "    <tr>\n",
              "      <th>0</th>\n",
              "      <td>3</td>\n",
              "      <td>356</td>\n",
              "      <td>4.0</td>\n",
              "    </tr>\n",
              "    <tr>\n",
              "      <th>27</th>\n",
              "      <td>3</td>\n",
              "      <td>148855</td>\n",
              "      <td>4.0</td>\n",
              "    </tr>\n",
              "    <tr>\n",
              "      <th>26</th>\n",
              "      <td>3</td>\n",
              "      <td>134853</td>\n",
              "      <td>4.0</td>\n",
              "    </tr>\n",
              "    <tr>\n",
              "      <th>25</th>\n",
              "      <td>3</td>\n",
              "      <td>130634</td>\n",
              "      <td>3.0</td>\n",
              "    </tr>\n",
              "    <tr>\n",
              "      <th>24</th>\n",
              "      <td>3</td>\n",
              "      <td>117529</td>\n",
              "      <td>3.0</td>\n",
              "    </tr>\n",
              "    <tr>\n",
              "      <th>...</th>\n",
              "      <td>...</td>\n",
              "      <td>...</td>\n",
              "      <td>...</td>\n",
              "    </tr>\n",
              "    <tr>\n",
              "      <th>813446</th>\n",
              "      <td>162534</td>\n",
              "      <td>1198</td>\n",
              "      <td>4.0</td>\n",
              "    </tr>\n",
              "    <tr>\n",
              "      <th>813445</th>\n",
              "      <td>162534</td>\n",
              "      <td>745</td>\n",
              "      <td>4.0</td>\n",
              "    </tr>\n",
              "    <tr>\n",
              "      <th>813468</th>\n",
              "      <td>162534</td>\n",
              "      <td>174055</td>\n",
              "      <td>3.5</td>\n",
              "    </tr>\n",
              "    <tr>\n",
              "      <th>813456</th>\n",
              "      <td>162534</td>\n",
              "      <td>33004</td>\n",
              "      <td>3.0</td>\n",
              "    </tr>\n",
              "    <tr>\n",
              "      <th>813469</th>\n",
              "      <td>162534</td>\n",
              "      <td>185029</td>\n",
              "      <td>3.5</td>\n",
              "    </tr>\n",
              "  </tbody>\n",
              "</table>\n",
              "<p>813470 rows × 3 columns</p>\n",
              "</div>"
            ],
            "text/plain": [
              "        userId  movieId  rating\n",
              "0            3      356     4.0\n",
              "27           3   148855     4.0\n",
              "26           3   134853     4.0\n",
              "25           3   130634     3.0\n",
              "24           3   117529     3.0\n",
              "...        ...      ...     ...\n",
              "813446  162534     1198     4.0\n",
              "813445  162534      745     4.0\n",
              "813468  162534   174055     3.5\n",
              "813456  162534    33004     3.0\n",
              "813469  162534   185029     3.5\n",
              "\n",
              "[813470 rows x 3 columns]"
            ]
          },
          "execution_count": 9,
          "metadata": {},
          "output_type": "execute_result"
        }
      ],
      "source": [
        "ratings"
      ]
    },
    {
      "attachments": {},
      "cell_type": "markdown",
      "metadata": {},
      "source": [
        "Setting the `userId` to order from (0,len) in order to able to use it in Funk SVD."
      ]
    },
    {
      "cell_type": "code",
      "execution_count": 10,
      "metadata": {},
      "outputs": [],
      "source": [
        "# Create a new column 'newUserID' with incremental values starting from 0\n",
        "ratings['UserID'] = range(len(ratings))\n",
        "\n"
      ]
    },
    {
      "cell_type": "code",
      "execution_count": 11,
      "metadata": {},
      "outputs": [],
      "source": [
        "# Update the 'userID' column with the values from the 'newUserID' column\n",
        "ratings['userId'] = ratings['UserID']\n",
        "\n",
        "# Remove the 'newUserID' column\n",
        "ratings = ratings.drop('UserID', axis=1)"
      ]
    },
    {
      "cell_type": "code",
      "execution_count": 1,
      "metadata": {},
      "outputs": [
        {
          "ename": "NameError",
          "evalue": "name 'ratings' is not defined",
          "output_type": "error",
          "traceback": [
            "\u001b[0;31m---------------------------------------------------------------------------\u001b[0m",
            "\u001b[0;31mNameError\u001b[0m                                 Traceback (most recent call last)",
            "Cell \u001b[0;32mIn[1], line 2\u001b[0m\n\u001b[1;32m      1\u001b[0m \u001b[39m#sanity check\u001b[39;00m\n\u001b[0;32m----> 2\u001b[0m ratings\n",
            "\u001b[0;31mNameError\u001b[0m: name 'ratings' is not defined"
          ]
        }
      ],
      "source": [
        "#sanity check\n",
        "ratings"
      ]
    },
    {
      "attachments": {},
      "cell_type": "markdown",
      "metadata": {},
      "source": [
        "### Funk SVD"
      ]
    },
    {
      "attachments": {},
      "cell_type": "markdown",
      "metadata": {},
      "source": [
        "We need to load our data into a dataset object using a package in `Surprise` library"
      ]
    },
    {
      "cell_type": "code",
      "execution_count": 22,
      "metadata": {},
      "outputs": [],
      "source": [
        "#using Funk SVD\n",
        "my_dataset = Dataset.load_from_df(ratings, Reader(rating_scale=(0.5, 5)))\n",
        "my_train_dataset = my_dataset.build_full_trainset()"
      ]
    },
    {
      "cell_type": "code",
      "execution_count": 23,
      "metadata": {},
      "outputs": [
        {
          "data": {
            "text/plain": [
              "<surprise.trainset.Trainset at 0x7ff2900d0d30>"
            ]
          },
          "execution_count": 23,
          "metadata": {},
          "output_type": "execute_result"
        }
      ],
      "source": [
        "my_train_dataset"
      ]
    },
    {
      "attachments": {},
      "cell_type": "markdown",
      "metadata": {},
      "source": [
        "Now all we do is initialize the algorithm, specify the number of latent variables and iterations we'd like to use, and then let the algorithm run."
      ]
    },
    {
      "attachments": {},
      "cell_type": "markdown",
      "metadata": {},
      "source": [
        "A huge downside here is that we cannot use 'Funk SVD' for the users that are new.\n",
        "For this purpose i'm defining a user Id below and also a movie Id and puuting it in my funk SVD function to see the results."
      ]
    },
    {
      "cell_type": "code",
      "execution_count": 24,
      "metadata": {},
      "outputs": [],
      "source": [
        "#example\n",
        "user_1 = 0\n",
        "movie = 62"
      ]
    },
    {
      "cell_type": "code",
      "execution_count": 25,
      "metadata": {},
      "outputs": [
        {
          "data": {
            "text/plain": [
              "<surprise.prediction_algorithms.matrix_factorization.SVD at 0x7ff2e1830e50>"
            ]
          },
          "execution_count": 25,
          "metadata": {},
          "output_type": "execute_result"
        }
      ],
      "source": [
        "\n",
        "my_algorithm = FunkSVD(n_factors=15, \n",
        "                n_epochs=50, \n",
        "                lr_all=0.001,    # Learning rate for each epoch\n",
        "                biased=False,  # This forces the algorithm to store all latent information in the matrices\n",
        "                verbose=0,\n",
        "                reg_all =  0.08)\n",
        "my_algorithm.fit(my_train_dataset)\n",
        "\n",
        "\n"
      ]
    },
    {
      "cell_type": "code",
      "execution_count": 26,
      "metadata": {},
      "outputs": [],
      "source": [
        "#user matrix\n",
        "U = my_algorithm.pu\n"
      ]
    },
    {
      "cell_type": "code",
      "execution_count": 27,
      "metadata": {},
      "outputs": [],
      "source": [
        "#movie matrix\n",
        "M = my_algorithm.qi.T\n"
      ]
    },
    {
      "cell_type": "code",
      "execution_count": 28,
      "metadata": {},
      "outputs": [],
      "source": [
        "inner_user_id = my_train_dataset.to_inner_uid(user_1) # find the inner representation of user 1\n",
        "user_profile = U[inner_user_id]\n",
        "inner_movie_id = my_train_dataset.to_inner_iid(movie) # find the inner representation of item \n",
        "movie_profile = M[:, inner_movie_id]\n",
        "\n",
        "\n"
      ]
    },
    {
      "attachments": {},
      "cell_type": "markdown",
      "metadata": {},
      "source": [
        "`np.dot` will give us an expected rating.\n",
        "\n",
        "I'm going to say if the expected rating is above 3.5 it means I'm predicting the user will like the movie. "
      ]
    },
    {
      "cell_type": "code",
      "execution_count": 29,
      "metadata": {},
      "outputs": [
        {
          "name": "stdout",
          "output_type": "stream",
          "text": [
            "------ Result for 10 factors:\n",
            "expected rating for 332    2001: A Space Odyssey\n",
            "Name: title, dtype: object is -0.7451322818646982\n"
          ]
        }
      ],
      "source": [
        "expected_rating = np.dot(user_profile, movie_profile)\n",
        "print(f\"------ Result for 10 factors:\")\n",
        "print(f\"expected rating for {movies[movies['movieId']==movie]['title']} is {expected_rating}\")"
      ]
    },
    {
      "cell_type": "code",
      "execution_count": 30,
      "metadata": {},
      "outputs": [],
      "source": [
        "# The surprise package doesn't allow you to test on the trainset we built\n",
        "my_train_dataset, my_test_dataset = train_test_split(my_dataset, test_size=0.3)\n",
        "\n",
        "predictions = my_algorithm.test(my_test_dataset)"
      ]
    },
    {
      "cell_type": "code",
      "execution_count": 31,
      "metadata": {},
      "outputs": [],
      "source": [
        "if expected_rating > 3.5:\n",
        "    print(\"We predict that the user will like this movie! \")"
      ]
    },
    {
      "attachments": {},
      "cell_type": "markdown",
      "metadata": {},
      "source": [
        "We know the rating user 1 gave movie 2 (it's 3.0), so let's use this to demonstrate how we calculate ratings using these latent factors.\n",
        "\n",
        "First, we grab the user profile"
      ]
    },
    {
      "attachments": {},
      "cell_type": "markdown",
      "metadata": {},
      "source": [
        "Our expected rating of this movie by this user is the dot product of these two profiles."
      ]
    },
    {
      "attachments": {},
      "cell_type": "markdown",
      "metadata": {},
      "source": [
        "Finding the best parameters:\n"
      ]
    },
    {
      "cell_type": "code",
      "execution_count": 32,
      "metadata": {},
      "outputs": [
        {
          "name": "stdout",
          "output_type": "stream",
          "text": [
            "0.961416302968528\n",
            "{'n_factors': 30, 'n_epochs': 35, 'lr_all': 0.001, 'reg_all': 0.08}\n"
          ]
        }
      ],
      "source": [
        "#Run for fast pass\n",
        "param_grid = {'n_factors': [30], 'n_epochs': [35], 'lr_all': [0.001],\n",
        "              'reg_all': [0.08]}\n",
        "gs = GridSearchCV(SVD, param_grid, measures=['rmse'], cv=3)\n",
        "gs.fit(my_dataset)\n",
        "algo = gs.best_estimator['rmse']\n",
        "print(gs.best_score['rmse'])\n",
        "print(gs.best_params['rmse'])\n",
        "\n",
        "#Assigning values\n",
        "t = gs.best_params\n",
        "factors = t['rmse']['n_factors']\n",
        "epochs = t['rmse']['n_epochs']\n",
        "lr_value = t['rmse']['lr_all']\n",
        "reg_value = t['rmse']['reg_all']"
      ]
    },
    {
      "cell_type": "code",
      "execution_count": null,
      "metadata": {},
      "outputs": [],
      "source": []
    }
  ],
  "metadata": {
    "accelerator": "GPU",
    "colab": {
      "gpuType": "T4",
      "machine_shape": "hm",
      "provenance": []
    },
    "kernelspec": {
      "display_name": "Python 3",
      "name": "python3"
    },
    "language_info": {
      "codemirror_mode": {
        "name": "ipython",
        "version": 3
      },
      "file_extension": ".py",
      "mimetype": "text/x-python",
      "name": "python",
      "nbconvert_exporter": "python",
      "pygments_lexer": "ipython3",
      "version": "3.8.16"
    },
    "orig_nbformat": 4
  },
  "nbformat": 4,
  "nbformat_minor": 0
}
